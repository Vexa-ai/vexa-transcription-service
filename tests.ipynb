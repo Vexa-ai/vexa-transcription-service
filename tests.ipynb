{
 "cells": [
  {
   "cell_type": "code",
   "execution_count": 1,
   "metadata": {},
   "outputs": [],
   "source": [
    "\n",
    "%load_ext autoreload\n",
    "%autoreload 2\n",
    "\n",
    "import sys\n",
    "sys.path.insert(0,'../library')"
   ]
  },
  {
   "cell_type": "code",
   "execution_count": 2,
   "metadata": {},
   "outputs": [
    {
     "name": "stderr",
     "output_type": "stream",
     "text": [
      "/tmp/ipykernel_342566/2526696592.py:1: DeprecationWarning: \n",
      "Pyarrow will become a required dependency of pandas in the next major release of pandas (pandas 3.0),\n",
      "(to allow more performant data types, such as the Arrow string type, and better interoperability with other libraries)\n",
      "but was not found to be installed on your system.\n",
      "If this would cause problems for you,\n",
      "please provide us feedback at https://github.com/pandas-dev/pandas/issues/54466\n",
      "        \n",
      "  import pandas as pd\n"
     ]
    }
   ],
   "source": [
    "import pandas as pd\n",
    "from audio.audio import AudioSlicer\n",
    "import uuid\n",
    "from vexa.tools import log\n",
    "from dotenv import load_dotenv\n",
    "import os\n",
    "load_dotenv()\n",
    "STREAM_API_PORT = os.getenv('STREAM_API_PORT')\n",
    "DATA_PATH = os.getenv('DATA_PATH')\n",
    "SERVICE_TOKEN = os.getenv('SERVICE_TOKEN')"
   ]
  },
  {
   "cell_type": "code",
   "execution_count": 3,
   "metadata": {},
   "outputs": [
    {
     "data": {
      "text/plain": [
       "'8000'"
      ]
     },
     "execution_count": 3,
     "metadata": {},
     "output_type": "execute_result"
    }
   ],
   "source": [
    "STREAM_API_PORT"
   ]
  },
  {
   "cell_type": "code",
   "execution_count": 4,
   "metadata": {},
   "outputs": [],
   "source": [
    "from vexa.redis import get_redis"
   ]
  },
  {
   "cell_type": "code",
   "execution_count": 5,
   "metadata": {},
   "outputs": [],
   "source": [
    "redis_client = await get_redis(host='redis',port=6379)"
   ]
  },
  {
   "cell_type": "code",
   "execution_count": 6,
   "metadata": {},
   "outputs": [],
   "source": [
    "import httpx"
   ]
  },
  {
   "cell_type": "code",
   "execution_count": 7,
   "metadata": {},
   "outputs": [],
   "source": [
    "async def get_connections():\n",
    "\n",
    "    url = f\"http://host.docker.internal:{STREAM_API_PORT}/list_connections\"\n",
    "    params = {\n",
    "            \"service_token\": SERVICE_TOKEN\n",
    "        }\n",
    "    headers = {\n",
    "        \"Content-Type\": \"application/json\"\n",
    "    }\n",
    "\n",
    "\n",
    "    async with httpx.AsyncClient() as client:\n",
    "            response = await client.get(url, params=params, headers=headers, timeout=2)\n",
    "    \n",
    "    return response.json()['connections']\n",
    "\n"
   ]
  },
  {
   "cell_type": "code",
   "execution_count": 8,
   "metadata": {},
   "outputs": [],
   "source": [
    "async def get_next_audio_chunk(connection_id,num_chunks=100):\n",
    "    #TODO: add error handlingdepending in case \n",
    "    url = f\"http://host.docker.internal:{STREAM_API_PORT}/get_next_chunk/{connection_id}\"\n",
    "    headers = {\n",
    "            \"Content-Type\": \"application/json\"\n",
    "        }\n",
    "    params = {\n",
    "                \"service_token\": SERVICE_TOKEN,\n",
    "                \"num_chunks\": num_chunks\n",
    "            }\n",
    "\n",
    "\n",
    "    async with httpx.AsyncClient() as client:\n",
    "        response = await client.get(url, params=params, headers=headers, timeout=2)\n",
    "        if response.json() == {'message': 'No more chunks available for this connection'}:\n",
    "            return \n",
    "    return response.json()\n",
    "    "
   ]
  },
  {
   "cell_type": "code",
   "execution_count": 9,
   "metadata": {},
   "outputs": [],
   "source": [
    "import httpx\n",
    "import asyncio\n",
    "import os\n",
    "\n",
    "async def fetch_chunks(connection_id: str, num_chunks: int):\n",
    "    # Define the URL to your API endpoint\n",
    "    url = f\"http://host.docker.internal:{STREAM_API_PORT}/get_next_chunks/{connection_id}\"\n",
    "    \n",
    "    # Define the parameters\n",
    "    params = {\n",
    "        \"service_token\": SERVICE_TOKEN,\n",
    "        \"num_chunks\": num_chunks\n",
    "    }\n",
    "\n",
    "    # Use an asynchronous client from httpx\n",
    "    async with httpx.AsyncClient() as client:\n",
    "        try:\n",
    "            # Perform the GET request\n",
    "            response = await client.get(url, params=params)\n",
    "\n",
    "            # Check if the request was successful\n",
    "            if response.status_code == 200:\n",
    "                if response.json() == {'message': 'No more chunks available for this connection'}:\n",
    "                    print(response.json())\n",
    "                    return\n",
    "                else:\n",
    "                    return response.json()  # Return the JSON response from the API\n",
    "            else:\n",
    "                return {\"error\": \"Failed to fetch chunks\", \"status_code\": response.status_code, \"details\": response.text}\n",
    "        except httpx.RequestError as e:\n",
    "            return {\"error\": \"An error occurred while requesting chunks\", \"exception\": str(e)}\n"
   ]
  },
  {
   "cell_type": "code",
   "execution_count": 10,
   "metadata": {},
   "outputs": [],
   "source": [
    "async def writestream2file(connection_id):\n",
    "    path = f'/audio/{connection_id}.webm'\n",
    "    first_timestamp = None\n",
    "    items = await  fetch_chunks(connection_id,100)\n",
    "\n",
    "    if items:\n",
    "        for item in items['chunks']:\n",
    "            chunk = bytes.fromhex(item['chunk'])\n",
    "            first_timestamp = item['timestamp'] if not first_timestamp else first_timestamp\n",
    "            # Open the file in append mode\n",
    "            with open(path, 'ab') as file:\n",
    "                # Write data to the file\n",
    "                file.write(chunk)\n",
    "            last_timestamp = item['timestamp']\n",
    "            meeting_id = item['meeting_id']\n",
    "            client_id = item['client_id']\n",
    "        return meeting_id, first_timestamp,last_timestamp,client_id"
   ]
  },
  {
   "cell_type": "code",
   "execution_count": 11,
   "metadata": {},
   "outputs": [],
   "source": [
    "async def get_meeting_start(timestamp):\n",
    "    meeting_start = await redis_client.hget(f'Meeting:{meeting_id}','meeting_start')\n",
    "    meeting_start = meeting_start if meeting_start else timestamp\n",
    "    await redis_client.hset(f'Meeting:{meeting_id}','meeting_start',timestamp)\n",
    "    return pd.Timestamp(meeting_start)"
   ]
  },
  {
   "cell_type": "code",
   "execution_count": 12,
   "metadata": {},
   "outputs": [],
   "source": [
    "from audio.redis import Audio,Transcript,Diarisation"
   ]
  },
  {
   "cell_type": "code",
   "execution_count": 13,
   "metadata": {},
   "outputs": [],
   "source": [
    "connections = await get_connections()"
   ]
  },
  {
   "cell_type": "code",
   "execution_count": 14,
   "metadata": {},
   "outputs": [
    {
     "data": {
      "text/plain": [
       "[['3329123e-c417-423e-b2c6-5b3570b27ee3--0', 13],\n",
       " ['97313f28-d515-4720-8116-daf2ef1ece0f--0', 18]]"
      ]
     },
     "execution_count": 14,
     "metadata": {},
     "output_type": "execute_result"
    }
   ],
   "source": [
    "connections"
   ]
  },
  {
   "cell_type": "code",
   "execution_count": 15,
   "metadata": {},
   "outputs": [],
   "source": [
    "connections = [c[0] for c in connections]"
   ]
  },
  {
   "cell_type": "code",
   "execution_count": 16,
   "metadata": {},
   "outputs": [],
   "source": [
    "connection_id = connections[0]"
   ]
  },
  {
   "cell_type": "code",
   "execution_count": 17,
   "metadata": {},
   "outputs": [],
   "source": [
    "path = f'/audio/{connection_id}.webm'\n",
    "start = 0\n",
    "max_length = 200"
   ]
  },
  {
   "cell_type": "code",
   "execution_count": 18,
   "metadata": {},
   "outputs": [
    {
     "data": {
      "text/plain": [
       "'3329123e-c417-423e-b2c6-5b3570b27ee3--0'"
      ]
     },
     "execution_count": 18,
     "metadata": {},
     "output_type": "execute_result"
    }
   ],
   "source": [
    "connection_id"
   ]
  },
  {
   "cell_type": "code",
   "execution_count": 19,
   "metadata": {},
   "outputs": [],
   "source": [
    "async def transcribe(audio_name, redis_client,client_id):\n",
    "    await redis_client.lpush('Audio2TranscribeQueue', f'{audio_name}:{client_id}')\n",
    "    _,done = await redis_client.brpop(f'TranscribeReady:{audio_name}',timeout=60)\n",
    "    transcription =  Transcript(audio_name,redis_client)\n",
    "    await transcription.get()\n",
    "    return transcription.data"
   ]
  },
  {
   "cell_type": "code",
   "execution_count": 20,
   "metadata": {},
   "outputs": [],
   "source": [
    "\n",
    "async def diarize(audio_name, redis_client,client_id):\n",
    "    await redis_client.lpush('Audio2DiarizeQueue', f'{audio_name}:{client_id}')\n",
    "    _,done = await redis_client.brpop(f'DiarizeReady:{audio_name}',timeout=60)\n",
    "    diarization = Diarisation(audio_name, redis_client)\n",
    "    await diarization.get()\n",
    "    return diarization.data"
   ]
  },
  {
   "cell_type": "code",
   "execution_count": 21,
   "metadata": {},
   "outputs": [],
   "source": [
    "connection_output = await writestream2file(connection_id)\n",
    "if connection_output:\n",
    "    meeting_id, start_timestamp,finish_timestamp, client_id = connection_output  \n",
    "    meeting_start = await get_meeting_start(start_timestamp)"
   ]
  },
  {
   "cell_type": "code",
   "execution_count": 22,
   "metadata": {},
   "outputs": [
    {
     "name": "stdout",
     "output_type": "stream",
     "text": [
      "None\n"
     ]
    }
   ],
   "source": [
    "audio_slicer = await AudioSlicer.from_ffmpeg_slice(path,start,start+max_length)\n",
    "slice_duration = audio_slicer.audio.duration_seconds\n",
    "audio_data = await audio_slicer.export_data()"
   ]
  },
  {
   "cell_type": "code",
   "execution_count": 23,
   "metadata": {},
   "outputs": [],
   "source": [
    "audio_name = f'Chunk_{str(uuid.uuid4())}'\n",
    "audio = Audio(chunk_name=audio_name, redis_client=redis_client, data=audio_data)\n",
    "await audio.save()"
   ]
  },
  {
   "cell_type": "code",
   "execution_count": 59,
   "metadata": {},
   "outputs": [],
   "source": [
    "await diarize(audio_name, redis_client,client_id)"
   ]
  },
  {
   "cell_type": "code",
   "execution_count": 24,
   "metadata": {},
   "outputs": [
    {
     "data": {
      "text/plain": [
       "[[{'start': 16.54, 'end': 17.14, 'word': ' Mm', 'probability': 0.348388671875},\n",
       "  {'start': 17.14,\n",
       "   'end': 17.42,\n",
       "   'word': '-hmm.',\n",
       "   'probability': 0.82763671875}]]"
      ]
     },
     "execution_count": 24,
     "metadata": {},
     "output_type": "execute_result"
    }
   ],
   "source": [
    "await transcribe(audio_name, redis_client,client_id)"
   ]
  },
  {
   "cell_type": "code",
   "execution_count": null,
   "metadata": {},
   "outputs": [
    {
     "data": {
      "text/plain": [
       "True"
      ]
     },
     "execution_count": 40,
     "metadata": {},
     "output_type": "execute_result"
    }
   ],
   "source": [
    "await audio.delete()"
   ]
  },
  {
   "cell_type": "code",
   "execution_count": 41,
   "metadata": {},
   "outputs": [
    {
     "ename": "TypeError",
     "evalue": "cannot unpack non-iterable NoneType object",
     "output_type": "error",
     "traceback": [
      "\u001b[0;31m---------------------------------------------------------------------------\u001b[0m",
      "\u001b[0;31mTypeError\u001b[0m                                 Traceback (most recent call last)",
      "Cell \u001b[0;32mIn[41], line 1\u001b[0m\n\u001b[0;32m----> 1\u001b[0m diarization_result, transcription_result \u001b[38;5;241m=\u001b[39m \u001b[38;5;28;01mawait\u001b[39;00m asyncio\u001b[38;5;241m.\u001b[39mgather(\n\u001b[1;32m      2\u001b[0m         asyncio\u001b[38;5;241m.\u001b[39mwait_for(diarize   (audio_name, redis_client,client_id), timeout\u001b[38;5;241m=\u001b[39m\u001b[38;5;241m60\u001b[39m),\n\u001b[1;32m      3\u001b[0m         asyncio\u001b[38;5;241m.\u001b[39mwait_for(transcribe(audio_name, redis_client,client_id), timeout\u001b[38;5;241m=\u001b[39m\u001b[38;5;241m60\u001b[39m) \n\u001b[1;32m      4\u001b[0m     )\n",
      "File \u001b[0;32m/usr/local/lib/python3.9/asyncio/tasks.py:479\u001b[0m, in \u001b[0;36mwait_for\u001b[0;34m(fut, timeout, loop)\u001b[0m\n\u001b[1;32m    476\u001b[0m         \u001b[38;5;28;01mraise\u001b[39;00m\n\u001b[1;32m    478\u001b[0m \u001b[38;5;28;01mif\u001b[39;00m fut\u001b[38;5;241m.\u001b[39mdone():\n\u001b[0;32m--> 479\u001b[0m     \u001b[38;5;28;01mreturn\u001b[39;00m \u001b[43mfut\u001b[49m\u001b[38;5;241;43m.\u001b[39;49m\u001b[43mresult\u001b[49m\u001b[43m(\u001b[49m\u001b[43m)\u001b[49m\n\u001b[1;32m    480\u001b[0m \u001b[38;5;28;01melse\u001b[39;00m:\n\u001b[1;32m    481\u001b[0m     fut\u001b[38;5;241m.\u001b[39mremove_done_callback(cb)\n",
      "Cell \u001b[0;32mIn[32], line 3\u001b[0m, in \u001b[0;36mtranscribe\u001b[0;34m(audio_name, redis_client, client_id)\u001b[0m\n\u001b[1;32m      1\u001b[0m \u001b[38;5;28;01masync\u001b[39;00m \u001b[38;5;28;01mdef\u001b[39;00m \u001b[38;5;21mtranscribe\u001b[39m(audio_name, redis_client,client_id):\n\u001b[1;32m      2\u001b[0m     \u001b[38;5;28;01mawait\u001b[39;00m redis_client\u001b[38;5;241m.\u001b[39mlpush(\u001b[38;5;124m'\u001b[39m\u001b[38;5;124mAudio2TranscribeQueue\u001b[39m\u001b[38;5;124m'\u001b[39m, \u001b[38;5;124mf\u001b[39m\u001b[38;5;124m'\u001b[39m\u001b[38;5;132;01m{\u001b[39;00maudio_name\u001b[38;5;132;01m}\u001b[39;00m\u001b[38;5;124m:\u001b[39m\u001b[38;5;132;01m{\u001b[39;00mclient_id\u001b[38;5;132;01m}\u001b[39;00m\u001b[38;5;124m'\u001b[39m)\n\u001b[0;32m----> 3\u001b[0m     _,done \u001b[38;5;241m=\u001b[39m \u001b[38;5;28;01mawait\u001b[39;00m redis_client\u001b[38;5;241m.\u001b[39mbrpop(\u001b[38;5;124mf\u001b[39m\u001b[38;5;124m'\u001b[39m\u001b[38;5;124mTranscribeReady:\u001b[39m\u001b[38;5;132;01m{\u001b[39;00maudio_name\u001b[38;5;132;01m}\u001b[39;00m\u001b[38;5;124m'\u001b[39m,timeout\u001b[38;5;241m=\u001b[39m\u001b[38;5;241m10\u001b[39m)\n\u001b[1;32m      4\u001b[0m     transcription \u001b[38;5;241m=\u001b[39m  Transcript(audio_name,redis_client)\n\u001b[1;32m      5\u001b[0m     \u001b[38;5;28;01mawait\u001b[39;00m transcription\u001b[38;5;241m.\u001b[39mget()\n",
      "\u001b[0;31mTypeError\u001b[0m: cannot unpack non-iterable NoneType object"
     ]
    }
   ],
   "source": [
    "diarization_result, transcription_result = await asyncio.gather(\n",
    "        asyncio.wait_for(diarize   (audio_name, redis_client,client_id), timeout=60),\n",
    "        asyncio.wait_for(transcribe(audio_name, redis_client,client_id), timeout=60) \n",
    "    )"
   ]
  },
  {
   "cell_type": "code",
   "execution_count": null,
   "metadata": {},
   "outputs": [],
   "source": [
    "await audio.delete()"
   ]
  },
  {
   "cell_type": "code",
   "execution_count": 86,
   "metadata": {},
   "outputs": [
    {
     "data": {
      "text/plain": [
       "[[{'start': 0.88,\n",
       "   'end': 1.62,\n",
       "   'word': ' Бусик',\n",
       "   'probability': 0.6811930338541666},\n",
       "  {'start': 1.62, 'end': 1.78, 'word': ' по', 'probability': 0.9287109375},\n",
       "  {'start': 1.78, 'end': 2.1, 'word': ' имени', 'probability': 0.986083984375},\n",
       "  {'start': 2.1,\n",
       "   'end': 2.52,\n",
       "   'word': ' Муром.',\n",
       "   'probability': 0.6548258463541666}],\n",
       " [{'start': 2.84, 'end': 3.44, 'word': ' Ты', 'probability': 0.412353515625},\n",
       "  {'start': 7.25, 'end': 7.41, 'word': ' всё', 'probability': 0.404541015625},\n",
       "  {'start': 7.41,\n",
       "   'end': 7.75,\n",
       "   'word': ' устал?',\n",
       "   'probability': 0.64697265625},\n",
       "  {'start': 7.77, 'end': 7.93, 'word': ' Давай', 'probability': 0.947265625},\n",
       "  {'start': 7.93, 'end': 8.03, 'word': ' в', 'probability': 0.9833984375},\n",
       "  {'start': 8.03,\n",
       "   'end': 8.57,\n",
       "   'word': ' кроватку.',\n",
       "   'probability': 0.99267578125}],\n",
       " [{'start': 11.82, 'end': 12.12, 'word': ' Как', 'probability': 0.83984375},\n",
       "  {'start': 12.12,\n",
       "   'end': 12.32,\n",
       "   'word': ' тебе',\n",
       "   'probability': 0.97314453125},\n",
       "  {'start': 12.32,\n",
       "   'end': 12.64,\n",
       "   'word': ' такая',\n",
       "   'probability': 0.9658203125},\n",
       "  {'start': 12.64,\n",
       "   'end': 13.06,\n",
       "   'word': ' миссия?',\n",
       "   'probability': 0.82470703125}],\n",
       " [{'start': 13.08,\n",
       "   'end': 13.32,\n",
       "   'word': ' Лёва,',\n",
       "   'probability': 0.7784830729166666},\n",
       "  {'start': 13.32, 'end': 13.58, 'word': ' мне', 'probability': 0.89990234375},\n",
       "  {'start': 13.58,\n",
       "   'end': 14.06,\n",
       "   'word': ' мешает',\n",
       "   'probability': 0.927001953125},\n",
       "  {'start': 14.06, 'end': 14.28, 'word': ' делать', 'probability': 0.96484375},\n",
       "  {'start': 14.28,\n",
       "   'end': 14.82,\n",
       "   'word': ' домашку.',\n",
       "   'probability': 0.947265625}],\n",
       " [{'start': 22.9,\n",
       "   'end': 23.42,\n",
       "   'word': ' Лёва,',\n",
       "   'probability': 0.87158203125},\n",
       "  {'start': 23.42, 'end': 23.58, 'word': ' мне', 'probability': 0.9619140625},\n",
       "  {'start': 23.58,\n",
       "   'end': 24.2,\n",
       "   'word': ' мешает',\n",
       "   'probability': 0.996826171875},\n",
       "  {'start': 24.2, 'end': 24.46, 'word': ' делать', 'probability': 0.994140625},\n",
       "  {'start': 24.46,\n",
       "   'end': 25.04,\n",
       "   'word': ' домашку.',\n",
       "   'probability': 0.9978841145833334}],\n",
       " [{'start': 25.42,\n",
       "   'end': 26.02,\n",
       "   'word': ' Папа!',\n",
       "   'probability': 0.8040364583333334}],\n",
       " [{'start': 26.2, 'end': 26.8, 'word': ' Что?', 'probability': 0.71923828125}],\n",
       " [{'start': 28.74, 'end': 29.34, 'word': ' Я', 'probability': 0.904296875},\n",
       "  {'start': 29.34, 'end': 29.5, 'word': ' сейчас', 'probability': 0.91015625},\n",
       "  {'start': 29.5, 'end': 29.74, 'word': ' не', 'probability': 0.984375},\n",
       "  {'start': 29.74,\n",
       "   'end': 30.12,\n",
       "   'word': ' шучу.',\n",
       "   'probability': 0.9952799479166666}],\n",
       " [{'start': 32.52, 'end': 33.12, 'word': ' Ты', 'probability': 0.978515625},\n",
       "  {'start': 33.12,\n",
       "   'end': 33.34,\n",
       "   'word': ' сейчас',\n",
       "   'probability': 0.98583984375},\n",
       "  {'start': 33.34, 'end': 33.54, 'word': ' не', 'probability': 0.9990234375},\n",
       "  {'start': 33.54,\n",
       "   'end': 34.02,\n",
       "   'word': ' шучишь.',\n",
       "   'probability': 0.76416015625}],\n",
       " [{'start': 34.78, 'end': 35.38, 'word': ' Не', 'probability': 0.72314453125},\n",
       "  {'start': 35.38,\n",
       "   'end': 35.74,\n",
       "   'word': ' шучу.',\n",
       "   'probability': 0.9996744791666666}],\n",
       " [{'start': 36.04, 'end': 36.5, 'word': ' Я', 'probability': 0.93994140625},\n",
       "  {'start': 40.56,\n",
       "   'end': 41.84,\n",
       "   'word': ' понял,',\n",
       "   'probability': 0.99853515625},\n",
       "  {'start': 41.96, 'end': 43.36, 'word': ' что', 'probability': 0.99755859375},\n",
       "  {'start': 43.36, 'end': 43.66, 'word': ' ты', 'probability': 0.99853515625},\n",
       "  {'start': 43.66,\n",
       "   'end': 44.02,\n",
       "   'word': ' сейчас',\n",
       "   'probability': 0.99853515625},\n",
       "  {'start': 44.02, 'end': 44.4, 'word': ' не', 'probability': 0.88818359375},\n",
       "  {'start': 44.4,\n",
       "   'end': 44.92,\n",
       "   'word': ' шучишь.',\n",
       "   'probability': 0.9529622395833334}],\n",
       " [{'start': 45.78,\n",
       "   'end': 46.38,\n",
       "   'word': ' Папа!',\n",
       "   'probability': 0.7899576822916666}],\n",
       " [{'start': 46.74,\n",
       "   'end': 47.34,\n",
       "   'word': ' Детка,',\n",
       "   'probability': 0.91064453125},\n",
       "  {'start': 47.38, 'end': 47.46, 'word': ' я', 'probability': 0.9990234375},\n",
       "  {'start': 47.46,\n",
       "   'end': 47.64,\n",
       "   'word': ' тоже',\n",
       "   'probability': 0.99755859375},\n",
       "  {'start': 47.64, 'end': 47.8, 'word': ' не', 'probability': 0.99951171875},\n",
       "  {'start': 47.8, 'end': 48.1, 'word': ' шучу.', 'probability': 1.0}],\n",
       " [{'start': 48.18, 'end': 48.28, 'word': ' У', 'probability': 0.99365234375},\n",
       "  {'start': 48.28,\n",
       "   'end': 48.36,\n",
       "   'word': ' меня',\n",
       "   'probability': 0.99951171875},\n",
       "  {'start': 48.36, 'end': 48.54, 'word': ' что', 'probability': 0.93408203125},\n",
       "  {'start': 48.54, 'end': 48.64, 'word': '-то', 'probability': 0.99951171875},\n",
       "  {'start': 48.64, 'end': 48.76, 'word': ' не', 'probability': 0.9990234375},\n",
       "  {'start': 48.76,\n",
       "   'end': 49.24,\n",
       "   'word': ' получается,',\n",
       "   'probability': 0.99951171875},\n",
       "  {'start': 49.44,\n",
       "   'end': 49.66,\n",
       "   'word': ' например.',\n",
       "   'probability': 0.984375}]]"
      ]
     },
     "execution_count": 86,
     "metadata": {},
     "output_type": "execute_result"
    }
   ],
   "source": [
    "transcription_result"
   ]
  },
  {
   "cell_type": "code",
   "execution_count": 106,
   "metadata": {},
   "outputs": [
    {
     "data": {
      "text/plain": [
       "('a609851a-e429-44af-8590-f264b4d6c8cf--0',\n",
       " '2024-05-05T18:23:02.610603Z',\n",
       " '2024-05-05T18:23:53.971434Z',\n",
       " '1')"
      ]
     },
     "execution_count": 106,
     "metadata": {},
     "output_type": "execute_result"
    }
   ],
   "source": [
    "meeting_id, start_timestamp,finish_timestamp, client_id"
   ]
  },
  {
   "cell_type": "code",
   "execution_count": null,
   "metadata": {},
   "outputs": [],
   "source": [
    "meeting_start(timestamp)"
   ]
  },
  {
   "cell_type": "code",
   "execution_count": null,
   "metadata": {},
   "outputs": [],
   "source": []
  },
  {
   "cell_type": "code",
   "execution_count": null,
   "metadata": {},
   "outputs": [],
   "source": []
  },
  {
   "cell_type": "code",
   "execution_count": null,
   "metadata": {},
   "outputs": [],
   "source": [
    "async def last_start(timestamp):\n",
    "    last_start = await redis_client.hget(f'Meeting:{meeting_id}','last_start')\n",
    "    last_start = last_start if last_start else timestamp\n",
    "    await redis_client.hset(f'Meeting:{meeting_id}','last_start',timestamp)\n",
    "    return pd.Timestamp(meeting_start)"
   ]
  },
  {
   "cell_type": "code",
   "execution_count": 177,
   "metadata": {},
   "outputs": [
    {
     "data": {
      "text/plain": [
       "Timestamp('2024-05-03 20:32:12.414516+0000', tz='UTC')"
      ]
     },
     "execution_count": 177,
     "metadata": {},
     "output_type": "execute_result"
    }
   ],
   "source": [
    "await meeting_start(timestamp)"
   ]
  },
  {
   "cell_type": "code",
   "execution_count": 103,
   "metadata": {},
   "outputs": [],
   "source": [
    "start = await redis_client.rpop(f'Start:{meeting_id}')\n",
    "start = float(start) if start else pd.Timestamp(timestamp)"
   ]
  },
  {
   "cell_type": "code",
   "execution_count": 132,
   "metadata": {},
   "outputs": [],
   "source": [
    "step = pd.Timedelta('1 min')"
   ]
  },
  {
   "cell_type": "code",
   "execution_count": 133,
   "metadata": {},
   "outputs": [
    {
     "data": {
      "text/plain": [
       "True"
      ]
     },
     "execution_count": 133,
     "metadata": {},
     "output_type": "execute_result"
    }
   ],
   "source": [
    "(pd.Timestamp.utcnow()-start)>step"
   ]
  },
  {
   "cell_type": "code",
   "execution_count": 135,
   "metadata": {},
   "outputs": [],
   "source": [
    "from audio.audio import *"
   ]
  },
  {
   "cell_type": "code",
   "execution_count": 139,
   "metadata": {},
   "outputs": [],
   "source": [
    "max_length = 200"
   ]
  },
  {
   "cell_type": "code",
   "execution_count": 140,
   "metadata": {},
   "outputs": [],
   "source": [
    "path = f'/audio/{connection_id}.webm'"
   ]
  },
  {
   "cell_type": "code",
   "execution_count": 181,
   "metadata": {},
   "outputs": [],
   "source": [
    "meeting_start = await meeting_start(timestamp)"
   ]
  },
  {
   "cell_type": "code",
   "execution_count": 141,
   "metadata": {},
   "outputs": [
    {
     "ename": "TypeError",
     "evalue": "Addition/subtraction of integers and integer-arrays with Timestamp is no longer supported.  Instead of adding/subtracting `n`, use `n * obj.freq`",
     "output_type": "error",
     "traceback": [
      "\u001b[0;31m---------------------------------------------------------------------------\u001b[0m",
      "\u001b[0;31mTypeError\u001b[0m                                 Traceback (most recent call last)",
      "Cell \u001b[0;32mIn[141], line 1\u001b[0m\n\u001b[0;32m----> 1\u001b[0m audio_slicer \u001b[38;5;241m=\u001b[39m \u001b[38;5;28;01mawait\u001b[39;00m AudioSlicer\u001b[38;5;241m.\u001b[39mfrom_ffmpeg_slice(path,start,start\u001b[38;5;241m+\u001b[39mmax_length)\n",
      "File \u001b[0;32mtimestamps.pyx:465\u001b[0m, in \u001b[0;36mpandas._libs.tslibs.timestamps._Timestamp.__add__\u001b[0;34m()\u001b[0m\n",
      "\u001b[0;31mTypeError\u001b[0m: Addition/subtraction of integers and integer-arrays with Timestamp is no longer supported.  Instead of adding/subtracting `n`, use `n * obj.freq`"
     ]
    }
   ],
   "source": [
    "audio_slicer = await AudioSlicer.from_ffmpeg_slice(path,start,start+max_length)"
   ]
  },
  {
   "cell_type": "code",
   "execution_count": null,
   "metadata": {},
   "outputs": [],
   "source": []
  }
 ],
 "metadata": {
  "kernelspec": {
   "display_name": "langchain",
   "language": "python",
   "name": "langchain"
  },
  "language_info": {
   "codemirror_mode": {
    "name": "ipython",
    "version": 3
   },
   "file_extension": ".py",
   "mimetype": "text/x-python",
   "name": "python",
   "nbconvert_exporter": "python",
   "pygments_lexer": "ipython3",
   "version": "3.11.2"
  }
 },
 "nbformat": 4,
 "nbformat_minor": 2
}
