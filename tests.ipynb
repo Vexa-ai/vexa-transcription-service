{
 "cells": [
  {
   "cell_type": "code",
   "execution_count": 1,
   "metadata": {},
   "outputs": [],
   "source": [
    "\n",
    "%load_ext autoreload\n",
    "%autoreload 2\n",
    "\n",
    "import sys\n",
    "sys.path.insert(0,'../library')"
   ]
  },
  {
   "cell_type": "code",
   "execution_count": 2,
   "metadata": {},
   "outputs": [],
   "source": [
    "import vexa\n",
    "from dotenv import load_dotenv\n",
    "import os\n",
    "load_dotenv()\n",
    "STREAM_API_PORT = os.getenv('STREAM_API_PORT')\n",
    "DATA_PATH = os.getenv('DATA_PATH')\n",
    "SERVICE_TOKEN = os.getenv('SERVICE_TOKEN')"
   ]
  },
  {
   "cell_type": "code",
   "execution_count": 3,
   "metadata": {},
   "outputs": [],
   "source": [
    "from vexa.redis import get_redis"
   ]
  },
  {
   "cell_type": "code",
   "execution_count": 4,
   "metadata": {},
   "outputs": [],
   "source": [
    "redis_client = await get_redis(host='redis',port=6379)"
   ]
  },
  {
   "cell_type": "code",
   "execution_count": 7,
   "metadata": {},
   "outputs": [],
   "source": [
    "import httpx"
   ]
  },
  {
   "cell_type": "code",
   "execution_count": 8,
   "metadata": {},
   "outputs": [],
   "source": [
    "async def get_connections():\n",
    "\n",
    "    url = f\"http://host.docker.internal:{STREAM_API_PORT}/list_connections\"\n",
    "    params = {\n",
    "            \"service_token\": SERVICE_TOKEN\n",
    "        }\n",
    "    headers = {\n",
    "        \"Content-Type\": \"application/json\"\n",
    "    }\n",
    "\n",
    "\n",
    "    async with httpx.AsyncClient() as client:\n",
    "            response = await client.get(url, params=params, headers=headers, timeout=2)\n",
    "    \n",
    "    return response.json()['connections']\n",
    "\n"
   ]
  },
  {
   "cell_type": "code",
   "execution_count": 31,
   "metadata": {},
   "outputs": [],
   "source": [
    "async def get_next_audio_chunk(connection_id):\n",
    "    #TODO: add error handlingdepending in case \n",
    "    url = f\"http://host.docker.internal:{STREAM_API_PORT}/get_next_chunk/{connection_id}\"\n",
    "    headers = {\n",
    "            \"Content-Type\": \"application/json\"\n",
    "        }\n",
    "    params = {\n",
    "                \"service_token\": SERVICE_TOKEN\n",
    "            }\n",
    "\n",
    "\n",
    "    async with httpx.AsyncClient() as client:\n",
    "        response = await client.get(url, params=params, headers=headers, timeout=2)\n",
    "        if response.json() == {'message': 'No more chunks available for this connection'}:\n",
    "            return \n",
    "    return response.json()\n",
    "    "
   ]
  },
  {
   "cell_type": "code",
   "execution_count": 52,
   "metadata": {},
   "outputs": [],
   "source": [
    "async def writestream2file(conn_id):\n",
    "    path = f'/audio/{conn_id}.webm'\n",
    "    item = True\n",
    "    while item:\n",
    "        item = await  get_next_audio_chunk(conn_id)\n",
    "        if item:\n",
    "            chunk = bytes.fromhex(item['chunk']['chunk'])\n",
    "            # Open the file in append mode\n",
    "            with open(path, 'ab') as file:\n",
    "                # Write data to the file\n",
    "                file.write(chunk)\n",
    "            last_timestamp = item['chunk']['timestamp']\n",
    "            meeting_id = item['chunk']['meeting_id']\n",
    "            client_id = item['chunk']['client_id']\n",
    "    return meeting_id, last_timestamp,client_id"
   ]
  },
  {
   "cell_type": "code",
   "execution_count": 72,
   "metadata": {},
   "outputs": [],
   "source": [
    "connections = await get_connections()"
   ]
  },
  {
   "cell_type": "code",
   "execution_count": 73,
   "metadata": {},
   "outputs": [],
   "source": [
    "connections = [c[0] for c in connections]"
   ]
  },
  {
   "cell_type": "code",
   "execution_count": 74,
   "metadata": {},
   "outputs": [
    {
     "data": {
      "text/plain": [
       "['ece9a33c-d069-4f3b-b7c3-6c0d29d08db7--0']"
      ]
     },
     "execution_count": 74,
     "metadata": {},
     "output_type": "execute_result"
    }
   ],
   "source": [
    "connections"
   ]
  },
  {
   "cell_type": "code",
   "execution_count": 95,
   "metadata": {},
   "outputs": [],
   "source": [
    "connection_id = connections[0]"
   ]
  },
  {
   "cell_type": "code",
   "execution_count": 96,
   "metadata": {},
   "outputs": [],
   "source": [
    "meeting_id, timestamp, client_id = await  writestream2file(connection_id)"
   ]
  },
  {
   "cell_type": "code",
   "execution_count": 97,
   "metadata": {},
   "outputs": [],
   "source": [
    "import pandas as pd"
   ]
  },
  {
   "cell_type": "code",
   "execution_count": 98,
   "metadata": {},
   "outputs": [
    {
     "data": {
      "text/plain": [
       "Timestamp('2024-05-03 20:32:12.414516+0000', tz='UTC')"
      ]
     },
     "execution_count": 98,
     "metadata": {},
     "output_type": "execute_result"
    }
   ],
   "source": [
    "pd.Timestamp(timestamp)"
   ]
  },
  {
   "cell_type": "code",
   "execution_count": 99,
   "metadata": {},
   "outputs": [
    {
     "data": {
      "text/plain": [
       "Timestamp('2024-05-03 20:32:16.281421+0000', tz='UTC')"
      ]
     },
     "execution_count": 99,
     "metadata": {},
     "output_type": "execute_result"
    }
   ],
   "source": [
    "pd.Timestamp.utcnow()"
   ]
  },
  {
   "cell_type": "code",
   "execution_count": 178,
   "metadata": {},
   "outputs": [],
   "source": [
    "async def meeting_start(timestamp):\n",
    "    meeting_start = await redis_client.hget(f'Meeting:{meeting_id}','meeting_start')\n",
    "    meeting_start = meeting_start if meeting_start else timestamp\n",
    "    await redis_client.hset(f'Meeting:{meeting_id}','meeting_start',timestamp)\n",
    "    return pd.Timestamp(meeting_start)"
   ]
  },
  {
   "cell_type": "code",
   "execution_count": null,
   "metadata": {},
   "outputs": [],
   "source": [
    "async def last_start(timestamp):\n",
    "    last_start = await redis_client.hget(f'Meeting:{meeting_id}','last_start')\n",
    "    last_start = last_start if last_start else timestamp\n",
    "    await redis_client.hset(f'Meeting:{meeting_id}','last_start',timestamp)\n",
    "    return pd.Timestamp(meeting_start)"
   ]
  },
  {
   "cell_type": "code",
   "execution_count": 177,
   "metadata": {},
   "outputs": [
    {
     "data": {
      "text/plain": [
       "Timestamp('2024-05-03 20:32:12.414516+0000', tz='UTC')"
      ]
     },
     "execution_count": 177,
     "metadata": {},
     "output_type": "execute_result"
    }
   ],
   "source": [
    "await meeting_start(timestamp)"
   ]
  },
  {
   "cell_type": "code",
   "execution_count": 103,
   "metadata": {},
   "outputs": [],
   "source": [
    "start = await redis_client.rpop(f'Start:{meeting_id}')\n",
    "start = float(start) if start else pd.Timestamp(timestamp)"
   ]
  },
  {
   "cell_type": "code",
   "execution_count": 132,
   "metadata": {},
   "outputs": [],
   "source": [
    "step = pd.Timedelta('1 min')"
   ]
  },
  {
   "cell_type": "code",
   "execution_count": 133,
   "metadata": {},
   "outputs": [
    {
     "data": {
      "text/plain": [
       "True"
      ]
     },
     "execution_count": 133,
     "metadata": {},
     "output_type": "execute_result"
    }
   ],
   "source": [
    "(pd.Timestamp.utcnow()-start)>step"
   ]
  },
  {
   "cell_type": "code",
   "execution_count": 135,
   "metadata": {},
   "outputs": [],
   "source": [
    "from audio.audio import *"
   ]
  },
  {
   "cell_type": "code",
   "execution_count": 139,
   "metadata": {},
   "outputs": [],
   "source": [
    "max_length = 200"
   ]
  },
  {
   "cell_type": "code",
   "execution_count": 140,
   "metadata": {},
   "outputs": [],
   "source": [
    "path = f'/audio/{connection_id}.webm'"
   ]
  },
  {
   "cell_type": "code",
   "execution_count": 181,
   "metadata": {},
   "outputs": [],
   "source": [
    "meeting_start = await meeting_start(timestamp)"
   ]
  },
  {
   "cell_type": "code",
   "execution_count": 141,
   "metadata": {},
   "outputs": [
    {
     "ename": "TypeError",
     "evalue": "Addition/subtraction of integers and integer-arrays with Timestamp is no longer supported.  Instead of adding/subtracting `n`, use `n * obj.freq`",
     "output_type": "error",
     "traceback": [
      "\u001b[0;31m---------------------------------------------------------------------------\u001b[0m",
      "\u001b[0;31mTypeError\u001b[0m                                 Traceback (most recent call last)",
      "Cell \u001b[0;32mIn[141], line 1\u001b[0m\n\u001b[0;32m----> 1\u001b[0m audio_slicer \u001b[38;5;241m=\u001b[39m \u001b[38;5;28;01mawait\u001b[39;00m AudioSlicer\u001b[38;5;241m.\u001b[39mfrom_ffmpeg_slice(path,start,start\u001b[38;5;241m+\u001b[39mmax_length)\n",
      "File \u001b[0;32mtimestamps.pyx:465\u001b[0m, in \u001b[0;36mpandas._libs.tslibs.timestamps._Timestamp.__add__\u001b[0;34m()\u001b[0m\n",
      "\u001b[0;31mTypeError\u001b[0m: Addition/subtraction of integers and integer-arrays with Timestamp is no longer supported.  Instead of adding/subtracting `n`, use `n * obj.freq`"
     ]
    }
   ],
   "source": [
    "audio_slicer = await AudioSlicer.from_ffmpeg_slice(path,start,start+max_length)"
   ]
  },
  {
   "cell_type": "code",
   "execution_count": null,
   "metadata": {},
   "outputs": [],
   "source": []
  }
 ],
 "metadata": {
  "kernelspec": {
   "display_name": "Python 3",
   "language": "python",
   "name": "python3"
  },
  "language_info": {
   "codemirror_mode": {
    "name": "ipython",
    "version": 3
   },
   "file_extension": ".py",
   "mimetype": "text/x-python",
   "name": "python",
   "nbconvert_exporter": "python",
   "pygments_lexer": "ipython3",
   "version": "3.9.18"
  }
 },
 "nbformat": 4,
 "nbformat_minor": 2
}
