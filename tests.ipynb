{
 "cells": [
  {
   "cell_type": "code",
   "execution_count": 2,
   "metadata": {},
   "outputs": [],
   "source": [
    "import asyncio\n",
    "import json\n",
    "import logging\n",
    "import uuid\n",
    "import datetime\n",
    "\n",
    "from app.database_redis.connection import get_redis_client\n",
    "from app.services.apis.streamqueue_service.client import StreamQueueServiceAPI\n",
    "from app.services.audio.audio import AudioSlicer\n",
    "from app.services.audio.redis import Connection, Meeting, Diarizer, Transcriber\n",
    "from app.settings import settings"
   ]
  },
  {
   "cell_type": "code",
   "execution_count": 3,
   "metadata": {},
   "outputs": [
    {
     "data": {
      "text/plain": [
       "Settings(service_version='0.0.1_example', service_name='Audio API', service_api_host='0.0.0.0', service_api_port=8009, service_token='service_token', stream_queue_service_list_connections='https://chrome.away.guru/api/v1/connections/list', stream_queue_service_flush_cache='https://chrome.away.guru/api/v1/flush_cache', stream_queue_service_get_next_chunks='https://chrome.away.guru/api/v1/get_next_chunks', stream_queue_service_health='https://chrome.away.guru/api/v1/health', stream_queue_service_health_check='https://chrome.away.guru/api/v1/hc', stream_queue_service_request_timeout=120, stream_queue_service_auth_token='expected_secure_token', redis_host='localhost', redis_port=26379, redis_password='passwd', volume_data_path='/home/dima/ssd/0')"
      ]
     },
     "execution_count": 3,
     "metadata": {},
     "output_type": "execute_result"
    }
   ],
   "source": [
    "settings"
   ]
  },
  {
   "cell_type": "code",
   "execution_count": null,
   "metadata": {},
   "outputs": [],
   "source": [
    "\n",
    "\n",
    "logger = logging.getLogger(__name__)\n",
    "\n",
    "\n",
    "\n",
    "class Processor:\n",
    "    def __init__(self):\n",
    "        self._stream_queue_service_api = StreamQueueServiceAPI()\n",
    "\n",
    "    async def process_connections(self):\n",
    "        \n",
    "        \n",
    "        connections = await self.__stream_queue_service_api.get_connections()\n",
    "        connection_ids = [c[0] for c in connections]\n",
    "\n",
    "        for connection_id in connection_ids:\n",
    "            await self._process_connection_task(self,connection_id)\n",
    "            \n",
    "        await asyncio.sleep(2)\n",
    "\n",
    "\n",
    "    async def _process_connection_task(self, connection_id, diarizer_step=60, transcriber_step=5, max_length=240):\n",
    "        redis_client = await get_redis_client(settings.redis_host, settings.redis_port, settings.redis_password)\n",
    "        \n",
    "\n",
    "        meeting_id, segment_start_timestamp, segment_end_timestamp, user_id = await self.__writestream2file(connection_id) \n",
    "        \n",
    "        connection = Connection(redis_client,connection_id, user_id)\n",
    "        connection.update_timestamps(segment_start_timestamp,segment_end_timestamp)\n",
    "        \n",
    "        meeting = Meeting(redis_client, meeting_id)\n",
    "        meeting.load_from_redis()\n",
    "   \n",
    "        meeting.add_connection(connection.id)\n",
    "        \n",
    "        \n",
    "        if datetime.utcnow() - max(meeting.last_updated_timestamp, meeting.diarize_seek_timestamp) > diarizer_step:\n",
    "            diarizer = Diarizer(redis_client)\n",
    "            diarizer.add_todo(meeting.id)\n",
    "            \n",
    "            \n",
    "        if datetime.utcnow() - max(meeting.last_updated_timestamp, meeting.transcribe_seek_timestamp) > transcriber_step:\n",
    "            transcriber = Transcriber(redis_client)\n",
    "            transcriber.add_todo(meeting.id)\n",
    "            \n",
    "        \n",
    "        \n",
    "        meeting.update_timestamps(segment_start_timestamp,datetime.utcnow())\n",
    "        \n",
    "        \n",
    "    \n",
    "\n",
    "    async def __writestream2file(self, connection_id):\n",
    "        path = f\"/audio/{connection_id}.webm\"\n",
    "        first_timestamp = None\n",
    "        items = await self.__stream_queue_service_api.fetch_chunks(connection_id, num_chunks=100)\n",
    "\n",
    "        if items:\n",
    "            for item in items[\"chunks\"]:\n",
    "                chunk = bytes.fromhex(item[\"chunk\"])\n",
    "                first_timestamp = item[\"timestamp\"] if not first_timestamp else first_timestamp\n",
    "\n",
    "                # Open the file in append mode\n",
    "                with open(path, \"ab\") as file:\n",
    "                    # Write data to the file\n",
    "                    file.write(chunk)\n",
    "\n",
    "                last_timestamp = item[\"timestamp\"]\n",
    "                meeting_id = item[\"meeting_id\"]\n",
    "                client_id = item[\"client_id\"] #thi\n",
    "\n",
    "            return meeting_id, first_timestamp, last_timestamp, client_id\n"
   ]
  },
  {
   "cell_type": "code",
   "execution_count": 2,
   "metadata": {},
   "outputs": [],
   "source": [
    "processor = Processor()"
   ]
  },
  {
   "cell_type": "code",
   "execution_count": 3,
   "metadata": {},
   "outputs": [],
   "source": [
    "await processor._stream_queue_service_api.get_connections()"
   ]
  },
  {
   "cell_type": "code",
   "execution_count": 1,
   "metadata": {},
   "outputs": [
    {
     "ename": "NameError",
     "evalue": "name 'settings' is not defined",
     "output_type": "error",
     "traceback": [
      "\u001b[0;31m---------------------------------------------------------------------------\u001b[0m",
      "\u001b[0;31mNameError\u001b[0m                                 Traceback (most recent call last)",
      "Cell \u001b[0;32mIn[1], line 1\u001b[0m\n\u001b[0;32m----> 1\u001b[0m \u001b[43msettings\u001b[49m\n",
      "\u001b[0;31mNameError\u001b[0m: name 'settings' is not defined"
     ]
    }
   ],
   "source": [
    "settings"
   ]
  },
  {
   "cell_type": "code",
   "execution_count": null,
   "metadata": {},
   "outputs": [],
   "source": []
  }
 ],
 "metadata": {
  "kernelspec": {
   "display_name": "Python 3",
   "language": "python",
   "name": "python3"
  },
  "language_info": {
   "codemirror_mode": {
    "name": "ipython",
    "version": 3
   },
   "file_extension": ".py",
   "mimetype": "text/x-python",
   "name": "python",
   "nbconvert_exporter": "python",
   "pygments_lexer": "ipython3",
   "version": "3.9.18"
  }
 },
 "nbformat": 4,
 "nbformat_minor": 2
}
