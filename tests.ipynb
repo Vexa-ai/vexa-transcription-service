{
 "cells": [
  {
   "cell_type": "code",
   "execution_count": 7,
   "metadata": {},
   "outputs": [],
   "source": [
    "import sys\n",
    "sys.path.insert(0,'../library')\n",
    "\n",
    "import pandas as pd\n",
    "from audio.audio import AudioSlicer\n",
    "import uuid\n",
    "from vexa.tools import log\n",
    "from vexa.redis import get_redis\n",
    "import  vexa.streamapipy as stream\n",
    "from dotenv import load_dotenv\n",
    "import os\n",
    "\n",
    "import httpx\n",
    "import asyncio\n",
    "import os\n",
    "\n",
    "\n",
    "\n",
    "\n",
    "from audio.redis import *\n",
    "from audio.audio import *\n",
    "#from audio.process import *\n",
    "\n",
    "from pathlib import Path\n",
    "import json\n",
    "\n",
    "import uuid\n",
    "\n",
    "import pandas as pd\n",
    "\n",
    "import asyncio\n",
    "import redis.asyncio as aioredis\n",
    "from dataclasses import dataclass\n",
    "import numpy as np\n",
    "\n",
    "import json\n",
    "import time\n",
    "\n",
    "\n",
    "import subprocess\n",
    "from pydub import AudioSegment\n",
    "import io\n",
    "from time import sleep\n",
    "from audio.redis import Audio,Transcript,Diarisation\n",
    "\n",
    "\n",
    "\n",
    "load_dotenv()\n",
    "STREAM_API_PORT = os.getenv('STREAM_API_PORT')\n",
    "DATA_PATH = os.getenv('DATA_PATH')\n",
    "SERVICE_TOKEN = os.getenv('SERVICE_TOKEN')\n",
    "\n",
    "\n",
    "running_tasks = set()"
   ]
  },
  {
   "cell_type": "code",
   "execution_count": 8,
   "metadata": {},
   "outputs": [],
   "source": [
    "redis_client = await get_redis(host='redis',port=6379)"
   ]
  },
  {
   "cell_type": "code",
   "execution_count": 9,
   "metadata": {},
   "outputs": [
    {
     "data": {
      "text/plain": [
       "True"
      ]
     },
     "execution_count": 9,
     "metadata": {},
     "output_type": "execute_result"
    }
   ],
   "source": [
    "await redis_client.flushdb()"
   ]
  },
  {
   "cell_type": "code",
   "execution_count": 10,
   "metadata": {},
   "outputs": [],
   "source": [
    "\n",
    "async def get_next_chunk_start(diarization_result, length,shift):\n",
    "\n",
    "    if len(diarization_result)>0:\n",
    "        last_speech = diarization_result[-1]\n",
    "\n",
    "        ended_silence = length - last_speech['end']\n",
    "        log(ended_silence)\n",
    "        if ended_silence<2:\n",
    "            log('interrupted')\n",
    "            return last_speech['start']+shift\n",
    "        \n",
    "\n",
    "        else:\n",
    "            log('non-interrupted') \n",
    "            \n",
    "            return last_speech['end']+shift\n",
    "\n",
    "\n",
    "\n",
    "    else: return None\n",
    "    \n",
    "async def writestream2file(connection_id):\n",
    "    path = f'/audio/{connection_id}.webm'\n",
    "    first_timestamp = None\n",
    "    items = await  stream.fetch_chunks(connection_id,100,SERVICE_TOKEN,STREAM_API_PORT)\n",
    "\n",
    "    if items:\n",
    "        for item in items['chunks']:\n",
    "            chunk = bytes.fromhex(item['chunk'])\n",
    "            first_timestamp = item['timestamp'] if not first_timestamp else first_timestamp\n",
    "            # Open the file in append mode\n",
    "            with open(path, 'ab') as file:\n",
    "                # Write data to the file\n",
    "                file.write(chunk)\n",
    "            last_timestamp = item['timestamp']\n",
    "            meeting_id = item['meeting_id']\n",
    "            client_id = item['client_id']\n",
    "        return meeting_id, first_timestamp,last_timestamp,client_id\n",
    "    \n",
    "    \n",
    "async def get_meeting_start(meeting_id,timestamp,redis_client):\n",
    "    meeting_start = await redis_client.hget(f'Meeting:{meeting_id}','meeting_start')\n",
    "    meeting_start = meeting_start if meeting_start else timestamp\n",
    "    await redis_client.hset(f'Meeting:{meeting_id}','meeting_start',timestamp)\n",
    "    return pd.Timestamp(meeting_start)\n",
    "\n",
    "\n",
    "async def transcribe(audio_name, redis_client,client_id):\n",
    "    await redis_client.lpush('Audio2TranscribeQueue', f'{audio_name}:{client_id}')\n",
    "    _,done = await redis_client.brpop(f'TranscribeReady:{audio_name}',timeout=60)\n",
    "    transcription =  Transcript(audio_name,redis_client)\n",
    "    await transcription.get()\n",
    "    return transcription.data\n",
    "\n",
    "\n",
    "\n",
    "async def diarize(audio_name, redis_client,client_id):\n",
    "    await redis_client.lpush('Audio2DiarizeQueue', f'{audio_name}:{client_id}')\n",
    "    _,done = await redis_client.brpop(f'DiarizeReady:{audio_name}',timeout=60)\n",
    "    diarization = Diarisation(audio_name, redis_client)\n",
    "    await diarization.get()\n",
    "    return diarization.data"
   ]
  },
  {
   "cell_type": "code",
   "execution_count": 25,
   "metadata": {},
   "outputs": [],
   "source": [
    "connections = await stream.get_connections(SERVICE_TOKEN,STREAM_API_PORT)\n",
    "connection_ids = [c[0] for c in connections]\n"
   ]
  },
  {
   "cell_type": "code",
   "execution_count": 26,
   "metadata": {},
   "outputs": [
    {
     "data": {
      "text/plain": [
       "['cc926467-d649-4bac-ac28-5f14859f67b0--0']"
      ]
     },
     "execution_count": 26,
     "metadata": {},
     "output_type": "execute_result"
    }
   ],
   "source": [
    "connection_ids"
   ]
  },
  {
   "cell_type": "code",
   "execution_count": 27,
   "metadata": {},
   "outputs": [],
   "source": [
    "connection_id = connection_ids[0]"
   ]
  },
  {
   "cell_type": "code",
   "execution_count": 28,
   "metadata": {},
   "outputs": [],
   "source": [
    "path = f'/audio/{connection_id}.webm'\n",
    "max_length = 200"
   ]
  },
  {
   "cell_type": "code",
   "execution_count": 29,
   "metadata": {},
   "outputs": [
    {
     "name": "stdout",
     "output_type": "stream",
     "text": [
      "['2024-05-08 12:11:14', 'started at ', 0]\n"
     ]
    }
   ],
   "source": [
    "\n",
    "start = await redis_client.rpop(f'Start:{connection_id}')\n",
    "start = float(start) if start else 0\n",
    "log('started at ',start)\n",
    "\n",
    "connection_meta = await writestream2file(connection_id)\n",
    "if connection_meta:\n",
    "    meeting_id, start_timestamp,finish_timestamp, client_id = connection_meta  "
   ]
  },
  {
   "cell_type": "code",
   "execution_count": 30,
   "metadata": {},
   "outputs": [],
   "source": [
    "audio_slicer = await AudioSlicer.from_ffmpeg_slice(path,start,start+max_length)\n",
    "slice_duration = audio_slicer.audio.duration_seconds"
   ]
  },
  {
   "cell_type": "code",
   "execution_count": 31,
   "metadata": {},
   "outputs": [
    {
     "name": "stdout",
     "output_type": "stream",
     "text": [
      "None\n"
     ]
    }
   ],
   "source": [
    "audio_data = await audio_slicer.export_data()\n",
    "audio_name = str(uuid.uuid4())\n",
    "audio = Audio(chunk_name=audio_name, redis_client=redis_client, data=audio_data)\n",
    "await audio.save()"
   ]
  },
  {
   "cell_type": "code",
   "execution_count": 32,
   "metadata": {},
   "outputs": [],
   "source": [
    "diarization_result, transcription_result = await asyncio.gather(\n",
    "                    asyncio.wait_for(diarize   (audio_name, redis_client,client_id), timeout=60),\n",
    "                    asyncio.wait_for(transcribe(audio_name, redis_client,client_id), timeout=60) \n",
    "                )"
   ]
  },
  {
   "cell_type": "code",
   "execution_count": 33,
   "metadata": {},
   "outputs": [
    {
     "data": {
      "text/plain": [
       "True"
      ]
     },
     "execution_count": 33,
     "metadata": {},
     "output_type": "execute_result"
    }
   ],
   "source": [
    "await audio.delete()"
   ]
  },
  {
   "cell_type": "code",
   "execution_count": 34,
   "metadata": {},
   "outputs": [
    {
     "data": {
      "text/plain": [
       "1"
      ]
     },
     "execution_count": 34,
     "metadata": {},
     "output_type": "execute_result"
    }
   ],
   "source": [
    "await redis_client.lpush(f'Segments', json.dumps((meeting_id,diarization_result, transcription_result,start, start_timestamp,finish_timestamp,)))"
   ]
  },
  {
   "cell_type": "code",
   "execution_count": 24,
   "metadata": {},
   "outputs": [
    {
     "data": {
      "text/plain": [
       "'[\"cc926467-d649-4bac-ac28-5f14859f67b0--0\", [{\"start\": 0.008488964346349746, \"end\": 20.263157894736842, \"speaker\": \"586e5af2-e2fb-48c2-9d61-b202431df256\", \"score\": 0.98542047}, {\"start\": 20.70458404074703, \"end\": 21.36672325976231, \"speaker\": \"586e5af2-e2fb-48c2-9d61-b202431df256\", \"score\": 0.98542047}, {\"start\": 21.740237691001695, \"end\": 24.575551782682517, \"speaker\": \"586e5af2-e2fb-48c2-9d61-b202431df256\", \"score\": 0.98542047}, {\"start\": 25.220713073005093, \"end\": 44.69439728353141, \"speaker\": \"586e5af2-e2fb-48c2-9d61-b202431df256\", \"score\": 0.98542047}, {\"start\": 45.22071307300509, \"end\": 51.04414261460102, \"speaker\": \"586e5af2-e2fb-48c2-9d61-b202431df256\", \"score\": 0.98542047}, {\"start\": 51.57045840407471, \"end\": 58.4804753820034, \"speaker\": \"586e5af2-e2fb-48c2-9d61-b202431df256\", \"score\": 0.98542047}, {\"start\": 58.97283531409168, \"end\": 62.60611205432937, \"speaker\": \"586e5af2-e2fb-48c2-9d61-b202431df256\", \"score\": 0.98542047}, {\"start\": 62.11375212224109, \"end\": 62.21561969439728, \"speaker\": \"12f03de3-a865-4a84-980f-0b3e72a75afd\", \"score\": 0.937902}, {\"start\": 62.60611205432937, \"end\": 63.336162988115454, \"speaker\": \"12f03de3-a865-4a84-980f-0b3e72a75afd\", \"score\": 0.937902}, {\"start\": 63.336162988115454, \"end\": 69.15959252971138, \"speaker\": \"586e5af2-e2fb-48c2-9d61-b202431df256\", \"score\": 0.98542047}, {\"start\": 69.15959252971138, \"end\": 73.57385398981324, \"speaker\": \"12f03de3-a865-4a84-980f-0b3e72a75afd\", \"score\": 0.937902}, {\"start\": 73.45500848896435, \"end\": 73.76061120543295, \"speaker\": \"586e5af2-e2fb-48c2-9d61-b202431df256\", \"score\": 0.98542047}, {\"start\": 73.76061120543295, \"end\": 73.77758913412563, \"speaker\": \"12f03de3-a865-4a84-980f-0b3e72a75afd\", \"score\": 0.937902}, {\"start\": 73.77758913412563, \"end\": 90.89134125636673, \"speaker\": \"586e5af2-e2fb-48c2-9d61-b202431df256\", \"score\": 0.98542047}, {\"start\": 79.31239388794566, \"end\": 79.71986417657047, \"speaker\": \"12f03de3-a865-4a84-980f-0b3e72a75afd\", \"score\": 0.937902}, {\"start\": 91.36672325976232, \"end\": 102.0797962648557, \"speaker\": \"586e5af2-e2fb-48c2-9d61-b202431df256\", \"score\": 0.98542047}, {\"start\": 102.75891341256366, \"end\": 115.0848896434635, \"speaker\": \"586e5af2-e2fb-48c2-9d61-b202431df256\", \"score\": 0.98542047}, {\"start\": 115.37351443123939, \"end\": 143.62478777589135, \"speaker\": \"586e5af2-e2fb-48c2-9d61-b202431df256\", \"score\": 0.98542047}, {\"start\": 144.45670628183362, \"end\": 144.9151103565365, \"speaker\": \"586e5af2-e2fb-48c2-9d61-b202431df256\", \"score\": 0.98542047}, {\"start\": 145.509337860781, \"end\": 147.61460101867573, \"speaker\": \"586e5af2-e2fb-48c2-9d61-b202431df256\", \"score\": 0.98542047}, {\"start\": 146.79966044142617, \"end\": 152.7589134125637, \"speaker\": \"12f03de3-a865-4a84-980f-0b3e72a75afd\", \"score\": 0.937902}, {\"start\": 149.0237691001698, \"end\": 150.22920203735146, \"speaker\": \"586e5af2-e2fb-48c2-9d61-b202431df256\", \"score\": 0.98542047}, {\"start\": 152.0458404074703, \"end\": 186.83361629881156, \"speaker\": \"586e5af2-e2fb-48c2-9d61-b202431df256\", \"score\": 0.98542047}, {\"start\": 155.20373514431242, \"end\": 155.4753820033956, \"speaker\": \"12f03de3-a865-4a84-980f-0b3e72a75afd\", \"score\": 0.937902}, {\"start\": 187.15619694397284, \"end\": 200.14431239388796, \"speaker\": \"586e5af2-e2fb-48c2-9d61-b202431df256\", \"score\": 0.98542047}], [[{\"start\": 0.0, \"end\": 0.22, \"word\": \" threat\", \"probability\": 0.96240234375}, {\"start\": 0.22, \"end\": 0.36, \"word\": \" of\", \"probability\": 0.99951171875}, {\"start\": 0.36, \"end\": 0.54, \"word\": \" AI?\", \"probability\": 0.990234375}, {\"start\": 0.72, \"end\": 0.86, \"word\": \" Are\", \"probability\": 0.9990234375}, {\"start\": 0.86, \"end\": 1.02, \"word\": \" they\", \"probability\": 1.0}, {\"start\": 1.02, \"end\": 1.42, \"word\": \" adapting?\", \"probability\": 1.0}, {\"start\": 1.94, \"end\": 2.38, \"word\": \" And\", \"probability\": 0.982421875}, {\"start\": 2.38, \"end\": 2.64, \"word\": \" less\", \"probability\": 0.9990234375}, {\"start\": 2.64, \"end\": 2.86, \"word\": \" so\", \"probability\": 0.99951171875}, {\"start\": 2.86, \"end\": 3.18, \"word\": \" about\", \"probability\": 0.99951171875}, {\"start\": 3.18, \"end\": 3.5, \"word\": \" the\", \"probability\": 1.0}, {\"start\": 3.5, \"end\": 3.78, \"word\": \" anger\", \"probability\": 0.99951171875}, {\"start\": 3.78, \"end\": 4.04, \"word\": \" around\", \"probability\": 0.99951171875}, {\"start\": 4.04, \"end\": 4.28, \"word\": \" woke\", \"probability\": 0.8134765625}, {\"start\": 4.28, \"end\": 4.42, \"word\": \" and\", \"probability\": 0.9951171875}, {\"start\": 4.42, \"end\": 4.86, \"word\": \" DEI,\", \"probability\": 0.985595703125}], [{\"start\": 4.9, \"end\": 5.1, \"word\": \" because\", \"probability\": 0.99951171875}, {\"start\": 5.1, \"end\": 5.38, \"word\": \" most\", \"probability\": 1.0}, {\"start\": 5.38, \"end\": 5.5, \"word\": \" of\", \"probability\": 1.0}, {\"start\": 5.5, \"end\": 5.54, \"word\": \" the\", \"probability\": 0.998046875}, {\"start\": 5.54, \"end\": 5.88, \"word\": \" investors\", \"probability\": 0.99951171875}, {\"start\": 5.88, \"end\": 6.08, \"word\": \" I\", \"probability\": 1.0}, {\"start\": 6.08, \"end\": 6.28, \"word\": \" spoke\", \"probability\": 1.0}, {\"start\": 6.28, \"end\": 6.46, \"word\": \" with\", \"probability\": 1.0}, {\"start\": 6.46, \"end\": 6.66, \"word\": \" aren\\'t\", \"probability\": 0.9970703125}, {\"start\": 6.66, \"end\": 7.0, \"word\": \" angry\", \"probability\": 1.0}, {\"start\": 7.0, \"end\": 7.32, \"word\": \" about\", \"probability\": 1.0}, {\"start\": 7.32, \"end\": 7.5, \"word\": \" the\", \"probability\": 1.0}, {\"start\": 7.5, \"end\": 7.68, \"word\": \" woke\", \"probability\": 0.99755859375}, {\"start\": 7.68, \"end\": 8.2, \"word\": \" DEI\", \"probability\": 0.998779296875}, {\"start\": 8.2, \"end\": 8.44, \"word\": \" search\", \"probability\": 1.0}, {\"start\": 8.44, \"end\": 8.8, \"word\": \" engine.\", \"probability\": 1.0}], [{\"start\": 9.04, \"end\": 9.48, \"word\": \" They\\'re\", \"probability\": 0.996826171875}, {\"start\": 9.48, \"end\": 9.68, \"word\": \" angry\", \"probability\": 1.0}, {\"start\": 9.68, \"end\": 10.02, \"word\": \" about\", \"probability\": 1.0}, {\"start\": 10.02, \"end\": 10.2, \"word\": \" the\", \"probability\": 1.0}, {\"start\": 10.2, \"end\": 10.42, \"word\": \" fact\", \"probability\": 1.0}, {\"start\": 10.42, \"end\": 10.64, \"word\": \" that\", \"probability\": 1.0}, {\"start\": 10.64, \"end\": 10.82, \"word\": \" such\", \"probability\": 1.0}, {\"start\": 10.82, \"end\": 10.96, \"word\": \" a\", \"probability\": 0.99951171875}, {\"start\": 10.96, \"end\": 11.32, \"word\": \" blunder\", \"probability\": 1.0}, {\"start\": 11.32, \"end\": 11.7, \"word\": \" happened,\", \"probability\": 1.0}, {\"start\": 11.86, \"end\": 12.44, \"word\": \" and\", \"probability\": 1.0}, {\"start\": 12.44, \"end\": 12.56, \"word\": \" that\", \"probability\": 0.99951171875}, {\"start\": 12.56, \"end\": 12.68, \"word\": \" it\", \"probability\": 0.9970703125}, {\"start\": 12.68, \"end\": 13.0, \"word\": \" indicates\", \"probability\": 1.0}, {\"start\": 13.0, \"end\": 13.28, \"word\": \" that\", \"probability\": 1.0}, {\"start\": 13.28, \"end\": 13.52, \"word\": \" Google\", \"probability\": 0.99951171875}, {\"start\": 13.52, \"end\": 13.78, \"word\": \" may\", \"probability\": 1.0}], [{\"start\": 13.78, \"end\": 13.96, \"word\": \" not\", \"probability\": 1.0}, {\"start\": 13.96, \"end\": 14.1, \"word\": \" be\", \"probability\": 1.0}, {\"start\": 14.1, \"end\": 14.26, \"word\": \" able\", \"probability\": 1.0}, {\"start\": 14.26, \"end\": 14.44, \"word\": \" to\", \"probability\": 1.0}, {\"start\": 14.44, \"end\": 14.7, \"word\": \" compete\", \"probability\": 1.0}, {\"start\": 14.7, \"end\": 15.24, \"word\": \" effectively\", \"probability\": 1.0}, {\"start\": 15.24, \"end\": 15.46, \"word\": \" and\", \"probability\": 0.98046875}, {\"start\": 15.46, \"end\": 15.66, \"word\": \" isn\\'t\", \"probability\": 0.99951171875}, {\"start\": 15.66, \"end\": 15.96, \"word\": \" organized\", \"probability\": 0.998046875}, {\"start\": 15.96, \"end\": 16.16, \"word\": \" to\", \"probability\": 1.0}, {\"start\": 16.16, \"end\": 16.34, \"word\": \" compete\", \"probability\": 0.99951171875}, {\"start\": 16.34, \"end\": 16.78, \"word\": \" effectively\", \"probability\": 1.0}, {\"start\": 16.78, \"end\": 17.02, \"word\": \" in\", \"probability\": 0.99951171875}, {\"start\": 17.02, \"end\": 17.2, \"word\": \" AI,\", \"probability\": 1.0}], [{\"start\": 17.38, \"end\": 17.94, \"word\": \" just\", \"probability\": 1.0}, {\"start\": 17.94, \"end\": 18.14, \"word\": \" from\", \"probability\": 1.0}, {\"start\": 18.14, \"end\": 18.26, \"word\": \" a\", \"probability\": 1.0}, {\"start\": 18.26, \"end\": 18.6, \"word\": \" consumer\", \"probability\": 0.99951171875}, {\"start\": 18.6, \"end\": 19.32, \"word\": \" competitiveness\", \"probability\": 1.0}, {\"start\": 19.32, \"end\": 19.74, \"word\": \" perspective.\", \"probability\": 1.0}, {\"start\": 20.56, \"end\": 21.0, \"word\": \" So,\", \"probability\": 0.9951171875}, {\"start\": 21.0, \"end\": 21.82, \"word\": \" you\", \"probability\": 0.9453125}, {\"start\": 21.82, \"end\": 21.96, \"word\": \" know,\", \"probability\": 1.0}, {\"start\": 21.96, \"end\": 22.36, \"word\": \" investors\", \"probability\": 1.0}, {\"start\": 22.36, \"end\": 22.58, \"word\": \" are\", \"probability\": 1.0}, {\"start\": 22.58, \"end\": 22.78, \"word\": \" banging\", \"probability\": 0.99853515625}, {\"start\": 22.78, \"end\": 22.94, \"word\": \" the\", \"probability\": 1.0}, {\"start\": 22.94, \"end\": 23.24, \"word\": \" table.\", \"probability\": 0.9990234375}], [{\"start\": 23.24, \"end\": 23.52, \"word\": \" And\", \"probability\": 0.71875}, {\"start\": 23.52, \"end\": 23.66, \"word\": \" in\", \"probability\": 0.9892578125}, {\"start\": 23.66, \"end\": 23.76, \"word\": \" the\", \"probability\": 1.0}, {\"start\": 23.76, \"end\": 24.14, \"word\": \" past,\", \"probability\": 0.99951171875}, {\"start\": 24.3, \"end\": 25.32, \"word\": \" we\", \"probability\": 0.99853515625}, {\"start\": 25.32, \"end\": 25.56, \"word\": \" saw\", \"probability\": 1.0}, {\"start\": 25.56, \"end\": 25.82, \"word\": \" this\", \"probability\": 1.0}, {\"start\": 25.82, \"end\": 26.7, \"word\": \" with\", \"probability\": 0.99609375}, {\"start\": 26.7, \"end\": 27.16, \"word\": \" Meta.\", \"probability\": 0.873046875}, {\"start\": 27.44, \"end\": 27.8, \"word\": \" I\", \"probability\": 0.99951171875}, {\"start\": 27.8, \"end\": 28.0, \"word\": \" think\", \"probability\": 1.0}, {\"start\": 28.0, \"end\": 28.1, \"word\": \" it\", \"probability\": 0.99951171875}, {\"start\": 28.1, \"end\": 28.28, \"word\": \" was\", \"probability\": 1.0}, {\"start\": 28.28, \"end\": 28.82, \"word\": \" towards\", \"probability\": 0.99853515625}, {\"start\": 28.82, \"end\": 29.06, \"word\": \" the\", \"probability\": 1.0}, {\"start\": 29.06, \"end\": 29.16, \"word\": \" end\", \"probability\": 1.0}, {\"start\": 29.16, \"end\": 29.28, \"word\": \" of\", \"probability\": 1.0}, {\"start\": 29.28, \"end\": 29.64, \"word\": \" 22,\", \"probability\": 0.80224609375}, {\"start\": 29.96, \"end\": 30.1, \"word\": \" if\", \"probability\": 0.9990234375}, {\"start\": 30.1, \"end\": 30.18, \"word\": \" you\", \"probability\": 1.0}, {\"start\": 30.18, \"end\": 30.32, \"word\": \" guys\", \"probability\": 1.0}, {\"start\": 30.32, \"end\": 30.54, \"word\": \" remember.\", \"probability\": 0.99951171875}], [{\"start\": 31.16, \"end\": 31.52, \"word\": \" And\", \"probability\": 0.99853515625}, {\"start\": 31.52, \"end\": 31.74, \"word\": \" it\", \"probability\": 1.0}, {\"start\": 31.74, \"end\": 31.92, \"word\": \" was\", \"probability\": 1.0}, {\"start\": 31.92, \"end\": 32.04, \"word\": \" a\", \"probability\": 1.0}, {\"start\": 32.04, \"end\": 32.24, \"word\": \" similar\", \"probability\": 1.0}, {\"start\": 32.24, \"end\": 32.58, \"word\": \" situation.\", \"probability\": 1.0}, {\"start\": 32.94, \"end\": 33.3, \"word\": \" Investors\", \"probability\": 0.999267578125}, {\"start\": 33.3, \"end\": 33.4, \"word\": \" were\", \"probability\": 0.99951171875}, {\"start\": 33.4, \"end\": 33.54, \"word\": \" like,\", \"probability\": 0.99951171875}, {\"start\": 33.6, \"end\": 33.7, \"word\": \" why\", \"probability\": 0.97998046875}, {\"start\": 33.7, \"end\": 33.86, \"word\": \" are\", \"probability\": 1.0}, {\"start\": 33.86, \"end\": 33.98, \"word\": \" you\", \"probability\": 1.0}, {\"start\": 33.98, \"end\": 34.32, \"word\": \" investing\", \"probability\": 1.0}, {\"start\": 34.32, \"end\": 34.52, \"word\": \" in\", \"probability\": 1.0}, {\"start\": 34.52, \"end\": 34.74, \"word\": \" VR\", \"probability\": 0.9990234375}, {\"start\": 34.74, \"end\": 34.92, \"word\": \" and\", \"probability\": 1.0}, {\"start\": 34.92, \"end\": 35.08, \"word\": \" AR?\", \"probability\": 1.0}, {\"start\": 35.24, \"end\": 35.36, \"word\": \" This\", \"probability\": 1.0}], [{\"start\": 35.36, \"end\": 35.48, \"word\": \" is\", \"probability\": 1.0}, {\"start\": 35.48, \"end\": 35.8, \"word\": \" crazy.\", \"probability\": 1.0}, {\"start\": 35.9, \"end\": 36.0, \"word\": \" Why\", \"probability\": 1.0}, {\"start\": 36.0, \"end\": 36.14, \"word\": \" do\", \"probability\": 1.0}, {\"start\": 36.14, \"end\": 36.18, \"word\": \" you\", \"probability\": 1.0}, {\"start\": 36.18, \"end\": 36.28, \"word\": \" have\", \"probability\": 1.0}, {\"start\": 36.28, \"end\": 36.42, \"word\": \" all\", \"probability\": 1.0}, {\"start\": 36.42, \"end\": 36.6, \"word\": \" these\", \"probability\": 1.0}, {\"start\": 36.6, \"end\": 37.36, \"word\": \" people\", \"probability\": 1.0}, {\"start\": 37.36, \"end\": 37.6, \"word\": \" that\", \"probability\": 1.0}, {\"start\": 37.6, \"end\": 37.7, \"word\": \" are\", \"probability\": 1.0}, {\"start\": 37.7, \"end\": 37.9, \"word\": \" getting\", \"probability\": 1.0}, {\"start\": 37.9, \"end\": 38.38, \"word\": \" overpaid?\", \"probability\": 0.999755859375}, {\"start\": 38.94, \"end\": 39.3, \"word\": \" And\", \"probability\": 0.99951171875}, {\"start\": 39.3, \"end\": 39.52, \"word\": \" everyone\", \"probability\": 1.0}, {\"start\": 39.52, \"end\": 39.8, \"word\": \" started\", \"probability\": 1.0}, {\"start\": 39.8, \"end\": 39.98, \"word\": \" to\", \"probability\": 1.0}], [{\"start\": 39.98, \"end\": 40.12, \"word\": \" write\", \"probability\": 0.99951171875}, {\"start\": 40.12, \"end\": 40.26, \"word\": \" off\", \"probability\": 1.0}, {\"start\": 40.26, \"end\": 40.38, \"word\": \" the\", \"probability\": 1.0}, {\"start\": 40.38, \"end\": 40.72, \"word\": \" stock,\", \"probability\": 1.0}, {\"start\": 40.76, \"end\": 40.84, \"word\": \" and\", \"probability\": 1.0}, {\"start\": 40.84, \"end\": 40.92, \"word\": \" the\", \"probability\": 1.0}, {\"start\": 40.92, \"end\": 41.14, \"word\": \" stock\", \"probability\": 0.99951171875}, {\"start\": 41.14, \"end\": 41.32, \"word\": \" took\", \"probability\": 1.0}, {\"start\": 41.32, \"end\": 41.44, \"word\": \" a\", \"probability\": 1.0}, {\"start\": 41.44, \"end\": 41.6, \"word\": \" big\", \"probability\": 1.0}, {\"start\": 41.6, \"end\": 42.06, \"word\": \" nosedive\", \"probability\": 0.9949544270833334}, {\"start\": 42.06, \"end\": 42.26, \"word\": \" for\", \"probability\": 1.0}, {\"start\": 42.26, \"end\": 42.32, \"word\": \" a\", \"probability\": 1.0}, {\"start\": 42.32, \"end\": 42.54, \"word\": \" period\", \"probability\": 0.99951171875}, {\"start\": 42.54, \"end\": 42.68, \"word\": \" of\", \"probability\": 1.0}, {\"start\": 42.68, \"end\": 42.92, \"word\": \" time,\", \"probability\": 1.0}, {\"start\": 43.0, \"end\": 43.12, \"word\": \" just\", \"probability\": 1.0}, {\"start\": 43.12, \"end\": 43.3, \"word\": \" like\", \"probability\": 1.0}, {\"start\": 43.3, \"end\": 43.7, \"word\": \" Google\\'s\", \"probability\": 0.99951171875}], [{\"start\": 43.7, \"end\": 43.78, \"word\": \" is\", \"probability\": 0.9970703125}, {\"start\": 43.78, \"end\": 43.98, \"word\": \" right\", \"probability\": 1.0}, {\"start\": 43.98, \"end\": 44.24, \"word\": \" now.\", \"probability\": 1.0}, {\"start\": 44.98, \"end\": 45.34, \"word\": \" And\", \"probability\": 1.0}, {\"start\": 45.34, \"end\": 45.52, \"word\": \" then\", \"probability\": 1.0}, {\"start\": 45.52, \"end\": 45.66, \"word\": \" the\", \"probability\": 0.9970703125}, {\"start\": 45.66, \"end\": 45.96, \"word\": \" changes\", \"probability\": 1.0}, {\"start\": 45.96, \"end\": 46.28, \"word\": \" came.\", \"probability\": 1.0}, {\"start\": 46.4, \"end\": 46.68, \"word\": \" And\", \"probability\": 1.0}, {\"start\": 46.68, \"end\": 46.86, \"word\": \" much\", \"probability\": 1.0}, {\"start\": 46.86, \"end\": 47.04, \"word\": \" like\", \"probability\": 1.0}, {\"start\": 47.04, \"end\": 47.32, \"word\": \" Google,\", \"probability\": 1.0}, {\"start\": 47.44, \"end\": 47.62, \"word\": \" there\\'s\", \"probability\": 0.999755859375}, {\"start\": 47.62, \"end\": 47.7, \"word\": \" an\", \"probability\": 1.0}, {\"start\": 47.7, \"end\": 48.04, \"word\": \" individual\", \"probability\": 1.0}, {\"start\": 48.04, \"end\": 48.3, \"word\": \" with\", \"probability\": 0.99951171875}], [{\"start\": 48.3, \"end\": 48.46, \"word\": \" super\", \"probability\": 0.94580078125}, {\"start\": 48.46, \"end\": 48.7, \"word\": \" voting\", \"probability\": 0.84765625}, {\"start\": 48.7, \"end\": 49.0, \"word\": \" shares\", \"probability\": 0.99951171875}, {\"start\": 49.0, \"end\": 49.42, \"word\": \" who\", \"probability\": 0.990234375}, {\"start\": 49.42, \"end\": 49.92, \"word\": \" basically\", \"probability\": 1.0}, {\"start\": 49.92, \"end\": 50.26, \"word\": \" said,\", \"probability\": 1.0}, {\"start\": 50.36, \"end\": 50.42, \"word\": \" you\", \"probability\": 0.99755859375}, {\"start\": 50.42, \"end\": 50.52, \"word\": \" know\", \"probability\": 1.0}, {\"start\": 50.52, \"end\": 50.72, \"word\": \" what,\", \"probability\": 0.99951171875}, {\"start\": 50.84, \"end\": 51.66, \"word\": \" I\", \"probability\": 1.0}, {\"start\": 51.66, \"end\": 52.0, \"word\": \" am\", \"probability\": 0.9892578125}, {\"start\": 52.0, \"end\": 52.22, \"word\": \" going\", \"probability\": 0.97412109375}, {\"start\": 52.22, \"end\": 52.34, \"word\": \" to\", \"probability\": 1.0}, {\"start\": 52.34, \"end\": 52.52, \"word\": \" step\", \"probability\": 0.99951171875}, {\"start\": 52.52, \"end\": 52.76, \"word\": \" in,\", \"probability\": 1.0}, {\"start\": 52.78, \"end\": 52.86, \"word\": \" and\", \"probability\": 0.9990234375}, {\"start\": 52.86, \"end\": 52.92, \"word\": \" we\\'re\", \"probability\": 0.999755859375}, {\"start\": 52.92, \"end\": 52.98, \"word\": \" going\", \"probability\": 0.9990234375}, {\"start\": 52.98, \"end\": 53.06, \"word\": \" to\", \"probability\": 1.0}], [{\"start\": 53.06, \"end\": 53.22, \"word\": \" make\", \"probability\": 0.998046875}, {\"start\": 53.22, \"end\": 53.22, \"word\": \" it\", \"probability\": 0.1864013671875}, {\"start\": 53.22, \"end\": 53.22, \"word\": \" work.\", \"probability\": 0.472412109375}, {\"start\": 53.22, \"end\": 53.22, \"word\": \" And\", \"probability\": 0.88623046875}, {\"start\": 53.22, \"end\": 53.22, \"word\": \" we\\'re\", \"probability\": 0.710205078125}, {\"start\": 53.22, \"end\": 53.22, \"word\": \" going\", \"probability\": 0.99658203125}, {\"start\": 53.22, \"end\": 53.22, \"word\": \" to\", \"probability\": 0.99951171875}, {\"start\": 53.22, \"end\": 53.22, \"word\": \" make\", \"probability\": 0.9755859375}, {\"start\": 53.22, \"end\": 53.22, \"word\": \" it\", \"probability\": 0.98876953125}, {\"start\": 53.22, \"end\": 53.22, \"word\": \" work.\", \"probability\": 0.9873046875}, {\"start\": 53.22, \"end\": 53.22, \"word\": \" And\", \"probability\": 0.97412109375}, {\"start\": 53.22, \"end\": 53.22, \"word\": \" we\\'re\", \"probability\": 0.921630859375}, {\"start\": 53.22, \"end\": 53.22, \"word\": \" going\", \"probability\": 0.99853515625}, {\"start\": 53.22, \"end\": 53.22, \"word\": \" to\", \"probability\": 0.99951171875}, {\"start\": 53.22, \"end\": 53.22, \"word\": \" make\", \"probability\": 0.99462890625}, {\"start\": 53.22, \"end\": 53.22, \"word\": \" it\", \"probability\": 0.9990234375}, {\"start\": 53.22, \"end\": 53.22, \"word\": \" work.\", \"probability\": 0.99462890625}, {\"start\": 53.22, \"end\": 53.22, \"word\": \" And\", \"probability\": 0.9794921875}, {\"start\": 53.22, \"end\": 53.22, \"word\": \" we\\'re\", \"probability\": 0.971923828125}, {\"start\": 53.22, \"end\": 53.22, \"word\": \" going\", \"probability\": 0.99951171875}], [{\"start\": 53.22, \"end\": 53.24, \"word\": \" to\", \"probability\": 0.00724029541015625}, {\"start\": 53.24, \"end\": 53.24, \"word\": \" make\", \"probability\": 0.810546875}, {\"start\": 53.24, \"end\": 53.34, \"word\": \" these\", \"probability\": 0.9921875}, {\"start\": 53.34, \"end\": 53.76, \"word\": \" changes.\", \"probability\": 0.998046875}, {\"start\": 53.8, \"end\": 53.98, \"word\": \" And\", \"probability\": 0.95263671875}, {\"start\": 53.98, \"end\": 54.12, \"word\": \" we\\'re\", \"probability\": 0.9951171875}, {\"start\": 54.12, \"end\": 54.16, \"word\": \" going\", \"probability\": 0.79736328125}, {\"start\": 54.16, \"end\": 54.28, \"word\": \" to\", \"probability\": 0.998046875}, {\"start\": 54.28, \"end\": 54.46, \"word\": \" fix\", \"probability\": 0.9990234375}, {\"start\": 54.46, \"end\": 54.64, \"word\": \" this\", \"probability\": 0.99755859375}, {\"start\": 54.64, \"end\": 55.16, \"word\": \" organization,\", \"probability\": 0.96875}, {\"start\": 55.36, \"end\": 55.52, \"word\": \" and\", \"probability\": 0.81005859375}, {\"start\": 55.52, \"end\": 55.62, \"word\": \" we\\'re\", \"probability\": 0.9990234375}, {\"start\": 55.62, \"end\": 55.7, \"word\": \" going\", \"probability\": 0.96826171875}, {\"start\": 55.7, \"end\": 55.82, \"word\": \" to\", \"probability\": 0.9970703125}, {\"start\": 55.82, \"end\": 55.98, \"word\": \" right\", \"probability\": 0.8447265625}, {\"start\": 55.98, \"end\": 56.26, \"word\": \" size,\", \"probability\": 0.5380859375}], [{\"start\": 56.46, \"end\": 56.62, \"word\": \" and\", \"probability\": 0.998046875}, {\"start\": 56.62, \"end\": 56.76, \"word\": \" we\\'re\", \"probability\": 0.99951171875}, {\"start\": 56.76, \"end\": 56.82, \"word\": \" going\", \"probability\": 0.990234375}, {\"start\": 56.82, \"end\": 56.92, \"word\": \" to\", \"probability\": 0.9990234375}, {\"start\": 56.92, \"end\": 57.18, \"word\": \" focus\", \"probability\": 0.9990234375}, {\"start\": 57.18, \"end\": 57.36, \"word\": \" on\", \"probability\": 0.99951171875}, {\"start\": 57.36, \"end\": 57.48, \"word\": \" the\", \"probability\": 0.9990234375}, {\"start\": 57.48, \"end\": 57.74, \"word\": \" product\", \"probability\": 0.93701171875}, {\"start\": 57.74, \"end\": 57.98, \"word\": \" winning.\", \"probability\": 0.955078125}, {\"start\": 58.74, \"end\": 59.1, \"word\": \" And\", \"probability\": 0.9755859375}, {\"start\": 59.1, \"end\": 59.64, \"word\": \" since\", \"probability\": 0.99169921875}, {\"start\": 59.64, \"end\": 59.88, \"word\": \" then,\", \"probability\": 0.99658203125}, {\"start\": 59.96, \"end\": 60.2, \"word\": \" Meta\\'s\", \"probability\": 0.6182454427083334}, {\"start\": 60.2, \"end\": 60.38, \"word\": \" stock\", \"probability\": 0.99755859375}, {\"start\": 60.38, \"end\": 60.78, \"word\": \" is\", \"probability\": 0.98046875}, {\"start\": 60.78, \"end\": 61.26, \"word\": \" up\", \"probability\": 0.99853515625}, {\"start\": 61.26, \"end\": 61.36, \"word\": \" a\", \"probability\": 0.9970703125}, {\"start\": 61.36, \"end\": 61.68, \"word\": \" tremendous\", \"probability\": 0.9990234375}], [{\"start\": 61.68, \"end\": 62.0, \"word\": \" amount.\", \"probability\": 0.99658203125}, {\"start\": 62.3, \"end\": 62.4, \"word\": \" 5x\", \"probability\": 0.392578125}, {\"start\": 62.4, \"end\": 62.88, \"word\": \" since\", \"probability\": 0.908203125}, {\"start\": 62.88, \"end\": 63.14, \"word\": \" then.\", \"probability\": 0.998046875}, {\"start\": 63.24, \"end\": 63.52, \"word\": \" Google\", \"probability\": 0.93798828125}, {\"start\": 63.52, \"end\": 63.76, \"word\": \" shares\", \"probability\": 0.94970703125}, {\"start\": 63.76, \"end\": 64.02, \"word\": \" are\", \"probability\": 0.99658203125}, {\"start\": 64.02, \"end\": 64.22, \"word\": \" down\", \"probability\": 0.99951171875}, {\"start\": 64.22, \"end\": 64.44, \"word\": \" about\", \"probability\": 0.9970703125}, {\"start\": 64.44, \"end\": 64.82, \"word\": \" 10\", \"probability\": 0.9951171875}, {\"start\": 64.82, \"end\": 65.02, \"word\": \"%\", \"probability\": 0.97998046875}, {\"start\": 65.02, \"end\": 65.3, \"word\": \" over\", \"probability\": 0.998046875}, {\"start\": 65.3, \"end\": 65.46, \"word\": \" the\", \"probability\": 1.0}, {\"start\": 65.46, \"end\": 65.68, \"word\": \" past\", \"probability\": 0.99853515625}, {\"start\": 65.68, \"end\": 65.88, \"word\": \" two\", \"probability\": 0.97314453125}, {\"start\": 65.88, \"end\": 66.14, \"word\": \" weeks.\", \"probability\": 0.99951171875}, {\"start\": 66.26, \"end\": 66.46, \"word\": \" By\", \"probability\": 0.99755859375}, {\"start\": 66.46, \"end\": 66.56, \"word\": \" the\", \"probability\": 1.0}, {\"start\": 66.56, \"end\": 66.68, \"word\": \" way,\", \"probability\": 1.0}], [{\"start\": 66.7, \"end\": 66.8, \"word\": \" I\", \"probability\": 0.99951171875}, {\"start\": 66.8, \"end\": 66.94, \"word\": \" was\", \"probability\": 0.9990234375}, {\"start\": 66.94, \"end\": 67.08, \"word\": \" one\", \"probability\": 0.9990234375}, {\"start\": 67.08, \"end\": 67.14, \"word\": \" of\", \"probability\": 1.0}, {\"start\": 67.14, \"end\": 67.2, \"word\": \" the\", \"probability\": 0.998046875}, {\"start\": 67.2, \"end\": 67.4, \"word\": \" stupid\", \"probability\": 0.99609375}, {\"start\": 67.4, \"end\": 67.7, \"word\": \" people\", \"probability\": 0.99951171875}, {\"start\": 67.7, \"end\": 67.88, \"word\": \" to\", \"probability\": 0.99951171875}, {\"start\": 67.88, \"end\": 68.1, \"word\": \" sell\", \"probability\": 0.99951171875}, {\"start\": 68.1, \"end\": 68.4, \"word\": \" Meta\", \"probability\": 0.97265625}, {\"start\": 68.4, \"end\": 68.66, \"word\": \" around\", \"probability\": 0.998046875}, {\"start\": 68.66, \"end\": 68.86, \"word\": \" that\", \"probability\": 0.99951171875}, {\"start\": 68.86, \"end\": 69.08, \"word\": \" time.\", \"probability\": 0.9990234375}, {\"start\": 69.16, \"end\": 69.18, \"word\": \" And\", \"probability\": 0.98828125}, {\"start\": 69.18, \"end\": 69.34, \"word\": \" your\", \"probability\": 0.85302734375}, {\"start\": 69.34, \"end\": 69.62, \"word\": \" thinking\", \"probability\": 0.99951171875}, {\"start\": 69.62, \"end\": 69.96, \"word\": \" was\", \"probability\": 0.99951171875}, {\"start\": 69.96, \"end\": 70.4, \"word\": \" that\", \"probability\": 0.99560546875}, {\"start\": 70.4, \"end\": 70.62, \"word\": \" they\", \"probability\": 0.9990234375}, {\"start\": 70.62, \"end\": 70.86, \"word\": \" just\", \"probability\": 0.99853515625}], [{\"start\": 70.86, \"end\": 71.5, \"word\": \" can\\'t\", \"probability\": 0.998779296875}, {\"start\": 71.5, \"end\": 71.56, \"word\": \" get\", \"probability\": 0.99951171875}, {\"start\": 71.56, \"end\": 71.7, \"word\": \" out\", \"probability\": 0.98583984375}, {\"start\": 71.7, \"end\": 71.82, \"word\": \" of\", \"probability\": 0.99951171875}, {\"start\": 71.82, \"end\": 71.9, \"word\": \" their\", \"probability\": 0.9990234375}, {\"start\": 71.9, \"end\": 72.06, \"word\": \" own\", \"probability\": 0.994140625}, {\"start\": 72.06, \"end\": 72.38, \"word\": \" way,\", \"probability\": 1.0}, {\"start\": 72.46, \"end\": 72.62, \"word\": \" and\", \"probability\": 0.99853515625}, {\"start\": 72.62, \"end\": 72.72, \"word\": \" the\", \"probability\": 0.99658203125}, {\"start\": 72.72, \"end\": 72.9, \"word\": \" god\", \"probability\": 0.63232421875}, {\"start\": 72.9, \"end\": 73.16, \"word\": \" king\", \"probability\": 0.82470703125}, {\"start\": 73.16, \"end\": 73.42, \"word\": \" is...\", \"probability\": 0.835693359375}, {\"start\": 73.42, \"end\": 73.76, \"word\": \" It\\'s\", \"probability\": 0.8349609375}, {\"start\": 73.76, \"end\": 74.1, \"word\": \" another,\", \"probability\": 0.97607421875}, {\"start\": 74.24, \"end\": 74.4, \"word\": \" yeah,\", \"probability\": 0.99755859375}, {\"start\": 74.5, \"end\": 74.66, \"word\": \" it\\'s\", \"probability\": 0.974365234375}, {\"start\": 74.66, \"end\": 74.94, \"word\": \" exactly,\", \"probability\": 0.99658203125}], [{\"start\": 75.12, \"end\": 75.2, \"word\": \" it\\'s\", \"probability\": 0.999755859375}, {\"start\": 75.2, \"end\": 75.3, \"word\": \" another\", \"probability\": 1.0}, {\"start\": 75.3, \"end\": 75.48, \"word\": \" one\", \"probability\": 1.0}, {\"start\": 75.48, \"end\": 75.54, \"word\": \" of\", \"probability\": 1.0}, {\"start\": 75.54, \"end\": 75.64, \"word\": \" these\", \"probability\": 1.0}, {\"start\": 75.64, \"end\": 76.26, \"word\": \" idiosyncratic\", \"probability\": 0.99970703125}, {\"start\": 76.26, \"end\": 76.6, \"word\": \" problems.\", \"probability\": 1.0}, {\"start\": 76.82, \"end\": 76.9, \"word\": \" You\", \"probability\": 1.0}, {\"start\": 76.9, \"end\": 77.24, \"word\": \" don\\'t\", \"probability\": 1.0}, {\"start\": 77.24, \"end\": 77.42, \"word\": \" know\", \"probability\": 1.0}, {\"start\": 77.42, \"end\": 77.64, \"word\": \" what\", \"probability\": 1.0}, {\"start\": 77.64, \"end\": 77.8, \"word\": \" this\", \"probability\": 1.0}, {\"start\": 77.8, \"end\": 78.34, \"word\": \" individual\", \"probability\": 1.0}, {\"start\": 78.34, \"end\": 78.62, \"word\": \" is\", \"probability\": 0.99951171875}, {\"start\": 78.62, \"end\": 78.92, \"word\": \" thinking,\", \"probability\": 1.0}], [{\"start\": 79.06, \"end\": 79.52, \"word\": \" and\", \"probability\": 1.0}, {\"start\": 79.52, \"end\": 79.72, \"word\": \" what\", \"probability\": 1.0}, {\"start\": 79.72, \"end\": 79.9, \"word\": \" he\", \"probability\": 1.0}, {\"start\": 79.9, \"end\": 80.04, \"word\": \" is\", \"probability\": 1.0}, {\"start\": 80.04, \"end\": 80.38, \"word\": \" individually\", \"probability\": 1.0}, {\"start\": 80.38, \"end\": 80.68, \"word\": \" going\", \"probability\": 1.0}, {\"start\": 80.68, \"end\": 80.82, \"word\": \" to\", \"probability\": 1.0}, {\"start\": 80.82, \"end\": 81.02, \"word\": \" do.\", \"probability\": 1.0}, {\"start\": 81.26, \"end\": 81.62, \"word\": \" The\", \"probability\": 0.99951171875}, {\"start\": 81.62, \"end\": 81.9, \"word\": \" point\", \"probability\": 1.0}, {\"start\": 81.9, \"end\": 82.08, \"word\": \" I\\'m\", \"probability\": 1.0}, {\"start\": 82.08, \"end\": 82.26, \"word\": \" making\", \"probability\": 1.0}, {\"start\": 82.26, \"end\": 82.5, \"word\": \" is\", \"probability\": 0.99951171875}, {\"start\": 82.5, \"end\": 82.62, \"word\": \" that\", \"probability\": 0.99951171875}, {\"start\": 82.62, \"end\": 82.72, \"word\": \" at\", \"probability\": 0.9892578125}, {\"start\": 82.72, \"end\": 83.02, \"word\": \" Google,\", \"probability\": 0.99951171875}], [{\"start\": 83.02, \"end\": 83.22, \"word\": \" now,\", \"probability\": 0.1328125}, {\"start\": 83.44, \"end\": 84.06, \"word\": \" something\", \"probability\": 0.99853515625}, {\"start\": 84.06, \"end\": 84.4, \"word\": \" has\", \"probability\": 0.99951171875}, {\"start\": 84.4, \"end\": 84.62, \"word\": \" to\", \"probability\": 1.0}, {\"start\": 84.62, \"end\": 84.88, \"word\": \" give,\", \"probability\": 0.99951171875}, {\"start\": 85.02, \"end\": 85.26, \"word\": \" because\", \"probability\": 0.9990234375}, {\"start\": 85.26, \"end\": 85.48, \"word\": \" the\", \"probability\": 0.99951171875}, {\"start\": 85.48, \"end\": 85.8, \"word\": \" noise\", \"probability\": 0.9990234375}, {\"start\": 85.8, \"end\": 86.0, \"word\": \" is\", \"probability\": 0.99951171875}, {\"start\": 86.0, \"end\": 86.2, \"word\": \" so\", \"probability\": 0.99951171875}, {\"start\": 86.2, \"end\": 86.66, \"word\": \" loud.\", \"probability\": 0.99951171875}, {\"start\": 86.84, \"end\": 87.36, \"word\": \" The\", \"probability\": 0.998046875}, {\"start\": 87.36, \"end\": 87.7, \"word\": \" board\", \"probability\": 0.98193359375}, {\"start\": 87.7, \"end\": 88.02, \"word\": \" is\", \"probability\": 0.99951171875}, {\"start\": 88.02, \"end\": 88.32, \"word\": \" hearing\", \"probability\": 0.99951171875}, {\"start\": 88.32, \"end\": 88.58, \"word\": \" this\", \"probability\": 0.9990234375}, {\"start\": 88.58, \"end\": 88.84, \"word\": \" left\", \"probability\": 0.99560546875}, {\"start\": 88.84, \"end\": 89.06, \"word\": \" and\", \"probability\": 0.99755859375}], [{\"start\": 89.06, \"end\": 89.32, \"word\": \" right.\", \"probability\": 0.99951171875}, {\"start\": 89.78, \"end\": 90.3, \"word\": \" Investors\", \"probability\": 0.9990234375}, {\"start\": 90.3, \"end\": 90.48, \"word\": \" are\", \"probability\": 0.99951171875}, {\"start\": 90.48, \"end\": 91.58, \"word\": \" banging\", \"probability\": 0.99658203125}, {\"start\": 91.58, \"end\": 91.76, \"word\": \" the\", \"probability\": 0.9970703125}, {\"start\": 91.76, \"end\": 92.02, \"word\": \" table.\", \"probability\": 0.9990234375}, {\"start\": 92.1, \"end\": 92.56, \"word\": \" Analysts\", \"probability\": 0.9972330729166666}, {\"start\": 92.56, \"end\": 92.6, \"word\": \" are\", \"probability\": 0.99951171875}, {\"start\": 92.6, \"end\": 92.8, \"word\": \" banging\", \"probability\": 0.99951171875}, {\"start\": 92.8, \"end\": 92.98, \"word\": \" the\", \"probability\": 0.998046875}, {\"start\": 92.98, \"end\": 93.28, \"word\": \" table.\", \"probability\": 0.99951171875}, {\"start\": 93.46, \"end\": 93.96, \"word\": \" And\", \"probability\": 0.9013671875}, {\"start\": 93.96, \"end\": 94.24, \"word\": \" I\\'ll\", \"probability\": 0.996826171875}, {\"start\": 94.24, \"end\": 94.5, \"word\": \" tell\", \"probability\": 0.990234375}, {\"start\": 94.5, \"end\": 94.62, \"word\": \" you\", \"probability\": 0.9990234375}, {\"start\": 94.62, \"end\": 94.72, \"word\": \" a\", \"probability\": 0.9990234375}, {\"start\": 94.72, \"end\": 94.9, \"word\": \" couple\", \"probability\": 0.99951171875}], [{\"start\": 94.9, \"end\": 95.38, \"word\": \" anecdotes.\", \"probability\": 0.91650390625}, {\"start\": 95.4, \"end\": 95.9, \"word\": \" Internally,\", \"probability\": 0.99951171875}, {\"start\": 95.94, \"end\": 96.22, \"word\": \" employees\", \"probability\": 0.99951171875}, {\"start\": 96.22, \"end\": 96.54, \"word\": \" are\", \"probability\": 1.0}, {\"start\": 96.54, \"end\": 96.66, \"word\": \" now\", \"probability\": 0.99560546875}, {\"start\": 96.66, \"end\": 96.88, \"word\": \" banging\", \"probability\": 0.99951171875}, {\"start\": 96.88, \"end\": 97.06, \"word\": \" the\", \"probability\": 1.0}, {\"start\": 97.06, \"end\": 97.32, \"word\": \" table.\", \"probability\": 1.0}, {\"start\": 97.52, \"end\": 98.02, \"word\": \" A\", \"probability\": 0.9853515625}, {\"start\": 98.02, \"end\": 98.32, \"word\": \" story\", \"probability\": 1.0}, {\"start\": 98.32, \"end\": 98.54, \"word\": \" I\", \"probability\": 0.98779296875}, {\"start\": 98.54, \"end\": 99.16, \"word\": \" heard\", \"probability\": 0.98876953125}, {\"start\": 99.16, \"end\": 99.46, \"word\": \" this\", \"probability\": 0.99951171875}, {\"start\": 99.46, \"end\": 99.72, \"word\": \" week\", \"probability\": 0.99951171875}, {\"start\": 99.72, \"end\": 100.44, \"word\": \" was\", \"probability\": 0.98828125}, {\"start\": 100.44, \"end\": 100.54, \"word\": \" that\", \"probability\": 0.9990234375}], [{\"start\": 100.54, \"end\": 100.76, \"word\": \" someone\", \"probability\": 0.99853515625}, {\"start\": 100.76, \"end\": 100.96, \"word\": \" stood\", \"probability\": 1.0}, {\"start\": 100.96, \"end\": 101.22, \"word\": \" up\", \"probability\": 1.0}, {\"start\": 101.22, \"end\": 101.36, \"word\": \" in\", \"probability\": 0.99951171875}, {\"start\": 101.36, \"end\": 101.4, \"word\": \" a\", \"probability\": 1.0}, {\"start\": 101.4, \"end\": 101.66, \"word\": \" meeting\", \"probability\": 0.99951171875}, {\"start\": 101.66, \"end\": 102.86, \"word\": \" and\", \"probability\": 0.9951171875}, {\"start\": 102.86, \"end\": 103.12, \"word\": \" said\", \"probability\": 1.0}, {\"start\": 103.12, \"end\": 103.28, \"word\": \" a\", \"probability\": 0.8203125}, {\"start\": 103.28, \"end\": 103.48, \"word\": \" couple\", \"probability\": 0.99951171875}, {\"start\": 103.48, \"end\": 103.58, \"word\": \" of\", \"probability\": 0.99853515625}, {\"start\": 103.58, \"end\": 103.78, \"word\": \" weeks\", \"probability\": 0.99951171875}, {\"start\": 103.78, \"end\": 104.04, \"word\": \" ago,\", \"probability\": 0.99951171875}, {\"start\": 104.22, \"end\": 104.78, \"word\": \" if\", \"probability\": 0.97265625}, {\"start\": 104.78, \"end\": 105.04, \"word\": \" I\", \"probability\": 1.0}, {\"start\": 105.04, \"end\": 105.28, \"word\": \" had\", \"probability\": 1.0}, {\"start\": 105.28, \"end\": 105.54, \"word\": \" stood\", \"probability\": 1.0}, {\"start\": 105.54, \"end\": 105.74, \"word\": \" up\", \"probability\": 1.0}, {\"start\": 105.74, \"end\": 105.88, \"word\": \" in\", \"probability\": 1.0}, {\"start\": 105.88, \"end\": 106.04, \"word\": \" this\", \"probability\": 1.0}, {\"start\": 106.04, \"end\": 106.36, \"word\": \" meeting\", \"probability\": 0.99951171875}], [{\"start\": 106.36, \"end\": 107.04, \"word\": \" and\", \"probability\": 0.98828125}, {\"start\": 107.04, \"end\": 107.38, \"word\": \" said,\", \"probability\": 1.0}, {\"start\": 107.46, \"end\": 107.62, \"word\": \" we\", \"probability\": 0.97607421875}, {\"start\": 107.62, \"end\": 108.04, \"word\": \" can\\'t\", \"probability\": 1.0}, {\"start\": 108.04, \"end\": 108.3, \"word\": \" show\", \"probability\": 1.0}, {\"start\": 108.3, \"end\": 109.4, \"word\": \" black\", \"probability\": 0.37353515625}, {\"start\": 109.4, \"end\": 109.96, \"word\": \" people\", \"probability\": 1.0}, {\"start\": 109.96, \"end\": 110.74, \"word\": \" in\", \"probability\": 1.0}, {\"start\": 110.74, \"end\": 110.84, \"word\": \" the\", \"probability\": 1.0}, {\"start\": 110.84, \"end\": 111.12, \"word\": \" image\", \"probability\": 0.99755859375}, {\"start\": 111.12, \"end\": 111.52, \"word\": \" generation\", \"probability\": 0.99951171875}, {\"start\": 111.52, \"end\": 112.26, \"word\": \" at\", \"probability\": 0.9990234375}, {\"start\": 112.26, \"end\": 112.36, \"word\": \" the\", \"probability\": 1.0}, {\"start\": 112.36, \"end\": 112.6, \"word\": \" rate\", \"probability\": 0.9990234375}, {\"start\": 112.6, \"end\": 112.76, \"word\": \" that\", \"probability\": 0.99951171875}, {\"start\": 112.76, \"end\": 112.9, \"word\": \" we\\'re\", \"probability\": 0.9990234375}], [{\"start\": 112.9, \"end\": 113.06, \"word\": \" showing,\", \"probability\": 0.407958984375}, {\"start\": 113.26, \"end\": 113.38, \"word\": \" I\", \"probability\": 0.919921875}, {\"start\": 113.38, \"end\": 113.56, \"word\": \" would\", \"probability\": 0.99853515625}, {\"start\": 113.56, \"end\": 113.66, \"word\": \" have\", \"probability\": 0.90234375}, {\"start\": 113.66, \"end\": 113.82, \"word\": \" been\", \"probability\": 0.99951171875}, {\"start\": 113.82, \"end\": 114.1, \"word\": \" cast\", \"probability\": 0.98974609375}, {\"start\": 114.1, \"end\": 114.42, \"word\": \" a\", \"probability\": 0.95068359375}, {\"start\": 114.42, \"end\": 114.74, \"word\": \" racist.\", \"probability\": 0.99462890625}, {\"start\": 115.36, \"end\": 115.72, \"word\": \" And\", \"probability\": 0.78466796875}, {\"start\": 115.72, \"end\": 115.86, \"word\": \" I\", \"probability\": 0.99462890625}, {\"start\": 115.86, \"end\": 116.08, \"word\": \" didn\\'t\", \"probability\": 0.999267578125}, {\"start\": 116.08, \"end\": 116.2, \"word\": \" have\", \"probability\": 1.0}, {\"start\": 116.2, \"end\": 116.54, \"word\": \" permission\", \"probability\": 0.99951171875}, {\"start\": 116.54, \"end\": 116.88, \"word\": \" to\", \"probability\": 0.99951171875}, {\"start\": 116.88, \"end\": 117.12, \"word\": \" do\", \"probability\": 1.0}, {\"start\": 117.12, \"end\": 117.3, \"word\": \" that\", \"probability\": 1.0}, {\"start\": 117.3, \"end\": 117.58, \"word\": \" inside\", \"probability\": 0.99853515625}, {\"start\": 117.58, \"end\": 117.74, \"word\": \" of\", \"probability\": 0.94873046875}, {\"start\": 117.74, \"end\": 117.78, \"word\": \" the\", \"probability\": 0.9853515625}], [{\"start\": 117.78, \"end\": 118.12, \"word\": \" organization.\", \"probability\": 0.96826171875}, {\"start\": 118.56, \"end\": 118.92, \"word\": \" But\", \"probability\": 0.99072265625}, {\"start\": 118.92, \"end\": 119.26, \"word\": \" today,\", \"probability\": 0.99267578125}, {\"start\": 119.42, \"end\": 119.54, \"word\": \" and\", \"probability\": 0.970703125}, {\"start\": 119.54, \"end\": 119.86, \"word\": \" everyone\\'s\", \"probability\": 0.991943359375}, {\"start\": 119.86, \"end\": 119.94, \"word\": \" like,\", \"probability\": 0.99609375}, {\"start\": 120.0, \"end\": 120.08, \"word\": \" you\\'re\", \"probability\": 0.82861328125}, {\"start\": 120.08, \"end\": 120.26, \"word\": \" right,\", \"probability\": 0.99755859375}, {\"start\": 120.4, \"end\": 120.52, \"word\": \" you\", \"probability\": 0.98046875}, {\"start\": 120.52, \"end\": 120.68, \"word\": \" would\", \"probability\": 0.99658203125}, {\"start\": 120.68, \"end\": 120.86, \"word\": \" not\", \"probability\": 0.99755859375}, {\"start\": 120.86, \"end\": 120.96, \"word\": \" have\", \"probability\": 0.9990234375}, {\"start\": 120.96, \"end\": 121.04, \"word\": \" been\", \"probability\": 1.0}, {\"start\": 121.04, \"end\": 121.2, \"word\": \" able\", \"probability\": 1.0}, {\"start\": 121.2, \"end\": 121.34, \"word\": \" to\", \"probability\": 1.0}], [{\"start\": 121.34, \"end\": 121.52, \"word\": \" stand\", \"probability\": 0.9990234375}, {\"start\": 121.52, \"end\": 121.64, \"word\": \" up\", \"probability\": 0.9990234375}, {\"start\": 121.64, \"end\": 121.74, \"word\": \" in\", \"probability\": 0.919921875}, {\"start\": 121.74, \"end\": 121.78, \"word\": \" the\", \"probability\": 0.9990234375}, {\"start\": 121.78, \"end\": 122.12, \"word\": \" organization\", \"probability\": 0.99658203125}, {\"start\": 122.12, \"end\": 122.32, \"word\": \" and\", \"probability\": 0.89990234375}, {\"start\": 122.32, \"end\": 122.44, \"word\": \" say\", \"probability\": 0.9990234375}, {\"start\": 122.44, \"end\": 122.6, \"word\": \" that.\", \"probability\": 0.99951171875}, {\"start\": 122.94, \"end\": 123.3, \"word\": \" But\", \"probability\": 0.99267578125}, {\"start\": 123.3, \"end\": 123.58, \"word\": \" the\", \"probability\": 0.83251953125}, {\"start\": 123.58, \"end\": 124.18, \"word\": \" tenor\", \"probability\": 0.984375}, {\"start\": 124.18, \"end\": 124.32, \"word\": \" has\", \"probability\": 0.9990234375}, {\"start\": 124.32, \"end\": 124.7, \"word\": \" changed\", \"probability\": 0.99951171875}, {\"start\": 124.7, \"end\": 124.96, \"word\": \" inside\", \"probability\": 0.9990234375}, {\"start\": 124.96, \"end\": 125.18, \"word\": \" of\", \"probability\": 0.998046875}, {\"start\": 125.18, \"end\": 125.42, \"word\": \" Google\", \"probability\": 0.998046875}, {\"start\": 125.42, \"end\": 125.6, \"word\": \" with\", \"probability\": 0.79541015625}, {\"start\": 125.6, \"end\": 125.74, \"word\": \" a\", \"probability\": 0.9990234375}, {\"start\": 125.74, \"end\": 125.9, \"word\": \" lot\", \"probability\": 1.0}], [{\"start\": 125.9, \"end\": 125.96, \"word\": \" of\", \"probability\": 0.99951171875}, {\"start\": 125.96, \"end\": 126.04, \"word\": \" the\", \"probability\": 0.9970703125}, {\"start\": 126.04, \"end\": 126.38, \"word\": \" employees\", \"probability\": 0.99951171875}, {\"start\": 126.38, \"end\": 126.54, \"word\": \" that\", \"probability\": 0.99169921875}, {\"start\": 126.54, \"end\": 126.64, \"word\": \" I\\'ve\", \"probability\": 0.99853515625}, {\"start\": 126.64, \"end\": 126.84, \"word\": \" spoken\", \"probability\": 0.99951171875}, {\"start\": 126.84, \"end\": 127.1, \"word\": \" with,\", \"probability\": 0.99853515625}, {\"start\": 127.14, \"end\": 127.24, \"word\": \" who\", \"probability\": 0.99658203125}, {\"start\": 127.24, \"end\": 127.26, \"word\": \" are\", \"probability\": 0.9990234375}, {\"start\": 127.26, \"end\": 127.38, \"word\": \" now\", \"probability\": 0.99951171875}, {\"start\": 127.38, \"end\": 127.66, \"word\": \" saying,\", \"probability\": 0.9990234375}, {\"start\": 127.74, \"end\": 128.14, \"word\": \" I\", \"probability\": 0.90771484375}, {\"start\": 128.14, \"end\": 128.5, \"word\": \" can\", \"probability\": 0.998046875}, {\"start\": 128.5, \"end\": 129.08, \"word\": \" stand\", \"probability\": 0.98095703125}, {\"start\": 129.08, \"end\": 129.48, \"word\": \" up.\", \"probability\": 0.998046875}, {\"start\": 129.72, \"end\": 130.08, \"word\": \" And\", \"probability\": 0.9990234375}, {\"start\": 130.08, \"end\": 130.18, \"word\": \" I\", \"probability\": 0.99951171875}, {\"start\": 130.18, \"end\": 130.36, \"word\": \" can\", \"probability\": 1.0}, {\"start\": 130.36, \"end\": 130.72, \"word\": \" say\", \"probability\": 0.99365234375}, {\"start\": 130.72, \"end\": 131.04, \"word\": \" that\", \"probability\": 0.99853515625}], [{\"start\": 131.04, \"end\": 131.2, \"word\": \" this\", \"probability\": 0.99951171875}, {\"start\": 131.2, \"end\": 131.5, \"word\": \" group\", \"probability\": 0.99951171875}, {\"start\": 131.5, \"end\": 131.84, \"word\": \" called\", \"probability\": 0.99755859375}, {\"start\": 131.84, \"end\": 132.54, \"word\": \" Responsible\", \"probability\": 0.656982421875}, {\"start\": 132.54, \"end\": 132.76, \"word\": \" AI\", \"probability\": 0.9580078125}, {\"start\": 132.76, \"end\": 133.62, \"word\": \" has\", \"probability\": 0.9150390625}, {\"start\": 133.62, \"end\": 133.82, \"word\": \" too\", \"probability\": 1.0}, {\"start\": 133.82, \"end\": 134.04, \"word\": \" much\", \"probability\": 1.0}, {\"start\": 134.04, \"end\": 134.42, \"word\": \" power.\", \"probability\": 1.0}, {\"start\": 134.66, \"end\": 135.02, \"word\": \" And\", \"probability\": 0.9990234375}, {\"start\": 135.02, \"end\": 135.2, \"word\": \" it\\'s\", \"probability\": 1.0}, {\"start\": 135.2, \"end\": 135.24, \"word\": \" a\", \"probability\": 0.9990234375}, {\"start\": 135.24, \"end\": 135.54, \"word\": \" one\", \"probability\": 0.9990234375}, {\"start\": 135.54, \"end\": 135.98, \"word\": \"-sided,\", \"probability\": 0.682861328125}, {\"start\": 136.04, \"end\": 136.68, \"word\": \" asynchronous\", \"probability\": 0.9990234375}, {\"start\": 136.68, \"end\": 137.28, \"word\": \" problem\", \"probability\": 0.99951171875}], [{\"start\": 137.28, \"end\": 137.46, \"word\": \" where\", \"probability\": 0.87939453125}, {\"start\": 137.46, \"end\": 137.58, \"word\": \" they\", \"probability\": 1.0}, {\"start\": 137.58, \"end\": 137.68, \"word\": \" get\", \"probability\": 0.99951171875}, {\"start\": 137.68, \"end\": 137.82, \"word\": \" to\", \"probability\": 1.0}, {\"start\": 137.82, \"end\": 137.98, \"word\": \" come\", \"probability\": 1.0}, {\"start\": 137.98, \"end\": 138.2, \"word\": \" in\", \"probability\": 1.0}, {\"start\": 138.2, \"end\": 138.74, \"word\": \" and\", \"probability\": 0.98046875}, {\"start\": 138.74, \"end\": 138.92, \"word\": \" say,\", \"probability\": 1.0}, {\"start\": 138.96, \"end\": 139.02, \"word\": \" we\", \"probability\": 0.9638671875}, {\"start\": 139.02, \"end\": 139.2, \"word\": \" need\", \"probability\": 1.0}, {\"start\": 139.2, \"end\": 139.34, \"word\": \" to\", \"probability\": 1.0}, {\"start\": 139.34, \"end\": 139.56, \"word\": \" change\", \"probability\": 1.0}, {\"start\": 139.56, \"end\": 139.78, \"word\": \" this.\", \"probability\": 0.99951171875}, {\"start\": 139.88, \"end\": 139.94, \"word\": \" And\", \"probability\": 0.9990234375}, {\"start\": 139.94, \"end\": 140.06, \"word\": \" if\", \"probability\": 0.99951171875}, {\"start\": 140.06, \"end\": 140.2, \"word\": \" you\", \"probability\": 1.0}, {\"start\": 140.2, \"end\": 140.48, \"word\": \" step\", \"probability\": 1.0}, {\"start\": 140.48, \"end\": 140.72, \"word\": \" up\", \"probability\": 1.0}, {\"start\": 140.72, \"end\": 140.84, \"word\": \" and\", \"probability\": 0.99951171875}, {\"start\": 140.84, \"end\": 141.14, \"word\": \" disagree\", \"probability\": 1.0}], [{\"start\": 141.14, \"end\": 141.44, \"word\": \" with\", \"probability\": 1.0}, {\"start\": 141.44, \"end\": 141.6, \"word\": \" them,\", \"probability\": 1.0}, {\"start\": 141.64, \"end\": 141.72, \"word\": \" you\", \"probability\": 1.0}, {\"start\": 141.72, \"end\": 141.82, \"word\": \" are\", \"probability\": 0.99560546875}, {\"start\": 141.82, \"end\": 142.02, \"word\": \" deemed\", \"probability\": 0.99951171875}, {\"start\": 142.02, \"end\": 142.16, \"word\": \" a\", \"probability\": 0.9990234375}, {\"start\": 142.16, \"end\": 142.42, \"word\": \" racist.\", \"probability\": 0.99951171875}], [{\"start\": 142.9, \"end\": 143.02, \"word\": \" You\", \"probability\": 0.24267578125}, {\"start\": 143.02, \"end\": 143.14, \"word\": \" are\", \"probability\": 0.27099609375}, {\"start\": 143.14, \"end\": 143.4, \"word\": \" deemed\", \"probability\": 0.99853515625}, {\"start\": 143.4, \"end\": 144.8, \"word\": \" culturally\", \"probability\": 0.2216796875}, {\"start\": 144.8, \"end\": 146.2, \"word\": \" inappropriate,\", \"probability\": 0.99462890625}, {\"start\": 146.54, \"end\": 146.96, \"word\": \" which\", \"probability\": 0.634765625}, {\"start\": 146.96, \"end\": 147.16, \"word\": \" is\", \"probability\": 0.9306640625}, {\"start\": 147.16, \"end\": 147.46, \"word\": \" easier\", \"probability\": 0.92919921875}, {\"start\": 147.46, \"end\": 147.64, \"word\": \" to\", \"probability\": 0.97998046875}, {\"start\": 147.64, \"end\": 147.82, \"word\": \" keep\", \"probability\": 0.99560546875}, {\"start\": 147.82, \"end\": 148.0, \"word\": \" your\", \"probability\": 0.99609375}, {\"start\": 148.0, \"end\": 148.14, \"word\": \" head\", \"probability\": 0.99755859375}, {\"start\": 148.14, \"end\": 148.54, \"word\": \" down.\", \"probability\": 0.99853515625}], [{\"start\": 148.6, \"end\": 148.96, \"word\": \" It\\'s\", \"probability\": 0.975830078125}, {\"start\": 148.96, \"end\": 149.18, \"word\": \" easier\", \"probability\": 0.98828125}, {\"start\": 149.18, \"end\": 149.34, \"word\": \" to\", \"probability\": 0.88818359375}, {\"start\": 149.34, \"end\": 149.44, \"word\": \" keep\", \"probability\": 0.478271484375}, {\"start\": 149.44, \"end\": 149.68, \"word\": \" your\", \"probability\": 0.216796875}, {\"start\": 149.68, \"end\": 149.8, \"word\": \" head\", \"probability\": 0.92919921875}, {\"start\": 149.8, \"end\": 149.8, \"word\": \" down.\", \"probability\": 0.82373046875}], [{\"start\": 149.8, \"end\": 149.8, \"word\": \" In\", \"probability\": 0.396240234375}, {\"start\": 149.8, \"end\": 149.8, \"word\": \" this\", \"probability\": 0.978515625}, {\"start\": 149.8, \"end\": 149.8, \"word\": \" kind\", \"probability\": 0.9892578125}, {\"start\": 149.8, \"end\": 149.8, \"word\": \" of\", \"probability\": 0.99853515625}, {\"start\": 149.8, \"end\": 149.9, \"word\": \" a\", \"probability\": 0.92822265625}, {\"start\": 149.9, \"end\": 150.32, \"word\": \" circumstance\", \"probability\": 0.974609375}, {\"start\": 150.32, \"end\": 150.74, \"word\": \" and\", \"probability\": 0.515625}, {\"start\": 150.74, \"end\": 151.02, \"word\": \" keep\", \"probability\": 0.9072265625}, {\"start\": 151.02, \"end\": 151.6, \"word\": \" collecting\", \"probability\": 0.99609375}, {\"start\": 151.6, \"end\": 151.9, \"word\": \" your\", \"probability\": 0.96484375}, {\"start\": 151.9, \"end\": 152.44, \"word\": \" RSEs.\", \"probability\": 0.6409505208333334}], [{\"start\": 152.44, \"end\": 152.46, \"word\": \" And\", \"probability\": 0.457763671875}, {\"start\": 152.46, \"end\": 152.46, \"word\": \" all\", \"probability\": 0.966796875}, {\"start\": 152.46, \"end\": 152.46, \"word\": \" of\", \"probability\": 0.966796875}, {\"start\": 152.46, \"end\": 152.48, \"word\": \" a\", \"probability\": 0.9609375}, {\"start\": 152.48, \"end\": 152.58, \"word\": \" sudden,\", \"probability\": 0.99853515625}, {\"start\": 152.6, \"end\": 152.74, \"word\": \" you\", \"probability\": 0.99365234375}, {\"start\": 152.74, \"end\": 152.88, \"word\": \" wake\", \"probability\": 0.99951171875}, {\"start\": 152.88, \"end\": 153.04, \"word\": \" up\", \"probability\": 0.99951171875}, {\"start\": 153.04, \"end\": 153.16, \"word\": \" one\", \"probability\": 0.998046875}, {\"start\": 153.16, \"end\": 153.36, \"word\": \" day\", \"probability\": 0.99951171875}, {\"start\": 153.36, \"end\": 153.46, \"word\": \" and\", \"probability\": 0.92529296875}, {\"start\": 153.46, \"end\": 153.52, \"word\": \" you\", \"probability\": 0.99658203125}, {\"start\": 153.52, \"end\": 153.66, \"word\": \" see\", \"probability\": 0.99951171875}, {\"start\": 153.66, \"end\": 153.8, \"word\": \" the\", \"probability\": 0.99951171875}, {\"start\": 153.8, \"end\": 154.02, \"word\": \" blunder\", \"probability\": 0.998046875}, {\"start\": 154.02, \"end\": 154.18, \"word\": \" that\", \"probability\": 0.99755859375}, {\"start\": 154.18, \"end\": 154.4, \"word\": \" happened\", \"probability\": 0.99951171875}, {\"start\": 154.4, \"end\": 154.58, \"word\": \" last\", \"probability\": 0.9990234375}, {\"start\": 154.58, \"end\": 154.9, \"word\": \" week.\", \"probability\": 0.99951171875}], [{\"start\": 154.94, \"end\": 155.3, \"word\": \" Yeah.\", \"probability\": 0.415283203125}], [{\"start\": 155.36, \"end\": 155.44, \"word\": \" And\", \"probability\": 0.95947265625}, {\"start\": 155.44, \"end\": 155.56, \"word\": \" so\", \"probability\": 0.998046875}, {\"start\": 155.56, \"end\": 155.8, \"word\": \" now,\", \"probability\": 0.98828125}, {\"start\": 155.88, \"end\": 156.36, \"word\": \" internally,\", \"probability\": 0.99853515625}, {\"start\": 156.54, \"end\": 156.78, \"word\": \" people\", \"probability\": 0.99951171875}, {\"start\": 156.78, \"end\": 156.96, \"word\": \" are\", \"probability\": 1.0}, {\"start\": 156.96, \"end\": 157.12, \"word\": \" waking\", \"probability\": 0.99951171875}, {\"start\": 157.12, \"end\": 157.38, \"word\": \" up\", \"probability\": 1.0}, {\"start\": 157.38, \"end\": 157.48, \"word\": \" and\", \"probability\": 0.99951171875}, {\"start\": 157.48, \"end\": 157.64, \"word\": \" saying,\", \"probability\": 0.99951171875}, {\"start\": 157.7, \"end\": 157.76, \"word\": \" we\", \"probability\": 0.83935546875}, {\"start\": 157.76, \"end\": 157.86, \"word\": \" need\", \"probability\": 1.0}, {\"start\": 157.86, \"end\": 157.98, \"word\": \" to\", \"probability\": 1.0}, {\"start\": 157.98, \"end\": 158.2, \"word\": \" change\", \"probability\": 1.0}, {\"start\": 158.2, \"end\": 158.44, \"word\": \" this.\", \"probability\": 0.99951171875}, {\"start\": 158.52, \"end\": 158.58, \"word\": \" And\", \"probability\": 0.9951171875}, {\"start\": 158.58, \"end\": 158.66, \"word\": \" I\", \"probability\": 0.99951171875}, {\"start\": 158.66, \"end\": 158.84, \"word\": \" heard\", \"probability\": 0.998046875}, {\"start\": 158.84, \"end\": 158.96, \"word\": \" that\", \"probability\": 0.99951171875}], [{\"start\": 158.96, \"end\": 159.18, \"word\": \" that\\'s\", \"probability\": 0.99560546875}, {\"start\": 159.18, \"end\": 159.28, \"word\": \" made\", \"probability\": 0.99951171875}, {\"start\": 159.28, \"end\": 159.44, \"word\": \" its\", \"probability\": 0.994140625}, {\"start\": 159.44, \"end\": 159.54, \"word\": \" way\", \"probability\": 1.0}, {\"start\": 159.54, \"end\": 159.7, \"word\": \" up\", \"probability\": 0.99853515625}, {\"start\": 159.7, \"end\": 159.8, \"word\": \" to\", \"probability\": 0.99951171875}, {\"start\": 159.8, \"end\": 159.88, \"word\": \" the\", \"probability\": 0.99951171875}, {\"start\": 159.88, \"end\": 160.02, \"word\": \" higher\", \"probability\": 0.99951171875}, {\"start\": 160.02, \"end\": 160.3, \"word\": \" ranks\", \"probability\": 0.9990234375}, {\"start\": 160.3, \"end\": 160.42, \"word\": \" at\", \"probability\": 0.9501953125}, {\"start\": 160.42, \"end\": 160.68, \"word\": \" Google.\", \"probability\": 0.9990234375}, {\"start\": 160.86, \"end\": 161.22, \"word\": \" And\", \"probability\": 0.92529296875}, {\"start\": 161.22, \"end\": 161.38, \"word\": \" they\\'re\", \"probability\": 0.994873046875}, {\"start\": 161.38, \"end\": 161.56, \"word\": \" very\", \"probability\": 0.9990234375}, {\"start\": 161.56, \"end\": 162.26, \"word\": \" actively...\", \"probability\": 0.518890380859375}, {\"start\": 162.26, \"end\": 162.98, \"word\": \" So\", \"probability\": 0.7626953125}, {\"start\": 162.98, \"end\": 163.52, \"word\": \" there\", \"probability\": 0.8291015625}], [{\"start\": 163.52, \"end\": 163.7, \"word\": \" may\", \"probability\": 0.984375}, {\"start\": 163.7, \"end\": 163.86, \"word\": \" be\", \"probability\": 0.9990234375}, {\"start\": 163.86, \"end\": 163.98, \"word\": \" a\", \"probability\": 0.99951171875}, {\"start\": 163.98, \"end\": 164.2, \"word\": \" moment\", \"probability\": 0.99951171875}, {\"start\": 164.2, \"end\": 164.44, \"word\": \" here\", \"probability\": 0.9990234375}, {\"start\": 164.44, \"end\": 165.24, \"word\": \" where\", \"probability\": 0.9638671875}, {\"start\": 165.24, \"end\": 165.5, \"word\": \" Google\", \"probability\": 0.998046875}, {\"start\": 165.5, \"end\": 165.8, \"word\": \" stock,\", \"probability\": 0.892578125}, {\"start\": 166.0, \"end\": 166.2, \"word\": \" which\", \"probability\": 0.99951171875}, {\"start\": 166.2, \"end\": 166.58, \"word\": \" currently\", \"probability\": 0.99462890625}, {\"start\": 166.58, \"end\": 167.64, \"word\": \" is\", \"probability\": 0.96337890625}, {\"start\": 167.64, \"end\": 167.96, \"word\": \" trading\", \"probability\": 0.9990234375}, {\"start\": 167.96, \"end\": 168.52, \"word\": \" at\", \"probability\": 0.98046875}, {\"start\": 168.52, \"end\": 168.82, \"word\": \" just\", \"probability\": 0.99951171875}, {\"start\": 168.82, \"end\": 169.42, \"word\": \" 17\", \"probability\": 0.98193359375}, {\"start\": 169.42, \"end\": 169.94, \"word\": \" times\", \"probability\": 0.890625}, {\"start\": 169.94, \"end\": 170.44, \"word\": \" 2025\", \"probability\": 0.84228515625}], [{\"start\": 171.0, \"end\": 171.36, \"word\": \" consensus\", \"probability\": 0.94384765625}, {\"start\": 171.36, \"end\": 171.72, \"word\": \" earnings,\", \"probability\": 0.99658203125}, {\"start\": 171.9, \"end\": 172.42, \"word\": \" which\", \"probability\": 0.9990234375}, {\"start\": 172.42, \"end\": 172.54, \"word\": \" is\", \"probability\": 0.9921875}, {\"start\": 172.54, \"end\": 172.78, \"word\": \" cheap.\", \"probability\": 0.388671875}], [{\"start\": 172.9, \"end\": 172.98, \"word\": \" It\\'s\", \"probability\": 0.4506664276123047}, {\"start\": 172.98, \"end\": 172.98, \"word\": \" cheaper\", \"probability\": 0.137939453125}, {\"start\": 172.98, \"end\": 173.02, \"word\": \" than\", \"probability\": 0.99609375}, {\"start\": 173.02, \"end\": 173.18, \"word\": \" all\", \"probability\": 0.99853515625}, {\"start\": 173.18, \"end\": 173.32, \"word\": \" the\", \"probability\": 0.99169921875}, {\"start\": 173.32, \"end\": 173.48, \"word\": \" other\", \"probability\": 0.99853515625}, {\"start\": 173.48, \"end\": 173.68, \"word\": \" big\", \"probability\": 0.99169921875}, {\"start\": 173.68, \"end\": 173.86, \"word\": \" tech\", \"probability\": 0.99658203125}, {\"start\": 173.86, \"end\": 174.24, \"word\": \" companies\", \"probability\": 0.9990234375}, {\"start\": 174.24, \"end\": 174.46, \"word\": \" by\", \"probability\": 0.9521484375}, {\"start\": 174.46, \"end\": 174.8, \"word\": \" far.\", \"probability\": 0.99951171875}, {\"start\": 174.96, \"end\": 175.32, \"word\": \" And\", \"probability\": 0.96142578125}, {\"start\": 175.32, \"end\": 175.44, \"word\": \" it\\'s\", \"probability\": 0.983642578125}, {\"start\": 175.44, \"end\": 175.62, \"word\": \" still\", \"probability\": 0.99951171875}, {\"start\": 175.62, \"end\": 176.06, \"word\": \" growing.\", \"probability\": 0.99951171875}, {\"start\": 176.16, \"end\": 176.46, \"word\": \" Core\", \"probability\": 0.98388671875}, {\"start\": 176.46, \"end\": 176.82, \"word\": \" business\", \"probability\": 0.9306640625}], [{\"start\": 176.82, \"end\": 177.04, \"word\": \" is\", \"probability\": 0.99609375}, {\"start\": 177.04, \"end\": 177.32, \"word\": \" growing.\", \"probability\": 0.9990234375}, {\"start\": 177.44, \"end\": 177.66, \"word\": \" Cloud\", \"probability\": 0.97998046875}, {\"start\": 177.66, \"end\": 177.82, \"word\": \" is\", \"probability\": 0.9951171875}, {\"start\": 177.82, \"end\": 177.96, \"word\": \" growing\", \"probability\": 0.99169921875}, {\"start\": 177.96, \"end\": 178.52, \"word\": \" 20%.\", \"probability\": 0.816162109375}, {\"start\": 178.52, \"end\": 179.1, \"word\": \" Search\", \"probability\": 0.99365234375}, {\"start\": 179.1, \"end\": 179.26, \"word\": \" is\", \"probability\": 0.99658203125}, {\"start\": 179.26, \"end\": 179.42, \"word\": \" growing\", \"probability\": 0.99658203125}, {\"start\": 179.42, \"end\": 180.18, \"word\": \" 15%.\", \"probability\": 0.918701171875}, {\"start\": 180.18, \"end\": 180.7, \"word\": \" All\", \"probability\": 0.99267578125}, {\"start\": 180.7, \"end\": 180.86, \"word\": \" these\", \"probability\": 0.984375}, {\"start\": 180.86, \"end\": 181.04, \"word\": \" other\", \"probability\": 0.9990234375}, {\"start\": 181.04, \"end\": 181.38, \"word\": \" businesses,\", \"probability\": 0.998046875}, {\"start\": 181.54, \"end\": 182.18, \"word\": \" YouTube\\'s\", \"probability\": 0.89501953125}], [{\"start\": 182.18, \"end\": 182.34, \"word\": \" growing\", \"probability\": 0.9951171875}, {\"start\": 182.34, \"end\": 182.66, \"word\": \" 20\", \"probability\": 0.998046875}, {\"start\": 182.66, \"end\": 182.92, \"word\": \"%\", \"probability\": 0.99560546875}, {\"start\": 182.92, \"end\": 183.08, \"word\": \" a\", \"probability\": 0.99365234375}, {\"start\": 183.08, \"end\": 183.22, \"word\": \" year.\", \"probability\": 1.0}, {\"start\": 183.34, \"end\": 183.68, \"word\": \" It\\'s\", \"probability\": 0.9970703125}, {\"start\": 183.68, \"end\": 183.76, \"word\": \" a\", \"probability\": 0.9990234375}, {\"start\": 183.76, \"end\": 184.14, \"word\": \" growth\", \"probability\": 0.99951171875}, {\"start\": 184.14, \"end\": 184.5, \"word\": \" business\", \"probability\": 0.99853515625}, {\"start\": 184.5, \"end\": 185.5, \"word\": \" that\\'s\", \"probability\": 0.8671875}, {\"start\": 185.5, \"end\": 185.68, \"word\": \" very\", \"probability\": 0.99951171875}, {\"start\": 185.68, \"end\": 186.24, \"word\": \" profitable.\", \"probability\": 0.99951171875}, {\"start\": 187.06, \"end\": 187.42, \"word\": \" And\", \"probability\": 0.9755859375}, {\"start\": 187.42, \"end\": 188.22, \"word\": \" it\\'s\", \"probability\": 0.983642578125}, {\"start\": 188.22, \"end\": 188.42, \"word\": \" trading\", \"probability\": 0.927734375}, {\"start\": 188.42, \"end\": 188.62, \"word\": \" at\", \"probability\": 0.99609375}], [{\"start\": 188.62, \"end\": 188.66, \"word\": \" a\", \"probability\": 0.998046875}, {\"start\": 188.66, \"end\": 188.76, \"word\": \" very\", \"probability\": 0.99951171875}, {\"start\": 188.76, \"end\": 188.94, \"word\": \" cheap\", \"probability\": 0.99853515625}, {\"start\": 188.94, \"end\": 189.22, \"word\": \" discount.\", \"probability\": 0.99072265625}], [{\"start\": 189.36, \"end\": 189.4, \"word\": \" So\", \"probability\": 0.82568359375}, {\"start\": 189.4, \"end\": 189.54, \"word\": \" the\", \"probability\": 0.309814453125}, {\"start\": 189.54, \"end\": 190.54, \"word\": \" bull\", \"probability\": 0.8955078125}, {\"start\": 190.54, \"end\": 190.76, \"word\": \" case\", \"probability\": 0.98681640625}, {\"start\": 190.76, \"end\": 191.12, \"word\": \" is,\", \"probability\": 0.9970703125}, {\"start\": 191.24, \"end\": 191.86, \"word\": \" now\\'s\", \"probability\": 0.901123046875}, {\"start\": 191.86, \"end\": 191.9, \"word\": \" a\", \"probability\": 0.9951171875}, {\"start\": 191.9, \"end\": 192.08, \"word\": \" great\", \"probability\": 0.99951171875}, {\"start\": 192.08, \"end\": 192.26, \"word\": \" time\", \"probability\": 0.99951171875}, {\"start\": 192.26, \"end\": 192.4, \"word\": \" to\", \"probability\": 0.99951171875}, {\"start\": 192.4, \"end\": 192.56, \"word\": \" buy\", \"probability\": 0.99951171875}, {\"start\": 192.56, \"end\": 192.76, \"word\": \" because\", \"probability\": 0.41259765625}, {\"start\": 192.76, \"end\": 192.94, \"word\": \" it\\'s\", \"probability\": 1.0}, {\"start\": 192.94, \"end\": 193.04, \"word\": \" so\", \"probability\": 0.99951171875}, {\"start\": 193.04, \"end\": 193.42, \"word\": \" cheap.\", \"probability\": 1.0}, {\"start\": 193.62, \"end\": 193.98, \"word\": \" And\", \"probability\": 0.99658203125}, {\"start\": 193.98, \"end\": 194.1, \"word\": \" there\", \"probability\": 0.99951171875}, {\"start\": 194.1, \"end\": 194.22, \"word\": \" could\", \"probability\": 1.0}], [{\"start\": 194.22, \"end\": 194.38, \"word\": \" be\", \"probability\": 0.99951171875}, {\"start\": 194.38, \"end\": 194.48, \"word\": \" this\", \"probability\": 0.99951171875}, {\"start\": 194.48, \"end\": 194.74, \"word\": \" moment\", \"probability\": 1.0}, {\"start\": 194.74, \"end\": 195.1, \"word\": \" where\", \"probability\": 0.99755859375}, {\"start\": 195.1, \"end\": 195.64, \"word\": \" you\", \"probability\": 0.82763671875}, {\"start\": 195.64, \"end\": 195.9, \"word\": \" see\", \"probability\": 0.98828125}, {\"start\": 195.9, \"end\": 196.14, \"word\": \" some\", \"probability\": 0.99951171875}, {\"start\": 196.14, \"end\": 196.2, \"word\": \" of\", \"probability\": 0.99951171875}, {\"start\": 196.2, \"end\": 196.24, \"word\": \" the\", \"probability\": 0.99951171875}, {\"start\": 196.24, \"end\": 196.5, \"word\": \" changes\", \"probability\": 0.99951171875}, {\"start\": 196.5, \"end\": 196.74, \"word\": \" that\", \"probability\": 0.99951171875}, {\"start\": 196.74, \"end\": 196.82, \"word\": \" are\", \"probability\": 1.0}, {\"start\": 196.82, \"end\": 197.0, \"word\": \" needed\", \"probability\": 0.99951171875}, {\"start\": 197.0, \"end\": 197.38, \"word\": \" internally\", \"probability\": 0.99658203125}, {\"start\": 197.38, \"end\": 198.2, \"word\": \" to\", \"probability\": 0.91845703125}, {\"start\": 198.2, \"end\": 198.46, \"word\": \" get\", \"probability\": 1.0}, {\"start\": 198.46, \"end\": 198.64, \"word\": \" the\", \"probability\": 0.9990234375}, {\"start\": 198.64, \"end\": 198.9, \"word\": \" AI\", \"probability\": 0.9951171875}, {\"start\": 198.9, \"end\": 199.34, \"word\": \" products\", \"probability\": 0.99609375}], [{\"start\": 199.34, \"end\": 199.54, \"word\": \" to\", \"probability\": 0.99267578125}, {\"start\": 199.54, \"end\": 199.66, \"word\": \" where\", \"probability\": 0.9990234375}, {\"start\": 199.66, \"end\": 199.78, \"word\": \" they\", \"probability\": 0.9990234375}, {\"start\": 199.78, \"end\": 199.9, \"word\": \" need\", \"probability\": 0.99755859375}, {\"start\": 199.9, \"end\": 199.98, \"word\": \" to\", \"probability\": 0.96728515625}, {\"start\": 199.98, \"end\": 200.02, \"word\": \" be.\", \"probability\": 0.83544921875}]], 0, \"2024-05-08T12:07:49.114422Z\", \"2024-05-08T12:08:07.425948Z\"]'"
      ]
     },
     "execution_count": 24,
     "metadata": {},
     "output_type": "execute_result"
    }
   ],
   "source": [
    "await redis_client.rpop('Segments')"
   ]
  },
  {
   "cell_type": "code",
   "execution_count": null,
   "metadata": {},
   "outputs": [],
   "source": []
  },
  {
   "cell_type": "code",
   "execution_count": null,
   "metadata": {},
   "outputs": [],
   "source": [
    "\n",
    "async def process_connection(connection_id, redis_client, step=60,max_length=240):\n",
    "    running_tasks.add(connection_id)\n",
    "    \n",
    "    path = f'/audio/{connection_id}.webm'\n",
    "\n",
    "    start = await redis_client.rpop(f'Start:{connection_id}')\n",
    "    start = float(start) if start else 0\n",
    "    log('started at ',start)\n",
    "\n",
    "    connection_meta = await writestream2file(connection_id)\n",
    "    if connection_meta:\n",
    "        meeting_id, start_timestamp,finish_timestamp, client_id = connection_meta  \n",
    "\n",
    "    \n",
    "    audio_slicer = await AudioSlicer.from_ffmpeg_slice(path,start,start+max_length)\n",
    "    slice_duration = audio_slicer.audio.duration_seconds\n",
    "    log('slice duaration ', slice_duration)\n",
    "\n",
    "    if slice_duration > step:\n",
    "\n",
    "        audio_data = await audio_slicer.export_data()\n",
    "        audio_name = str(uuid.uuid4())\n",
    "        audio = Audio(chunk_name=audio_name, redis_client=redis_client, data=audio_data)\n",
    "        await audio.save()\n",
    "\n",
    "\n",
    "        while True:\n",
    "            try:\n",
    "                log('gathering results from diarize and transcribe') \n",
    "                diarization_result, transcription_result = await asyncio.gather(\n",
    "                    asyncio.wait_for(diarize   (audio_name, redis_client,client_id), timeout=60),\n",
    "                    asyncio.wait_for(transcribe(audio_name, redis_client,client_id), timeout=60) \n",
    "                )\n",
    "                \n",
    "                await audio.delete()\n",
    "            except asyncio.TimeoutError:\n",
    "                log(\"A task has timed out\")\n",
    "            except Exception as e:\n",
    "                log(e)\n",
    "            else:\n",
    "                log('processing finished',connection_id)\n",
    "                \n",
    "                await redis_client.lpush(f'Segments', json.dumps((meeting_id,diarization_result, transcription_result,start, start_timestamp,finish_timestamp,)))\n",
    "                log('finished segment',connection_id)\n",
    "                \n",
    "                start_ = await get_next_chunk_start(diarization_result, slice_duration,start)\n",
    "                start = start_ if start_ else start+slice_duration\n",
    "                log('start')\n",
    "                await redis_client.lpush(f'Start:{connection_id}', start)\n",
    "\n",
    "                break\n",
    "    else:\n",
    "        await redis_client.lpush(f'Start:{connection_id}', start)\n",
    "\n",
    "\n",
    "async def task_completed(connection_id,redis_client):\n",
    "    if connection_id in running_tasks: \n",
    "        running_tasks.remove(connection_id)\n",
    "    log(f\"Task for {connection_id} completed\")\n",
    "\n",
    "\n",
    "async def check_and_process_connections():\n",
    "    redis_client = await get_redis(host='redis',port=6379)\n",
    "\n",
    "    while True:\n",
    "        connections = await stream.get_connections(SERVICE_TOKEN,STREAM_API_PORT)\n",
    "        connection_ids = [c[0] for c in connections]\n",
    "\n",
    "        for connection_id in connection_ids:\n",
    "            if connection_id not in running_tasks:\n",
    "                log(connection_id)\n",
    "                try:\n",
    "                    running_tasks.add(connection_id)\n",
    "                    log('running_tasks', running_tasks)\n",
    "                    task = asyncio.create_task(process_connection(connection_id, redis_client))\n",
    "                    task.add_done_callback(lambda t, cid=connection_id: asyncio.create_task(task_completed(cid, redis_client)))\n",
    "                except Exception as e:\n",
    "                    log(f\"Error processing connection {connection_id}: {e}\")\n",
    "                    running_tasks.remove(connection_id)\n",
    "\n",
    "async def main():\n",
    "    \n",
    "\n",
    "    await check_and_process_connections()\n",
    "\n",
    "if __name__ == '__main__':\n",
    "    asyncio.run(main())\n"
   ]
  }
 ],
 "metadata": {
  "language_info": {
   "name": "python"
  }
 },
 "nbformat": 4,
 "nbformat_minor": 2
}
