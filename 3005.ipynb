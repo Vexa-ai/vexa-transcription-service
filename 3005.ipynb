{
 "cells": [
  {
   "cell_type": "code",
   "execution_count": 1,
   "metadata": {},
   "outputs": [
    {
     "name": "stdout",
     "output_type": "stream",
     "text": [
      "check_and_process_connections_interval_sec: 5.0\n"
     ]
    }
   ],
   "source": [
    "from app.database_redis import keys\n",
    "from app.database_redis.connection import get_redis_client\n",
    "from app.services.audio.audio import AudioSlicer\n",
    "from app.services.audio.redis import Diarisation, Diarizer, Meeting, best_covering_connection\n",
    "from app.settings import settings\n",
    "from datetime import datetime,timezone"
   ]
  },
  {
   "cell_type": "code",
   "execution_count": 2,
   "metadata": {},
   "outputs": [],
   "source": [
    "from app.database_redis.connection import get_redis_client"
   ]
  },
  {
   "cell_type": "code",
   "execution_count": 3,
   "metadata": {},
   "outputs": [],
   "source": [
    "from app.services.audio.redis import Diarisation, Diarizer, Meeting, best_covering_connection"
   ]
  },
  {
   "cell_type": "code",
   "execution_count": 36,
   "metadata": {},
   "outputs": [],
   "source": [
    "meeting_id = 'qyo-vkuc-ubb'"
   ]
  },
  {
   "cell_type": "code",
   "execution_count": 37,
   "metadata": {},
   "outputs": [],
   "source": [
    "redis_client = await get_redis_client(settings.redis_host, settings.redis_port, settings.redis_password)"
   ]
  },
  {
   "cell_type": "code",
   "execution_count": 38,
   "metadata": {},
   "outputs": [],
   "source": [
    "meeting = Meeting(redis_client=redis_client,meeting_id=meeting_id)"
   ]
  },
  {
   "cell_type": "code",
   "execution_count": 39,
   "metadata": {},
   "outputs": [],
   "source": [
    "await meeting.load_from_redis()"
   ]
  },
  {
   "cell_type": "code",
   "execution_count": 40,
   "metadata": {},
   "outputs": [],
   "source": [
    "current_time = datetime.now(timezone.utc)"
   ]
  },
  {
   "cell_type": "code",
   "execution_count": 41,
   "metadata": {},
   "outputs": [
    {
     "data": {
      "text/plain": [
       "(datetime.datetime(2024, 5, 28, 9, 20, 20, 132399, tzinfo=tzutc()),\n",
       " datetime.datetime(2024, 5, 28, 8, 18, 35, 428006, tzinfo=tzutc()),\n",
       " datetime.datetime(2024, 5, 28, 8, 37, 54, 390402, tzinfo=tzutc()),\n",
       " datetime.datetime(2024, 5, 30, 9, 15, 36, 159258, tzinfo=tzutc()),\n",
       " datetime.datetime(2024, 5, 30, 9, 15, 20, 743213, tzinfo=tzutc()))"
      ]
     },
     "execution_count": 41,
     "metadata": {},
     "output_type": "execute_result"
    }
   ],
   "source": [
    "meeting.start_timestamp, meeting.diarizer_seek_timestamp, meeting.transcriber_seek_timestamp, meeting.transcriber_last_updated_timestamp,meeting.diarizer_last_updated_timestamp"
   ]
  },
  {
   "cell_type": "code",
   "execution_count": 42,
   "metadata": {},
   "outputs": [],
   "source": [
    "connections = await meeting.get_connections()"
   ]
  },
  {
   "cell_type": "code",
   "execution_count": 43,
   "metadata": {},
   "outputs": [],
   "source": [
    "connection = best_covering_connection(meeting.diarizer_seek_timestamp, current_time, connections)"
   ]
  },
  {
   "cell_type": "code",
   "execution_count": 45,
   "metadata": {},
   "outputs": [
    {
     "data": {
      "text/plain": [
       "datetime.datetime(2024, 5, 29, 9, 14, 19, 153300, tzinfo=tzutc())"
      ]
     },
     "execution_count": 45,
     "metadata": {},
     "output_type": "execute_result"
    }
   ],
   "source": [
    "connection.start_timestamp"
   ]
  },
  {
   "cell_type": "code",
   "execution_count": 46,
   "metadata": {},
   "outputs": [
    {
     "data": {
      "text/plain": [
       "datetime.datetime(2024, 5, 28, 8, 18, 35, 428006, tzinfo=tzutc())"
      ]
     },
     "execution_count": 46,
     "metadata": {},
     "output_type": "execute_result"
    }
   ],
   "source": [
    "meeting.diarizer_seek_timestamp"
   ]
  },
  {
   "cell_type": "code",
   "execution_count": 44,
   "metadata": {},
   "outputs": [
    {
     "data": {
      "text/plain": [
       "-89743.725294"
      ]
     },
     "execution_count": 44,
     "metadata": {},
     "output_type": "execute_result"
    }
   ],
   "source": [
    "(meeting.diarizer_seek_timestamp - connection.start_timestamp).total_seconds()"
   ]
  },
  {
   "cell_type": "code",
   "execution_count": 35,
   "metadata": {},
   "outputs": [
    {
     "data": {
      "text/plain": [
       "723.48"
      ]
     },
     "execution_count": 35,
     "metadata": {},
     "output_type": "execute_result"
    }
   ],
   "source": [
    "(meeting.transcriber_seek_timestamp - connection.start_timestamp).total_seconds()"
   ]
  }
 ],
 "metadata": {
  "kernelspec": {
   "display_name": "Python 3",
   "language": "python",
   "name": "python3"
  },
  "language_info": {
   "codemirror_mode": {
    "name": "ipython",
    "version": 3
   },
   "file_extension": ".py",
   "mimetype": "text/x-python",
   "name": "python",
   "nbconvert_exporter": "python",
   "pygments_lexer": "ipython3",
   "version": "3.9.18"
  }
 },
 "nbformat": 4,
 "nbformat_minor": 2
}
