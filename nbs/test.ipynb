{
 "cells": [
  {
   "cell_type": "code",
   "execution_count": 2,
   "metadata": {},
   "outputs": [
    {
     "name": "stdout",
     "output_type": "stream",
     "text": [
      "The autoreload extension is already loaded. To reload it, use:\n",
      "  %reload_ext autoreload\n"
     ]
    }
   ],
   "source": [
    "%load_ext autoreload\n",
    "%autoreload 2\n",
    "\n",
    "import sys\n",
    "sys.path.insert(0,'/app')\n",
    "sys.path.insert(0,'..')\n",
    "sys.path.insert(0,'/home/dima/0/1_audio')\n",
    "\n",
    "\n",
    "from audio.redis import *\n",
    "from audio.audio import *\n",
    "#from audio.process import *\n",
    "\n",
    "from pathlib import Path\n",
    "import json\n",
    "\n",
    "import uuid\n",
    "\n",
    "import pandas as pd\n",
    "\n",
    "import asyncio\n",
    "import redis.asyncio as aioredis\n",
    "from dataclasses import dataclass\n",
    "import numpy as np\n",
    "\n",
    "import json\n",
    "import time\n",
    "\n",
    "client_id = '851f343e-4954-4f0a-8835-9664cc91c181'\n",
    "import subprocess\n",
    "from pydub import AudioSegment\n",
    "import io\n",
    "from time import sleep\n",
    "\n",
    "from audio.redis import Transcript\n",
    "\n",
    "running_tasks = set()"
   ]
  },
  {
   "cell_type": "code",
   "execution_count": 3,
   "metadata": {},
   "outputs": [],
   "source": [
    "\n",
    "async def get_next_chunk_start(redis_inner_client, audio_name, length,shift):\n",
    "    diarization = Diarisation(audio_name, redis_inner_client)\n",
    "    await diarization.get()\n",
    "    diarization_result = diarization.data\n",
    "\n",
    "    if len(diarization_result)>0:\n",
    "        last_speech = diarization_result[-1]\n",
    "\n",
    "        ended_silence = length - last_speech['end']\n",
    "        print(ended_silence)\n",
    "        if ended_silence<2:\n",
    "            print('interrupted')\n",
    "            return last_speech['start']+shift\n",
    "        \n",
    "\n",
    "        else:\n",
    "            print('non-interrupted') \n",
    "            return last_speech['end']+shift\n",
    "\n",
    "\n",
    "\n",
    "    else: return None\n",
    "\n",
    "\n",
    "\n",
    "async def diarize(client_id, audio_name, shift, redis_inner_client):\n",
    "    await redis_inner_client.lpush('Audio2DiarizeQueue', f'{audio_name}:{client_id}')\n",
    "    done = await redis_inner_client.brpop(f'DiarizeReady:{audio_name}')\n",
    "    diarization = Diarisation(audio_name, redis_inner_client)\n",
    "    await diarization.get()\n",
    "    return diarization.data\n",
    "\n",
    "    \n",
    "\n",
    "\n",
    "async def transcribe(audio_name, redis_inner_client):\n",
    "    await redis_inner_client.lpush('Audio2TranscribeQueue', f'{audio_name}:{client_id}')\n",
    "    _,done = await redis_inner_client.brpop(f'TranscribeReady:{audio_name}')\n",
    "    transcription =  Transcript(audio_name,redis_inner_client)\n",
    "    await transcription.get()\n",
    "    return transcription.data\n"
   ]
  },
  {
   "cell_type": "code",
   "execution_count": 25,
   "metadata": {},
   "outputs": [],
   "source": [
    "max_length=600\n",
    "step=20"
   ]
  },
  {
   "cell_type": "code",
   "execution_count": 26,
   "metadata": {},
   "outputs": [
    {
     "name": "stdout",
     "output_type": "stream",
     "text": [
      "started at  0\n"
     ]
    }
   ],
   "source": [
    "path = f'/app/testdata/{connection_id}.webm'\n",
    "\n",
    "redis_stream_client = await get_stream_redis()\n",
    "redis_inner_client  = await get_inner_redis()\n",
    "\n",
    "start = await redis_inner_client.rpop(f'Start:{connection_id}')\n",
    "start = float(start) if start else 0\n",
    "print('started at ',start)"
   ]
  },
  {
   "cell_type": "code",
   "execution_count": 27,
   "metadata": {},
   "outputs": [],
   "source": [
    "redis_stream_client = await get_stream_redis()\n",
    "redis_inner_client = await get_inner_redis()\n",
    "\n",
    "\n",
    "connections = await get_connections('initialFeed_audio', redis_stream_client)\n",
    "connection_ids = [c.replace('initialFeed_audio:', '') for c in connections]\n"
   ]
  },
  {
   "cell_type": "code",
   "execution_count": 28,
   "metadata": {},
   "outputs": [],
   "source": [
    "connection_id = connection_ids[0]"
   ]
  },
  {
   "cell_type": "code",
   "execution_count": 29,
   "metadata": {},
   "outputs": [],
   "source": [
    "await writestream2file(connection_id,redis_stream_client)\n",
    "audio_slicer = await AudioSlicer.from_ffmpeg_slice(path,start,start+max_length)"
   ]
  },
  {
   "cell_type": "code",
   "execution_count": 30,
   "metadata": {},
   "outputs": [
    {
     "name": "stdout",
     "output_type": "stream",
     "text": [
      "599.736\n",
      "None\n",
      "32.25722241086589\n",
      "non-interrupted\n"
     ]
    }
   ],
   "source": [
    "slice_duration = audio_slicer.audio.duration_seconds\n",
    "print(slice_duration)\n",
    "\n",
    "if slice_duration > step:\n",
    "\n",
    "    audio_data = await audio_slicer.export_data()\n",
    "    audio_name = str(uuid.uuid4())\n",
    "    audio = Audio(chunk_name=audio_name, redis_client=redis_inner_client, data=audio_data)\n",
    "    await audio.save()\n",
    "\n",
    "    diarization_result, transcription_result = await asyncio.gather(\n",
    "            diarize(client_id, audio_name, start,redis_inner_client),\n",
    "            transcribe(audio_name,redis_inner_client)\n",
    "        )\n",
    "    \n",
    "    start_ = await get_next_chunk_start(redis_inner_client, audio_name, slice_duration,start)\n",
    "    start = start_ if start_ else start+slice_duration\n",
    "    \n"
   ]
  },
  {
   "cell_type": "code",
   "execution_count": 35,
   "metadata": {},
   "outputs": [
    {
     "data": {
      "text/plain": [
       "1"
      ]
     },
     "execution_count": 35,
     "metadata": {},
     "output_type": "execute_result"
    }
   ],
   "source": [
    "await redis_inner_client.lpush(f'Segment:{connection_id}', json.dumps((diarization_result, transcription_result,start)))"
   ]
  },
  {
   "cell_type": "code",
   "execution_count": null,
   "metadata": {},
   "outputs": [],
   "source": [
    "\n",
    "\n",
    "async def process_connection(connection_id, redis_stream_client, redis_inner_client, step=20,max_length=600):\n",
    "    path = f'/app/testdata/{connection_id}.webm'\n",
    "\n",
    "    redis_stream_client = await get_stream_redis()\n",
    "    redis_inner_client  = await get_inner_redis()\n",
    "\n",
    "    start = await redis_inner_client.rpop(f'Start:{connection_id}')\n",
    "    start = float(start) if start else 0\n",
    "    print('started at ',start)\n",
    "\n",
    "    await writestream2file(connection_id,redis_stream_client)\n",
    "    audio_slicer = await AudioSlicer.from_ffmpeg_slice(path,start,start+max_length)\n",
    "\n",
    "    slice_duration = audio_slicer.audio.duration_seconds\n",
    "    print(slice_duration)\n",
    "\n",
    "    if slice_duration > step:\n",
    "\n",
    "        audio_data = await audio_slicer.export_data()\n",
    "        audio_name = str(uuid.uuid4())\n",
    "        audio = Audio(chunk_name=audio_name, redis_client=redis_inner_client, data=audio_data)\n",
    "        await audio.save()\n",
    "\n",
    "        diarization_result, transcription_result = await asyncio.gather(\n",
    "                diarize(client_id, audio_name, start,redis_inner_client),\n",
    "                transcribe(audio_name,redis_inner_client)\n",
    "            )\n",
    "        \n",
    "        start_ = await get_next_chunk_start(redis_inner_client, audio_name, slice_duration,start)\n",
    "        start = start_ if start_ else start+slice_duration\n",
    "        await redis_inner_client.lpush(f'Start:{connection_id}', start)\n",
    "\n",
    "\n",
    "        await redis_inner_client.lpush(f'Segment:{connection_id}', json.dumps((diarization_result, transcription_result)))\n",
    "    else:\n",
    "        await redis_inner_client.lpush(f'Start:{connection_id}', start)\n",
    "\n",
    "    running_tasks.remove(connection_id)\n",
    "\n",
    "def task_completed(task, connection_id):\n",
    "    running_tasks.remove(connection_id)\n",
    "    print(f\"Task for {connection_id} completed\")\n",
    "\n",
    "\n",
    "\n",
    "async def check_and_process_connections():\n",
    "    redis_stream_client = await get_stream_redis()\n",
    "    redis_inner_client = await get_inner_redis()\n",
    "\n",
    "    while True:\n",
    "        connections = await get_connections('initialFeed_audio', redis_stream_client)\n",
    "        connection_ids = [c.replace('initialFeed_audio:', '') for c in connections]\n",
    "        for connection_id in connection_ids:\n",
    "            if connection_id not in running_tasks:\n",
    "                running_tasks.add(connection_id)\n",
    "                task = asyncio.create_task(process_connection(connection_id, redis_stream_client, redis_inner_client))\n",
    "                task.add_done_callback(lambda t, cid=connection_id: task_completed(t, cid))\n",
    "        #await asyncio.sleep(1)  # Wait for a bit before checking for new connections again\n",
    "\n",
    "async def main():\n",
    "    \n",
    "\n",
    "    await check_and_process_connections()\n",
    "\n",
    "if __name__ == '__main__':\n",
    "    asyncio.run(main())\n",
    "\n"
   ]
  }
 ],
 "metadata": {
  "kernelspec": {
   "display_name": "Python 3",
   "language": "python",
   "name": "python3"
  },
  "language_info": {
   "codemirror_mode": {
    "name": "ipython",
    "version": 3
   },
   "file_extension": ".py",
   "mimetype": "text/x-python",
   "name": "python",
   "nbconvert_exporter": "python",
   "pygments_lexer": "ipython3",
   "version": "3.9.18"
  }
 },
 "nbformat": 4,
 "nbformat_minor": 2
}
