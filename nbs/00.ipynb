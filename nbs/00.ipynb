{
 "cells": [
  {
   "cell_type": "code",
   "execution_count": 45,
   "metadata": {},
   "outputs": [],
   "source": [
    "#| default_exp  lib"
   ]
  },
  {
   "cell_type": "code",
   "execution_count": 3,
   "metadata": {},
   "outputs": [],
   "source": [
    "username = 'Dmitry Grankin'"
   ]
  },
  {
   "cell_type": "code",
   "execution_count": 4,
   "metadata": {},
   "outputs": [],
   "source": [
    "q =f\"\"\" first, provide chain of thought rational on the meeting context, objectioves and participants.\n",
    "\n",
    "Second, Construct a series of exploratory questions. \n",
    "\"\"\""
   ]
  },
  {
   "cell_type": "code",
   "execution_count": 5,
   "metadata": {},
   "outputs": [
    {
     "name": "stdout",
     "output_type": "stream",
     "text": [
      "Construct a series of exploratory questions based on the meeting's objectives, key discussion points, and the roles of all participants. These questions should be designed to analyze the transcript for strategic insights, focusing on areas such as decision-making processes, implications of these decisions, actionable commitments made during the meeting, and how the topics discussed align with the organizational roles and interests, particularly with regard to Dmitry Grankin's position and responsibilities. The aim is to facilitate a deep understanding of the meeting's outcomes and its relevance to Dmitry Grankin's work, without directly addressing Dmitry Grankin in the questions.\n"
     ]
    }
   ],
   "source": [
    "print(q)"
   ]
  },
  {
   "cell_type": "code",
   "execution_count": null,
   "metadata": {},
   "outputs": [],
   "source": []
  },
  {
   "cell_type": "code",
   "execution_count": 13,
   "metadata": {},
   "outputs": [
    {
     "name": "stdout",
     "output_type": "stream",
     "text": [
      "The autoreload extension is already loaded. To reload it, use:\n",
      "  %reload_ext autoreload\n"
     ]
    }
   ],
   "source": [
    "\n",
    "%load_ext autoreload\n",
    "%autoreload 2\n"
   ]
  },
  {
   "cell_type": "code",
   "execution_count": 14,
   "metadata": {},
   "outputs": [],
   "source": [
    "\n",
    "import sys \n",
    "sys.path.insert(0,'/app')\n",
    "sys.path.insert(0,'..')\n"
   ]
  },
  {
   "cell_type": "code",
   "execution_count": 15,
   "metadata": {},
   "outputs": [],
   "source": [
    "#| export\n",
    "\n",
    "from audio.redis import *\n",
    "\n",
    "import redis\n",
    "from pathlib import Path\n",
    "import torch\n",
    "import torch.nn.functional as F\n"
   ]
  },
  {
   "cell_type": "code",
   "execution_count": 16,
   "metadata": {},
   "outputs": [],
   "source": [
    "#| export\n",
    "\n",
    "def get_inner_redis():\n",
    "    \n",
    "    db = redis.from_url(\n",
    "            \"redis://redis:6379\",decode_responses=True\n",
    "        )\n",
    "\n",
    "    db.ping()\n",
    "\n",
    "    return db"
   ]
  },
  {
   "cell_type": "code",
   "execution_count": 17,
   "metadata": {},
   "outputs": [],
   "source": [
    "#| export\n",
    "\n",
    "def list_directory_contents(path='.'):\n",
    "    \"\"\"\n",
    "    Lists the contents of a directory using pathlib.\n",
    "\n",
    "    :param path: The directory path to list contents of. Defaults to the current directory.\n",
    "    :return: None\n",
    "    \"\"\"\n",
    "    p = Path(path)\n",
    "    return [entry for entry in p.iterdir()]\n"
   ]
  },
  {
   "cell_type": "code",
   "execution_count": 18,
   "metadata": {},
   "outputs": [],
   "source": [
    "\n",
    "#| export\n",
    "def average_embeddings(embeddings):\n",
    "    \"\"\"\n",
    "    Averages embeddings along the second dimension.\n",
    "\n",
    "    :param embeddings: A 3D tensor of shape (num_slices, num_embeddings, embedding_dim)\n",
    "                       where num_slices is the number of time slices,\n",
    "                       num_embeddings is the number of embeddings per time slice,\n",
    "                       and embedding_dim is the dimensionality of each embedding.\n",
    "    :return: A 2D tensor of shape (num_slices, embedding_dim) representing the averaged\n",
    "             embeddings for each time slice.\n",
    "    \"\"\"\n",
    "    return torch.mean(embeddings, dim=1)\n",
    "\n",
    "def pairwise_cosine_similarity(embeddings):\n",
    "    \"\"\"\n",
    "    Calculate the pairwise cosine similarity of a set of averaged embeddings.\n",
    "\n",
    "    :param embeddings: A 2D tensor of shape (num_slices, embedding_dim)\n",
    "                       where num_slices is the number of time slices and\n",
    "                       embedding_dim is the dimensionality of the averaged embeddings.\n",
    "    :return: A 2D tensor of shape (num_slices, num_slices) containing\n",
    "             the pairwise cosine similarity scores between slices.\n",
    "    \"\"\"\n",
    "    embeddings_norm = F.normalize(embeddings, p=2, dim=1)\n",
    "    similarity_matrix = torch.mm(embeddings_norm, embeddings_norm.t())\n",
    "    \n",
    "    return similarity_matrix\n",
    "\n"
   ]
  },
  {
   "cell_type": "code",
   "execution_count": 28,
   "metadata": {},
   "outputs": [],
   "source": [
    "#| export\n",
    "from pathlib import Path\n",
    "import pandas as pd\n",
    "import os\n",
    "\n",
    "def path_info(path: Path = Path.cwd()):\n",
    "    # Initialize the list to hold file information\n",
    "    files_info = []\n",
    "\n",
    "    # Iterate through each file in the given directory\n",
    "    for file in Path(path).iterdir():\n",
    "        if file.is_file():  # Ensure we're only including files\n",
    "            files_info.append({\n",
    "                \"name\": file.name,\n",
    "                \"size\": file.stat().st_size,\n",
    "                \"created\": pd.to_datetime(file.stat().st_ctime, unit='s'),\n",
    "                \"modified\": pd.to_datetime(file.stat().st_mtime, unit='s'),\n",
    "                \"path\": file  # Add the full path as a Pathlib object\n",
    "            })\n",
    "\n",
    "    # Convert the list to a DataFrame and return it\n",
    "    return pd.DataFrame(files_info)\n"
   ]
  },
  {
   "cell_type": "code",
   "execution_count": 29,
   "metadata": {},
   "outputs": [],
   "source": [
    "from audio.audio import AudioSlicer"
   ]
  },
  {
   "cell_type": "code",
   "execution_count": 32,
   "metadata": {},
   "outputs": [
    {
     "data": {
      "text/html": [
       "<div>\n",
       "<style scoped>\n",
       "    .dataframe tbody tr th:only-of-type {\n",
       "        vertical-align: middle;\n",
       "    }\n",
       "\n",
       "    .dataframe tbody tr th {\n",
       "        vertical-align: top;\n",
       "    }\n",
       "\n",
       "    .dataframe thead th {\n",
       "        text-align: right;\n",
       "    }\n",
       "</style>\n",
       "<table border=\"1\" class=\"dataframe\">\n",
       "  <thead>\n",
       "    <tr style=\"text-align: right;\">\n",
       "      <th></th>\n",
       "      <th>name</th>\n",
       "      <th>size</th>\n",
       "      <th>created</th>\n",
       "      <th>modified</th>\n",
       "      <th>path</th>\n",
       "    </tr>\n",
       "  </thead>\n",
       "  <tbody>\n",
       "    <tr>\n",
       "      <th>9</th>\n",
       "      <td>ba149554-1c51-4b70-8e75-9b69a6938331--0.webm</td>\n",
       "      <td>489935</td>\n",
       "      <td>2024-03-08 17:05:48.142953157</td>\n",
       "      <td>2024-03-08 17:05:48.142953157</td>\n",
       "      <td>/audio/ba149554-1c51-4b70-8e75-9b69a6938331--0...</td>\n",
       "    </tr>\n",
       "    <tr>\n",
       "      <th>2</th>\n",
       "      <td>7aad9ab0-4a48-47b8-9ccc-d10d718e2d9a--0.webm</td>\n",
       "      <td>1964705</td>\n",
       "      <td>2024-03-08 16:47:13.698168278</td>\n",
       "      <td>2024-03-08 16:47:13.698168278</td>\n",
       "      <td>/audio/7aad9ab0-4a48-47b8-9ccc-d10d718e2d9a--0...</td>\n",
       "    </tr>\n",
       "    <tr>\n",
       "      <th>0</th>\n",
       "      <td>41311db9-ed67-4f89-a27f-1d54e2dcd14a--0.webm</td>\n",
       "      <td>1965861</td>\n",
       "      <td>2024-03-08 16:27:08.798985481</td>\n",
       "      <td>2024-03-08 16:27:08.798985481</td>\n",
       "      <td>/audio/41311db9-ed67-4f89-a27f-1d54e2dcd14a--0...</td>\n",
       "    </tr>\n",
       "    <tr>\n",
       "      <th>8</th>\n",
       "      <td>39b4bb24-2b9f-4db7-847a-23b48fea6a5d--0.webm</td>\n",
       "      <td>8946592</td>\n",
       "      <td>2024-03-07 17:07:17.538658142</td>\n",
       "      <td>2024-03-07 17:07:17.538658142</td>\n",
       "      <td>/audio/39b4bb24-2b9f-4db7-847a-23b48fea6a5d--0...</td>\n",
       "    </tr>\n",
       "    <tr>\n",
       "      <th>3</th>\n",
       "      <td>f4c982ec-3b3f-4044-aad2-e9fb26e44366--0.webm</td>\n",
       "      <td>3669684</td>\n",
       "      <td>2024-03-07 16:54:44.857760191</td>\n",
       "      <td>2024-03-07 16:54:44.857760191</td>\n",
       "      <td>/audio/f4c982ec-3b3f-4044-aad2-e9fb26e44366--0...</td>\n",
       "    </tr>\n",
       "    <tr>\n",
       "      <th>1</th>\n",
       "      <td>42381612-e5e2-46ba-bb5a-73d17d25f90f--0.webm</td>\n",
       "      <td>8131419</td>\n",
       "      <td>2024-03-06 18:20:36.538984776</td>\n",
       "      <td>2024-03-06 18:20:36.538984776</td>\n",
       "      <td>/audio/42381612-e5e2-46ba-bb5a-73d17d25f90f--0...</td>\n",
       "    </tr>\n",
       "    <tr>\n",
       "      <th>6</th>\n",
       "      <td>a5fc8dae-9463-4973-ae9c-f95ed56b2137--0.webm</td>\n",
       "      <td>43816</td>\n",
       "      <td>2024-03-06 17:47:32.893076658</td>\n",
       "      <td>2024-03-06 17:47:32.893076658</td>\n",
       "      <td>/audio/a5fc8dae-9463-4973-ae9c-f95ed56b2137--0...</td>\n",
       "    </tr>\n",
       "    <tr>\n",
       "      <th>4</th>\n",
       "      <td>a72d3780-84f9-4e0a-8a60-6b3aba70bf23--0.webm</td>\n",
       "      <td>12846809</td>\n",
       "      <td>2024-03-06 17:22:50.794866800</td>\n",
       "      <td>2024-03-06 17:22:50.794866800</td>\n",
       "      <td>/audio/a72d3780-84f9-4e0a-8a60-6b3aba70bf23--0...</td>\n",
       "    </tr>\n",
       "    <tr>\n",
       "      <th>5</th>\n",
       "      <td>66f2afd0-7482-49ff-964a-c8acf5514379--0.webm</td>\n",
       "      <td>21205097</td>\n",
       "      <td>2024-03-06 13:43:49.819414377</td>\n",
       "      <td>2024-03-06 13:43:49.819414377</td>\n",
       "      <td>/audio/66f2afd0-7482-49ff-964a-c8acf5514379--0...</td>\n",
       "    </tr>\n",
       "    <tr>\n",
       "      <th>7</th>\n",
       "      <td>85ecfa13-14ce-4c59-a824-b3405d258f13--0.webm</td>\n",
       "      <td>17004100</td>\n",
       "      <td>2024-03-06 13:21:57.194664955</td>\n",
       "      <td>2024-03-06 13:21:57.194664955</td>\n",
       "      <td>/audio/85ecfa13-14ce-4c59-a824-b3405d258f13--0...</td>\n",
       "    </tr>\n",
       "  </tbody>\n",
       "</table>\n",
       "</div>"
      ],
      "text/plain": [
       "                                           name      size  \\\n",
       "9  ba149554-1c51-4b70-8e75-9b69a6938331--0.webm    489935   \n",
       "2  7aad9ab0-4a48-47b8-9ccc-d10d718e2d9a--0.webm   1964705   \n",
       "0  41311db9-ed67-4f89-a27f-1d54e2dcd14a--0.webm   1965861   \n",
       "8  39b4bb24-2b9f-4db7-847a-23b48fea6a5d--0.webm   8946592   \n",
       "3  f4c982ec-3b3f-4044-aad2-e9fb26e44366--0.webm   3669684   \n",
       "1  42381612-e5e2-46ba-bb5a-73d17d25f90f--0.webm   8131419   \n",
       "6  a5fc8dae-9463-4973-ae9c-f95ed56b2137--0.webm     43816   \n",
       "4  a72d3780-84f9-4e0a-8a60-6b3aba70bf23--0.webm  12846809   \n",
       "5  66f2afd0-7482-49ff-964a-c8acf5514379--0.webm  21205097   \n",
       "7  85ecfa13-14ce-4c59-a824-b3405d258f13--0.webm  17004100   \n",
       "\n",
       "                        created                      modified  \\\n",
       "9 2024-03-08 17:05:48.142953157 2024-03-08 17:05:48.142953157   \n",
       "2 2024-03-08 16:47:13.698168278 2024-03-08 16:47:13.698168278   \n",
       "0 2024-03-08 16:27:08.798985481 2024-03-08 16:27:08.798985481   \n",
       "8 2024-03-07 17:07:17.538658142 2024-03-07 17:07:17.538658142   \n",
       "3 2024-03-07 16:54:44.857760191 2024-03-07 16:54:44.857760191   \n",
       "1 2024-03-06 18:20:36.538984776 2024-03-06 18:20:36.538984776   \n",
       "6 2024-03-06 17:47:32.893076658 2024-03-06 17:47:32.893076658   \n",
       "4 2024-03-06 17:22:50.794866800 2024-03-06 17:22:50.794866800   \n",
       "5 2024-03-06 13:43:49.819414377 2024-03-06 13:43:49.819414377   \n",
       "7 2024-03-06 13:21:57.194664955 2024-03-06 13:21:57.194664955   \n",
       "\n",
       "                                                path  \n",
       "9  /audio/ba149554-1c51-4b70-8e75-9b69a6938331--0...  \n",
       "2  /audio/7aad9ab0-4a48-47b8-9ccc-d10d718e2d9a--0...  \n",
       "0  /audio/41311db9-ed67-4f89-a27f-1d54e2dcd14a--0...  \n",
       "8  /audio/39b4bb24-2b9f-4db7-847a-23b48fea6a5d--0...  \n",
       "3  /audio/f4c982ec-3b3f-4044-aad2-e9fb26e44366--0...  \n",
       "1  /audio/42381612-e5e2-46ba-bb5a-73d17d25f90f--0...  \n",
       "6  /audio/a5fc8dae-9463-4973-ae9c-f95ed56b2137--0...  \n",
       "4  /audio/a72d3780-84f9-4e0a-8a60-6b3aba70bf23--0...  \n",
       "5  /audio/66f2afd0-7482-49ff-964a-c8acf5514379--0...  \n",
       "7  /audio/85ecfa13-14ce-4c59-a824-b3405d258f13--0...  "
      ]
     },
     "execution_count": 32,
     "metadata": {},
     "output_type": "execute_result"
    }
   ],
   "source": [
    "pathinfo = path_info('/audio').sort_values('created',ascending=False);pathinfo"
   ]
  },
  {
   "cell_type": "code",
   "execution_count": 3,
   "metadata": {},
   "outputs": [
    {
     "ename": "NameError",
     "evalue": "name 'pathinfo' is not defined",
     "output_type": "error",
     "traceback": [
      "\u001b[0;31m---------------------------------------------------------------------------\u001b[0m",
      "\u001b[0;31mNameError\u001b[0m                                 Traceback (most recent call last)",
      "Cell \u001b[0;32mIn[3], line 1\u001b[0m\n\u001b[0;32m----> 1\u001b[0m audio_file_path \u001b[38;5;241m=\u001b[39m \u001b[43mpathinfo\u001b[49m[\u001b[38;5;124m'\u001b[39m\u001b[38;5;124mpath\u001b[39m\u001b[38;5;124m'\u001b[39m]\u001b[38;5;241m.\u001b[39miloc[\u001b[38;5;241m0\u001b[39m]\n",
      "\u001b[0;31mNameError\u001b[0m: name 'pathinfo' is not defined"
     ]
    }
   ],
   "source": [
    "audio_file_path = pathinfo['path'].iloc[0]"
   ]
  },
  {
   "cell_type": "code",
   "execution_count": 4,
   "metadata": {},
   "outputs": [
    {
     "ename": "NameError",
     "evalue": "name 'AudioSlicer' is not defined",
     "output_type": "error",
     "traceback": [
      "\u001b[0;31m---------------------------------------------------------------------------\u001b[0m",
      "\u001b[0;31mNameError\u001b[0m                                 Traceback (most recent call last)",
      "Cell \u001b[0;32mIn[4], line 1\u001b[0m\n\u001b[0;32m----> 1\u001b[0m call \u001b[38;5;241m=\u001b[39m \u001b[38;5;28;01mawait\u001b[39;00m AudioSlicer\u001b[38;5;241m.\u001b[39mfrom_file(audio_file_path,\u001b[38;5;28mformat\u001b[39m\u001b[38;5;241m=\u001b[39m \u001b[38;5;124m'\u001b[39m\u001b[38;5;124mwebm\u001b[39m\u001b[38;5;124m'\u001b[39m)\n",
      "\u001b[0;31mNameError\u001b[0m: name 'AudioSlicer' is not defined"
     ]
    }
   ],
   "source": [
    "call = await AudioSlicer.from_file(audio_file_path,format= 'webm')"
   ]
  },
  {
   "cell_type": "code",
   "execution_count": 5,
   "metadata": {},
   "outputs": [
    {
     "ename": "NameError",
     "evalue": "name 'call' is not defined",
     "output_type": "error",
     "traceback": [
      "\u001b[0;31m---------------------------------------------------------------------------\u001b[0m",
      "\u001b[0;31mNameError\u001b[0m                                 Traceback (most recent call last)",
      "Cell \u001b[0;32mIn[5], line 1\u001b[0m\n\u001b[0;32m----> 1\u001b[0m \u001b[43mcall\u001b[49m\u001b[38;5;241m.\u001b[39mslice(\u001b[38;5;241m0\u001b[39m,\u001b[38;5;241m10000\u001b[39m)\n",
      "\u001b[0;31mNameError\u001b[0m: name 'call' is not defined"
     ]
    }
   ],
   "source": [
    "call.slice(0,10000)"
   ]
  },
  {
   "cell_type": "code",
   "execution_count": 6,
   "metadata": {},
   "outputs": [
    {
     "data": {
      "text/plain": [
       "480"
      ]
     },
     "execution_count": 6,
     "metadata": {},
     "output_type": "execute_result"
    }
   ],
   "source": [
    "8*60"
   ]
  },
  {
   "cell_type": "code",
   "execution_count": 29,
   "metadata": {},
   "outputs": [
    {
     "data": {
      "text/plain": [
       "2.6666666666666665"
      ]
     },
     "execution_count": 29,
     "metadata": {},
     "output_type": "execute_result"
    }
   ],
   "source": [
    "160/60"
   ]
  },
  {
   "cell_type": "code",
   "execution_count": null,
   "metadata": {},
   "outputs": [],
   "source": []
  }
 ],
 "metadata": {
  "kernelspec": {
   "display_name": "Python 3",
   "language": "python",
   "name": "python3"
  },
  "language_info": {
   "codemirror_mode": {
    "name": "ipython",
    "version": 3
   },
   "file_extension": ".py",
   "mimetype": "text/x-python",
   "name": "python",
   "nbconvert_exporter": "python",
   "pygments_lexer": "ipython3",
   "version": "3.11.2"
  }
 },
 "nbformat": 4,
 "nbformat_minor": 2
}
