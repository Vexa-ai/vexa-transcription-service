{
 "cells": [
  {
   "cell_type": "code",
   "execution_count": 1,
   "metadata": {},
   "outputs": [
    {
     "name": "stderr",
     "output_type": "stream",
     "text": [
      "/usr/local/lib/python3.9/site-packages/pyannote/audio/core/io.py:43: UserWarning: torchaudio._backend.set_audio_backend has been deprecated. With dispatcher enabled, this function is no-op. You can remove the function call.\n",
      "  torchaudio.set_audio_backend(\"soundfile\")\n",
      "/usr/local/lib/python3.9/site-packages/tqdm/auto.py:21: TqdmWarning: IProgress not found. Please update jupyter and ipywidgets. See https://ipywidgets.readthedocs.io/en/stable/user_install.html\n",
      "  from .autonotebook import tqdm as notebook_tqdm\n"
     ]
    }
   ],
   "source": [
    "\n",
    "%load_ext autoreload\n",
    "%autoreload 2\n",
    "\n",
    "import sys \n",
    "sys.path.insert(0,'/app')\n",
    "sys.path.insert(0,'..')\n",
    "import diart\n",
    "from audio.redis import *"
   ]
  },
  {
   "cell_type": "code",
   "execution_count": 2,
   "metadata": {},
   "outputs": [],
   "source": [
    "import redis"
   ]
  },
  {
   "cell_type": "code",
   "execution_count": 3,
   "metadata": {},
   "outputs": [],
   "source": [
    "def get_inner_redis():\n",
    "    \n",
    "    db = redis.from_url(\n",
    "            \"redis://redis:6379\",decode_responses=True\n",
    "        )\n",
    "\n",
    "    db.ping()\n",
    "\n",
    "    return db"
   ]
  },
  {
   "cell_type": "code",
   "execution_count": 4,
   "metadata": {},
   "outputs": [],
   "source": [
    "from pathlib import Path\n",
    "\n",
    "def list_directory_contents(path='.'):\n",
    "    \"\"\"\n",
    "    Lists the contents of a directory using pathlib.\n",
    "\n",
    "    :param path: The directory path to list contents of. Defaults to the current directory.\n",
    "    :return: None\n",
    "    \"\"\"\n",
    "    p = Path(path)\n",
    "    return [entry for entry in p.iterdir()]\n"
   ]
  },
  {
   "cell_type": "code",
   "execution_count": 5,
   "metadata": {},
   "outputs": [],
   "source": [
    "files = list_directory_contents('/audio/')"
   ]
  },
  {
   "cell_type": "code",
   "execution_count": 6,
   "metadata": {},
   "outputs": [
    {
     "data": {
      "text/plain": [
       "PosixPath('/audio/42381612-e5e2-46ba-bb5a-73d17d25f90f--0.webm')"
      ]
     },
     "execution_count": 6,
     "metadata": {},
     "output_type": "execute_result"
    }
   ],
   "source": [
    "audio_file_path = files[0];audio_file_path"
   ]
  },
  {
   "cell_type": "code",
   "execution_count": 7,
   "metadata": {},
   "outputs": [],
   "source": [
    "redis_client = get_inner_redis()"
   ]
  },
  {
   "cell_type": "code",
   "execution_count": 8,
   "metadata": {},
   "outputs": [
    {
     "data": {
      "text/plain": [
       "['c9682039-3bf7-4d41-8fc6-69eff98b097b',\n",
       " '20779b86-a544-4483-b70b-6567acf5b846',\n",
       " 'Start:42381612-e5e2-46ba-bb5a-73d17d25f90f--0',\n",
       " 'test',\n",
       " '63b2fe71-b22e-40a9-bccd-f6509d0d8691',\n",
       " '7b2f5cfb-9171-4eab-9b35-bd65bc1a925c',\n",
       " 'diarization_85ecfa13-14ce-4c59-a824-b3405d258f13--0',\n",
       " '21801789-400a-4eb1-ae76-1bb73b9771a1',\n",
       " 'd1a63b4d-c2fc-40e6-bca9-bb875fbf97c3',\n",
       " 'diarization_42381612-e5e2-46ba-bb5a-73d17d25f90f--0',\n",
       " 'Segment:a72d3780-84f9-4e0a-8a60-6b3aba70bf23--0',\n",
       " '58ec14e6-457c-4614-9a89-54482c0d24ca',\n",
       " '8da4cbc3-2fe4-4032-84e3-e8775ad913dd',\n",
       " 'f15d36ab-7cbc-4529-bdf2-70e37775fe68',\n",
       " '796ceef6-df11-447d-9e1f-ee1eadcc478c',\n",
       " 'Start:a72d3780-84f9-4e0a-8a60-6b3aba70bf23--0',\n",
       " '045d11f5-3d54-4dde-a572-f8043f146abb',\n",
       " 'Segment:42381612-e5e2-46ba-bb5a-73d17d25f90f--0',\n",
       " '9bdf4c01-0709-4b98-b3bb-37196a84c033',\n",
       " 'b72c112c-ec66-4e0c-8196-b78a32daa756',\n",
       " '9aac8334-114b-4721-8617-1858a030e986',\n",
       " '031a0b05-3029-470a-9608-3dbf6a202502',\n",
       " 'Start:a5fc8dae-9463-4973-ae9c-f95ed56b2137--0',\n",
       " '471d87bf-0b4a-4363-ba10-83051c38bcd9',\n",
       " 'Embeddings']"
      ]
     },
     "execution_count": 8,
     "metadata": {},
     "output_type": "execute_result"
    }
   ],
   "source": [
    "redis_client.keys('*')"
   ]
  },
  {
   "cell_type": "code",
   "execution_count": 9,
   "metadata": {},
   "outputs": [],
   "source": [
    "from diart import SpeakerDiarization,SpeakerDiarizationConfig\n",
    "from diart.sources import FileAudioSource\n",
    "from diart.inference import StreamingInference\n",
    "from diart.sinks import RedisWriter\n",
    "from diart import PipelineConfig"
   ]
  },
  {
   "cell_type": "code",
   "execution_count": 10,
   "metadata": {},
   "outputs": [],
   "source": [
    "from diart import PipelineConfig, SpeakerDiarization"
   ]
  },
  {
   "cell_type": "code",
   "execution_count": 11,
   "metadata": {},
   "outputs": [],
   "source": [
    "config = SpeakerDiarizationConfig(delta_new=1.0)"
   ]
  },
  {
   "cell_type": "code",
   "execution_count": 12,
   "metadata": {},
   "outputs": [
    {
     "name": "stderr",
     "output_type": "stream",
     "text": [
      "Lightning automatically upgraded your loaded checkpoint from v1.5.4 to v2.2.1. To apply the upgrade to your files permanently, run `python -m pytorch_lightning.utilities.upgrade_checkpoint ../../../../root/.cache/torch/pyannote/models--pyannote--segmentation/snapshots/2ffce0501d0aecad81b43a06d538186e292d0070/pytorch_model.bin`\n"
     ]
    },
    {
     "name": "stdout",
     "output_type": "stream",
     "text": [
      "Model was trained with pyannote.audio 0.0.1, yours is 3.1.1. Bad things might happen unless you revert pyannote.audio to 0.x.\n",
      "Model was trained with torch 1.10.0+cu102, yours is 2.2.1+cu121. Bad things might happen unless you revert torch to 1.x.\n"
     ]
    },
    {
     "name": "stderr",
     "output_type": "stream",
     "text": [
      "Lightning automatically upgraded your loaded checkpoint from v1.2.7 to v2.2.1. To apply the upgrade to your files permanently, run `python -m pytorch_lightning.utilities.upgrade_checkpoint ../../../../root/.cache/torch/pyannote/models--pyannote--embedding/snapshots/c6335d8f1cd77b30084387468a6cf26fea90009b/pytorch_model.bin`\n",
      "Lightning automatically upgraded your loaded checkpoint from v1.2.7 to v2.2.1. To apply the upgrade to your files permanently, run `python -m pytorch_lightning.utilities.upgrade_checkpoint ../../../../root/.cache/torch/pyannote/models--pyannote--embedding/snapshots/c6335d8f1cd77b30084387468a6cf26fea90009b/pytorch_model.bin`\n"
     ]
    },
    {
     "name": "stdout",
     "output_type": "stream",
     "text": [
      "Model was trained with pyannote.audio 0.0.1, yours is 3.1.1. Bad things might happen unless you revert pyannote.audio to 0.x.\n",
      "Model was trained with torch 1.8.1+cu102, yours is 2.2.1+cu121. Bad things might happen unless you revert torch to 1.x.\n",
      "Model was trained with pyannote.audio 0.0.1, yours is 3.1.1. Bad things might happen unless you revert pyannote.audio to 0.x.\n",
      "Model was trained with torch 1.8.1+cu102, yours is 2.2.1+cu121. Bad things might happen unless you revert torch to 1.x.\n"
     ]
    }
   ],
   "source": [
    "\n",
    "pipeline = SpeakerDiarization(config,return_embeddings=True) # return_embeddings"
   ]
  },
  {
   "cell_type": "code",
   "execution_count": 13,
   "metadata": {},
   "outputs": [],
   "source": [
    "sample_rate = 16000\n",
    "file_source = FileAudioSource(audio_file_path,sample_rate)  # Use FileAudioSource\n",
    "\n",
    "inference = StreamingInference(pipeline, file_source, do_plot=False)\n"
   ]
  },
  {
   "cell_type": "code",
   "execution_count": 14,
   "metadata": {},
   "outputs": [],
   "source": [
    "\n",
    "inference.attach_observers(RedisWriter(file_source.uri, redis_client)) # RedisWriter instead of RTTMWriter"
   ]
  },
  {
   "cell_type": "code",
   "execution_count": 15,
   "metadata": {},
   "outputs": [],
   "source": [
    "#inference.attach_observers(RTTMWriter(file_source.uri,'text.csv')) # RedisWriter instead of RTTMWriter"
   ]
  },
  {
   "cell_type": "code",
   "execution_count": 16,
   "metadata": {},
   "outputs": [
    {
     "data": {
      "text/html": [
       "<pre style=\"white-space:pre;overflow-x:auto;line-height:normal;font-family:Menlo,'DejaVu Sans Mono',consolas,'Courier New',monospace\"></pre>\n"
      ],
      "text/plain": []
     },
     "metadata": {},
     "output_type": "display_data"
    },
    {
     "data": {
      "text/html": [
       "<pre style=\"white-space:pre;overflow-x:auto;line-height:normal;font-family:Menlo,'DejaVu Sans Mono',consolas,'Courier New',monospace\">\n",
       "</pre>\n"
      ],
      "text/plain": [
       "\n"
      ]
     },
     "metadata": {},
     "output_type": "display_data"
    },
    {
     "data": {
      "text/html": [
       "<pre style=\"white-space:pre;overflow-x:auto;line-height:normal;font-family:Menlo,'DejaVu Sans Mono',consolas,'Courier New',monospace\">Took <span style=\"color: #008080; text-decoration-color: #008080; font-weight: bold\">0.089</span> <span style=\"font-weight: bold\">(</span>+<span style=\"color: #800080; text-decoration-color: #800080\">/</span><span style=\"color: #ff00ff; text-decoration-color: #ff00ff\">-0.015</span><span style=\"font-weight: bold\">)</span> seconds/chunk -- ran <span style=\"color: #008080; text-decoration-color: #008080; font-weight: bold\">586</span> times\n",
       "</pre>\n"
      ],
      "text/plain": [
       "Took \u001b[1;36m0.089\u001b[0m \u001b[1m(\u001b[0m+\u001b[35m/\u001b[0m\u001b[95m-0.015\u001b[0m\u001b[1m)\u001b[0m seconds/chunk -- ran \u001b[1;36m586\u001b[0m times\n"
      ]
     },
     "metadata": {},
     "output_type": "display_data"
    }
   ],
   "source": [
    "prediction = inference()"
   ]
  },
  {
   "cell_type": "code",
   "execution_count": 17,
   "metadata": {},
   "outputs": [
    {
     "data": {
      "image/png": "[encoded data removed]",
      "text/plain": [
       "<pyannote.core.annotation.Annotation at 0x7f9b7a5f8d60>"
      ]
     },
     "execution_count": 17,
     "metadata": {},
     "output_type": "execute_result"
    }
   ],
   "source": [
    "prediction"
   ]
  },
  {
   "cell_type": "code",
   "execution_count": null,
   "metadata": {},
   "outputs": [],
   "source": []
  }
 ],
 "metadata": {
  "kernelspec": {
   "display_name": "Python 3",
   "language": "python",
   "name": "python3"
  },
  "language_info": {
   "codemirror_mode": {
    "name": "ipython",
    "version": 3
   },
   "file_extension": ".py",
   "mimetype": "text/x-python",
   "name": "python",
   "nbconvert_exporter": "python",
   "pygments_lexer": "ipython3",
   "version": "3.9.18"
  }
 },
 "nbformat": 4,
 "nbformat_minor": 2
}
