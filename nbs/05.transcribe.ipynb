{
 "cells": [
  {
   "cell_type": "code",
   "execution_count": 1,
   "metadata": {},
   "outputs": [],
   "source": [
    "\n",
    "%load_ext autoreload\n",
    "%autoreload 2\n",
    "\n",
    "import sys\n",
    "sys.path.insert(0,'/app')"
   ]
  },
  {
   "cell_type": "code",
   "execution_count": 3,
   "metadata": {},
   "outputs": [],
   "source": [
    "\n",
    "from audio.redis import *\n",
    "from audio.audio import *\n",
    "import io\n",
    "from faster_whisper import WhisperModel\n",
    "\n",
    "import json\n",
    "\n",
    "import asyncio\n",
    "\n",
    "model_size = \"large-v3\"\n",
    "redis_client = await get_redis()\n",
    "\n",
    "model = WhisperModel(model_size, device=\"cuda\", compute_type=\"float16\")"
   ]
  },
  {
   "cell_type": "code",
   "execution_count": 4,
   "metadata": {},
   "outputs": [],
   "source": [
    "\n",
    "async def process():\n",
    "    _,segment = await redis_client.brpop('TranscribeQueue')\n",
    "    segment = json.loads(segment)\n",
    "    audio = Audio(segment['audio_id'],redis_client)\n",
    "    if await audio.get():\n",
    "        print(segment['name'])\n",
    "    try:\n",
    "        audio_data_slicer = AudioSlicer(audio.data)\n",
    "        segment_audio_data = await audio_data_slicer.export_data(segment['start'],segment['end'])\n",
    "\n",
    "        segments, _ = model.transcribe(io.BytesIO(segment_audio_data), beam_size=5)\n",
    "        data = [{'start':s.start, 'end':s.end, 'text':s.text} for s in list(segments)]\n",
    "        await Transcript(segment['name'],redis_client,data).save()\n",
    "        await redis_client.publish(f'TranscribeReady', segment[\"name\"])\n",
    "    except Exception as e:\n",
    "        print(e)\n",
    "        await redis_client.publish(f'TranscribeReady', segment[\"name\"])\n",
    "\n"
   ]
  },
  {
   "cell_type": "code",
   "execution_count": 11,
   "metadata": {},
   "outputs": [],
   "source": [
    "_,segment = await redis_client.brpop('TranscribeQueue')\n",
    "segment = json.loads(segment)\n",
    "audio = Audio(segment['audio_id'],redis_client)\n",
    "if await audio.get():\n",
    "    print(segment['name'])\n",
    "\n",
    "audio_data_slicer = AudioSlicer(audio.data)\n",
    "segment_audio_data = await audio_data_slicer.export_data(segment['start'],segment['end'])\n",
    "\n",
    "segments, _ = model.transcribe(io.BytesIO(segment_audio_data), beam_size=5)\n",
    "data = [{'start':s.start, 'end':s.end, 'text':s.text} for s in list(segments)]\n",
    "await Transcript(segment['name'],redis_client,data).save()\n",
    "await redis_client.publish(f'TranscribeReady', segment[\"name\"])\n"
   ]
  },
  {
   "cell_type": "code",
   "execution_count": 9,
   "metadata": {},
   "outputs": [
    {
     "name": "stdout",
     "output_type": "stream",
     "text": [
      "e929ea4c-2d63-45eb-90d9-2d1d6e161564\n",
      "[Errno 2] No such file or directory: 'ffprobe'\n"
     ]
    },
    {
     "name": "stderr",
     "output_type": "stream",
     "text": [
      "/usr/local/lib/python3.10/dist-packages/pydub/utils.py:198: RuntimeWarning: Couldn't find ffprobe or avprobe - defaulting to ffprobe, but may not work\n",
      "  warn(\"Couldn't find ffprobe or avprobe - defaulting to ffprobe, but may not work\", RuntimeWarning)\n"
     ]
    }
   ],
   "source": [
    "\n",
    "await process()\n"
   ]
  },
  {
   "cell_type": "code",
   "execution_count": null,
   "metadata": {},
   "outputs": [],
   "source": []
  }
 ],
 "metadata": {
  "kernelspec": {
   "display_name": "Python 3",
   "language": "python",
   "name": "python3"
  },
  "language_info": {
   "codemirror_mode": {
    "name": "ipython",
    "version": 3
   },
   "file_extension": ".py",
   "mimetype": "text/x-python",
   "name": "python",
   "nbconvert_exporter": "python",
   "pygments_lexer": "ipython3",
   "version": "3.9.5"
  }
 },
 "nbformat": 4,
 "nbformat_minor": 2
}
