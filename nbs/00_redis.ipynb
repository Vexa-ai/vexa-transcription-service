{
 "cells": [
  {
   "cell_type": "code",
   "execution_count": 1,
   "metadata": {},
   "outputs": [],
   "source": [
    "#| default_exp  redis"
   ]
  },
  {
   "cell_type": "code",
   "execution_count": 2,
   "metadata": {},
   "outputs": [],
   "source": [
    "\n",
    "%load_ext autoreload\n",
    "%autoreload 2\n",
    "\n",
    "import sys\n",
    "sys.path.insert(0,'/app')"
   ]
  },
  {
   "cell_type": "code",
   "execution_count": 3,
   "metadata": {},
   "outputs": [],
   "source": [
    "import nest_asyncio\n",
    "nest_asyncio.apply()"
   ]
  },
  {
   "cell_type": "code",
   "execution_count": 4,
   "metadata": {},
   "outputs": [
    {
     "name": "stderr",
     "output_type": "stream",
     "text": [
      "/tmp/ipykernel_89678/67589039.py:9: DeprecationWarning: \n",
      "Pyarrow will become a required dependency of pandas in the next major release of pandas (pandas 3.0),\n",
      "(to allow more performant data types, such as the Arrow string type, and better interoperability with other libraries)\n",
      "but was not found to be installed on your system.\n",
      "If this would cause problems for you,\n",
      "please provide us feedback at https://github.com/pandas-dev/pandas/issues/54466\n",
      "        \n",
      "  import pandas as pd\n"
     ]
    }
   ],
   "source": [
    "#| export\n",
    "try:\n",
    "    import redis.asyncio as aioredis\n",
    "    from pydantic import BaseModel\n",
    "    from typing import Optional,Union,List, Literal\n",
    "    from dataclasses import dataclass\n",
    "    import redis\n",
    "    import json\n",
    "    import pandas as pd\n",
    "except Exception as e:\n",
    "    print(e)\n",
    "    pass\n"
   ]
  },
  {
   "cell_type": "code",
   "execution_count": null,
   "metadata": {},
   "outputs": [],
   "source": [
    "#| export\n",
    "\n",
    "async def get_redis(host = 'host.docker.internal',port=6380):\n",
    "    \n",
    "    db = await aioredis.from_url(\n",
    "            f\"redis://{host}:{port}/0\",decode_responses=True\n",
    "        )\n",
    "\n",
    "    await db.ping()\n",
    "\n",
    "    return db"
   ]
  },
  {
   "cell_type": "code",
   "execution_count": null,
   "metadata": {},
   "outputs": [],
   "source": [
    "#| export\n",
    "\n",
    "async def get_inner_redis():\n",
    "    \n",
    "    db = await aioredis.from_url(\n",
    "            \"redis://redis:6379\",decode_responses=True\n",
    "        )\n",
    "\n",
    "    await db.ping()\n",
    "\n",
    "    return db"
   ]
  },
  {
   "cell_type": "code",
   "execution_count": 22,
   "metadata": {},
   "outputs": [],
   "source": [
    "redis_client = await get_inner_redis()"
   ]
  },
  {
   "cell_type": "code",
   "execution_count": 23,
   "metadata": {},
   "outputs": [],
   "source": [
    "embs = await redis_client.rpop('Embeddings')"
   ]
  },
  {
   "cell_type": "code",
   "execution_count": 24,
   "metadata": {},
   "outputs": [],
   "source": [
    "embs"
   ]
  },
  {
   "cell_type": "code",
   "execution_count": null,
   "metadata": {},
   "outputs": [
    {
     "data": {
      "text/plain": [
       "0"
      ]
     },
     "execution_count": 23,
     "metadata": {},
     "output_type": "execute_result"
    }
   ],
   "source": [
    "await client.delete('Audio2TranscribeQueue')"
   ]
  },
  {
   "cell_type": "code",
   "execution_count": null,
   "metadata": {},
   "outputs": [
    {
     "data": {
      "text/plain": [
       "0"
      ]
     },
     "execution_count": 24,
     "metadata": {},
     "output_type": "execute_result"
    }
   ],
   "source": [
    "await client.delete('Audio2DiarizeQueue')"
   ]
  },
  {
   "cell_type": "code",
   "execution_count": 19,
   "metadata": {},
   "outputs": [],
   "source": [
    "# from host\n",
    "\n",
    "async def get_stream_redis():\n",
    "    \n",
    "    db = await aioredis.from_url(\n",
    "            \"redis://localhost:6380/0\",decode_responses=True\n",
    "        )\n",
    "\n",
    "    await db.ping()\n",
    "\n",
    "    return db"
   ]
  },
  {
   "cell_type": "code",
   "execution_count": 20,
   "metadata": {},
   "outputs": [],
   "source": [
    "stream_client = await get_stream_redis()"
   ]
  },
  {
   "cell_type": "code",
   "execution_count": 37,
   "metadata": {},
   "outputs": [],
   "source": [
    "connection_id = '2e83a1e4-4f92-4041-9d64-2e286c70b32d--0'"
   ]
  },
  {
   "cell_type": "code",
   "execution_count": 38,
   "metadata": {},
   "outputs": [],
   "source": [
    "client_id = await stream_client.hget(\"token_client_map\", '159471')"
   ]
  },
  {
   "cell_type": "code",
   "execution_count": 39,
   "metadata": {},
   "outputs": [
    {
     "data": {
      "text/plain": [
       "'1'"
      ]
     },
     "execution_count": 39,
     "metadata": {},
     "output_type": "execute_result"
    }
   ],
   "source": [
    "client_id"
   ]
  },
  {
   "cell_type": "code",
   "execution_count": 34,
   "metadata": {},
   "outputs": [
    {
     "data": {
      "text/plain": [
       "0"
      ]
     },
     "execution_count": 34,
     "metadata": {},
     "output_type": "execute_result"
    }
   ],
   "source": [
    "await stream_client.hset(\"connection_client_map\", '2e83a1e4-4f92-4041-9d64-2e286c70b32d--0', client_id)"
   ]
  },
  {
   "cell_type": "code",
   "execution_count": 41,
   "metadata": {},
   "outputs": [],
   "source": [
    "c = await stream_client.hget('connection_client_map',connection_id)"
   ]
  },
  {
   "cell_type": "code",
   "execution_count": 42,
   "metadata": {},
   "outputs": [
    {
     "data": {
      "text/plain": [
       "'1'"
      ]
     },
     "execution_count": 42,
     "metadata": {},
     "output_type": "execute_result"
    }
   ],
   "source": [
    "c"
   ]
  },
  {
   "cell_type": "code",
   "execution_count": 21,
   "metadata": {},
   "outputs": [],
   "source": [
    "#| export\n",
    "\n",
    "async def get_connections_df(name, redis_client, min_length=1, pattern='*'):\n",
    "    \"\"\"\n",
    "    Finds queues that match a given pattern and have a minimum number of items,\n",
    "    and returns a DataFrame with queue names and their lengths.\n",
    "    \"\"\"\n",
    "    matching_queues = []\n",
    "    queue_lengths = []\n",
    "    cursor = '0'\n",
    "    while cursor != 0:\n",
    "        cursor, keys = await redis_client.scan(cursor, match=f'{name}:{pattern}', count=min_length)\n",
    "        for key in keys:\n",
    "            if await redis_client.type(key) == 'list' and await redis_client.llen(key) >= min_length:\n",
    "                matching_queues.append(key)\n",
    "                length = await redis_client.llen(key)\n",
    "                queue_lengths.append(length)\n",
    "\n",
    "    data = {\n",
    "        'queue': matching_queues,\n",
    "        'length': queue_lengths\n",
    "    }\n",
    "    return pd.DataFrame(data)\n"
   ]
  },
  {
   "cell_type": "code",
   "execution_count": 22,
   "metadata": {},
   "outputs": [],
   "source": [
    "#| export\n",
    "async def get_connections(name, redis_client, min_length=1, pattern='*'):\n",
    "    \"\"\"\n",
    "    Finds queues that match a given pattern and have a minimum number of items,\n",
    "    and returns a DataFrame with queue names and their lengths.\n",
    "    \"\"\"\n",
    "    matching_queues = []\n",
    "    queue_lengths = []\n",
    "    cursor = '0'\n",
    "    while cursor != 0:\n",
    "        cursor, keys = await redis_client.scan(cursor, match=f'{name}:{pattern}', count=min_length)\n",
    "        for key in keys:\n",
    "            if await redis_client.type(key) == 'list' and await redis_client.llen(key) >= min_length:\n",
    "                matching_queues.append(key)\n",
    "\n",
    "    return matching_queues"
   ]
  },
  {
   "cell_type": "code",
   "execution_count": 23,
   "metadata": {},
   "outputs": [],
   "source": [
    "#| export\n",
    "class StreamItem(BaseModel):\n",
    "    chunk: bytes\n",
    "    timestamp: Optional[str] = None\n",
    "\n",
    "    def dump(self):\n",
    "        chunk = self.chunk.hex()\n",
    "        self.timestamp =  str(datetime.utcnow())\n",
    "\n",
    "\n",
    "        return {\n",
    "                \"chunk\": chunk,\n",
    "                \"timestamp\":self.timestamp\n",
    "                }\n",
    "\n",
    "    @classmethod\n",
    "    def load(cls, item):\n",
    "        item = json.loads(item)\n",
    "        chunk = bytes.fromhex(item['chunk'])\n",
    "        return cls(chunk=bytes.fromhex(item['chunk']), timestamp=item['timestamp'])\n"
   ]
  },
  {
   "cell_type": "code",
   "execution_count": null,
   "metadata": {},
   "outputs": [],
   "source": [
    "#| export\n",
    "class ApiConnection:\n",
    "    \"\"\"\n",
    "    connection to initial chrome extention feed\n",
    "    \"\"\"\n",
    "    def __init__(self, conn_id, redis_client):\n",
    "        self.id = conn_id\n",
    "        self.redis_client = redis_client\n",
    "        self.name = f\"Connection:{self.id}\"\n",
    "        self.start_timestamp = pd.Timestamp.utcnow()\n",
    "        self.queue = f\"initialFeed_audio:{self.id}\"\n",
    "\n",
    "\n",
    "    async def set_open(self):\n",
    "            self.open = True\n",
    "            await self.set_update()\n",
    "\n",
    "    async def set_closed(self):\n",
    "        self.open = False\n",
    "        await self.set_update()\n",
    "\n",
    "    async def set_update(self):\n",
    "        await self.redis_client.hset(self.name, 'open', int(self.open))\n",
    "\n",
    "    async def enqueue(self, message):\n",
    "        await self.redis_client.lpush(self.queue, json.dumps(message))\n",
    "\n",
    "    async def check_open(self):\n",
    "        self.open = bool(int(await self.redis_client.hget(self.name, 'open')))\n",
    "        return self.open\n",
    "    \n",
    "    async def delete(self):\n",
    "        await self.redis_client.delete(self.name)\n",
    "        await self.redis_client.delete(self.queue)\n",
    "\n",
    "    async def pop_multiple(self, max_len, min_len=1):\n",
    "        lua_script = \"\"\"\n",
    "        local items = {}\n",
    "        for i = 1, tonumber(ARGV[1]) do\n",
    "            local item = redis.call('rpop', KEYS[1])\n",
    "            if item == nil then\n",
    "                break\n",
    "            end\n",
    "            table.insert(items, item)\n",
    "        end\n",
    "        return items\n",
    "        \"\"\"\n",
    "        if await self.redis_client.llen(self.queue) >= min_len:\n",
    "            items = await self.redis_client.eval(lua_script, 1, self.queue, max_len)\n",
    "            items = [i for i in items if i]\n",
    "            return [StreamItem.load(i) for i in items]\n",
    "        else:\n",
    "            print('items not available')\n",
    "        \n",
    "    async def get_queue_length(self):\n",
    "        return await self.redis_client.llen(self.queue)\n",
    "    \n",
    "    async def get_all_queue(self):\n",
    "        items =  await self.redis_client.lrange(self.queue, 0, -1)\n",
    "        items = [i for i in items if i]\n",
    "        return [StreamItem.load(i) for i in items]\n",
    "    \n",
    "\n",
    "    \n",
    "\n"
   ]
  },
  {
   "cell_type": "code",
   "execution_count": null,
   "metadata": {},
   "outputs": [],
   "source": [
    "#| export\n",
    "async def start_process_audio_file(conn_id,redis_client,start = 0):\n",
    "    await redis_client.lpush(f'Start:{conn_id}', 0)\n",
    "    await redis_client.sadd(f'Processfromfile',conn_id)"
   ]
  },
  {
   "cell_type": "code",
   "execution_count": 31,
   "metadata": {},
   "outputs": [],
   "source": [
    "#| export\n",
    "@dataclass\n",
    "class Data:\n",
    "    chunk_name:str\n",
    "    key:Literal['audio','transcription','diarisation']\n",
    "    redis_client: redis.client.Redis\n",
    "    data: Union[List, bytes]=None\n",
    "    \n",
    "\n",
    "    async def save(self):\n",
    "            if isinstance(self.data, bytes): \n",
    "                data = self.data.hex()\n",
    "            else: \n",
    "                data = json.dumps(self.data)\n",
    "            await self.redis_client.hset(self.chunk_name, self.key, data)\n",
    "\n",
    "    async def get(self):\n",
    "        data = await self.redis_client.hget(self.chunk_name, self.key)\n",
    "        if data:\n",
    "            if self.key == 'audio': \n",
    "                self.data = bytes.fromhex(data)\n",
    "            else: \n",
    "                self.data = json.loads(data)\n",
    "        else: \n",
    "            self.data = None\n",
    "        return bool(data)\n",
    "\n",
    "    \n",
    "    async def delete(self):\n",
    "        return bool(await self.redis_client.delete(self.chunk_name))\n",
    "\n",
    "\n",
    "\n",
    "class Audio(Data):\n",
    "    def __init__(self, chunk_name: str, redis_client: redis.client.Redis, data: bytes = None):\n",
    "        super().__init__(chunk_name=chunk_name, key='audio', redis_client=redis_client, data=data)\n",
    "\n",
    "    async def fix(self):\n",
    "        self.data = await asyncio.to_thread(fix_mp3_data, self.data)\n",
    "        \n",
    "\n",
    "class Transcript(Data):\n",
    "    def __init__(self, chunk_name: str, redis_client: redis.client.Redis, data: List = None):\n",
    "        super().__init__(chunk_name=chunk_name, key='transcription', redis_client=redis_client, data=data)\n",
    "\n",
    "class Diarisation(Data):\n",
    "    def __init__(self, chunk_name: str, redis_client: redis.client.Redis, data: List = None):\n",
    "        super().__init__(chunk_name=chunk_name, key='diarisation', redis_client=redis_client, data=data)\n"
   ]
  },
  {
   "cell_type": "code",
   "execution_count": null,
   "metadata": {},
   "outputs": [],
   "source": []
  },
  {
   "cell_type": "code",
   "execution_count": null,
   "metadata": {},
   "outputs": [],
   "source": []
  }
 ],
 "metadata": {
  "kernelspec": {
   "display_name": "Python 3",
   "language": "python",
   "name": "python3"
  },
  "language_info": {
   "codemirror_mode": {
    "name": "ipython",
    "version": 3
   },
   "file_extension": ".py",
   "mimetype": "text/x-python",
   "name": "python",
   "nbconvert_exporter": "python",
   "pygments_lexer": "ipython3",
   "version": "3.9.18"
  }
 },
 "nbformat": 4,
 "nbformat_minor": 2
}
