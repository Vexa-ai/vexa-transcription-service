{
 "cells": [
  {
   "cell_type": "code",
   "execution_count": 1,
   "metadata": {},
   "outputs": [],
   "source": [
    "#| default_exp  redis"
   ]
  },
  {
   "cell_type": "code",
   "execution_count": 2,
   "metadata": {},
   "outputs": [],
   "source": [
    "\n",
    "%load_ext autoreload\n",
    "%autoreload 2\n",
    "\n",
    "import sys\n",
    "sys.path.insert(0,'/app')"
   ]
  },
  {
   "cell_type": "code",
   "execution_count": 3,
   "metadata": {},
   "outputs": [],
   "source": [
    "import nest_asyncio\n",
    "nest_asyncio.apply()"
   ]
  },
  {
   "cell_type": "code",
   "execution_count": 4,
   "metadata": {},
   "outputs": [],
   "source": [
    "#| export\n",
    "try:\n",
    "    import redis.asyncio as aioredis\n",
    "    from pydantic import BaseModel\n",
    "    from typing import Optional,Union,List, Literal\n",
    "    from dataclasses import dataclass\n",
    "    import redis\n",
    "    import json\n",
    "    import pandas as pd\n",
    "except Exception as e:\n",
    "    print(e)\n",
    "    pass\n"
   ]
  },
  {
   "cell_type": "code",
   "execution_count": 5,
   "metadata": {},
   "outputs": [],
   "source": [
    "#| export\n",
    "\n",
    "async def get_inner_redis():\n",
    "    \n",
    "    db = await aioredis.from_url(\n",
    "            \"redis://redis:6379\",decode_responses=True\n",
    "        )\n",
    "\n",
    "    await db.ping()\n",
    "\n",
    "    return db"
   ]
  },
  {
   "cell_type": "code",
   "execution_count": 6,
   "metadata": {},
   "outputs": [
    {
     "ename": "ConnectionError",
     "evalue": "Error -3 connecting to redis:6379. -3.",
     "output_type": "error",
     "traceback": [
      "\u001b[0;31m---------------------------------------------------------------------------\u001b[0m",
      "\u001b[0;31mgaierror\u001b[0m                                  Traceback (most recent call last)",
      "File \u001b[0;32m~/anaconda3/envs/langchain/lib/python3.11/site-packages/redis/asyncio/connection.py:243\u001b[0m, in \u001b[0;36mAbstractConnection.connect\u001b[0;34m(self)\u001b[0m\n\u001b[1;32m    242\u001b[0m \u001b[38;5;28;01mtry\u001b[39;00m:\n\u001b[0;32m--> 243\u001b[0m     \u001b[38;5;28;01mawait\u001b[39;00m \u001b[38;5;28mself\u001b[39m\u001b[38;5;241m.\u001b[39mretry\u001b[38;5;241m.\u001b[39mcall_with_retry(\n\u001b[1;32m    244\u001b[0m         \u001b[38;5;28;01mlambda\u001b[39;00m: \u001b[38;5;28mself\u001b[39m\u001b[38;5;241m.\u001b[39m_connect(), \u001b[38;5;28;01mlambda\u001b[39;00m error: \u001b[38;5;28mself\u001b[39m\u001b[38;5;241m.\u001b[39mdisconnect()\n\u001b[1;32m    245\u001b[0m     )\n\u001b[1;32m    246\u001b[0m \u001b[38;5;28;01mexcept\u001b[39;00m asyncio\u001b[38;5;241m.\u001b[39mCancelledError:\n",
      "File \u001b[0;32m~/anaconda3/envs/langchain/lib/python3.11/site-packages/redis/asyncio/retry.py:59\u001b[0m, in \u001b[0;36mRetry.call_with_retry\u001b[0;34m(self, do, fail)\u001b[0m\n\u001b[1;32m     58\u001b[0m \u001b[38;5;28;01mtry\u001b[39;00m:\n\u001b[0;32m---> 59\u001b[0m     \u001b[38;5;28;01mreturn\u001b[39;00m \u001b[38;5;28;01mawait\u001b[39;00m do()\n\u001b[1;32m     60\u001b[0m \u001b[38;5;28;01mexcept\u001b[39;00m \u001b[38;5;28mself\u001b[39m\u001b[38;5;241m.\u001b[39m_supported_errors \u001b[38;5;28;01mas\u001b[39;00m error:\n",
      "File \u001b[0;32m~/anaconda3/envs/langchain/lib/python3.11/site-packages/redis/asyncio/connection.py:650\u001b[0m, in \u001b[0;36mConnection._connect\u001b[0;34m(self)\u001b[0m\n\u001b[1;32m    649\u001b[0m \u001b[38;5;28;01masync\u001b[39;00m \u001b[38;5;28;01mwith\u001b[39;00m async_timeout(\u001b[38;5;28mself\u001b[39m\u001b[38;5;241m.\u001b[39msocket_connect_timeout):\n\u001b[0;32m--> 650\u001b[0m     reader, writer \u001b[38;5;241m=\u001b[39m \u001b[38;5;28;01mawait\u001b[39;00m asyncio\u001b[38;5;241m.\u001b[39mopen_connection(\n\u001b[1;32m    651\u001b[0m         \u001b[38;5;241m*\u001b[39m\u001b[38;5;241m*\u001b[39m\u001b[38;5;28mself\u001b[39m\u001b[38;5;241m.\u001b[39m_connection_arguments()\n\u001b[1;32m    652\u001b[0m     )\n\u001b[1;32m    653\u001b[0m \u001b[38;5;28mself\u001b[39m\u001b[38;5;241m.\u001b[39m_reader \u001b[38;5;241m=\u001b[39m reader\n",
      "File \u001b[0;32m~/anaconda3/envs/langchain/lib/python3.11/asyncio/streams.py:48\u001b[0m, in \u001b[0;36mopen_connection\u001b[0;34m(host, port, limit, **kwds)\u001b[0m\n\u001b[1;32m     47\u001b[0m protocol \u001b[38;5;241m=\u001b[39m StreamReaderProtocol(reader, loop\u001b[38;5;241m=\u001b[39mloop)\n\u001b[0;32m---> 48\u001b[0m transport, _ \u001b[38;5;241m=\u001b[39m \u001b[38;5;28;01mawait\u001b[39;00m loop\u001b[38;5;241m.\u001b[39mcreate_connection(\n\u001b[1;32m     49\u001b[0m     \u001b[38;5;28;01mlambda\u001b[39;00m: protocol, host, port, \u001b[38;5;241m*\u001b[39m\u001b[38;5;241m*\u001b[39mkwds)\n\u001b[1;32m     50\u001b[0m writer \u001b[38;5;241m=\u001b[39m StreamWriter(transport, protocol, reader, loop)\n",
      "File \u001b[0;32m~/anaconda3/envs/langchain/lib/python3.11/asyncio/base_events.py:1045\u001b[0m, in \u001b[0;36mBaseEventLoop.create_connection\u001b[0;34m(self, protocol_factory, host, port, ssl, family, proto, flags, sock, local_addr, server_hostname, ssl_handshake_timeout, ssl_shutdown_timeout, happy_eyeballs_delay, interleave)\u001b[0m\n\u001b[1;32m   1042\u001b[0m     \u001b[38;5;28;01mraise\u001b[39;00m \u001b[38;5;167;01mValueError\u001b[39;00m(\n\u001b[1;32m   1043\u001b[0m         \u001b[38;5;124m'\u001b[39m\u001b[38;5;124mhost/port and sock can not be specified at the same time\u001b[39m\u001b[38;5;124m'\u001b[39m)\n\u001b[0;32m-> 1045\u001b[0m infos \u001b[38;5;241m=\u001b[39m \u001b[38;5;28;01mawait\u001b[39;00m \u001b[38;5;28mself\u001b[39m\u001b[38;5;241m.\u001b[39m_ensure_resolved(\n\u001b[1;32m   1046\u001b[0m     (host, port), family\u001b[38;5;241m=\u001b[39mfamily,\n\u001b[1;32m   1047\u001b[0m     \u001b[38;5;28mtype\u001b[39m\u001b[38;5;241m=\u001b[39msocket\u001b[38;5;241m.\u001b[39mSOCK_STREAM, proto\u001b[38;5;241m=\u001b[39mproto, flags\u001b[38;5;241m=\u001b[39mflags, loop\u001b[38;5;241m=\u001b[39m\u001b[38;5;28mself\u001b[39m)\n\u001b[1;32m   1048\u001b[0m \u001b[38;5;28;01mif\u001b[39;00m \u001b[38;5;129;01mnot\u001b[39;00m infos:\n",
      "File \u001b[0;32m~/anaconda3/envs/langchain/lib/python3.11/asyncio/base_events.py:1419\u001b[0m, in \u001b[0;36mBaseEventLoop._ensure_resolved\u001b[0;34m(self, address, family, type, proto, flags, loop)\u001b[0m\n\u001b[1;32m   1418\u001b[0m \u001b[38;5;28;01melse\u001b[39;00m:\n\u001b[0;32m-> 1419\u001b[0m     \u001b[38;5;28;01mreturn\u001b[39;00m \u001b[38;5;28;01mawait\u001b[39;00m loop\u001b[38;5;241m.\u001b[39mgetaddrinfo(host, port, family\u001b[38;5;241m=\u001b[39mfamily, \u001b[38;5;28mtype\u001b[39m\u001b[38;5;241m=\u001b[39m\u001b[38;5;28mtype\u001b[39m,\n\u001b[1;32m   1420\u001b[0m                                   proto\u001b[38;5;241m=\u001b[39mproto, flags\u001b[38;5;241m=\u001b[39mflags)\n",
      "File \u001b[0;32m~/anaconda3/envs/langchain/lib/python3.11/asyncio/base_events.py:867\u001b[0m, in \u001b[0;36mBaseEventLoop.getaddrinfo\u001b[0;34m(self, host, port, family, type, proto, flags)\u001b[0m\n\u001b[1;32m    865\u001b[0m     getaddr_func \u001b[38;5;241m=\u001b[39m socket\u001b[38;5;241m.\u001b[39mgetaddrinfo\n\u001b[0;32m--> 867\u001b[0m \u001b[38;5;28;01mreturn\u001b[39;00m \u001b[38;5;28;01mawait\u001b[39;00m \u001b[38;5;28mself\u001b[39m\u001b[38;5;241m.\u001b[39mrun_in_executor(\n\u001b[1;32m    868\u001b[0m     \u001b[38;5;28;01mNone\u001b[39;00m, getaddr_func, host, port, family, \u001b[38;5;28mtype\u001b[39m, proto, flags)\n",
      "File \u001b[0;32m~/anaconda3/envs/langchain/lib/python3.11/asyncio/futures.py:287\u001b[0m, in \u001b[0;36mFuture.__await__\u001b[0;34m(self)\u001b[0m\n\u001b[1;32m    286\u001b[0m     \u001b[38;5;28mself\u001b[39m\u001b[38;5;241m.\u001b[39m_asyncio_future_blocking \u001b[38;5;241m=\u001b[39m \u001b[38;5;28;01mTrue\u001b[39;00m\n\u001b[0;32m--> 287\u001b[0m     \u001b[38;5;28;01myield\u001b[39;00m \u001b[38;5;28mself\u001b[39m  \u001b[38;5;66;03m# This tells Task to wait for completion.\u001b[39;00m\n\u001b[1;32m    288\u001b[0m \u001b[38;5;28;01mif\u001b[39;00m \u001b[38;5;129;01mnot\u001b[39;00m \u001b[38;5;28mself\u001b[39m\u001b[38;5;241m.\u001b[39mdone():\n",
      "File \u001b[0;32m~/anaconda3/envs/langchain/lib/python3.11/asyncio/tasks.py:339\u001b[0m, in \u001b[0;36mTask.__wakeup\u001b[0;34m(self, future)\u001b[0m\n\u001b[1;32m    338\u001b[0m \u001b[38;5;28;01mtry\u001b[39;00m:\n\u001b[0;32m--> 339\u001b[0m     \u001b[43mfuture\u001b[49m\u001b[38;5;241;43m.\u001b[39;49m\u001b[43mresult\u001b[49m\u001b[43m(\u001b[49m\u001b[43m)\u001b[49m\n\u001b[1;32m    340\u001b[0m \u001b[38;5;28;01mexcept\u001b[39;00m \u001b[38;5;167;01mBaseException\u001b[39;00m \u001b[38;5;28;01mas\u001b[39;00m exc:\n\u001b[1;32m    341\u001b[0m     \u001b[38;5;66;03m# This may also be a cancellation.\u001b[39;00m\n",
      "File \u001b[0;32m~/anaconda3/envs/langchain/lib/python3.11/asyncio/futures.py:203\u001b[0m, in \u001b[0;36mFuture.result\u001b[0;34m(self)\u001b[0m\n\u001b[1;32m    202\u001b[0m \u001b[38;5;28;01mif\u001b[39;00m \u001b[38;5;28mself\u001b[39m\u001b[38;5;241m.\u001b[39m_exception \u001b[38;5;129;01mis\u001b[39;00m \u001b[38;5;129;01mnot\u001b[39;00m \u001b[38;5;28;01mNone\u001b[39;00m:\n\u001b[0;32m--> 203\u001b[0m     \u001b[38;5;28;01mraise\u001b[39;00m \u001b[38;5;28mself\u001b[39m\u001b[38;5;241m.\u001b[39m_exception\u001b[38;5;241m.\u001b[39mwith_traceback(\u001b[38;5;28mself\u001b[39m\u001b[38;5;241m.\u001b[39m_exception_tb)\n\u001b[1;32m    204\u001b[0m \u001b[38;5;28;01mreturn\u001b[39;00m \u001b[38;5;28mself\u001b[39m\u001b[38;5;241m.\u001b[39m_result\n",
      "File \u001b[0;32m~/anaconda3/envs/langchain/lib/python3.11/concurrent/futures/thread.py:58\u001b[0m, in \u001b[0;36m_WorkItem.run\u001b[0;34m(self)\u001b[0m\n\u001b[1;32m     57\u001b[0m \u001b[38;5;28;01mtry\u001b[39;00m:\n\u001b[0;32m---> 58\u001b[0m     result \u001b[38;5;241m=\u001b[39m \u001b[38;5;28;43mself\u001b[39;49m\u001b[38;5;241;43m.\u001b[39;49m\u001b[43mfn\u001b[49m\u001b[43m(\u001b[49m\u001b[38;5;241;43m*\u001b[39;49m\u001b[38;5;28;43mself\u001b[39;49m\u001b[38;5;241;43m.\u001b[39;49m\u001b[43margs\u001b[49m\u001b[43m,\u001b[49m\u001b[43m \u001b[49m\u001b[38;5;241;43m*\u001b[39;49m\u001b[38;5;241;43m*\u001b[39;49m\u001b[38;5;28;43mself\u001b[39;49m\u001b[38;5;241;43m.\u001b[39;49m\u001b[43mkwargs\u001b[49m\u001b[43m)\u001b[49m\n\u001b[1;32m     59\u001b[0m \u001b[38;5;28;01mexcept\u001b[39;00m \u001b[38;5;167;01mBaseException\u001b[39;00m \u001b[38;5;28;01mas\u001b[39;00m exc:\n",
      "File \u001b[0;32m~/anaconda3/envs/langchain/lib/python3.11/socket.py:962\u001b[0m, in \u001b[0;36mgetaddrinfo\u001b[0;34m(host, port, family, type, proto, flags)\u001b[0m\n\u001b[1;32m    961\u001b[0m addrlist \u001b[38;5;241m=\u001b[39m []\n\u001b[0;32m--> 962\u001b[0m \u001b[38;5;28;01mfor\u001b[39;00m res \u001b[38;5;129;01min\u001b[39;00m \u001b[43m_socket\u001b[49m\u001b[38;5;241;43m.\u001b[39;49m\u001b[43mgetaddrinfo\u001b[49m\u001b[43m(\u001b[49m\u001b[43mhost\u001b[49m\u001b[43m,\u001b[49m\u001b[43m \u001b[49m\u001b[43mport\u001b[49m\u001b[43m,\u001b[49m\u001b[43m \u001b[49m\u001b[43mfamily\u001b[49m\u001b[43m,\u001b[49m\u001b[43m \u001b[49m\u001b[38;5;28;43mtype\u001b[39;49m\u001b[43m,\u001b[49m\u001b[43m \u001b[49m\u001b[43mproto\u001b[49m\u001b[43m,\u001b[49m\u001b[43m \u001b[49m\u001b[43mflags\u001b[49m\u001b[43m)\u001b[49m:\n\u001b[1;32m    963\u001b[0m     af, socktype, proto, canonname, sa \u001b[38;5;241m=\u001b[39m res\n",
      "\u001b[0;31mgaierror\u001b[0m: [Errno -3] Temporary failure in name resolution",
      "\nDuring handling of the above exception, another exception occurred:\n",
      "\u001b[0;31mConnectionError\u001b[0m                           Traceback (most recent call last)",
      "Cell \u001b[0;32mIn[6], line 1\u001b[0m\n\u001b[0;32m----> 1\u001b[0m client \u001b[38;5;241m=\u001b[39m \u001b[38;5;28;01mawait\u001b[39;00m get_inner_redis()\n",
      "Cell \u001b[0;32mIn[5], line 9\u001b[0m, in \u001b[0;36mget_inner_redis\u001b[0;34m()\u001b[0m\n\u001b[1;32m      3\u001b[0m \u001b[38;5;28;01masync\u001b[39;00m \u001b[38;5;28;01mdef\u001b[39;00m \u001b[38;5;21mget_inner_redis\u001b[39m():\n\u001b[1;32m      5\u001b[0m     db \u001b[38;5;241m=\u001b[39m \u001b[38;5;28;01mawait\u001b[39;00m aioredis\u001b[38;5;241m.\u001b[39mfrom_url(\n\u001b[1;32m      6\u001b[0m             \u001b[38;5;124m\"\u001b[39m\u001b[38;5;124mredis://redis:6379\u001b[39m\u001b[38;5;124m\"\u001b[39m,decode_responses\u001b[38;5;241m=\u001b[39m\u001b[38;5;28;01mTrue\u001b[39;00m\n\u001b[1;32m      7\u001b[0m         )\n\u001b[0;32m----> 9\u001b[0m     \u001b[38;5;28;01mawait\u001b[39;00m db\u001b[38;5;241m.\u001b[39mping()\n\u001b[1;32m     11\u001b[0m     \u001b[38;5;28;01mreturn\u001b[39;00m db\n",
      "File \u001b[0;32m~/anaconda3/envs/langchain/lib/python3.11/site-packages/redis/asyncio/client.py:601\u001b[0m, in \u001b[0;36mRedis.execute_command\u001b[0;34m(self, *args, **options)\u001b[0m\n\u001b[1;32m    599\u001b[0m pool \u001b[38;5;241m=\u001b[39m \u001b[38;5;28mself\u001b[39m\u001b[38;5;241m.\u001b[39mconnection_pool\n\u001b[1;32m    600\u001b[0m command_name \u001b[38;5;241m=\u001b[39m args[\u001b[38;5;241m0\u001b[39m]\n\u001b[0;32m--> 601\u001b[0m conn \u001b[38;5;241m=\u001b[39m \u001b[38;5;28mself\u001b[39m\u001b[38;5;241m.\u001b[39mconnection \u001b[38;5;129;01mor\u001b[39;00m \u001b[38;5;28;01mawait\u001b[39;00m pool\u001b[38;5;241m.\u001b[39mget_connection(command_name, \u001b[38;5;241m*\u001b[39m\u001b[38;5;241m*\u001b[39moptions)\n\u001b[1;32m    603\u001b[0m \u001b[38;5;28;01mif\u001b[39;00m \u001b[38;5;28mself\u001b[39m\u001b[38;5;241m.\u001b[39msingle_connection_client:\n\u001b[1;32m    604\u001b[0m     \u001b[38;5;28;01mawait\u001b[39;00m \u001b[38;5;28mself\u001b[39m\u001b[38;5;241m.\u001b[39m_single_conn_lock\u001b[38;5;241m.\u001b[39macquire()\n",
      "File \u001b[0;32m~/anaconda3/envs/langchain/lib/python3.11/site-packages/redis/asyncio/connection.py:1040\u001b[0m, in \u001b[0;36mConnectionPool.get_connection\u001b[0;34m(self, command_name, *keys, **options)\u001b[0m\n\u001b[1;32m   1037\u001b[0m \u001b[38;5;28mself\u001b[39m\u001b[38;5;241m.\u001b[39m_in_use_connections\u001b[38;5;241m.\u001b[39madd(connection)\n\u001b[1;32m   1039\u001b[0m \u001b[38;5;28;01mtry\u001b[39;00m:\n\u001b[0;32m-> 1040\u001b[0m     \u001b[38;5;28;01mawait\u001b[39;00m \u001b[38;5;28mself\u001b[39m\u001b[38;5;241m.\u001b[39mensure_connection(connection)\n\u001b[1;32m   1041\u001b[0m \u001b[38;5;28;01mexcept\u001b[39;00m \u001b[38;5;167;01mBaseException\u001b[39;00m:\n\u001b[1;32m   1042\u001b[0m     \u001b[38;5;28;01mawait\u001b[39;00m \u001b[38;5;28mself\u001b[39m\u001b[38;5;241m.\u001b[39mrelease(connection)\n",
      "File \u001b[0;32m~/anaconda3/envs/langchain/lib/python3.11/site-packages/redis/asyncio/connection.py:1062\u001b[0m, in \u001b[0;36mConnectionPool.ensure_connection\u001b[0;34m(self, connection)\u001b[0m\n\u001b[1;32m   1060\u001b[0m \u001b[38;5;28;01masync\u001b[39;00m \u001b[38;5;28;01mdef\u001b[39;00m \u001b[38;5;21mensure_connection\u001b[39m(\u001b[38;5;28mself\u001b[39m, connection: AbstractConnection):\n\u001b[1;32m   1061\u001b[0m \u001b[38;5;250m    \u001b[39m\u001b[38;5;124;03m\"\"\"Ensure that the connection object is connected and valid\"\"\"\u001b[39;00m\n\u001b[0;32m-> 1062\u001b[0m     \u001b[38;5;28;01mawait\u001b[39;00m connection\u001b[38;5;241m.\u001b[39mconnect()\n\u001b[1;32m   1063\u001b[0m     \u001b[38;5;66;03m# connections that the pool provides should be ready to send\u001b[39;00m\n\u001b[1;32m   1064\u001b[0m     \u001b[38;5;66;03m# a command. if not, the connection was either returned to the\u001b[39;00m\n\u001b[1;32m   1065\u001b[0m     \u001b[38;5;66;03m# pool before all data has been read or the socket has been\u001b[39;00m\n\u001b[1;32m   1066\u001b[0m     \u001b[38;5;66;03m# closed. either way, reconnect and verify everything is good.\u001b[39;00m\n\u001b[1;32m   1067\u001b[0m     \u001b[38;5;28;01mtry\u001b[39;00m:\n",
      "File \u001b[0;32m~/anaconda3/envs/langchain/lib/python3.11/site-packages/redis/asyncio/connection.py:251\u001b[0m, in \u001b[0;36mAbstractConnection.connect\u001b[0;34m(self)\u001b[0m\n\u001b[1;32m    249\u001b[0m     \u001b[38;5;28;01mraise\u001b[39;00m \u001b[38;5;167;01mTimeoutError\u001b[39;00m(\u001b[38;5;124m\"\u001b[39m\u001b[38;5;124mTimeout connecting to server\u001b[39m\u001b[38;5;124m\"\u001b[39m)\n\u001b[1;32m    250\u001b[0m \u001b[38;5;28;01mexcept\u001b[39;00m \u001b[38;5;167;01mOSError\u001b[39;00m \u001b[38;5;28;01mas\u001b[39;00m e:\n\u001b[0;32m--> 251\u001b[0m     \u001b[38;5;28;01mraise\u001b[39;00m \u001b[38;5;167;01mConnectionError\u001b[39;00m(\u001b[38;5;28mself\u001b[39m\u001b[38;5;241m.\u001b[39m_error_message(e))\n\u001b[1;32m    252\u001b[0m \u001b[38;5;28;01mexcept\u001b[39;00m \u001b[38;5;167;01mException\u001b[39;00m \u001b[38;5;28;01mas\u001b[39;00m exc:\n\u001b[1;32m    253\u001b[0m     \u001b[38;5;28;01mraise\u001b[39;00m \u001b[38;5;167;01mConnectionError\u001b[39;00m(exc) \u001b[38;5;28;01mfrom\u001b[39;00m \u001b[38;5;21;01mexc\u001b[39;00m\n",
      "\u001b[0;31mConnectionError\u001b[0m: Error -3 connecting to redis:6379. -3."
     ]
    }
   ],
   "source": [
    "client = await get_inner_redis()"
   ]
  },
  {
   "cell_type": "code",
   "execution_count": null,
   "metadata": {},
   "outputs": [
    {
     "data": {
      "text/plain": [
       "0"
      ]
     },
     "execution_count": 23,
     "metadata": {},
     "output_type": "execute_result"
    }
   ],
   "source": [
    "await client.delete('Audio2TranscribeQueue')"
   ]
  },
  {
   "cell_type": "code",
   "execution_count": null,
   "metadata": {},
   "outputs": [
    {
     "data": {
      "text/plain": [
       "0"
      ]
     },
     "execution_count": 24,
     "metadata": {},
     "output_type": "execute_result"
    }
   ],
   "source": [
    "await client.delete('Audio2DiarizeQueue')"
   ]
  },
  {
   "cell_type": "code",
   "execution_count": null,
   "metadata": {},
   "outputs": [],
   "source": [
    "#| export\n",
    "\n",
    "async def get_stream_redis(host = 'host.docker.internal'):\n",
    "    \n",
    "    db = await aioredis.from_url(\n",
    "            f\"redis://{host}:6380/0\",decode_responses=True\n",
    "        )\n",
    "\n",
    "    await db.ping()\n",
    "\n",
    "    return db"
   ]
  },
  {
   "cell_type": "code",
   "execution_count": null,
   "metadata": {},
   "outputs": [
    {
     "data": {
      "text/plain": [
       "Redis<ConnectionPool<Connection<host=host.docker.internal,port=6380,db=0>>>"
      ]
     },
     "execution_count": 8,
     "metadata": {},
     "output_type": "execute_result"
    }
   ],
   "source": [
    "await get_stream_redis()"
   ]
  },
  {
   "cell_type": "code",
   "execution_count": null,
   "metadata": {},
   "outputs": [],
   "source": [
    "# from host\n",
    "\n",
    "async def get_stream_redis():\n",
    "    \n",
    "    db = await aioredis.from_url(\n",
    "            \"redis://localhost:6380/0\",decode_responses=True\n",
    "        )\n",
    "\n",
    "    await db.ping()\n",
    "\n",
    "    return db"
   ]
  },
  {
   "cell_type": "code",
   "execution_count": null,
   "metadata": {},
   "outputs": [],
   "source": [
    "#| export\n",
    "\n",
    "async def get_connections_df(name, redis_client, min_length=1, pattern='*'):\n",
    "    \"\"\"\n",
    "    Finds queues that match a given pattern and have a minimum number of items,\n",
    "    and returns a DataFrame with queue names and their lengths.\n",
    "    \"\"\"\n",
    "    matching_queues = []\n",
    "    queue_lengths = []\n",
    "    cursor = '0'\n",
    "    while cursor != 0:\n",
    "        cursor, keys = await redis_client.scan(cursor, match=f'{name}:{pattern}', count=min_length)\n",
    "        for key in keys:\n",
    "            if await redis_client.type(key) == 'list' and await redis_client.llen(key) >= min_length:\n",
    "                matching_queues.append(key)\n",
    "                length = await redis_client.llen(key)\n",
    "                queue_lengths.append(length)\n",
    "\n",
    "    data = {\n",
    "        'queue': matching_queues,\n",
    "        'length': queue_lengths\n",
    "    }\n",
    "    return pd.DataFrame(data)\n"
   ]
  },
  {
   "cell_type": "code",
   "execution_count": null,
   "metadata": {},
   "outputs": [],
   "source": [
    "#| export\n",
    "async def get_connections(name, redis_client, min_length=1, pattern='*'):\n",
    "    \"\"\"\n",
    "    Finds queues that match a given pattern and have a minimum number of items,\n",
    "    and returns a DataFrame with queue names and their lengths.\n",
    "    \"\"\"\n",
    "    matching_queues = []\n",
    "    queue_lengths = []\n",
    "    cursor = '0'\n",
    "    while cursor != 0:\n",
    "        cursor, keys = await redis_client.scan(cursor, match=f'{name}:{pattern}', count=min_length)\n",
    "        for key in keys:\n",
    "            if await redis_client.type(key) == 'list' and await redis_client.llen(key) >= min_length:\n",
    "                matching_queues.append(key)\n",
    "\n",
    "    return matching_queues"
   ]
  },
  {
   "cell_type": "code",
   "execution_count": null,
   "metadata": {},
   "outputs": [],
   "source": [
    "#| export\n",
    "class StreamItem(BaseModel):\n",
    "    chunk: bytes\n",
    "    timestamp: Optional[str] = None\n",
    "\n",
    "    def dump(self):\n",
    "        chunk = self.chunk.hex()\n",
    "        self.timestamp =  str(datetime.utcnow())\n",
    "\n",
    "\n",
    "        return {\n",
    "                \"chunk\": chunk,\n",
    "                \"timestamp\":self.timestamp\n",
    "                }\n",
    "\n",
    "    @classmethod\n",
    "    def load(cls, item):\n",
    "        item = json.loads(item)\n",
    "        chunk = bytes.fromhex(item['chunk'])\n",
    "        return cls(chunk=bytes.fromhex(item['chunk']), timestamp=item['timestamp'])\n"
   ]
  },
  {
   "cell_type": "code",
   "execution_count": null,
   "metadata": {},
   "outputs": [],
   "source": [
    "#| export\n",
    "class ApiConnection:\n",
    "    \"\"\"\n",
    "    connection to initial chrome extention feed\n",
    "    \"\"\"\n",
    "    def __init__(self, conn_id, redis_client):\n",
    "        self.id = conn_id\n",
    "        self.redis_client = redis_client\n",
    "        self.name = f\"Connection:{self.id}\"\n",
    "        self.start_timestamp = pd.Timestamp.utcnow()\n",
    "        self.queue = f\"initialFeed_audio:{self.id}\"\n",
    "\n",
    "\n",
    "    async def set_open(self):\n",
    "            self.open = True\n",
    "            await self.set_update()\n",
    "\n",
    "    async def set_closed(self):\n",
    "        self.open = False\n",
    "        await self.set_update()\n",
    "\n",
    "    async def set_update(self):\n",
    "        await self.redis_client.hset(self.name, 'open', int(self.open))\n",
    "\n",
    "    async def enqueue(self, message):\n",
    "        await self.redis_client.lpush(self.queue, json.dumps(message))\n",
    "\n",
    "    async def check_open(self):\n",
    "        self.open = bool(int(await self.redis_client.hget(self.name, 'open')))\n",
    "        return self.open\n",
    "    \n",
    "    async def delete(self):\n",
    "        await self.redis_client.delete(self.name)\n",
    "        await self.redis_client.delete(self.queue)\n",
    "\n",
    "    async def pop_multiple(self, max_len, min_len=1):\n",
    "        lua_script = \"\"\"\n",
    "        local items = {}\n",
    "        for i = 1, tonumber(ARGV[1]) do\n",
    "            local item = redis.call('rpop', KEYS[1])\n",
    "            if item == nil then\n",
    "                break\n",
    "            end\n",
    "            table.insert(items, item)\n",
    "        end\n",
    "        return items\n",
    "        \"\"\"\n",
    "        if await self.redis_client.llen(self.queue) >= min_len:\n",
    "            items = await self.redis_client.eval(lua_script, 1, self.queue, max_len)\n",
    "            items = [i for i in items if i]\n",
    "            return [StreamItem.load(i) for i in items]\n",
    "        else:\n",
    "            print('items not available')\n",
    "        \n",
    "    async def get_queue_length(self):\n",
    "        return await self.redis_client.llen(self.queue)\n",
    "    \n",
    "    async def get_all_queue(self):\n",
    "        items =  await self.redis_client.lrange(self.queue, 0, -1)\n",
    "        items = [i for i in items if i]\n",
    "        return [StreamItem.load(i) for i in items]\n",
    "    \n",
    "\n",
    "    \n",
    "\n"
   ]
  },
  {
   "cell_type": "code",
   "execution_count": null,
   "metadata": {},
   "outputs": [],
   "source": [
    "#| export\n",
    "async def start_process_audio_file(conn_id,redis_client,start = 0):\n",
    "    await redis_client.lpush(f'Start:{conn_id}', 0)\n",
    "    await redis_client.sadd(f'Processfromfile',conn_id)"
   ]
  },
  {
   "cell_type": "code",
   "execution_count": 31,
   "metadata": {},
   "outputs": [],
   "source": [
    "#| export\n",
    "@dataclass\n",
    "class Data:\n",
    "    chunk_name:str\n",
    "    key:Literal['audio','transcription','diarisation']\n",
    "    redis_client: redis.client.Redis\n",
    "    data: Union[List, bytes]=None\n",
    "    \n",
    "\n",
    "    async def save(self):\n",
    "            if isinstance(self.data, bytes): \n",
    "                data = self.data.hex()\n",
    "            else: \n",
    "                data = json.dumps(self.data)\n",
    "            await self.redis_client.hset(self.chunk_name, self.key, data)\n",
    "\n",
    "    async def get(self):\n",
    "        data = await self.redis_client.hget(self.chunk_name, self.key)\n",
    "        if data:\n",
    "            if self.key == 'audio': \n",
    "                self.data = bytes.fromhex(data)\n",
    "            else: \n",
    "                self.data = json.loads(data)\n",
    "        else: \n",
    "            self.data = None\n",
    "        return bool(data)\n",
    "\n",
    "    \n",
    "    async def delete(self):\n",
    "        return bool(await self.redis_client.delete(self.chunk_name))\n",
    "\n",
    "\n",
    "\n",
    "class Audio(Data):\n",
    "    def __init__(self, chunk_name: str, redis_client: redis.client.Redis, data: bytes = None):\n",
    "        super().__init__(chunk_name=chunk_name, key='audio', redis_client=redis_client, data=data)\n",
    "\n",
    "    async def fix(self):\n",
    "        self.data = await asyncio.to_thread(fix_mp3_data, self.data)\n",
    "        \n",
    "\n",
    "class Transcript(Data):\n",
    "    def __init__(self, chunk_name: str, redis_client: redis.client.Redis, data: List = None):\n",
    "        super().__init__(chunk_name=chunk_name, key='transcription', redis_client=redis_client, data=data)\n",
    "\n",
    "class Diarisation(Data):\n",
    "    def __init__(self, chunk_name: str, redis_client: redis.client.Redis, data: List = None):\n",
    "        super().__init__(chunk_name=chunk_name, key='diarisation', redis_client=redis_client, data=data)\n"
   ]
  },
  {
   "cell_type": "code",
   "execution_count": null,
   "metadata": {},
   "outputs": [],
   "source": []
  },
  {
   "cell_type": "code",
   "execution_count": null,
   "metadata": {},
   "outputs": [],
   "source": []
  }
 ],
 "metadata": {
  "kernelspec": {
   "display_name": "langchain",
   "language": "python",
   "name": "langchain"
  },
  "language_info": {
   "codemirror_mode": {
    "name": "ipython",
    "version": 3
   },
   "file_extension": ".py",
   "mimetype": "text/x-python",
   "name": "python",
   "nbconvert_exporter": "python",
   "pygments_lexer": "ipython3",
   "version": "3.11.2"
  }
 },
 "nbformat": 4,
 "nbformat_minor": 2
}
