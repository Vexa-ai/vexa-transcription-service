{
 "cells": [
  {
   "cell_type": "code",
   "execution_count": 1,
   "metadata": {},
   "outputs": [],
   "source": [
    "#| default_exp  redis"
   ]
  },
  {
   "cell_type": "code",
   "execution_count": 2,
   "metadata": {},
   "outputs": [],
   "source": [
    "\n",
    "%load_ext autoreload\n",
    "%autoreload 2\n",
    "\n",
    "import sys\n",
    "sys.path.insert(0,'/app')"
   ]
  },
  {
   "cell_type": "code",
   "execution_count": 3,
   "metadata": {},
   "outputs": [],
   "source": [
    "import nest_asyncio\n",
    "nest_asyncio.apply()"
   ]
  },
  {
   "cell_type": "code",
   "execution_count": 4,
   "metadata": {},
   "outputs": [],
   "source": [
    "#| export\n",
    "import redis.asyncio as aioredis\n",
    "from pydantic import BaseModel\n",
    "from typing import Optional,Union,List, Literal\n",
    "from dataclasses import dataclass\n",
    "import redis\n",
    "import json\n",
    "import pandas as pd\n"
   ]
  },
  {
   "cell_type": "code",
   "execution_count": 5,
   "metadata": {},
   "outputs": [],
   "source": [
    "#| export\n",
    "\n",
    "async def get_inner_redis():\n",
    "    \n",
    "    db = await aioredis.from_url(\n",
    "            \"redis://redis:6379/0\",decode_responses=True\n",
    "        )\n",
    "\n",
    "    await db.ping()\n",
    "\n",
    "    return db"
   ]
  },
  {
   "cell_type": "code",
   "execution_count": 6,
   "metadata": {},
   "outputs": [],
   "source": [
    "#| export\n",
    "\n",
    "async def get_stream_redis():\n",
    "    \n",
    "    db = await aioredis.from_url(\n",
    "            \"redis://host.docker.internal:6380/0\",decode_responses=True\n",
    "        )\n",
    "\n",
    "    await db.ping()\n",
    "\n",
    "    return db"
   ]
  },
  {
   "cell_type": "code",
   "execution_count": 7,
   "metadata": {},
   "outputs": [],
   "source": [
    "# from host\n",
    "\n",
    "async def get_stream_redis():\n",
    "    \n",
    "    db = await aioredis.from_url(\n",
    "            \"redis://localhost:6380/0\",decode_responses=True\n",
    "        )\n",
    "\n",
    "    await db.ping()\n",
    "\n",
    "    return db"
   ]
  },
  {
   "cell_type": "code",
   "execution_count": null,
   "metadata": {},
   "outputs": [],
   "source": []
  },
  {
   "cell_type": "code",
   "execution_count": 8,
   "metadata": {},
   "outputs": [
    {
     "name": "stderr",
     "output_type": "stream",
     "text": [
      "/tmp/ipykernel_66261/648225756.py:1: DeprecationWarning: \n",
      "Pyarrow will become a required dependency of pandas in the next major release of pandas (pandas 3.0),\n",
      "(to allow more performant data types, such as the Arrow string type, and better interoperability with other libraries)\n",
      "but was not found to be installed on your system.\n",
      "If this would cause problems for you,\n",
      "please provide us feedback at https://github.com/pandas-dev/pandas/issues/54466\n",
      "        \n",
      "  import pandas as pd\n"
     ]
    }
   ],
   "source": [
    "#| export\n",
    "\n",
    "async def get_connection_queues(name, redis_client, min_length=1, pattern='*'):\n",
    "    \"\"\"\n",
    "    Finds queues that match a given pattern and have a minimum number of items,\n",
    "    and returns a DataFrame with queue names and their lengths.\n",
    "    \"\"\"\n",
    "    matching_queues = []\n",
    "    queue_lengths = []\n",
    "    cursor = '0'\n",
    "    while cursor != 0:\n",
    "        cursor, keys = await redis_client.scan(cursor, match=f'{name}:{pattern}', count=min_length)\n",
    "        for key in keys:\n",
    "            if await redis_client.type(key) == 'list' and await redis_client.llen(key) >= min_length:\n",
    "                matching_queues.append(key)\n",
    "                length = await redis_client.llen(key)\n",
    "                queue_lengths.append(length)\n",
    "\n",
    "    data = {\n",
    "        'queue': matching_queues,\n",
    "        'length': queue_lengths\n",
    "    }\n",
    "    return pd.DataFrame(data)\n"
   ]
  },
  {
   "cell_type": "code",
   "execution_count": 21,
   "metadata": {},
   "outputs": [
    {
     "data": {
      "text/html": [
       "<div>\n",
       "<style scoped>\n",
       "    .dataframe tbody tr th:only-of-type {\n",
       "        vertical-align: middle;\n",
       "    }\n",
       "\n",
       "    .dataframe tbody tr th {\n",
       "        vertical-align: top;\n",
       "    }\n",
       "\n",
       "    .dataframe thead th {\n",
       "        text-align: right;\n",
       "    }\n",
       "</style>\n",
       "<table border=\"1\" class=\"dataframe\">\n",
       "  <thead>\n",
       "    <tr style=\"text-align: right;\">\n",
       "      <th></th>\n",
       "      <th>queue</th>\n",
       "      <th>length</th>\n",
       "    </tr>\n",
       "  </thead>\n",
       "  <tbody>\n",
       "  </tbody>\n",
       "</table>\n",
       "</div>"
      ],
      "text/plain": [
       "Empty DataFrame\n",
       "Columns: [queue, length]\n",
       "Index: []"
      ]
     },
     "execution_count": 21,
     "metadata": {},
     "output_type": "execute_result"
    }
   ],
   "source": [
    "redis_inner_client = await get_inner_redis()\n",
    "await get_connection_queues('Audio2DiarizeQueue',redis_inner_client)"
   ]
  },
  {
   "cell_type": "code",
   "execution_count": 9,
   "metadata": {},
   "outputs": [],
   "source": [
    "redis_client = await get_redis()"
   ]
  },
  {
   "cell_type": "code",
   "execution_count": 10,
   "metadata": {},
   "outputs": [
    {
     "data": {
      "text/plain": [
       "True"
      ]
     },
     "execution_count": 10,
     "metadata": {},
     "output_type": "execute_result"
    }
   ],
   "source": [
    "await redis_client.ping()"
   ]
  },
  {
   "cell_type": "code",
   "execution_count": 27,
   "metadata": {},
   "outputs": [],
   "source": [
    "#| export\n",
    "class StreamItem(BaseModel):\n",
    "    chunk: bytes\n",
    "    timestamp: Optional[str] = None\n",
    "\n",
    "    def dump(self):\n",
    "        chunk = self.chunk.hex()\n",
    "        self.timestamp =  str(datetime.utcnow())\n",
    "\n",
    "\n",
    "        return {\n",
    "                \"chunk\": chunk,\n",
    "                \"timestamp\":self.timestamp\n",
    "                }\n",
    "\n",
    "    @classmethod\n",
    "    def load(cls, item):\n",
    "        item = json.loads(item)\n",
    "        chunk = bytes.fromhex(item['chunk'])\n",
    "        return cls(chunk=bytes.fromhex(item['chunk']), timestamp=item['timestamp'])\n"
   ]
  },
  {
   "cell_type": "code",
   "execution_count": 28,
   "metadata": {},
   "outputs": [],
   "source": [
    "#| export\n",
    "class ApiConnection:\n",
    "    \"\"\"\n",
    "    connection to initial chrome extention feed\n",
    "    \"\"\"\n",
    "    def __init__(self, conn_id, redis_client):\n",
    "        self.id = conn_id\n",
    "        self.redis_client = redis_client\n",
    "        self.name = f\"Connection:{self.id}\"\n",
    "        self.start_timestamp = pd.Timestamp.utcnow()\n",
    "        self.queue = f\"initialFeed_audio:{self.id}\"\n",
    "\n",
    "\n",
    "    async def set_open(self):\n",
    "            self.open = True\n",
    "            await self.set_update()\n",
    "\n",
    "    async def set_closed(self):\n",
    "        self.open = False\n",
    "        await self.set_update()\n",
    "\n",
    "    async def set_update(self):\n",
    "        await self.redis_client.hset(self.name, 'open', int(self.open))\n",
    "\n",
    "    async def enqueue(self, message):\n",
    "        await self.redis_client.lpush(self.queue, json.dumps(message))\n",
    "\n",
    "    async def check_open(self):\n",
    "        self.open = bool(int(await self.redis_client.hget(self.name, 'open')))\n",
    "        return self.open\n",
    "    \n",
    "    async def delete(self):\n",
    "        await self.redis_client.delete(self.name)\n",
    "        await self.redis_client.delete(self.queue)\n",
    "\n",
    "    async def pop_multiple(self, max_len, min_len=1):\n",
    "        lua_script = \"\"\"\n",
    "        local items = {}\n",
    "        for i = 1, tonumber(ARGV[1]) do\n",
    "            local item = redis.call('rpop', KEYS[1])\n",
    "            if item == nil then\n",
    "                break\n",
    "            end\n",
    "            table.insert(items, item)\n",
    "        end\n",
    "        return items\n",
    "        \"\"\"\n",
    "        if await self.redis_client.llen(self.queue) >= min_len:\n",
    "            items = await self.redis_client.eval(lua_script, 1, self.queue, max_len)\n",
    "            items = [i for i in items if i]\n",
    "            return [StreamItem.load(i) for i in items]\n",
    "        else:\n",
    "            print('items not available')\n",
    "        \n",
    "    async def get_queue_length(self):\n",
    "        return await self.redis_client.llen(self.queue)\n",
    "    \n",
    "    async def get_all_queue(self):\n",
    "        items =  await self.redis_client.lrange(self.queue, 0, -1)\n",
    "        items = [i for i in items if i]\n",
    "        return [StreamItem.load(i) for i in items]\n",
    "    \n",
    "\n",
    "    \n",
    "\n"
   ]
  },
  {
   "cell_type": "code",
   "execution_count": 31,
   "metadata": {},
   "outputs": [],
   "source": [
    "#| export\n",
    "@dataclass\n",
    "class Data:\n",
    "    chunk_name:str\n",
    "    key:Literal['audio','transcription','diarisation']\n",
    "    redis_client: redis.client.Redis\n",
    "    data: Union[List, bytes]=None\n",
    "    \n",
    "\n",
    "    async def save(self):\n",
    "            if isinstance(self.data, bytes): \n",
    "                data = self.data.hex()\n",
    "            else: \n",
    "                data = json.dumps(self.data)\n",
    "            await self.redis_client.hset(self.chunk_name, self.key, data)\n",
    "\n",
    "    async def get(self):\n",
    "        data = await self.redis_client.hget(self.chunk_name, self.key)\n",
    "        if data:\n",
    "            if self.key == 'audio': \n",
    "                self.data = bytes.fromhex(data)\n",
    "            else: \n",
    "                self.data = json.loads(data)\n",
    "        else: \n",
    "            self.data = None\n",
    "        return bool(data)\n",
    "\n",
    "    \n",
    "    async def delete(self):\n",
    "        return bool(await self.redis_client.delete(self.chunk_name))\n",
    "\n",
    "\n",
    "\n",
    "class Audio(Data):\n",
    "    def __init__(self, chunk_name: str, redis_client: redis.client.Redis, data: bytes = None):\n",
    "        super().__init__(chunk_name=chunk_name, key='audio', redis_client=redis_client, data=data)\n",
    "\n",
    "    async def fix(self):\n",
    "        self.data = await asyncio.to_thread(fix_mp3_data, self.data)\n",
    "        \n",
    "\n",
    "class Transcript(Data):\n",
    "    def __init__(self, chunk_name: str, redis_client: redis.client.Redis, data: List = None):\n",
    "        super().__init__(chunk_name=chunk_name, key='transcription', redis_client=redis_client, data=data)\n",
    "\n",
    "class Diarisation(Data):\n",
    "    def __init__(self, chunk_name: str, redis_client: redis.client.Redis, data: List = None):\n",
    "        super().__init__(chunk_name=chunk_name, key='diarisation', redis_client=redis_client, data=data)\n"
   ]
  },
  {
   "cell_type": "code",
   "execution_count": null,
   "metadata": {},
   "outputs": [],
   "source": []
  },
  {
   "cell_type": "code",
   "execution_count": null,
   "metadata": {},
   "outputs": [],
   "source": []
  }
 ],
 "metadata": {
  "kernelspec": {
   "display_name": "Python 3",
   "language": "python",
   "name": "python3"
  },
  "language_info": {
   "codemirror_mode": {
    "name": "ipython",
    "version": 3
   },
   "file_extension": ".py",
   "mimetype": "text/x-python",
   "name": "python",
   "nbconvert_exporter": "python",
   "pygments_lexer": "ipython3",
   "version": "3.9.5"
  }
 },
 "nbformat": 4,
 "nbformat_minor": 2
}
