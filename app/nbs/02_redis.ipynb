{
 "cells": [
  {
   "cell_type": "code",
   "execution_count": 1,
   "metadata": {},
   "outputs": [],
   "source": [
    "%load_ext autoreload\n",
    "%autoreload 2\n"
   ]
  },
  {
   "cell_type": "code",
   "execution_count": 2,
   "metadata": {},
   "outputs": [],
   "source": [
    "from app.redis_transcribe.connection import get_redis_client"
   ]
  },
  {
   "cell_type": "code",
   "execution_count": 7,
   "metadata": {},
   "outputs": [],
   "source": [
    "redis_client = await get_redis_client(\n",
    "    host=\"redis\",  # Replace with your Redis host\n",
    "    port=6379,        # Replace with your Redis port\n",
    "    password='your_redis_password',    # Replace with your Redis password if any\n",
    "    db=1             # Replace with your Redis DB number\n",
    ")"
   ]
  },
  {
   "cell_type": "code",
   "execution_count": 8,
   "metadata": {},
   "outputs": [
    {
     "data": {
      "text/plain": [
       "['token_user_map', 'user_enable_status_map']"
      ]
     },
     "execution_count": 8,
     "metadata": {},
     "output_type": "execute_result"
    }
   ],
   "source": [
    "await redis_client.keys()"
   ]
  },
  {
   "cell_type": "code",
   "execution_count": 5,
   "metadata": {},
   "outputs": [
    {
     "data": {
      "text/plain": [
       "{'timestamp': '2025-02-27T17:42:20.881932',\n",
       " 'connections': {'connection:2490f037-c1f5-4051-96c9-b9217bcf4700': {'type': 'hash',\n",
       "   'value': {'start_timestamp': '2025-02-13T15:32:16+00:00',\n",
       "    'end_timestamp': '2025-02-13T15:36:59+00:00',\n",
       "    'user_id': '9717647e-fb33-4997-98af-a8b4e30f609d'}}},\n",
       " 'meetings': {'meeting:the-zdjv-byg:metadata': {'type': 'hash',\n",
       "   'value': {'start_timestamp': '2025-02-13T15:32:16+00:00',\n",
       "    'start_server_timestamp': '2025-02-13T15:32:16+00:00',\n",
       "    'transcriber_seek_timestamp': '2025-02-13T15:33:16+00:00',\n",
       "    'transcriber_last_updated_timestamp': '2025-02-27T17:42:15.443977+00:00'}},\n",
       "  'meeting:the-zdjv-byg:connections': {'type': 'set',\n",
       "   'value': ['2490f037-c1f5-4051-96c9-b9217bcf4700']}},\n",
       " 'transcriptions': {},\n",
       " 'queues': {'audio_to_transcribe': {'type': 'none', 'value': None},\n",
       "  'transcribe_ready': {'type': 'none', 'value': None}}}"
      ]
     },
     "execution_count": 5,
     "metadata": {},
     "output_type": "execute_result"
    }
   ],
   "source": [
    "from app.scripts.redis_report import RedisReporter\n",
    "\n",
    "reporter = RedisReporter(redis_client)\n",
    "\n",
    "report = await reporter.generate_full_report()\n",
    "\n",
    "report"
   ]
  },
  {
   "cell_type": "code",
   "execution_count": null,
   "metadata": {},
   "outputs": [],
   "source": []
  },
  {
   "cell_type": "code",
   "execution_count": null,
   "metadata": {},
   "outputs": [
    {
     "data": {
      "text/plain": [
       "{'timestamp': '2025-02-26T16:10:49.336274',\n",
       " 'connections': {'connection:2490f037-c1f5-4051-96c9-b9217bcf4700': {'type': 'hash',\n",
       "   'value': {'start_timestamp': '2025-02-13T15:32:16+00:00',\n",
       "    'end_timestamp': '2025-02-13T15:33:30+00:00',\n",
       "    'user_id': '2ff66708-7934-4d19-88b5-6efd6f29efef'}}},\n",
       " 'meetings': {'meeting:the-zdjv-byg:metadata': {'type': 'hash',\n",
       "   'value': {'start_timestamp': '2025-02-13T15:32:16+00:00',\n",
       "    'start_server_timestamp': '2025-02-13T15:32:16+00:00',\n",
       "    'transcriber_seek_timestamp': '2025-02-13T15:34:15.856000+00:00',\n",
       "    'transcriber_last_updated_timestamp': '2025-02-26T15:58:44.055957+00:00'}},\n",
       "  'meeting:the-zdjv-byg:connections': {'type': 'set',\n",
       "   'value': ['2490f037-c1f5-4051-96c9-b9217bcf4700']}},\n",
       " 'transcriptions': {'Transcript:the-zdjv-byg': {'type': 'list',\n",
       "   'value': ['[{\"content\": \"0.0\", \"start_timestamp\": \"2025-02-13T15:33:17+00:00\", \"end_timestamp\": \"2025-02-13T16:20:12+00:00\", \"speaker\": \"Dmitriy Grankin\", \"confidence\": 0.0017761989342806395, \"segment_id\": 105, \"words\": 1.76, \"server_timestamp\": \"2025-02-13T15:32:16+00:00\", \"transcription_timestamp\": \"2025-02-26T15:58:42.801055+00:00\", \"present_user_ids\": [], \"partially_present_user_ids\": [\"2ff66708-7934-4d19-88b5-6efd6f29efef\"]}, {\"content\": \"3.42\", \"start_timestamp\": \"2025-02-13T15:33:18+00:00\", \"end_timestamp\": \"2025-02-13T16:20:12+00:00\", \"speaker\": \"Dmitriy Grankin\", \"confidence\": 0.0017768301350390902, \"segment_id\": 106, \"words\": 6.92, \"server_timestamp\": \"2025-02-13T15:32:16+00:00\", \"transcription_timestamp\": \"2025-02-26T15:58:42.801055+00:00\", \"present_user_ids\": [], \"partially_present_user_ids\": [\"2ff66708-7934-4d19-88b5-6efd6f29efef\"]}, {\"content\": \"7.12\", \"start_timestamp\": \"2025-02-13T15:33:19+00:00\", \"end_timestamp\": \"2025-02-13T16:20:12+00:00\", \"speaker\": \"Dmitriy Grankin\", \"confidence\": 0.0017774617845716318, \"segment_id\": 107, \"words\": 10.88, \"server_timestamp\": \"2025-02-13T15:32:16+00:00\", \"transcription_timestamp\": \"2025-02-26T15:58:42.801055+00:00\", \"present_user_ids\": [], \"partially_present_user_ids\": [\"2ff66708-7934-4d19-88b5-6efd6f29efef\"]}, {\"content\": \"11.04\", \"start_timestamp\": \"2025-02-13T15:33:20+00:00\", \"end_timestamp\": \"2025-02-13T16:20:12+00:00\", \"speaker\": \"Dmitriy Grankin\", \"confidence\": 0.0017780938833570413, \"segment_id\": 108, \"words\": 12.18, \"server_timestamp\": \"2025-02-13T15:32:16+00:00\", \"transcription_timestamp\": \"2025-02-26T15:58:42.801055+00:00\", \"present_user_ids\": [], \"partially_present_user_ids\": [\"2ff66708-7934-4d19-88b5-6efd6f29efef\"]}, {\"content\": \"13.14\", \"start_timestamp\": \"2025-02-13T15:33:21+00:00\", \"end_timestamp\": \"2025-02-13T16:20:12+00:00\", \"speaker\": \"Dmitriy Grankin\", \"confidence\": 0.0017787264318747777, \"segment_id\": 109, \"words\": 18.7, \"server_timestamp\": \"2025-02-13T15:32:16+00:00\", \"transcription_timestamp\": \"2025-02-26T15:58:42.801055+00:00\", \"present_user_ids\": [], \"partially_present_user_ids\": [\"2ff66708-7934-4d19-88b5-6efd6f29efef\"]}, {\"content\": \"21.88\", \"start_timestamp\": \"2025-02-13T15:33:22+00:00\", \"end_timestamp\": \"2025-02-13T16:20:12+00:00\", \"speaker\": \"Dmitriy Grankin\", \"confidence\": 0.0014234875444839859, \"segment_id\": 110, \"words\": 23.68, \"server_timestamp\": \"2025-02-13T15:32:16+00:00\", \"transcription_timestamp\": \"2025-02-26T15:58:42.801055+00:00\", \"present_user_ids\": [], \"partially_present_user_ids\": [\"2ff66708-7934-4d19-88b5-6efd6f29efef\"]}, {\"content\": \"23.76\", \"start_timestamp\": \"2025-02-13T15:33:23+00:00\", \"end_timestamp\": \"2025-02-13T16:20:12+00:00\", \"speaker\": \"Dmitriy Grankin\", \"confidence\": 0.001067995728017088, \"segment_id\": 111, \"words\": 26.5, \"server_timestamp\": \"2025-02-13T15:32:16+00:00\", \"transcription_timestamp\": \"2025-02-26T15:58:42.801055+00:00\", \"present_user_ids\": [], \"partially_present_user_ids\": []}, {\"content\": \"26.64\", \"start_timestamp\": \"2025-02-13T15:33:24+00:00\", \"end_timestamp\": \"2025-02-13T16:20:12+00:00\", \"speaker\": \"Dmitriy Grankin\", \"confidence\": 0.0007122507122507123, \"segment_id\": 112, \"words\": 28.64, \"server_timestamp\": \"2025-02-13T15:32:16+00:00\", \"transcription_timestamp\": \"2025-02-26T15:58:42.801055+00:00\", \"present_user_ids\": [], \"partially_present_user_ids\": []}, {\"content\": \"28.64\", \"start_timestamp\": \"2025-02-13T15:33:25+00:00\", \"end_timestamp\": \"2025-02-13T16:20:12+00:00\", \"speaker\": \"Dmitriy Grankin\", \"confidence\": 0.0003562522265764161, \"segment_id\": 113, \"words\": 29.92, \"server_timestamp\": \"2025-02-13T15:32:16+00:00\", \"transcription_timestamp\": \"2025-02-26T15:58:42.801055+00:00\", \"present_user_ids\": [], \"partially_present_user_ids\": []}, {\"content\": \"29.92\", \"start_timestamp\": \"2025-02-13T15:33:26+00:00\", \"end_timestamp\": \"2025-02-13T17:10:08+00:00\", \"speaker\": null, \"confidence\": 0.0, \"segment_id\": 114, \"words\": 32.58, \"server_timestamp\": \"2025-02-13T15:32:16+00:00\", \"transcription_timestamp\": \"2025-02-26T15:58:42.801055+00:00\", \"present_user_ids\": [], \"partially_present_user_ids\": []}, {\"content\": \"32.72\", \"start_timestamp\": \"2025-02-13T15:33:27+00:00\", \"end_timestamp\": \"2025-02-13T17:10:08+00:00\", \"speaker\": null, \"confidence\": 0.0, \"segment_id\": 115, \"words\": 35.12, \"server_timestamp\": \"2025-02-13T15:32:16+00:00\", \"transcription_timestamp\": \"2025-02-26T15:58:42.801055+00:00\", \"present_user_ids\": [], \"partially_present_user_ids\": []}, {\"content\": \"35.12\", \"start_timestamp\": \"2025-02-13T15:33:28+00:00\", \"end_timestamp\": \"2025-02-13T17:10:08+00:00\", \"speaker\": null, \"confidence\": 0.0, \"segment_id\": 116, \"words\": 36.14, \"server_timestamp\": \"2025-02-13T15:32:16+00:00\", \"transcription_timestamp\": \"2025-02-26T15:58:42.801055+00:00\", \"present_user_ids\": [], \"partially_present_user_ids\": []}, {\"content\": \"36.82\", \"start_timestamp\": \"2025-02-13T15:33:29+00:00\", \"end_timestamp\": \"2025-02-13T17:10:08+00:00\", \"speaker\": null, \"confidence\": 0.0, \"segment_id\": 117, \"words\": 43.28, \"server_timestamp\": \"2025-02-13T15:32:16+00:00\", \"transcription_timestamp\": \"2025-02-26T15:58:42.801055+00:00\", \"present_user_ids\": [], \"partially_present_user_ids\": []}, {\"content\": \"43.36\", \"start_timestamp\": \"2025-02-13T15:33:30+00:00\", \"end_timestamp\": \"2025-02-13T17:10:08+00:00\", \"speaker\": null, \"confidence\": 0.0, \"segment_id\": 118, \"words\": 45.76, \"server_timestamp\": \"2025-02-13T15:32:16+00:00\", \"transcription_timestamp\": \"2025-02-26T15:58:42.801055+00:00\", \"present_user_ids\": [], \"partially_present_user_ids\": []}, {\"content\": \"47.56\", \"start_timestamp\": \"2025-02-13T15:33:31+00:00\", \"end_timestamp\": \"2025-02-13T17:10:08+00:00\", \"speaker\": null, \"confidence\": 0.0, \"segment_id\": 119, \"words\": 49.54, \"server_timestamp\": \"2025-02-13T15:32:16+00:00\", \"transcription_timestamp\": \"2025-02-26T15:58:42.801055+00:00\", \"present_user_ids\": [], \"partially_present_user_ids\": []}, {\"content\": \"49.66\", \"start_timestamp\": \"2025-02-13T15:33:32+00:00\", \"end_timestamp\": \"2025-02-13T17:10:08+00:00\", \"speaker\": null, \"confidence\": 0.0, \"segment_id\": 120, \"words\": 53.08, \"server_timestamp\": \"2025-02-13T15:32:16+00:00\", \"transcription_timestamp\": \"2025-02-26T15:58:42.801055+00:00\", \"present_user_ids\": [], \"partially_present_user_ids\": []}, {\"content\": \"53.08\", \"start_timestamp\": \"2025-02-13T15:33:33+00:00\", \"end_timestamp\": \"2025-02-13T17:10:08+00:00\", \"speaker\": null, \"confidence\": 0.0, \"segment_id\": 121, \"words\": 57.1, \"server_timestamp\": \"2025-02-13T15:32:16+00:00\", \"transcription_timestamp\": \"2025-02-26T15:58:42.801055+00:00\", \"present_user_ids\": [], \"partially_present_user_ids\": []}, {\"content\": \"57.1\", \"start_timestamp\": \"2025-02-13T15:33:34+00:00\", \"end_timestamp\": \"2025-02-13T17:10:08+00:00\", \"speaker\": null, \"confidence\": 0.0, \"segment_id\": 122, \"words\": 59.74, \"server_timestamp\": \"2025-02-13T15:32:16+00:00\", \"transcription_timestamp\": \"2025-02-26T15:58:42.801055+00:00\", \"present_user_ids\": [], \"partially_present_user_ids\": []}]',\n",
       "    '[{\"content\": \"0.43\", \"start_timestamp\": \"2025-02-13T15:32:17+00:00\", \"end_timestamp\": \"2025-02-13T15:56:08+00:00\", \"speaker\": \"Sergey Ryabenko\", \"confidence\": 0.004891684136967156, \"segment_id\": 1, \"words\": 14.75, \"server_timestamp\": \"2025-02-13T15:32:16+00:00\", \"transcription_timestamp\": \"2025-02-26T15:57:43.834832+00:00\", \"present_user_ids\": [], \"partially_present_user_ids\": [\"2ff66708-7934-4d19-88b5-6efd6f29efef\"]}, {\"content\": \"14.75\", \"start_timestamp\": \"2025-02-13T15:32:18+00:00\", \"end_timestamp\": \"2025-02-13T16:44:06+00:00\", \"speaker\": \"Sergey Ryabenko\", \"confidence\": 0.0016248839368616526, \"segment_id\": 2, \"words\": 26.17, \"server_timestamp\": \"2025-02-13T15:32:16+00:00\", \"transcription_timestamp\": \"2025-02-26T15:57:43.834832+00:00\", \"present_user_ids\": [], \"partially_present_user_ids\": [\"2ff66708-7934-4d19-88b5-6efd6f29efef\"]}, {\"content\": \"26.17\", \"start_timestamp\": \"2025-02-13T15:32:19+00:00\", \"end_timestamp\": \"2025-02-13T16:44:06+00:00\", \"speaker\": \"Sergey Ryabenko\", \"confidence\": 0.00162526120269329, \"segment_id\": 3, \"words\": 35.07, \"server_timestamp\": \"2025-02-13T15:32:16+00:00\", \"transcription_timestamp\": \"2025-02-26T15:57:43.834832+00:00\", \"present_user_ids\": [], \"partially_present_user_ids\": [\"2ff66708-7934-4d19-88b5-6efd6f29efef\"]}, {\"content\": \"35.07\", \"start_timestamp\": \"2025-02-13T15:32:20+00:00\", \"end_timestamp\": \"2025-02-13T16:44:06+00:00\", \"speaker\": \"Sergey Ryabenko\", \"confidence\": 0.001625638643752903, \"segment_id\": 4, \"words\": 43.11, \"server_timestamp\": \"2025-02-13T15:32:16+00:00\", \"transcription_timestamp\": \"2025-02-26T15:57:43.834832+00:00\", \"present_user_ids\": [], \"partially_present_user_ids\": [\"2ff66708-7934-4d19-88b5-6efd6f29efef\"]}, {\"content\": \"43.11\", \"start_timestamp\": \"2025-02-13T15:32:21+00:00\", \"end_timestamp\": \"2025-02-13T16:44:06+00:00\", \"speaker\": \"Sergey Ryabenko\", \"confidence\": 0.0013937282229965157, \"segment_id\": 5, \"words\": 43.53, \"server_timestamp\": \"2025-02-13T15:32:16+00:00\", \"transcription_timestamp\": \"2025-02-26T15:57:43.834832+00:00\", \"present_user_ids\": [], \"partially_present_user_ids\": [\"2ff66708-7934-4d19-88b5-6efd6f29efef\"]}, {\"content\": \"43.53\", \"start_timestamp\": \"2025-02-13T15:32:22+00:00\", \"end_timestamp\": \"2025-02-13T17:11:35+00:00\", \"speaker\": \"Sergey Ryabenko\", \"confidence\": 0.0008399126490844952, \"segment_id\": 6, \"words\": 52.23, \"server_timestamp\": \"2025-02-13T15:32:16+00:00\", \"transcription_timestamp\": \"2025-02-26T15:57:43.834832+00:00\", \"present_user_ids\": [], \"partially_present_user_ids\": [\"2ff66708-7934-4d19-88b5-6efd6f29efef\"]}, {\"content\": \"52.23\", \"start_timestamp\": \"2025-02-13T15:32:23+00:00\", \"end_timestamp\": \"2025-02-13T17:11:35+00:00\", \"speaker\": \"Sergey Ryabenko\", \"confidence\": 0.0006720430107526882, \"segment_id\": 7, \"words\": 59.31, \"server_timestamp\": \"2025-02-13T15:32:16+00:00\", \"transcription_timestamp\": \"2025-02-26T15:57:43.834832+00:00\", \"present_user_ids\": [], \"partially_present_user_ids\": [\"2ff66708-7934-4d19-88b5-6efd6f29efef\"]}]',\n",
       "    '[{\"content\": \"0.43\", \"start_timestamp\": \"2025-02-13T15:32:17+00:00\", \"end_timestamp\": \"2025-02-13T15:56:08+00:00\", \"speaker\": \"Sergey Ryabenko\", \"confidence\": 0.0009783368273934311, \"segment_id\": 98, \"words\": 14.75, \"server_timestamp\": \"2025-02-13T15:32:16+00:00\", \"transcription_timestamp\": \"2025-02-26T15:57:37.328339+00:00\", \"present_user_ids\": [], \"partially_present_user_ids\": [\"2ff66708-7934-4d19-88b5-6efd6f29efef\"]}, {\"content\": \"14.75\", \"start_timestamp\": \"2025-02-13T15:32:18+00:00\", \"end_timestamp\": \"2025-02-13T16:44:06+00:00\", \"speaker\": \"Sergey Ryabenko\", \"confidence\": 0.0003249767873723305, \"segment_id\": 99, \"words\": 26.17, \"server_timestamp\": \"2025-02-13T15:32:16+00:00\", \"transcription_timestamp\": \"2025-02-26T15:57:37.328339+00:00\", \"present_user_ids\": [], \"partially_present_user_ids\": [\"2ff66708-7934-4d19-88b5-6efd6f29efef\"]}, {\"content\": \"26.17\", \"start_timestamp\": \"2025-02-13T15:32:19+00:00\", \"end_timestamp\": \"2025-02-13T16:44:06+00:00\", \"speaker\": \"Sergey Ryabenko\", \"confidence\": 0.000325052240538658, \"segment_id\": 100, \"words\": 35.07, \"server_timestamp\": \"2025-02-13T15:32:16+00:00\", \"transcription_timestamp\": \"2025-02-26T15:57:37.328339+00:00\", \"present_user_ids\": [], \"partially_present_user_ids\": []}, {\"content\": \"35.07\", \"start_timestamp\": \"2025-02-13T15:32:20+00:00\", \"end_timestamp\": \"2025-02-13T16:44:06+00:00\", \"speaker\": \"Sergey Ryabenko\", \"confidence\": 0.0003251277287505806, \"segment_id\": 101, \"words\": 43.11, \"server_timestamp\": \"2025-02-13T15:32:16+00:00\", \"transcription_timestamp\": \"2025-02-26T15:57:37.328339+00:00\", \"present_user_ids\": [], \"partially_present_user_ids\": []}, {\"content\": \"43.11\", \"start_timestamp\": \"2025-02-13T15:32:21+00:00\", \"end_timestamp\": \"2025-02-13T16:44:06+00:00\", \"speaker\": \"Sergey Ryabenko\", \"confidence\": 0.00016260162601626016, \"segment_id\": 102, \"words\": 43.53, \"server_timestamp\": \"2025-02-13T15:32:16+00:00\", \"transcription_timestamp\": \"2025-02-26T15:57:37.328339+00:00\", \"present_user_ids\": [], \"partially_present_user_ids\": []}, {\"content\": \"43.53\", \"start_timestamp\": \"2025-02-13T15:32:22+00:00\", \"end_timestamp\": \"2025-02-13T17:11:35+00:00\", \"speaker\": null, \"confidence\": 0.0, \"segment_id\": 103, \"words\": 52.23, \"server_timestamp\": \"2025-02-13T15:32:16+00:00\", \"transcription_timestamp\": \"2025-02-26T15:57:37.328339+00:00\", \"present_user_ids\": [], \"partially_present_user_ids\": []}, {\"content\": \"52.23\", \"start_timestamp\": \"2025-02-13T15:32:23+00:00\", \"end_timestamp\": \"2025-02-13T17:11:35+00:00\", \"speaker\": null, \"confidence\": 0.0, \"segment_id\": 104, \"words\": 59.31, \"server_timestamp\": \"2025-02-13T15:32:16+00:00\", \"transcription_timestamp\": \"2025-02-26T15:57:37.328339+00:00\", \"present_user_ids\": [], \"partially_present_user_ids\": []}]']}},\n",
       " 'queues': {'audio_to_transcribe': {'type': 'none', 'value': None},\n",
       "  'transcribe_ready': {'type': 'none', 'value': None}}}"
      ]
     },
     "execution_count": 5,
     "metadata": {},
     "output_type": "execute_result"
    }
   ],
   "source": [
    "report"
   ]
  },
  {
   "cell_type": "code",
   "execution_count": null,
   "metadata": {},
   "outputs": [],
   "source": []
  }
 ],
 "metadata": {
  "kernelspec": {
   "display_name": "Python 3",
   "language": "python",
   "name": "python3"
  },
  "language_info": {
   "codemirror_mode": {
    "name": "ipython",
    "version": 3
   },
   "file_extension": ".py",
   "mimetype": "text/x-python",
   "name": "python",
   "nbconvert_exporter": "python",
   "pygments_lexer": "ipython3",
   "version": "3.12.9"
  }
 },
 "nbformat": 4,
 "nbformat_minor": 2
}
