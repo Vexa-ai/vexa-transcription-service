{
 "cells": [
  {
   "cell_type": "code",
   "execution_count": 1,
   "metadata": {},
   "outputs": [],
   "source": [
    "%load_ext autoreload\n",
    "%autoreload 2\n"
   ]
  },
  {
   "cell_type": "code",
   "execution_count": 2,
   "metadata": {},
   "outputs": [],
   "source": [
    "import asyncio\n",
    "import logging\n",
    "\n",
    "from app.redis_transcribe.connection import get_redis_client\n",
    "from app.settings import settings\n",
    "from app.services.transcription.processor import Processor"
   ]
  },
  {
   "cell_type": "code",
   "execution_count": 3,
   "metadata": {},
   "outputs": [],
   "source": [
    "from app.services.audio.redis_models import (\n",
    "    Meeting,\n",
    "    Transcriber,\n",
    "    TranscriptStore,\n",
    "    TranscriptPrompt,\n",
    "    best_covering_connection,\n",
    "    connection_with_minimal_start_greater_than_target,\n",
    "    get_timestamps_overlap\n",
    ")"
   ]
  },
  {
   "cell_type": "code",
   "execution_count": 4,
   "metadata": {},
   "outputs": [],
   "source": [
    "# Configure logging\n",
    "logging.basicConfig(\n",
    "    level=logging.INFO,\n",
    "    format='%(asctime)s - %(name)s - %(levelname)s - %(message)s'\n",
    ")\n",
    "logger = logging.getLogger(__name__)"
   ]
  },
  {
   "cell_type": "code",
   "execution_count": 5,
   "metadata": {},
   "outputs": [
    {
     "name": "stderr",
     "output_type": "stream",
     "text": [
      "2025-02-27 17:37:40,689 - INFO - Attempting Redis connection to redis:6379\n",
      "2025-02-27 17:37:40,690 - INFO - Redis password is configured\n",
      "2025-02-27 17:37:40,693 - INFO - Successfully connected to Redis server\n"
     ]
    }
   ],
   "source": [
    "redis_client = await get_redis_client(settings.redis_host, settings.redis_port,settings.redis_password)\n",
    "\n",
    "processor = Processor(redis_client, logger, max_length=settings.max_audio_length_sec)"
   ]
  },
  {
   "cell_type": "code",
   "execution_count": null,
   "metadata": {},
   "outputs": [
    {
     "data": {
      "text/plain": [
       "True"
      ]
     },
     "execution_count": 6,
     "metadata": {},
     "output_type": "execute_result"
    }
   ],
   "source": [
    "await redis_client.flushdb()"
   ]
  },
  {
   "cell_type": "code",
   "execution_count": 6,
   "metadata": {},
   "outputs": [
    {
     "name": "stderr",
     "output_type": "stream",
     "text": [
      "2025-02-27 17:37:43,257 - INFO - seek_timestamp: 2025-02-13 15:32:16+00:00\n",
      "2025-02-27 17:37:43,258 - INFO - number of connections: 1\n",
      "2025-02-27 17:37:43,259 - INFO - Found 1 overlapping connections\n",
      "2025-02-27 17:37:43,259 - INFO - Best Connection ID: 2490f037-c1f5-4051-96c9-b9217bcf4700\n",
      "2025-02-27 17:37:43,259 - INFO - seek: 0.0\n",
      "2025-02-27 17:37:44,193 - INFO - start: None\n"
     ]
    }
   ],
   "source": [
    "ok = await processor.read()"
   ]
  },
  {
   "cell_type": "code",
   "execution_count": 7,
   "metadata": {},
   "outputs": [],
   "source": [
    "self = processor"
   ]
  },
  {
   "cell_type": "code",
   "execution_count": 8,
   "metadata": {},
   "outputs": [
    {
     "name": "stderr",
     "output_type": "stream",
     "text": [
      "2025-02-27 17:37:53,825 - INFO - Generated new text for history from raw segments (length: 447 chars)\n",
      "2025-02-27 17:37:53,827 - INFO - Truncated history to last 400 tokens\n",
      "2025-02-27 17:37:53,828 - INFO - Successfully updated transcription history with 370 chars\n"
     ]
    }
   ],
   "source": [
    "transcription_result = await self._perform_audio_transcription(None)"
   ]
  },
  {
   "cell_type": "code",
   "execution_count": 9,
   "metadata": {},
   "outputs": [],
   "source": [
    "matched_segments = await self._process_segments(transcription_result['segments'])"
   ]
  },
  {
   "cell_type": "code",
   "execution_count": 10,
   "metadata": {},
   "outputs": [
    {
     "data": {
      "text/plain": [
       "[TranscriptSegment(content='я думал ты что-то про ну типа как хранить там и так далее но окей да нужно нужно записать', start_timestamp=Timestamp('2025-02-13 15:32:16.430000+0000', tz='tzutc()'), end_timestamp=Timestamp('2025-02-13 15:32:30.750000+0000', tz='tzutc()'), speaker='Sergey Ryabenko', confidence=0.4888268156424581, words=[{'word': 'я', 'start': 0.43, 'end': 1.45, 'confidence': 0.06683349609375}, {'word': 'думал', 'start': 1.45, 'end': 5.25, 'confidence': 0.81005859375}, {'word': 'ты', 'start': 5.25, 'end': 5.39, 'confidence': 0.2144775390625}, {'word': 'что', 'start': 5.39, 'end': 5.53, 'confidence': 0.82421875}, {'word': '-то', 'start': 5.53, 'end': 5.65, 'confidence': 0.881103515625}, {'word': 'про', 'start': 5.65, 'end': 5.91, 'confidence': 0.93603515625}, {'word': 'ну', 'start': 5.91, 'end': 6.81, 'confidence': 0.75732421875}, {'word': 'типа', 'start': 6.81, 'end': 7.07, 'confidence': 0.98681640625}, {'word': 'как', 'start': 7.07, 'end': 7.29, 'confidence': 0.986328125}, {'word': 'хранить', 'start': 7.29, 'end': 7.81, 'confidence': 0.9833984375}, {'word': 'там', 'start': 7.81, 'end': 8.01, 'confidence': 0.98974609375}, {'word': 'и', 'start': 8.01, 'end': 8.13, 'confidence': 0.994140625}, {'word': 'так', 'start': 8.13, 'end': 8.23, 'confidence': 0.990234375}, {'word': 'далее', 'start': 8.23, 'end': 8.55, 'confidence': 1.0}, {'word': 'но', 'start': 8.55, 'end': 9.19, 'confidence': 0.34765625}, {'word': 'окей', 'start': 9.19, 'end': 9.75, 'confidence': 0.60101318359375}, {'word': 'да', 'start': 9.75, 'end': 12.05, 'confidence': 0.52587890625}, {'word': 'нужно', 'start': 12.05, 'end': 12.73, 'confidence': 0.86474609375}, {'word': 'нужно', 'start': 12.73, 'end': 13.65, 'confidence': 0.84375}, {'word': 'записать', 'start': 13.65, 'end': 14.75, 'confidence': 0.906982421875}], server_timestamp='2025-02-13T15:32:16+00:00'),\n",
       " TranscriptSegment(content='а то тебе скоро векса начнет советовать психологов хоть с кем-нибудь поговорить', start_timestamp=Timestamp('2025-02-13 15:32:30.750000+0000', tz='tzutc()'), end_timestamp=Timestamp('2025-02-13 15:32:42.170000+0000', tz='tzutc()'), speaker='Dmitriy Grankin', confidence=0.37215411558669004, words=[{'word': 'а', 'start': 14.75, 'end': 15.97, 'confidence': 0.1148681640625}, {'word': 'то', 'start': 15.97, 'end': 21.25, 'confidence': 0.68603515625}, {'word': 'тебе', 'start': 21.25, 'end': 21.47, 'confidence': 0.50732421875}, {'word': 'скоро', 'start': 21.47, 'end': 21.73, 'confidence': 0.91259765625}, {'word': 'векса', 'start': 21.73, 'end': 22.07, 'confidence': 0.7887369791666666}, {'word': 'начнет', 'start': 22.07, 'end': 22.41, 'confidence': 0.6455078125}, {'word': 'советовать', 'start': 22.41, 'end': 22.87, 'confidence': 0.915771484375}, {'word': 'психологов', 'start': 22.87, 'end': 23.61, 'confidence': 0.9967447916666666}, {'word': 'хоть', 'start': 23.61, 'end': 25.07, 'confidence': 0.255859375}, {'word': 'с', 'start': 25.07, 'end': 25.27, 'confidence': 0.9140625}, {'word': 'кем', 'start': 25.27, 'end': 25.43, 'confidence': 0.9990234375}, {'word': '-нибудь', 'start': 25.43, 'end': 25.57, 'confidence': 0.95947265625}, {'word': 'поговорить', 'start': 25.57, 'end': 26.17, 'confidence': 0.92236328125}], server_timestamp='2025-02-13T15:32:16+00:00'),\n",
       " TranscriptSegment(content='так да ну можем и технически чего-нибудь обсудить что есть там какие-то вопросы да', start_timestamp=Timestamp('2025-02-13 15:32:42.170000+0000', tz='tzutc()'), end_timestamp=Timestamp('2025-02-13 15:32:51.070000+0000', tz='tzutc()'), speaker=None, confidence=0.0, words=[{'word': 'так', 'start': 26.17, 'end': 27.03, 'confidence': 0.1517333984375}, {'word': 'да', 'start': 27.03, 'end': 27.53, 'confidence': 0.460693359375}, {'word': 'ну', 'start': 27.53, 'end': 30.05, 'confidence': 0.91796875}, {'word': 'можем', 'start': 30.05, 'end': 30.35, 'confidence': 0.98193359375}, {'word': 'и', 'start': 30.35, 'end': 30.45, 'confidence': 0.92333984375}, {'word': 'технически', 'start': 30.45, 'end': 30.89, 'confidence': 0.9646809895833334}, {'word': 'чего', 'start': 30.89, 'end': 31.09, 'confidence': 0.76611328125}, {'word': '-нибудь', 'start': 31.09, 'end': 31.33, 'confidence': 0.967041015625}, {'word': 'обсудить', 'start': 31.33, 'end': 31.81, 'confidence': 0.9967447916666666}, {'word': 'что', 'start': 31.81, 'end': 31.95, 'confidence': 0.72705078125}, {'word': 'есть', 'start': 31.95, 'end': 32.17, 'confidence': 0.99462890625}, {'word': 'там', 'start': 32.17, 'end': 32.35, 'confidence': 0.9873046875}, {'word': 'какие', 'start': 32.35, 'end': 32.51, 'confidence': 0.99951171875}, {'word': '-то', 'start': 32.51, 'end': 32.73, 'confidence': 0.759521484375}, {'word': 'вопросы', 'start': 32.73, 'end': 33.19, 'confidence': 0.9951171875}, {'word': 'да', 'start': 33.19, 'end': 35.07, 'confidence': 0.75244140625}], server_timestamp='2025-02-13T15:32:16+00:00'),\n",
       " TranscriptSegment(content='без разницы можно просто говорить ясно вопроса', start_timestamp=Timestamp('2025-02-13 15:32:51.070000+0000', tz='tzutc()'), end_timestamp=Timestamp('2025-02-13 15:32:59.110000+0000', tz='tzutc()'), speaker=None, confidence=0.0, words=[{'word': 'без', 'start': 35.07, 'end': 35.27, 'confidence': 0.99658203125}, {'word': 'разницы', 'start': 35.27, 'end': 35.71, 'confidence': 0.985107421875}, {'word': 'можно', 'start': 35.71, 'end': 36.01, 'confidence': 0.7763671875}, {'word': 'просто', 'start': 36.01, 'end': 36.39, 'confidence': 0.97119140625}, {'word': 'говорить', 'start': 36.39, 'end': 36.65, 'confidence': 0.66943359375}, {'word': 'ясно', 'start': 36.65, 'end': 40.49, 'confidence': 0.8074544270833334}, {'word': 'вопроса', 'start': 40.49, 'end': 43.11, 'confidence': 0.32244873046875}], server_timestamp='2025-02-13T15:32:16+00:00'),\n",
       " TranscriptSegment(content='вопрос', start_timestamp=Timestamp('2025-02-13 15:32:59.110000+0000', tz='tzutc()'), end_timestamp=Timestamp('2025-02-13 15:32:59.530000+0000', tz='tzutc()'), speaker=None, confidence=0.0, words=[{'word': 'вопрос', 'start': 43.11, 'end': 43.53, 'confidence': 0.0076446533203125}], server_timestamp='2025-02-13T15:32:16+00:00'),\n",
       " TranscriptSegment(content='чего просто сейчас надо догнать пока вот эту всю штуку потому что конечно наворочили', start_timestamp=Timestamp('2025-02-13 15:32:59.530000+0000', tz='tzutc()'), end_timestamp=Timestamp('2025-02-13 15:33:08.230000+0000', tz='tzutc()'), speaker=None, confidence=0.0, words=[{'word': 'чего', 'start': 43.53, 'end': 44.45, 'confidence': 0.08746337890625}, {'word': 'просто', 'start': 44.45, 'end': 44.87, 'confidence': 0.381103515625}, {'word': 'сейчас', 'start': 44.87, 'end': 45.19, 'confidence': 0.94580078125}, {'word': 'надо', 'start': 45.19, 'end': 46.23, 'confidence': 0.99755859375}, {'word': 'догнать', 'start': 46.23, 'end': 46.89, 'confidence': 0.9959309895833334}, {'word': 'пока', 'start': 46.89, 'end': 47.07, 'confidence': 0.9365234375}, {'word': 'вот', 'start': 47.07, 'end': 47.41, 'confidence': 0.5615234375}, {'word': 'эту', 'start': 47.41, 'end': 47.57, 'confidence': 0.9453125}, {'word': 'всю', 'start': 47.57, 'end': 47.87, 'confidence': 0.96337890625}, {'word': 'штуку', 'start': 47.87, 'end': 48.35, 'confidence': 0.9939778645833334}, {'word': 'потому', 'start': 48.35, 'end': 48.65, 'confidence': 0.9453125}, {'word': 'что', 'start': 48.65, 'end': 48.93, 'confidence': 0.9990234375}, {'word': 'конечно', 'start': 48.93, 'end': 50.53, 'confidence': 0.97314453125}, {'word': 'наворочили', 'start': 50.53, 'end': 52.23, 'confidence': 0.935791015625}], server_timestamp='2025-02-13T15:32:16+00:00'),\n",
       " TranscriptSegment(content='мы там нехило с андреем ну да всякого лишнего но', start_timestamp=Timestamp('2025-02-13 15:33:08.230000+0000', tz='tzutc()'), end_timestamp=Timestamp('2025-02-13 15:33:15.310000+0000', tz='tzutc()'), speaker=None, confidence=0.0, words=[{'word': 'мы', 'start': 52.23, 'end': 52.43, 'confidence': 0.90087890625}, {'word': 'там', 'start': 52.43, 'end': 52.67, 'confidence': 0.96533203125}, {'word': 'нехило', 'start': 52.67, 'end': 53.29, 'confidence': 0.51611328125}, {'word': 'с', 'start': 53.29, 'end': 53.59, 'confidence': 0.96826171875}, {'word': 'андреем', 'start': 53.59, 'end': 54.15, 'confidence': 0.984375}, {'word': 'ну', 'start': 54.15, 'end': 55.79, 'confidence': 0.763671875}, {'word': 'да', 'start': 55.79, 'end': 56.47, 'confidence': 0.9580078125}, {'word': 'всякого', 'start': 56.47, 'end': 58.21, 'confidence': 0.99609375}, {'word': 'лишнего', 'start': 58.21, 'end': 58.77, 'confidence': 0.989013671875}, {'word': 'но', 'start': 58.77, 'end': 59.31, 'confidence': 0.94775390625}], server_timestamp='2025-02-13T15:32:16+00:00')]"
      ]
     },
     "execution_count": 10,
     "metadata": {},
     "output_type": "execute_result"
    }
   ],
   "source": [
    "matched_segments"
   ]
  },
  {
   "cell_type": "code",
   "execution_count": 11,
   "metadata": {},
   "outputs": [],
   "source": [
    "from datetime import datetime, timezone"
   ]
  },
  {
   "cell_type": "code",
   "execution_count": 12,
   "metadata": {},
   "outputs": [],
   "source": [
    "for segment in matched_segments:\n",
    "    transcription = TranscriptStore(\n",
    "        self.meeting.meeting_id,\n",
    "        self.redis_client,\n",
    "        segment.to_dict()\n",
    "    )\n",
    "    await transcription.lpush()\n",
    "\n"
   ]
  },
  {
   "cell_type": "code",
   "execution_count": 13,
   "metadata": {},
   "outputs": [],
   "source": [
    "self.done = True"
   ]
  },
  {
   "cell_type": "code",
   "execution_count": 14,
   "metadata": {},
   "outputs": [
    {
     "name": "stderr",
     "output_type": "stream",
     "text": [
      "2025-02-27 17:37:59,693 - INFO - seek_timestamp: 2025-02-13 15:33:16+00:00\n"
     ]
    }
   ],
   "source": [
    "await processor.find_next_seek()"
   ]
  },
  {
   "cell_type": "code",
   "execution_count": 15,
   "metadata": {},
   "outputs": [],
   "source": [
    "from app.services.api.engine_client import EngineAPIClient"
   ]
  },
  {
   "cell_type": "code",
   "execution_count": 17,
   "metadata": {},
   "outputs": [],
   "source": [
    "await TranscriptStore.process_all_transcripts(redis_client, self.engine_client)"
   ]
  },
  {
   "cell_type": "code",
   "execution_count": null,
   "metadata": {},
   "outputs": [],
   "source": []
  },
  {
   "cell_type": "code",
   "execution_count": 23,
   "metadata": {},
   "outputs": [
    {
     "data": {
      "text/plain": [
       "{'the-zdjv-byg': [{'content': 'мы там нехило с андреем ну да всякого лишнего но',\n",
       "   'start_timestamp': '2025-02-13 15:33:08.230000+00:00',\n",
       "   'end_timestamp': '2025-02-13 15:33:15.310000+00:00',\n",
       "   'speaker': None,\n",
       "   'confidence': 0.0,\n",
       "   'words': [{'word': 'мы',\n",
       "     'start': 52.23,\n",
       "     'end': 52.43,\n",
       "     'confidence': 0.90087890625},\n",
       "    {'word': 'там', 'start': 52.43, 'end': 52.67, 'confidence': 0.96533203125},\n",
       "    {'word': 'нехило',\n",
       "     'start': 52.67,\n",
       "     'end': 53.29,\n",
       "     'confidence': 0.51611328125},\n",
       "    {'word': 'с', 'start': 53.29, 'end': 53.59, 'confidence': 0.96826171875},\n",
       "    {'word': 'андреем', 'start': 53.59, 'end': 54.15, 'confidence': 0.984375},\n",
       "    {'word': 'ну', 'start': 54.15, 'end': 55.79, 'confidence': 0.763671875},\n",
       "    {'word': 'да', 'start': 55.79, 'end': 56.47, 'confidence': 0.9580078125},\n",
       "    {'word': 'всякого',\n",
       "     'start': 56.47,\n",
       "     'end': 58.21,\n",
       "     'confidence': 0.99609375},\n",
       "    {'word': 'лишнего',\n",
       "     'start': 58.21,\n",
       "     'end': 58.77,\n",
       "     'confidence': 0.989013671875},\n",
       "    {'word': 'но', 'start': 58.77, 'end': 59.31, 'confidence': 0.94775390625}],\n",
       "   'server_timestamp': '2025-02-13T15:32:16+00:00',\n",
       "   'present_user_ids': ['2ff66708-7934-4d19-88b5-6efd6f29efef']},\n",
       "  {'content': 'чего просто сейчас надо догнать пока вот эту всю штуку потому что конечно наворочили',\n",
       "   'start_timestamp': '2025-02-13 15:32:59.530000+00:00',\n",
       "   'end_timestamp': '2025-02-13 15:33:08.230000+00:00',\n",
       "   'speaker': None,\n",
       "   'confidence': 0.0,\n",
       "   'words': [{'word': 'чего',\n",
       "     'start': 43.53,\n",
       "     'end': 44.45,\n",
       "     'confidence': 0.08746337890625},\n",
       "    {'word': 'просто',\n",
       "     'start': 44.45,\n",
       "     'end': 44.87,\n",
       "     'confidence': 0.381103515625},\n",
       "    {'word': 'сейчас',\n",
       "     'start': 44.87,\n",
       "     'end': 45.19,\n",
       "     'confidence': 0.94580078125},\n",
       "    {'word': 'надо',\n",
       "     'start': 45.19,\n",
       "     'end': 46.23,\n",
       "     'confidence': 0.99755859375},\n",
       "    {'word': 'догнать',\n",
       "     'start': 46.23,\n",
       "     'end': 46.89,\n",
       "     'confidence': 0.9959309895833334},\n",
       "    {'word': 'пока', 'start': 46.89, 'end': 47.07, 'confidence': 0.9365234375},\n",
       "    {'word': 'вот', 'start': 47.07, 'end': 47.41, 'confidence': 0.5615234375},\n",
       "    {'word': 'эту', 'start': 47.41, 'end': 47.57, 'confidence': 0.9453125},\n",
       "    {'word': 'всю', 'start': 47.57, 'end': 47.87, 'confidence': 0.96337890625},\n",
       "    {'word': 'штуку',\n",
       "     'start': 47.87,\n",
       "     'end': 48.35,\n",
       "     'confidence': 0.9939778645833334},\n",
       "    {'word': 'потому', 'start': 48.35, 'end': 48.65, 'confidence': 0.9453125},\n",
       "    {'word': 'что', 'start': 48.65, 'end': 48.93, 'confidence': 0.9990234375},\n",
       "    {'word': 'конечно',\n",
       "     'start': 48.93,\n",
       "     'end': 50.53,\n",
       "     'confidence': 0.97314453125},\n",
       "    {'word': 'наворочили',\n",
       "     'start': 50.53,\n",
       "     'end': 52.23,\n",
       "     'confidence': 0.935791015625}],\n",
       "   'server_timestamp': '2025-02-13T15:32:16+00:00',\n",
       "   'present_user_ids': ['2ff66708-7934-4d19-88b5-6efd6f29efef']},\n",
       "  {'content': 'вопрос',\n",
       "   'start_timestamp': '2025-02-13 15:32:59.110000+00:00',\n",
       "   'end_timestamp': '2025-02-13 15:32:59.530000+00:00',\n",
       "   'speaker': None,\n",
       "   'confidence': 0.0,\n",
       "   'words': [{'word': 'вопрос',\n",
       "     'start': 43.11,\n",
       "     'end': 43.53,\n",
       "     'confidence': 0.0076446533203125}],\n",
       "   'server_timestamp': '2025-02-13T15:32:16+00:00',\n",
       "   'present_user_ids': ['2ff66708-7934-4d19-88b5-6efd6f29efef']},\n",
       "  {'content': 'без разницы можно просто говорить ясно вопроса',\n",
       "   'start_timestamp': '2025-02-13 15:32:51.070000+00:00',\n",
       "   'end_timestamp': '2025-02-13 15:32:59.110000+00:00',\n",
       "   'speaker': None,\n",
       "   'confidence': 0.0,\n",
       "   'words': [{'word': 'без',\n",
       "     'start': 35.07,\n",
       "     'end': 35.27,\n",
       "     'confidence': 0.99658203125},\n",
       "    {'word': 'разницы',\n",
       "     'start': 35.27,\n",
       "     'end': 35.71,\n",
       "     'confidence': 0.985107421875},\n",
       "    {'word': 'можно',\n",
       "     'start': 35.71,\n",
       "     'end': 36.01,\n",
       "     'confidence': 0.7763671875},\n",
       "    {'word': 'просто',\n",
       "     'start': 36.01,\n",
       "     'end': 36.39,\n",
       "     'confidence': 0.97119140625},\n",
       "    {'word': 'говорить',\n",
       "     'start': 36.39,\n",
       "     'end': 36.65,\n",
       "     'confidence': 0.66943359375},\n",
       "    {'word': 'ясно',\n",
       "     'start': 36.65,\n",
       "     'end': 40.49,\n",
       "     'confidence': 0.8074544270833334},\n",
       "    {'word': 'вопроса',\n",
       "     'start': 40.49,\n",
       "     'end': 43.11,\n",
       "     'confidence': 0.32244873046875}],\n",
       "   'server_timestamp': '2025-02-13T15:32:16+00:00',\n",
       "   'present_user_ids': ['2ff66708-7934-4d19-88b5-6efd6f29efef']},\n",
       "  {'content': 'так да ну можем и технически чего-нибудь обсудить что есть там какие-то вопросы да',\n",
       "   'start_timestamp': '2025-02-13 15:32:42.170000+00:00',\n",
       "   'end_timestamp': '2025-02-13 15:32:51.070000+00:00',\n",
       "   'speaker': None,\n",
       "   'confidence': 0.0,\n",
       "   'words': [{'word': 'так',\n",
       "     'start': 26.17,\n",
       "     'end': 27.03,\n",
       "     'confidence': 0.1517333984375},\n",
       "    {'word': 'да', 'start': 27.03, 'end': 27.53, 'confidence': 0.460693359375},\n",
       "    {'word': 'ну', 'start': 27.53, 'end': 30.05, 'confidence': 0.91796875},\n",
       "    {'word': 'можем',\n",
       "     'start': 30.05,\n",
       "     'end': 30.35,\n",
       "     'confidence': 0.98193359375},\n",
       "    {'word': 'и', 'start': 30.35, 'end': 30.45, 'confidence': 0.92333984375},\n",
       "    {'word': 'технически',\n",
       "     'start': 30.45,\n",
       "     'end': 30.89,\n",
       "     'confidence': 0.9646809895833334},\n",
       "    {'word': 'чего',\n",
       "     'start': 30.89,\n",
       "     'end': 31.09,\n",
       "     'confidence': 0.76611328125},\n",
       "    {'word': '-нибудь',\n",
       "     'start': 31.09,\n",
       "     'end': 31.33,\n",
       "     'confidence': 0.967041015625},\n",
       "    {'word': 'обсудить',\n",
       "     'start': 31.33,\n",
       "     'end': 31.81,\n",
       "     'confidence': 0.9967447916666666},\n",
       "    {'word': 'что', 'start': 31.81, 'end': 31.95, 'confidence': 0.72705078125},\n",
       "    {'word': 'есть',\n",
       "     'start': 31.95,\n",
       "     'end': 32.17,\n",
       "     'confidence': 0.99462890625},\n",
       "    {'word': 'там', 'start': 32.17, 'end': 32.35, 'confidence': 0.9873046875},\n",
       "    {'word': 'какие',\n",
       "     'start': 32.35,\n",
       "     'end': 32.51,\n",
       "     'confidence': 0.99951171875},\n",
       "    {'word': '-то',\n",
       "     'start': 32.51,\n",
       "     'end': 32.73,\n",
       "     'confidence': 0.759521484375},\n",
       "    {'word': 'вопросы',\n",
       "     'start': 32.73,\n",
       "     'end': 33.19,\n",
       "     'confidence': 0.9951171875},\n",
       "    {'word': 'да', 'start': 33.19, 'end': 35.07, 'confidence': 0.75244140625}],\n",
       "   'server_timestamp': '2025-02-13T15:32:16+00:00',\n",
       "   'present_user_ids': ['2ff66708-7934-4d19-88b5-6efd6f29efef']},\n",
       "  {'content': 'а то тебе скоро векса начнет советовать психологов хоть с кем-нибудь поговорить',\n",
       "   'start_timestamp': '2025-02-13 15:32:30.750000+00:00',\n",
       "   'end_timestamp': '2025-02-13 15:32:42.170000+00:00',\n",
       "   'speaker': None,\n",
       "   'confidence': 0.0,\n",
       "   'words': [{'word': 'а',\n",
       "     'start': 14.75,\n",
       "     'end': 15.97,\n",
       "     'confidence': 0.1148681640625},\n",
       "    {'word': 'то', 'start': 15.97, 'end': 21.25, 'confidence': 0.68603515625},\n",
       "    {'word': 'тебе',\n",
       "     'start': 21.25,\n",
       "     'end': 21.47,\n",
       "     'confidence': 0.50732421875},\n",
       "    {'word': 'скоро',\n",
       "     'start': 21.47,\n",
       "     'end': 21.73,\n",
       "     'confidence': 0.91259765625},\n",
       "    {'word': 'векса',\n",
       "     'start': 21.73,\n",
       "     'end': 22.07,\n",
       "     'confidence': 0.7887369791666666},\n",
       "    {'word': 'начнет',\n",
       "     'start': 22.07,\n",
       "     'end': 22.41,\n",
       "     'confidence': 0.6455078125},\n",
       "    {'word': 'советовать',\n",
       "     'start': 22.41,\n",
       "     'end': 22.87,\n",
       "     'confidence': 0.915771484375},\n",
       "    {'word': 'психологов',\n",
       "     'start': 22.87,\n",
       "     'end': 23.61,\n",
       "     'confidence': 0.9967447916666666},\n",
       "    {'word': 'хоть', 'start': 23.61, 'end': 25.07, 'confidence': 0.255859375},\n",
       "    {'word': 'с', 'start': 25.07, 'end': 25.27, 'confidence': 0.9140625},\n",
       "    {'word': 'кем', 'start': 25.27, 'end': 25.43, 'confidence': 0.9990234375},\n",
       "    {'word': '-нибудь',\n",
       "     'start': 25.43,\n",
       "     'end': 25.57,\n",
       "     'confidence': 0.95947265625},\n",
       "    {'word': 'поговорить',\n",
       "     'start': 25.57,\n",
       "     'end': 26.17,\n",
       "     'confidence': 0.92236328125}],\n",
       "   'server_timestamp': '2025-02-13T15:32:16+00:00',\n",
       "   'present_user_ids': ['2ff66708-7934-4d19-88b5-6efd6f29efef']},\n",
       "  {'content': 'я думал ты что-то про ну типа как хранить там и так далее но окей да нужно нужно записать',\n",
       "   'start_timestamp': '2025-02-13 15:32:16.430000+00:00',\n",
       "   'end_timestamp': '2025-02-13 15:32:30.750000+00:00',\n",
       "   'speaker': 'Sergey Ryabenko',\n",
       "   'confidence': 0.27932960893854747,\n",
       "   'words': [{'word': 'я',\n",
       "     'start': 0.43,\n",
       "     'end': 1.45,\n",
       "     'confidence': 0.06683349609375},\n",
       "    {'word': 'думал', 'start': 1.45, 'end': 5.25, 'confidence': 0.81005859375},\n",
       "    {'word': 'ты', 'start': 5.25, 'end': 5.39, 'confidence': 0.2144775390625},\n",
       "    {'word': 'что', 'start': 5.39, 'end': 5.53, 'confidence': 0.82421875},\n",
       "    {'word': '-то', 'start': 5.53, 'end': 5.65, 'confidence': 0.881103515625},\n",
       "    {'word': 'про', 'start': 5.65, 'end': 5.91, 'confidence': 0.93603515625},\n",
       "    {'word': 'ну', 'start': 5.91, 'end': 6.81, 'confidence': 0.75732421875},\n",
       "    {'word': 'типа', 'start': 6.81, 'end': 7.07, 'confidence': 0.98681640625},\n",
       "    {'word': 'как', 'start': 7.07, 'end': 7.29, 'confidence': 0.986328125},\n",
       "    {'word': 'хранить',\n",
       "     'start': 7.29,\n",
       "     'end': 7.81,\n",
       "     'confidence': 0.9833984375},\n",
       "    {'word': 'там', 'start': 7.81, 'end': 8.01, 'confidence': 0.98974609375},\n",
       "    {'word': 'и', 'start': 8.01, 'end': 8.13, 'confidence': 0.994140625},\n",
       "    {'word': 'так', 'start': 8.13, 'end': 8.23, 'confidence': 0.990234375},\n",
       "    {'word': 'далее', 'start': 8.23, 'end': 8.55, 'confidence': 1.0},\n",
       "    {'word': 'но', 'start': 8.55, 'end': 9.19, 'confidence': 0.34765625},\n",
       "    {'word': 'окей',\n",
       "     'start': 9.19,\n",
       "     'end': 9.75,\n",
       "     'confidence': 0.60101318359375},\n",
       "    {'word': 'да', 'start': 9.75, 'end': 12.05, 'confidence': 0.52587890625},\n",
       "    {'word': 'нужно',\n",
       "     'start': 12.05,\n",
       "     'end': 12.73,\n",
       "     'confidence': 0.86474609375},\n",
       "    {'word': 'нужно', 'start': 12.73, 'end': 13.65, 'confidence': 0.84375},\n",
       "    {'word': 'записать',\n",
       "     'start': 13.65,\n",
       "     'end': 14.75,\n",
       "     'confidence': 0.906982421875}],\n",
       "   'server_timestamp': '2025-02-13T15:32:16+00:00',\n",
       "   'present_user_ids': ['2ff66708-7934-4d19-88b5-6efd6f29efef']}]}"
      ]
     },
     "execution_count": 23,
     "metadata": {},
     "output_type": "execute_result"
    }
   ],
   "source": [
    "\n",
    "transcripts = await TranscriptStore.get_raw_transcript_data(redis_client)\n",
    "transcripts"
   ]
  },
  {
   "cell_type": "code",
   "execution_count": null,
   "metadata": {},
   "outputs": [],
   "source": []
  }
 ],
 "metadata": {
  "kernelspec": {
   "display_name": "Python 3",
   "language": "python",
   "name": "python3"
  },
  "language_info": {
   "codemirror_mode": {
    "name": "ipython",
    "version": 3
   },
   "file_extension": ".py",
   "mimetype": "text/x-python",
   "name": "python",
   "nbconvert_exporter": "python",
   "pygments_lexer": "ipython3",
   "version": "3.12.9"
  }
 },
 "nbformat": 4,
 "nbformat_minor": 2
}
