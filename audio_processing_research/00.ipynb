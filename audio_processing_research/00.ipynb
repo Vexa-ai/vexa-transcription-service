{
 "cells": [
  {
   "cell_type": "code",
   "execution_count": 5,
   "metadata": {},
   "outputs": [
    {
     "name": "stdout",
     "output_type": "stream",
     "text": [
      "The autoreload extension is already loaded. To reload it, use:\n",
      "  %reload_ext autoreload\n"
     ]
    }
   ],
   "source": [
    "\n",
    "%load_ext autoreload\n",
    "%autoreload 2"
   ]
  },
  {
   "cell_type": "code",
   "execution_count": 6,
   "metadata": {},
   "outputs": [],
   "source": [
    "import sys\n",
    "sys.path.append('..')"
   ]
  },
  {
   "cell_type": "code",
   "execution_count": 7,
   "metadata": {},
   "outputs": [
    {
     "name": "stdout",
     "output_type": "stream",
     "text": [
      "check_and_process_connections_interval_sec: 1.0\n"
     ]
    }
   ],
   "source": [
    "import logging\n",
    "from datetime import datetime, timezone\n",
    "from typing import List\n",
    "\n",
    "from redis.asyncio import Redis\n",
    "\n",
    "from app.database_redis.connection import get_redis_client\n",
    "from app.database_redis.dals.connection_dal import ConnectionDAL\n",
    "from app.services.apis.streamqueue_service.client import StreamQueueServiceAPI\n",
    "from app.services.apis.streamqueue_service.schemas import AudioChunkInfo, ExistingConnectionInfo\n",
    "from app.services.audio.redis import Connection, Diarizer, Meeting, Transcriber\n",
    "from app.settings import settings\n",
    "\n",
    "from app.services.audio.audio import AudioSlicer\n"
   ]
  },
  {
   "cell_type": "code",
   "execution_count": 8,
   "metadata": {},
   "outputs": [],
   "source": [
    "redis_client = await get_redis_client(settings.redis_host, settings.redis_port, settings.redis_password)"
   ]
  },
  {
   "cell_type": "markdown",
   "metadata": {},
   "source": [
    "## copy meeting for tests"
   ]
  },
  {
   "cell_type": "code",
   "execution_count": 9,
   "metadata": {},
   "outputs": [],
   "source": [
    "meeting_id = 'wcg-kmhp-snd'"
   ]
  },
  {
   "cell_type": "code",
   "execution_count": 17,
   "metadata": {},
   "outputs": [],
   "source": [
    "meeting = Meeting(redis_client, meeting_id)\n",
    "await meeting.load_from_redis()"
   ]
  },
  {
   "cell_type": "code",
   "execution_count": 18,
   "metadata": {},
   "outputs": [],
   "source": [
    "meeting_copy = Meeting(redis_client,'test_meeting_id')"
   ]
  },
  {
   "cell_type": "code",
   "execution_count": 23,
   "metadata": {},
   "outputs": [],
   "source": [
    "for t in meeting_copy.timestamps:\n",
    "    v = getattr(meeting,t)\n",
    "    setattr(meeting_copy,t,v)"
   ]
  },
  {
   "cell_type": "code",
   "execution_count": 24,
   "metadata": {},
   "outputs": [
    {
     "data": {
      "text/plain": [
       "datetime.datetime(2024, 6, 4, 11, 35, 57, 670813, tzinfo=tzutc())"
      ]
     },
     "execution_count": 24,
     "metadata": {},
     "output_type": "execute_result"
    }
   ],
   "source": [
    "meeting_copy.diarizer_seek_timestamp"
   ]
  },
  {
   "cell_type": "code",
   "execution_count": 25,
   "metadata": {},
   "outputs": [],
   "source": [
    "await meeting_copy.update_redis()"
   ]
  },
  {
   "cell_type": "code",
   "execution_count": 13,
   "metadata": {},
   "outputs": [],
   "source": [
    "connections = await meeting.get_connections()"
   ]
  },
  {
   "cell_type": "code",
   "execution_count": 14,
   "metadata": {},
   "outputs": [
    {
     "data": {
      "text/plain": [
       "16"
      ]
     },
     "execution_count": 14,
     "metadata": {},
     "output_type": "execute_result"
    }
   ],
   "source": [
    "len(connections)"
   ]
  },
  {
   "cell_type": "code",
   "execution_count": 15,
   "metadata": {},
   "outputs": [
    {
     "data": {
      "text/plain": [
       "['7bb8e2dc-b195-4e9e-b2d1-c671b59163ac',\n",
       " 'f859aa3a-24db-47f0-824e-cd57c26ed87b',\n",
       " '4aa7e520-b12c-41a9-9d61-d27c4aaf23c2',\n",
       " '735bdc55-b5a9-4229-8406-b2d22ade9fcd',\n",
       " '3824169c-d0f8-40a6-9aba-f8dfa8dd39dc',\n",
       " 'e09c5679-225c-4be1-9be6-54db98a91b88',\n",
       " '7f9c37e0-0283-42dc-bb6c-d3b101812c1f',\n",
       " '2fd56fe0-7b29-4bb9-86eb-72c34a0e865c',\n",
       " '2304e753-4526-41a1-94bc-26db021a69cf',\n",
       " 'f93488ff-7f17-4cbb-ab5a-6b7b1b694000',\n",
       " '6858450a-4add-48b3-8741-3cc99f1b3b3e',\n",
       " 'fc990593-03e7-4bc0-9b0e-46459c292e8e',\n",
       " '209763a5-c4a4-4524-b371-865213418ee1',\n",
       " '1aaf6374-6e41-476e-aa5e-97543ba7e211',\n",
       " '50b159d8-15d4-415e-b312-275186b1e3c0',\n",
       " 'd0614519-8718-414e-a95b-c21a98f68986']"
      ]
     },
     "execution_count": 15,
     "metadata": {},
     "output_type": "execute_result"
    }
   ],
   "source": [
    "[c.id for c in connections]"
   ]
  },
  {
   "cell_type": "code",
   "execution_count": 17,
   "metadata": {},
   "outputs": [
    {
     "data": {
      "text/plain": [
       "[None,\n",
       " None,\n",
       " None,\n",
       " None,\n",
       " None,\n",
       " None,\n",
       " None,\n",
       " None,\n",
       " None,\n",
       " None,\n",
       " None,\n",
       " None,\n",
       " None,\n",
       " None,\n",
       " None,\n",
       " None]"
      ]
     },
     "execution_count": 17,
     "metadata": {},
     "output_type": "execute_result"
    }
   ],
   "source": [
    "[await meeting_copy.add_connection(c.id) for c in connections]"
   ]
  },
  {
   "cell_type": "code",
   "execution_count": 20,
   "metadata": {},
   "outputs": [],
   "source": [
    "connections = await meeting_copy.get_connections()"
   ]
  },
  {
   "cell_type": "code",
   "execution_count": 21,
   "metadata": {},
   "outputs": [
    {
     "data": {
      "text/plain": [
       "16"
      ]
     },
     "execution_count": 21,
     "metadata": {},
     "output_type": "execute_result"
    }
   ],
   "source": [
    "len(connections)"
   ]
  },
  {
   "cell_type": "code",
   "execution_count": 72,
   "metadata": {},
   "outputs": [],
   "source": [
    "current_time = datetime.now(timezone.utc)"
   ]
  },
  {
   "cell_type": "code",
   "execution_count": 73,
   "metadata": {},
   "outputs": [],
   "source": [
    "diarizer_step = 30"
   ]
  },
  {
   "cell_type": "code",
   "execution_count": 74,
   "metadata": {},
   "outputs": [
    {
     "name": "stdout",
     "output_type": "stream",
     "text": [
      "diarizer added\n"
     ]
    },
    {
     "ename": "NameError",
     "evalue": "name 'segment_start_timestamp' is not defined",
     "output_type": "error",
     "traceback": [
      "\u001b[0;31m---------------------------------------------------------------------------\u001b[0m",
      "\u001b[0;31mNameError\u001b[0m                                 Traceback (most recent call last)",
      "Cell \u001b[0;32mIn[74], line 6\u001b[0m\n\u001b[1;32m      3\u001b[0m diarizer \u001b[38;5;241m=\u001b[39m Diarizer(redis_client)\n\u001b[1;32m      4\u001b[0m \u001b[38;5;28;01mawait\u001b[39;00m diarizer\u001b[38;5;241m.\u001b[39madd_todo(meeting\u001b[38;5;241m.\u001b[39mmeeting_id)\n\u001b[1;32m      5\u001b[0m \u001b[38;5;28;01mawait\u001b[39;00m meeting\u001b[38;5;241m.\u001b[39mupdate_diarizer_timestamp(\n\u001b[0;32m----> 6\u001b[0m     segment_start_timestamp, diarizer_last_updated_timestamp\u001b[38;5;241m=\u001b[39mcurrent_time\n\u001b[1;32m      7\u001b[0m )\n",
      "\u001b[0;31mNameError\u001b[0m: name 'segment_start_timestamp' is not defined"
     ]
    }
   ],
   "source": [
    "if (current_time - meeting.diarizer_last_updated_timestamp).seconds > diarizer_step:\n",
    "    print(\"diarizer added\")\n",
    "    diarizer = Diarizer(redis_client)\n",
    "    await diarizer.add_todo(meeting.meeting_id)\n",
    "    await meeting.update_diarizer_timestamp(\n",
    "        segment_start_timestamp, diarizer_last_updated_timestamp=current_time\n",
    "    )"
   ]
  },
  {
   "cell_type": "code",
   "execution_count": null,
   "metadata": {},
   "outputs": [],
   "source": []
  }
 ],
 "metadata": {
  "kernelspec": {
   "display_name": "Python 3",
   "language": "python",
   "name": "python3"
  },
  "language_info": {
   "codemirror_mode": {
    "name": "ipython",
    "version": 3
   },
   "file_extension": ".py",
   "mimetype": "text/x-python",
   "name": "python",
   "nbconvert_exporter": "python",
   "pygments_lexer": "ipython3",
   "version": "3.9.18"
  }
 },
 "nbformat": 4,
 "nbformat_minor": 2
}
