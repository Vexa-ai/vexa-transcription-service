{
 "cells": [
  {
   "cell_type": "code",
   "execution_count": 1,
   "metadata": {},
   "outputs": [],
   "source": [
    "\n",
    "%load_ext autoreload\n",
    "%autoreload 2\n"
   ]
  },
  {
   "cell_type": "code",
   "execution_count": 2,
   "metadata": {},
   "outputs": [],
   "source": [
    "import logging\n",
    "from datetime import datetime, timezone\n",
    "\n",
    "from app.database_redis.connection import get_redis_client\n",
    "from app.services.apis.streamqueue_service.client import StreamQueueServiceAPI\n",
    "from app.services.audio.redis import Connection, Diarizer, Meeting, Transcriber\n",
    "from app.settings import settings\n",
    "\n",
    "logger = logging.getLogger(__name__)"
   ]
  },
  {
   "cell_type": "code",
   "execution_count": 7,
   "metadata": {},
   "outputs": [],
   "source": [
    "\n",
    "\n",
    "class Processor:\n",
    "    def __init__(self):\n",
    "        self.__running_tasks = set()\n",
    "        self.__stream_queue_service_api = StreamQueueServiceAPI()\n",
    "\n",
    "    async def process_connections(self):\n",
    "        logger.info(\"Process connections...\")\n",
    "        connections = await self.__stream_queue_service_api.get_connections()\n",
    "        connection_ids = [c[0] for c in connections]\n",
    "\n",
    "        for connection_id in connection_ids:\n",
    "            await self._process_connection_task(connection_id)\n",
    "\n",
    "    async def _process_connection_task(self, connection_id, diarizer_step=60, transcriber_step=5):\n",
    "        redis_client = await get_redis_client(settings.redis_host, settings.redis_port, settings.redis_password)\n",
    "        meeting_id, segment_start_timestamp, segment_end_timestamp, user_id = await self.__writestream2file(\n",
    "            connection_id\n",
    "        )\n",
    "        segment_start_timestamp = datetime.strptime(segment_start_timestamp, \"%Y-%m-%dT%H:%M:%S.%fZ\") if segment_start_timestamp else None\n",
    "      #  segment_start_timestamp.tzinfo = timezone.utc\n",
    "        segment_end_timestamp = datetime.strptime(segment_end_timestamp, \"%Y-%m-%dT%H:%M:%S.%fZ\") if segment_end_timestamp else None\n",
    "       # segment_end_timestamp.tzinfo = timezone.utc\n",
    "        current_time = datetime.now(timezone.utc)\n",
    "\n",
    "        connection = Connection(redis_client, connection_id, user_id)\n",
    "        await connection.update_timestamps(segment_start_timestamp, segment_end_timestamp)\n",
    "\n",
    "        meeting = Meeting(redis_client, meeting_id)\n",
    "        await meeting.load_from_redis()\n",
    "        await meeting.add_connection(connection.id)\n",
    "        meeting.diarizer_last_updated_timestamp = meeting.diarizer_last_updated_timestamp or segment_start_timestamp\n",
    "        meeting.transcriber_last_updated_timestamp = meeting.transcriber_last_updated_timestamp or segment_start_timestamp\n",
    "\n",
    "        if (current_time - meeting.diarizer_last_updated_timestamp).seconds > diarizer_step:\n",
    "            diarizer = Diarizer(redis_client)\n",
    "            await diarizer.add_todo(meeting.meeting_id)\n",
    "            await meeting.update_diarizer_timestamp(\n",
    "                segment_start_timestamp, diarizer_last_updated_timestamp=current_time\n",
    "            )\n",
    "\n",
    "        if (current_time - meeting.transcriber_last_updated_timestamp).seconds > transcriber_step:\n",
    "            transcriber = Transcriber(redis_client)\n",
    "            await transcriber.add_todo(meeting.meeting_id)\n",
    "            await meeting.update_transcriber_timestamp(\n",
    "                segment_start_timestamp, transcriber_last_updated_timestamp=current_time\n",
    "            )\n",
    "\n",
    "    async def __writestream2file(self, connection_id):\n",
    "        path = f\"/audio/{connection_id}.webm\"\n",
    "        first_timestamp = None\n",
    "        items = await self.__stream_queue_service_api.fetch_chunks(connection_id, num_chunks=100)\n",
    "\n",
    "        if items:\n",
    "            # if there is no meeting_id in META-data\n",
    "            meeting_id = connection_id\n",
    "\n",
    "            for item in items[\"chunks\"]:\n",
    "                chunk = bytes.fromhex(item[\"chunk\"])\n",
    "                first_timestamp = item[\"timestamp\"] if not first_timestamp else first_timestamp\n",
    "\n",
    "                # Open the file in append mode\n",
    "                with open(path, \"ab\") as file:\n",
    "                    # Write data to the file\n",
    "                    file.write(chunk)\n",
    "\n",
    "                last_timestamp = item[\"timestamp\"]\n",
    "                meeting_id = item[\"meeting_id\"]\n",
    "                user_id = item[\"user_id\"]\n",
    "\n",
    "            return meeting_id, first_timestamp, last_timestamp, user_id\n"
   ]
  },
  {
   "cell_type": "code",
   "execution_count": 8,
   "metadata": {},
   "outputs": [],
   "source": [
    "self = Processor()"
   ]
  },
  {
   "cell_type": "code",
   "execution_count": 9,
   "metadata": {},
   "outputs": [
    {
     "ename": "DataError",
     "evalue": "Invalid input of type: 'datetime'. Convert to a bytes, string, int or float first.",
     "output_type": "error",
     "traceback": [
      "\u001b[0;31m---------------------------------------------------------------------------\u001b[0m",
      "\u001b[0;31mDataError\u001b[0m                                 Traceback (most recent call last)",
      "Cell \u001b[0;32mIn[9], line 1\u001b[0m\n\u001b[0;32m----> 1\u001b[0m \u001b[38;5;28;01mawait\u001b[39;00m \u001b[38;5;28mself\u001b[39m\u001b[38;5;241m.\u001b[39mprocess_connections()\n",
      "Cell \u001b[0;32mIn[7], line 12\u001b[0m, in \u001b[0;36mProcessor.process_connections\u001b[0;34m(self)\u001b[0m\n\u001b[1;32m      9\u001b[0m connection_ids \u001b[38;5;241m=\u001b[39m [c[\u001b[38;5;241m0\u001b[39m] \u001b[38;5;28;01mfor\u001b[39;00m c \u001b[38;5;129;01min\u001b[39;00m connections]\n\u001b[1;32m     11\u001b[0m \u001b[38;5;28;01mfor\u001b[39;00m connection_id \u001b[38;5;129;01min\u001b[39;00m connection_ids:\n\u001b[0;32m---> 12\u001b[0m     \u001b[38;5;28;01mawait\u001b[39;00m \u001b[38;5;28mself\u001b[39m\u001b[38;5;241m.\u001b[39m_process_connection_task(connection_id)\n",
      "Cell \u001b[0;32mIn[7], line 26\u001b[0m, in \u001b[0;36mProcessor._process_connection_task\u001b[0;34m(self, connection_id, diarizer_step, transcriber_step)\u001b[0m\n\u001b[1;32m     23\u001b[0m current_time \u001b[38;5;241m=\u001b[39m datetime\u001b[38;5;241m.\u001b[39mnow(timezone\u001b[38;5;241m.\u001b[39mutc)\n\u001b[1;32m     25\u001b[0m connection \u001b[38;5;241m=\u001b[39m Connection(redis_client, connection_id, user_id)\n\u001b[0;32m---> 26\u001b[0m \u001b[38;5;28;01mawait\u001b[39;00m connection\u001b[38;5;241m.\u001b[39mupdate_timestamps(segment_start_timestamp, segment_end_timestamp)\n\u001b[1;32m     28\u001b[0m meeting \u001b[38;5;241m=\u001b[39m Meeting(redis_client, meeting_id)\n\u001b[1;32m     29\u001b[0m \u001b[38;5;28;01mawait\u001b[39;00m meeting\u001b[38;5;241m.\u001b[39mload_from_redis()\n",
      "File \u001b[0;32m/usr/src/app/app/services/audio/redis.py:111\u001b[0m, in \u001b[0;36mConnection.update_timestamps\u001b[0;34m(self, segment_start_timestamp, end_timestamp)\u001b[0m\n\u001b[1;32m    109\u001b[0m \u001b[38;5;28mself\u001b[39m\u001b[38;5;241m.\u001b[39mstart_timestamp \u001b[38;5;241m=\u001b[39m segment_start_timestamp \u001b[38;5;28;01mif\u001b[39;00m \u001b[38;5;129;01mnot\u001b[39;00m \u001b[38;5;28mself\u001b[39m\u001b[38;5;241m.\u001b[39mstart_timestamp \u001b[38;5;28;01melse\u001b[39;00m \u001b[38;5;28mself\u001b[39m\u001b[38;5;241m.\u001b[39mstart_timestamp\n\u001b[1;32m    110\u001b[0m \u001b[38;5;28mself\u001b[39m\u001b[38;5;241m.\u001b[39mend_timestamp \u001b[38;5;241m=\u001b[39m end_timestamp\n\u001b[0;32m--> 111\u001b[0m \u001b[38;5;28;01mawait\u001b[39;00m \u001b[38;5;28mself\u001b[39m\u001b[38;5;241m.\u001b[39mupdate_redis()\n",
      "File \u001b[0;32m/usr/src/app/app/services/audio/redis.py:95\u001b[0m, in \u001b[0;36mConnection.update_redis\u001b[0;34m(self)\u001b[0m\n\u001b[1;32m     93\u001b[0m \u001b[38;5;28;01masync\u001b[39;00m \u001b[38;5;28;01mdef\u001b[39;00m \u001b[38;5;21mupdate_redis\u001b[39m(\u001b[38;5;28mself\u001b[39m):\n\u001b[1;32m     94\u001b[0m     \u001b[38;5;28;01mif\u001b[39;00m \u001b[38;5;28mself\u001b[39m\u001b[38;5;241m.\u001b[39mstart_timestamp \u001b[38;5;129;01mis\u001b[39;00m \u001b[38;5;129;01mnot\u001b[39;00m \u001b[38;5;28;01mNone\u001b[39;00m:\n\u001b[0;32m---> 95\u001b[0m         \u001b[38;5;28;01mawait\u001b[39;00m \u001b[38;5;28mself\u001b[39m\u001b[38;5;241m.\u001b[39mredis\u001b[38;5;241m.\u001b[39mhset(\u001b[38;5;28mself\u001b[39m\u001b[38;5;241m.\u001b[39mtype_, \u001b[38;5;124m\"\u001b[39m\u001b[38;5;124mstart_timestamp\u001b[39m\u001b[38;5;124m\"\u001b[39m, \u001b[38;5;28mself\u001b[39m\u001b[38;5;241m.\u001b[39mstart_timestamp)\n\u001b[1;32m     96\u001b[0m     \u001b[38;5;28;01mif\u001b[39;00m \u001b[38;5;28mself\u001b[39m\u001b[38;5;241m.\u001b[39muser_id \u001b[38;5;129;01mis\u001b[39;00m \u001b[38;5;129;01mnot\u001b[39;00m \u001b[38;5;28;01mNone\u001b[39;00m:\n\u001b[1;32m     97\u001b[0m         \u001b[38;5;28;01mawait\u001b[39;00m \u001b[38;5;28mself\u001b[39m\u001b[38;5;241m.\u001b[39mredis\u001b[38;5;241m.\u001b[39mhset(\u001b[38;5;28mself\u001b[39m\u001b[38;5;241m.\u001b[39mtype_, \u001b[38;5;124m\"\u001b[39m\u001b[38;5;124muser_id\u001b[39m\u001b[38;5;124m\"\u001b[39m, \u001b[38;5;28mself\u001b[39m\u001b[38;5;241m.\u001b[39muser_id)\n",
      "File \u001b[0;32m/usr/local/lib/python3.9/site-packages/redis/asyncio/client.py:610\u001b[0m, in \u001b[0;36mRedis.execute_command\u001b[0;34m(self, *args, **options)\u001b[0m\n\u001b[1;32m    608\u001b[0m     \u001b[38;5;28;01mawait\u001b[39;00m \u001b[38;5;28mself\u001b[39m\u001b[38;5;241m.\u001b[39m_single_conn_lock\u001b[38;5;241m.\u001b[39macquire()\n\u001b[1;32m    609\u001b[0m \u001b[38;5;28;01mtry\u001b[39;00m:\n\u001b[0;32m--> 610\u001b[0m     \u001b[38;5;28;01mreturn\u001b[39;00m \u001b[38;5;28;01mawait\u001b[39;00m conn\u001b[38;5;241m.\u001b[39mretry\u001b[38;5;241m.\u001b[39mcall_with_retry(\n\u001b[1;32m    611\u001b[0m         \u001b[38;5;28;01mlambda\u001b[39;00m: \u001b[38;5;28mself\u001b[39m\u001b[38;5;241m.\u001b[39m_send_command_parse_response(\n\u001b[1;32m    612\u001b[0m             conn, command_name, \u001b[38;5;241m*\u001b[39margs, \u001b[38;5;241m*\u001b[39m\u001b[38;5;241m*\u001b[39moptions\n\u001b[1;32m    613\u001b[0m         ),\n\u001b[1;32m    614\u001b[0m         \u001b[38;5;28;01mlambda\u001b[39;00m error: \u001b[38;5;28mself\u001b[39m\u001b[38;5;241m.\u001b[39m_disconnect_raise(conn, error),\n\u001b[1;32m    615\u001b[0m     )\n\u001b[1;32m    616\u001b[0m \u001b[38;5;28;01mfinally\u001b[39;00m:\n\u001b[1;32m    617\u001b[0m     \u001b[38;5;28;01mif\u001b[39;00m \u001b[38;5;28mself\u001b[39m\u001b[38;5;241m.\u001b[39msingle_connection_client:\n",
      "File \u001b[0;32m/usr/local/lib/python3.9/site-packages/redis/asyncio/retry.py:59\u001b[0m, in \u001b[0;36mRetry.call_with_retry\u001b[0;34m(self, do, fail)\u001b[0m\n\u001b[1;32m     57\u001b[0m \u001b[38;5;28;01mwhile\u001b[39;00m \u001b[38;5;28;01mTrue\u001b[39;00m:\n\u001b[1;32m     58\u001b[0m     \u001b[38;5;28;01mtry\u001b[39;00m:\n\u001b[0;32m---> 59\u001b[0m         \u001b[38;5;28;01mreturn\u001b[39;00m \u001b[38;5;28;01mawait\u001b[39;00m do()\n\u001b[1;32m     60\u001b[0m     \u001b[38;5;28;01mexcept\u001b[39;00m \u001b[38;5;28mself\u001b[39m\u001b[38;5;241m.\u001b[39m_supported_errors \u001b[38;5;28;01mas\u001b[39;00m error:\n\u001b[1;32m     61\u001b[0m         failures \u001b[38;5;241m+\u001b[39m\u001b[38;5;241m=\u001b[39m \u001b[38;5;241m1\u001b[39m\n",
      "File \u001b[0;32m/usr/local/lib/python3.9/site-packages/redis/asyncio/client.py:583\u001b[0m, in \u001b[0;36mRedis._send_command_parse_response\u001b[0;34m(self, conn, command_name, *args, **options)\u001b[0m\n\u001b[1;32m    579\u001b[0m \u001b[38;5;28;01masync\u001b[39;00m \u001b[38;5;28;01mdef\u001b[39;00m \u001b[38;5;21m_send_command_parse_response\u001b[39m(\u001b[38;5;28mself\u001b[39m, conn, command_name, \u001b[38;5;241m*\u001b[39margs, \u001b[38;5;241m*\u001b[39m\u001b[38;5;241m*\u001b[39moptions):\n\u001b[1;32m    580\u001b[0m \u001b[38;5;250m    \u001b[39m\u001b[38;5;124;03m\"\"\"\u001b[39;00m\n\u001b[1;32m    581\u001b[0m \u001b[38;5;124;03m    Send a command and parse the response\u001b[39;00m\n\u001b[1;32m    582\u001b[0m \u001b[38;5;124;03m    \"\"\"\u001b[39;00m\n\u001b[0;32m--> 583\u001b[0m     \u001b[38;5;28;01mawait\u001b[39;00m conn\u001b[38;5;241m.\u001b[39msend_command(\u001b[38;5;241m*\u001b[39margs)\n\u001b[1;32m    584\u001b[0m     \u001b[38;5;28;01mreturn\u001b[39;00m \u001b[38;5;28;01mawait\u001b[39;00m \u001b[38;5;28mself\u001b[39m\u001b[38;5;241m.\u001b[39mparse_response(conn, command_name, \u001b[38;5;241m*\u001b[39m\u001b[38;5;241m*\u001b[39moptions)\n",
      "File \u001b[0;32m/usr/local/lib/python3.9/site-packages/redis/asyncio/connection.py:498\u001b[0m, in \u001b[0;36mAbstractConnection.send_command\u001b[0;34m(self, *args, **kwargs)\u001b[0m\n\u001b[1;32m    495\u001b[0m \u001b[38;5;28;01masync\u001b[39;00m \u001b[38;5;28;01mdef\u001b[39;00m \u001b[38;5;21msend_command\u001b[39m(\u001b[38;5;28mself\u001b[39m, \u001b[38;5;241m*\u001b[39margs: Any, \u001b[38;5;241m*\u001b[39m\u001b[38;5;241m*\u001b[39mkwargs: Any) \u001b[38;5;241m-\u001b[39m\u001b[38;5;241m>\u001b[39m \u001b[38;5;28;01mNone\u001b[39;00m:\n\u001b[1;32m    496\u001b[0m \u001b[38;5;250m    \u001b[39m\u001b[38;5;124;03m\"\"\"Pack and send a command to the Redis server\"\"\"\u001b[39;00m\n\u001b[1;32m    497\u001b[0m     \u001b[38;5;28;01mawait\u001b[39;00m \u001b[38;5;28mself\u001b[39m\u001b[38;5;241m.\u001b[39msend_packed_command(\n\u001b[0;32m--> 498\u001b[0m         \u001b[38;5;28;43mself\u001b[39;49m\u001b[38;5;241;43m.\u001b[39;49m\u001b[43mpack_command\u001b[49m\u001b[43m(\u001b[49m\u001b[38;5;241;43m*\u001b[39;49m\u001b[43margs\u001b[49m\u001b[43m)\u001b[49m, check_health\u001b[38;5;241m=\u001b[39mkwargs\u001b[38;5;241m.\u001b[39mget(\u001b[38;5;124m\"\u001b[39m\u001b[38;5;124mcheck_health\u001b[39m\u001b[38;5;124m\"\u001b[39m, \u001b[38;5;28;01mTrue\u001b[39;00m)\n\u001b[1;32m    499\u001b[0m     )\n",
      "File \u001b[0;32m/usr/local/lib/python3.9/site-packages/redis/asyncio/connection.py:589\u001b[0m, in \u001b[0;36mAbstractConnection.pack_command\u001b[0;34m(self, *args)\u001b[0m\n\u001b[1;32m    586\u001b[0m buff \u001b[38;5;241m=\u001b[39m SYM_EMPTY\u001b[38;5;241m.\u001b[39mjoin((SYM_STAR, \u001b[38;5;28mstr\u001b[39m(\u001b[38;5;28mlen\u001b[39m(args))\u001b[38;5;241m.\u001b[39mencode(), SYM_CRLF))\n\u001b[1;32m    588\u001b[0m buffer_cutoff \u001b[38;5;241m=\u001b[39m \u001b[38;5;28mself\u001b[39m\u001b[38;5;241m.\u001b[39m_buffer_cutoff\n\u001b[0;32m--> 589\u001b[0m \u001b[38;5;28;01mfor\u001b[39;00m arg \u001b[38;5;129;01min\u001b[39;00m \u001b[38;5;28mmap\u001b[39m(\u001b[38;5;28mself\u001b[39m\u001b[38;5;241m.\u001b[39mencoder\u001b[38;5;241m.\u001b[39mencode, args):\n\u001b[1;32m    590\u001b[0m     \u001b[38;5;66;03m# to avoid large string mallocs, chunk the command into the\u001b[39;00m\n\u001b[1;32m    591\u001b[0m     \u001b[38;5;66;03m# output list if we're sending large values or memoryviews\u001b[39;00m\n\u001b[1;32m    592\u001b[0m     arg_length \u001b[38;5;241m=\u001b[39m \u001b[38;5;28mlen\u001b[39m(arg)\n\u001b[1;32m    593\u001b[0m     \u001b[38;5;28;01mif\u001b[39;00m (\n\u001b[1;32m    594\u001b[0m         \u001b[38;5;28mlen\u001b[39m(buff) \u001b[38;5;241m>\u001b[39m buffer_cutoff\n\u001b[1;32m    595\u001b[0m         \u001b[38;5;129;01mor\u001b[39;00m arg_length \u001b[38;5;241m>\u001b[39m buffer_cutoff\n\u001b[1;32m    596\u001b[0m         \u001b[38;5;129;01mor\u001b[39;00m \u001b[38;5;28misinstance\u001b[39m(arg, \u001b[38;5;28mmemoryview\u001b[39m)\n\u001b[1;32m    597\u001b[0m     ):\n",
      "File \u001b[0;32m/usr/local/lib/python3.9/site-packages/redis/_parsers/encoders.py:29\u001b[0m, in \u001b[0;36mEncoder.encode\u001b[0;34m(self, value)\u001b[0m\n\u001b[1;32m     26\u001b[0m \u001b[38;5;28;01melif\u001b[39;00m \u001b[38;5;129;01mnot\u001b[39;00m \u001b[38;5;28misinstance\u001b[39m(value, \u001b[38;5;28mstr\u001b[39m):\n\u001b[1;32m     27\u001b[0m     \u001b[38;5;66;03m# a value we don't know how to deal with. throw an error\u001b[39;00m\n\u001b[1;32m     28\u001b[0m     typename \u001b[38;5;241m=\u001b[39m \u001b[38;5;28mtype\u001b[39m(value)\u001b[38;5;241m.\u001b[39m\u001b[38;5;18m__name__\u001b[39m\n\u001b[0;32m---> 29\u001b[0m     \u001b[38;5;28;01mraise\u001b[39;00m DataError(\n\u001b[1;32m     30\u001b[0m         \u001b[38;5;124mf\u001b[39m\u001b[38;5;124m\"\u001b[39m\u001b[38;5;124mInvalid input of type: \u001b[39m\u001b[38;5;124m'\u001b[39m\u001b[38;5;132;01m{\u001b[39;00mtypename\u001b[38;5;132;01m}\u001b[39;00m\u001b[38;5;124m'\u001b[39m\u001b[38;5;124m. \u001b[39m\u001b[38;5;124m\"\u001b[39m\n\u001b[1;32m     31\u001b[0m         \u001b[38;5;124mf\u001b[39m\u001b[38;5;124m\"\u001b[39m\u001b[38;5;124mConvert to a bytes, string, int or float first.\u001b[39m\u001b[38;5;124m\"\u001b[39m\n\u001b[1;32m     32\u001b[0m     )\n\u001b[1;32m     33\u001b[0m \u001b[38;5;28;01mif\u001b[39;00m \u001b[38;5;28misinstance\u001b[39m(value, \u001b[38;5;28mstr\u001b[39m):\n\u001b[1;32m     34\u001b[0m     value \u001b[38;5;241m=\u001b[39m value\u001b[38;5;241m.\u001b[39mencode(\u001b[38;5;28mself\u001b[39m\u001b[38;5;241m.\u001b[39mencoding, \u001b[38;5;28mself\u001b[39m\u001b[38;5;241m.\u001b[39mencoding_errors)\n",
      "\u001b[0;31mDataError\u001b[0m: Invalid input of type: 'datetime'. Convert to a bytes, string, int or float first."
     ]
    }
   ],
   "source": [
    "await self.process_connections()"
   ]
  },
  {
   "cell_type": "code",
   "execution_count": null,
   "metadata": {},
   "outputs": [],
   "source": []
  }
 ],
 "metadata": {
  "kernelspec": {
   "display_name": "Python 3",
   "language": "python",
   "name": "python3"
  },
  "language_info": {
   "codemirror_mode": {
    "name": "ipython",
    "version": 3
   },
   "file_extension": ".py",
   "mimetype": "text/x-python",
   "name": "python",
   "nbconvert_exporter": "python",
   "pygments_lexer": "ipython3",
   "version": "3.9.18"
  }
 },
 "nbformat": 4,
 "nbformat_minor": 2
}
