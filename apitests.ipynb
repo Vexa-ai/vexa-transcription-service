{
 "cells": [
  {
   "cell_type": "code",
   "execution_count": 1,
   "metadata": {},
   "outputs": [],
   "source": [
    "\n",
    "%load_ext autoreload\n",
    "%autoreload 2"
   ]
  },
  {
   "cell_type": "code",
   "execution_count": 2,
   "metadata": {},
   "outputs": [
    {
     "name": "stdout",
     "output_type": "stream",
     "text": [
      "check_and_process_connections_interval_sec: 5.0\n"
     ]
    }
   ],
   "source": [
    "import logging\n",
    "from datetime import datetime, timezone\n",
    "\n",
    "from app.database_redis.connection import get_redis_client\n",
    "from app.services.apis.streamqueue_service.client import StreamQueueServiceAPI\n",
    "from app.services.audio.redis import Connection, Diarizer, Meeting, Transcriber\n",
    "from app.settings import settings\n",
    "\n",
    "logger = logging.getLogger(__name__)"
   ]
  },
  {
   "cell_type": "code",
   "execution_count": 3,
   "metadata": {},
   "outputs": [
    {
     "data": {
      "text/plain": [
       "5.0"
      ]
     },
     "execution_count": 3,
     "metadata": {},
     "output_type": "execute_result"
    }
   ],
   "source": [
    "settings.check_and_process_connections_interval_sec"
   ]
  },
  {
   "cell_type": "code",
   "execution_count": 4,
   "metadata": {},
   "outputs": [],
   "source": [
    "\n",
    "\n",
    "class Processor:\n",
    "    def __init__(self):\n",
    "        self.__running_tasks = set()\n",
    "        self.stream_queue_service_api = StreamQueueServiceAPI()\n",
    "\n",
    "    async def process_connections(self):\n",
    "        logger.info(\"Process connections...\")\n",
    "        connections = await self.stream_queue_service_api.get_connections()\n",
    "        connection_ids = [c[0] for c in connections]\n",
    "\n",
    "        for connection_id in connection_ids:\n",
    "            await self._process_connection_task(connection_id)\n",
    "\n",
    "    async def _process_connection_task(self, connection_id, diarizer_step=60, transcriber_step=5):\n",
    "        redis_client = await get_redis_client(settings.redis_host, settings.redis_port, settings.redis_password)\n",
    "        meeting_id, segment_start_timestamp, segment_end_timestamp, user_id = await self.writestream2file(connection_id)\n",
    "\n",
    "        current_time = datetime.now(timezone.utc)\n",
    "\n",
    "        connection = Connection(redis_client, connection_id, user_id)\n",
    "        await connection.update_timestamps(segment_start_timestamp, segment_end_timestamp)\n",
    "\n",
    "        meeting = Meeting(redis_client, meeting_id)\n",
    "        await meeting.load_from_redis()\n",
    "        await meeting.add_connection(connection.id)\n",
    "        meeting.diarizer_last_updated_timestamp = meeting.diarizer_last_updated_timestamp or segment_start_timestamp\n",
    "        meeting.transcriber_last_updated_timestamp = meeting.transcriber_last_updated_timestamp or segment_start_timestamp\n",
    "\n",
    "        if (current_time - meeting.diarizer_last_updated_timestamp).seconds > diarizer_step:\n",
    "            diarizer = Diarizer(redis_client)\n",
    "            await diarizer.add_todo(meeting.meeting_id)\n",
    "            await meeting.update_diarizer_timestamp(\n",
    "                segment_start_timestamp, diarizer_last_updated_timestamp=current_time\n",
    "            )\n",
    "\n",
    "        if (current_time - meeting.transcriber_last_updated_timestamp).seconds > transcriber_step:\n",
    "            transcriber = Transcriber(redis_client)\n",
    "            await transcriber.add_todo(meeting.meeting_id)\n",
    "            await meeting.update_transcriber_timestamp(\n",
    "                segment_start_timestamp, transcriber_last_updated_timestamp=current_time\n",
    "            )\n",
    "\n",
    "    async def writestream2file(self, connection_id):\n",
    "        path = f\"/audio/{connection_id}.webm\"\n",
    "        first_timestamp = None\n",
    "        items = await self.stream_queue_service_api.fetch_chunks(connection_id, num_chunks=100)\n",
    "\n",
    "        if items:\n",
    "            # if there is no meeting_id in META-data\n",
    "            meeting_id = connection_id\n",
    "\n",
    "            for item in items[\"chunks\"]:\n",
    "                chunk = bytes.fromhex(item[\"chunk\"])\n",
    "                first_timestamp = datetime.fromisoformat(item[\"timestamp\"].rstrip('Z')).astimezone(timezone.utc) if not first_timestamp else first_timestamp\n",
    "\n",
    "                # Open the file in append mode\n",
    "                with open(path, \"ab\") as file:\n",
    "                    # Write data to the file\n",
    "                    file.write(chunk)\n",
    "\n",
    "                last_timestamp = datetime.fromisoformat(item[\"timestamp\"].rstrip('Z')).astimezone(timezone.utc)\n",
    "\n",
    "                meeting_id = item[\"meeting_id\"]\n",
    "                user_id = item[\"user_id\"]\n",
    "\n",
    "            return meeting_id, first_timestamp, last_timestamp, user_id\n"
   ]
  },
  {
   "cell_type": "code",
   "execution_count": 7,
   "metadata": {},
   "outputs": [],
   "source": [
    "diarizer_step=10\n",
    "transcriber_step=5"
   ]
  },
  {
   "cell_type": "code",
   "execution_count": 8,
   "metadata": {},
   "outputs": [],
   "source": [
    "self = Processor()"
   ]
  },
  {
   "cell_type": "code",
   "execution_count": 9,
   "metadata": {},
   "outputs": [],
   "source": [
    "connections = await self.stream_queue_service_api.get_connections()\n",
    "connection_ids = [c[0] for c in connections]"
   ]
  },
  {
   "cell_type": "code",
   "execution_count": 10,
   "metadata": {},
   "outputs": [],
   "source": [
    "connection_id = connection_ids[0]"
   ]
  },
  {
   "cell_type": "code",
   "execution_count": 11,
   "metadata": {},
   "outputs": [
    {
     "data": {
      "text/plain": [
       "'25b0a1b4-78e7-4bf3-9d1c-c64bf59b845d'"
      ]
     },
     "execution_count": 11,
     "metadata": {},
     "output_type": "execute_result"
    }
   ],
   "source": [
    "connection_id"
   ]
  },
  {
   "cell_type": "code",
   "execution_count": 23,
   "metadata": {},
   "outputs": [],
   "source": [
    "redis_client = await get_redis_client(settings.redis_host, settings.redis_port, settings.redis_password)\n",
    "meeting_id, segment_start_timestamp, segment_end_timestamp, user_id = await self.writestream2file(connection_id)"
   ]
  },
  {
   "cell_type": "code",
   "execution_count": 36,
   "metadata": {},
   "outputs": [],
   "source": [
    "\n",
    "current_time = datetime.now(timezone.utc)\n",
    "\n",
    "connection = Connection(redis_client, connection_id, user_id)\n",
    "await connection.update_timestamps(segment_start_timestamp, segment_end_timestamp)\n",
    "\n",
    "meeting = Meeting(redis_client, meeting_id)\n",
    "await meeting.load_from_redis()"
   ]
  },
  {
   "cell_type": "code",
   "execution_count": 37,
   "metadata": {},
   "outputs": [],
   "source": [
    "await meeting.set_start_timestamp(segment_start_timestamp)"
   ]
  },
  {
   "cell_type": "code",
   "execution_count": 38,
   "metadata": {},
   "outputs": [
    {
     "name": "stdout",
     "output_type": "stream",
     "text": [
      "diarizer added\n",
      "transcriber added\n"
     ]
    }
   ],
   "source": [
    "\n",
    "await meeting.add_connection(connection.id)\n",
    "\n",
    "meeting.diarizer_last_updated_timestamp = meeting.diarizer_last_updated_timestamp or segment_start_timestamp\n",
    "meeting.transcriber_last_updated_timestamp = meeting.transcriber_last_updated_timestamp or segment_start_timestamp\n",
    "\n",
    "if (current_time - meeting.diarizer_last_updated_timestamp).seconds > diarizer_step:\n",
    "    diarizer = Diarizer(redis_client)\n",
    "    await diarizer.add_todo(meeting.meeting_id)\n",
    "    await meeting.update_diarizer_timestamp(\n",
    "        segment_start_timestamp, diarizer_last_updated_timestamp=current_time\n",
    "    )\n",
    "    print(\"diarizer added\")\n",
    "\n",
    "if (current_time - meeting.transcriber_last_updated_timestamp).seconds > transcriber_step:\n",
    "    transcriber = Transcriber(redis_client)\n",
    "    await transcriber.add_todo(meeting.meeting_id)\n",
    "    await meeting.update_transcriber_timestamp(\n",
    "        segment_start_timestamp, transcriber_last_updated_timestamp=current_time\n",
    "    )\n",
    "    print(\"transcriber added\")"
   ]
  },
  {
   "cell_type": "code",
   "execution_count": 29,
   "metadata": {},
   "outputs": [
    {
     "data": {
      "text/plain": [
       "datetime.datetime(2024, 5, 22, 15, 41, 22, 776157, tzinfo=tzutc())"
      ]
     },
     "execution_count": 29,
     "metadata": {},
     "output_type": "execute_result"
    }
   ],
   "source": [
    "meeting.diarizer_last_updated_timestamp"
   ]
  },
  {
   "cell_type": "code",
   "execution_count": 30,
   "metadata": {},
   "outputs": [
    {
     "data": {
      "text/plain": [
       "datetime.datetime(2024, 5, 22, 15, 41, 22, 776157, tzinfo=datetime.timezone.utc)"
      ]
     },
     "execution_count": 30,
     "metadata": {},
     "output_type": "execute_result"
    }
   ],
   "source": [
    "current_time"
   ]
  },
  {
   "cell_type": "code",
   "execution_count": 21,
   "metadata": {},
   "outputs": [],
   "source": [
    "connection_id = connection_ids[0]"
   ]
  },
  {
   "cell_type": "code",
   "execution_count": 35,
   "metadata": {},
   "outputs": [
    {
     "data": {
      "text/plain": [
       "'87a3f4b1-5b50-45be-b2c7-dfd83ebfe022'"
      ]
     },
     "execution_count": 35,
     "metadata": {},
     "output_type": "execute_result"
    }
   ],
   "source": [
    "connection_id"
   ]
  },
  {
   "cell_type": "code",
   "execution_count": 36,
   "metadata": {},
   "outputs": [],
   "source": [
    "meeting_id, segment_start_timestamp, segment_end_timestamp, user_id = await self.writestream2file(connection_id)"
   ]
  },
  {
   "cell_type": "code",
   "execution_count": 37,
   "metadata": {},
   "outputs": [
    {
     "data": {
      "text/plain": [
       "(datetime.datetime(2024, 5, 22, 14, 27, 59, 846448, tzinfo=datetime.timezone.utc),\n",
       " datetime.datetime(2024, 5, 22, 14, 28, 9, 48882, tzinfo=datetime.timezone.utc))"
      ]
     },
     "execution_count": 37,
     "metadata": {},
     "output_type": "execute_result"
    }
   ],
   "source": [
    "segment_start_timestamp,segment_end_timestamp"
   ]
  },
  {
   "cell_type": "code",
   "execution_count": 38,
   "metadata": {},
   "outputs": [
    {
     "data": {
      "text/plain": [
       "'https://meet.google.com/jmt-yfgt-rzp'"
      ]
     },
     "execution_count": 38,
     "metadata": {},
     "output_type": "execute_result"
    }
   ],
   "source": [
    "meeting_id"
   ]
  },
  {
   "cell_type": "code",
   "execution_count": 39,
   "metadata": {},
   "outputs": [],
   "source": [
    "redis_client = await get_redis_client(settings.redis_host, settings.redis_port, settings.redis_password)"
   ]
  },
  {
   "cell_type": "code",
   "execution_count": 40,
   "metadata": {},
   "outputs": [],
   "source": [
    "#await redis_client.flushdb()"
   ]
  },
  {
   "cell_type": "code",
   "execution_count": 41,
   "metadata": {},
   "outputs": [],
   "source": [
    "current_time = datetime.now(timezone.utc)\n",
    "\n",
    "connection = Connection(redis_client, connection_id, user_id)\n",
    "await connection.update_timestamps(segment_start_timestamp, segment_end_timestamp)"
   ]
  },
  {
   "cell_type": "code",
   "execution_count": 42,
   "metadata": {},
   "outputs": [],
   "source": [
    "#transcriber_step"
   ]
  },
  {
   "cell_type": "code",
   "execution_count": 43,
   "metadata": {},
   "outputs": [
    {
     "data": {
      "text/plain": [
       "datetime.datetime(2024, 5, 22, 14, 28, 11, 963135, tzinfo=datetime.timezone.utc)"
      ]
     },
     "execution_count": 43,
     "metadata": {},
     "output_type": "execute_result"
    }
   ],
   "source": [
    "current_time"
   ]
  },
  {
   "cell_type": "code",
   "execution_count": 52,
   "metadata": {},
   "outputs": [],
   "source": [
    "\n",
    "\n",
    "meeting = Meeting(redis_client, meeting_id)\n",
    "\n",
    "await meeting.update_redis()\n",
    "await meeting.load_from_redis()\n",
    "await meeting.add_connection(connection.id)\n",
    "meeting.diarizer_last_updated_timestamp = meeting.diarizer_last_updated_timestamp or segment_start_timestamp\n",
    "meeting.transcriber_last_updated_timestamp = meeting.transcriber_last_updated_timestamp or segment_start_timestamp"
   ]
  },
  {
   "cell_type": "code",
   "execution_count": 53,
   "metadata": {},
   "outputs": [
    {
     "data": {
      "text/plain": [
       "datetime.datetime(2024, 5, 22, 14, 27, 59, 846448, tzinfo=tzutc())"
      ]
     },
     "execution_count": 53,
     "metadata": {},
     "output_type": "execute_result"
    }
   ],
   "source": [
    "meeting.diarizer_last_updated_timestamp"
   ]
  },
  {
   "cell_type": "code",
   "execution_count": 54,
   "metadata": {},
   "outputs": [
    {
     "data": {
      "text/plain": [
       "60"
      ]
     },
     "execution_count": 54,
     "metadata": {},
     "output_type": "execute_result"
    }
   ],
   "source": [
    "diarizer_step"
   ]
  },
  {
   "cell_type": "code",
   "execution_count": 55,
   "metadata": {},
   "outputs": [
    {
     "data": {
      "text/plain": [
       "datetime.datetime(2024, 5, 22, 14, 27, 59, 846448, tzinfo=tzutc())"
      ]
     },
     "execution_count": 55,
     "metadata": {},
     "output_type": "execute_result"
    }
   ],
   "source": [
    "meeting.diarizer_last_updated_timestamp"
   ]
  },
  {
   "cell_type": "code",
   "execution_count": 64,
   "metadata": {},
   "outputs": [],
   "source": [
    "\n",
    "if (current_time - meeting.diarizer_last_updated_timestamp).seconds > diarizer_step:\n",
    "    print(\"diarizer added\")\n",
    "    diarizer = Diarizer(redis_client)\n",
    "    await diarizer.add_todo(meeting.meeting_id)\n",
    "    await meeting.update_diarizer_timestamp(\n",
    "        segment_start_timestamp, diarizer_last_updated_timestamp=current_time\n",
    "    )\n",
    "\n",
    "if (current_time - meeting.transcriber_last_updated_timestamp).seconds > transcriber_step:\n",
    "    print(\"transcriber added\")\n",
    "    transcriber = Transcriber(redis_client)\n",
    "    await transcriber.add_todo(meeting.meeting_id)\n",
    "    await meeting.update_transcriber_timestamp(\n",
    "        segment_start_timestamp, transcriber_last_updated_timestamp=current_time\n",
    "            )"
   ]
  },
  {
   "cell_type": "code",
   "execution_count": 65,
   "metadata": {},
   "outputs": [
    {
     "data": {
      "text/plain": [
       "Settings(service_version='0.0.1_example', service_name='Audio API', service_api_host='0.0.0.0', service_api_port=8009, service_token='service_token', check_and_process_connections_interval_sec=5.0, stream_queue_service_list_connections='http://host.docker.internal:8000/api/v1/connections/list', stream_queue_service_flush_cache='http://host.docker.internal:8000/api/v1/tools/flush-cache', stream_queue_service_get_next_chunks='http://host.docker.internal:8000/api/v1/tools/get-next-chunks', stream_queue_service_health='http://host.docker.internal:8000/api/v1/health', stream_queue_service_health_check='http://host.docker.internal:8000/api/v1/hc', stream_queue_service_request_timeout=5, stream_queue_service_auth_token='LKJBn98wefgh', redis_host='redis', redis_port=6379, redis_password='', volume_data_path='/home/dima/ssd/0', redis_image_port='6382')"
      ]
     },
     "execution_count": 65,
     "metadata": {},
     "output_type": "execute_result"
    }
   ],
   "source": [
    "settings"
   ]
  },
  {
   "cell_type": "code",
   "execution_count": 66,
   "metadata": {},
   "outputs": [
    {
     "data": {
      "text/plain": [
       "0"
      ]
     },
     "execution_count": 66,
     "metadata": {},
     "output_type": "execute_result"
    }
   ],
   "source": [
    "(current_time - meeting.transcriber_last_updated_timestamp).seconds"
   ]
  },
  {
   "cell_type": "code",
   "execution_count": 67,
   "metadata": {},
   "outputs": [
    {
     "data": {
      "text/plain": [
       "datetime.datetime(2024, 5, 22, 14, 28, 11, 963135, tzinfo=tzutc())"
      ]
     },
     "execution_count": 67,
     "metadata": {},
     "output_type": "execute_result"
    }
   ],
   "source": [
    "meeting.transcriber_last_updated_timestamp"
   ]
  },
  {
   "cell_type": "code",
   "execution_count": 68,
   "metadata": {},
   "outputs": [
    {
     "data": {
      "text/plain": [
       "datetime.datetime(2024, 5, 22, 14, 28, 11, 963135, tzinfo=tzutc())"
      ]
     },
     "execution_count": 68,
     "metadata": {},
     "output_type": "execute_result"
    }
   ],
   "source": [
    "meeting.transcriber_last_updated_timestamp"
   ]
  },
  {
   "cell_type": "code",
   "execution_count": 69,
   "metadata": {},
   "outputs": [
    {
     "data": {
      "text/plain": [
       "datetime.datetime(2024, 5, 22, 14, 27, 59, 846448, tzinfo=datetime.timezone.utc)"
      ]
     },
     "execution_count": 69,
     "metadata": {},
     "output_type": "execute_result"
    }
   ],
   "source": [
    "segment_start_timestamp"
   ]
  },
  {
   "cell_type": "code",
   "execution_count": 70,
   "metadata": {},
   "outputs": [
    {
     "data": {
      "text/plain": [
       "datetime.datetime(2024, 5, 22, 14, 27, 59, 846448, tzinfo=datetime.timezone.utc)"
      ]
     },
     "execution_count": 70,
     "metadata": {},
     "output_type": "execute_result"
    }
   ],
   "source": [
    "connection.start_timestamp"
   ]
  },
  {
   "cell_type": "code",
   "execution_count": 71,
   "metadata": {},
   "outputs": [
    {
     "data": {
      "text/plain": [
       "datetime.datetime(2024, 5, 22, 14, 28, 11, 963135, tzinfo=tzutc())"
      ]
     },
     "execution_count": 71,
     "metadata": {},
     "output_type": "execute_result"
    }
   ],
   "source": [
    "meeting.transcriber_last_updated_timestamp"
   ]
  },
  {
   "cell_type": "code",
   "execution_count": null,
   "metadata": {},
   "outputs": [],
   "source": []
  }
 ],
 "metadata": {
  "kernelspec": {
   "display_name": "Python 3",
   "language": "python",
   "name": "python3"
  },
  "language_info": {
   "codemirror_mode": {
    "name": "ipython",
    "version": 3
   },
   "file_extension": ".py",
   "mimetype": "text/x-python",
   "name": "python",
   "nbconvert_exporter": "python",
   "pygments_lexer": "ipython3",
   "version": "3.9.18"
  }
 },
 "nbformat": 4,
 "nbformat_minor": 2
}
