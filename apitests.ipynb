{
 "cells": [
  {
   "cell_type": "code",
   "execution_count": 93,
   "metadata": {},
   "outputs": [
    {
     "name": "stdout",
     "output_type": "stream",
     "text": [
      "The autoreload extension is already loaded. To reload it, use:\n",
      "  %reload_ext autoreload\n"
     ]
    }
   ],
   "source": [
    "\n",
    "%load_ext autoreload\n",
    "%autoreload 2"
   ]
  },
  {
   "cell_type": "code",
   "execution_count": 94,
   "metadata": {},
   "outputs": [],
   "source": [
    "import logging\n",
    "from datetime import datetime, timezone\n",
    "\n",
    "from app.database_redis.connection import get_redis_client\n",
    "from app.services.apis.streamqueue_service.client import StreamQueueServiceAPI\n",
    "from app.services.audio.redis import Connection, Diarizer, Meeting, Transcriber\n",
    "from app.settings import settings\n",
    "\n",
    "logger = logging.getLogger(__name__)"
   ]
  },
  {
   "cell_type": "code",
   "execution_count": 96,
   "metadata": {},
   "outputs": [
    {
     "data": {
      "text/plain": [
       "5.0"
      ]
     },
     "execution_count": 96,
     "metadata": {},
     "output_type": "execute_result"
    }
   ],
   "source": [
    "settings.check_and_process_connections_interval_sec"
   ]
  },
  {
   "cell_type": "code",
   "execution_count": 89,
   "metadata": {},
   "outputs": [],
   "source": [
    "\n",
    "\n",
    "class Processor:\n",
    "    def __init__(self):\n",
    "        self.__running_tasks = set()\n",
    "        self.stream_queue_service_api = StreamQueueServiceAPI()\n",
    "\n",
    "    async def process_connections(self):\n",
    "        logger.info(\"Process connections...\")\n",
    "        connections = await self.stream_queue_service_api.get_connections()\n",
    "        connection_ids = [c[0] for c in connections]\n",
    "\n",
    "        for connection_id in connection_ids:\n",
    "            await self._process_connection_task(connection_id)\n",
    "\n",
    "    async def _process_connection_task(self, connection_id, diarizer_step=60, transcriber_step=5):\n",
    "        redis_client = await get_redis_client(settings.redis_host, settings.redis_port, settings.redis_password)\n",
    "        meeting_id, segment_start_timestamp, segment_end_timestamp, user_id = await self.writestream2file(\n",
    "            connection_id\n",
    "        )\n",
    "        segment_start_timestamp = datetime.fromisoformat(segment_start_timestamp, \"%Y-%m-%dT%H:%M:%S.%fZ\") if segment_start_timestamp else None\n",
    "      #  segment_start_timestamp.tzinfo = timezone.utc\n",
    "        segment_end_timestamp = datetime.fromisoformat(segment_end_timestamp, \"%Y-%m-%dT%H:%M:%S.%fZ\") if segment_end_timestamp else None\n",
    "       # segment_end_timestamp.tzinfo = timezone.utc\n",
    "        current_time = datetime.now(timezone.utc)\n",
    "\n",
    "        connection = Connection(redis_client, connection_id, user_id)\n",
    "        await connection.update_timestamps(segment_start_timestamp, segment_end_timestamp)\n",
    "\n",
    "        meeting = Meeting(redis_client, meeting_id)\n",
    "        await meeting.load_from_redis()\n",
    "        await meeting.add_connection(connection.id)\n",
    "        meeting.diarizer_last_updated_timestamp = meeting.diarizer_last_updated_timestamp or segment_start_timestamp\n",
    "        meeting.transcriber_last_updated_timestamp = meeting.transcriber_last_updated_timestamp or segment_start_timestamp\n",
    "\n",
    "        if (current_time - meeting.diarizer_last_updated_timestamp).seconds > diarizer_step:\n",
    "            diarizer = Diarizer(redis_client)\n",
    "            await diarizer.add_todo(meeting.meeting_id)\n",
    "            await meeting.update_diarizer_timestamp(\n",
    "                segment_start_timestamp, diarizer_last_updated_timestamp=current_time\n",
    "            )\n",
    "\n",
    "        if (current_time - meeting.transcriber_last_updated_timestamp).seconds > transcriber_step:\n",
    "            transcriber = Transcriber(redis_client)\n",
    "            await transcriber.add_todo(meeting.meeting_id)\n",
    "            await meeting.update_transcriber_timestamp(\n",
    "                segment_start_timestamp, transcriber_last_updated_timestamp=current_time\n",
    "            )\n",
    "\n",
    "    async def writestream2file(self, connection_id):\n",
    "        path = f\"/audio/{connection_id}.webm\"\n",
    "        first_timestamp = None\n",
    "        items = await self.stream_queue_service_api.fetch_chunks(connection_id, num_chunks=100)\n",
    "\n",
    "        if items:\n",
    "            # if there is no meeting_id in META-data\n",
    "            meeting_id = connection_id\n",
    "\n",
    "            for item in items[\"chunks\"]:\n",
    "                chunk = bytes.fromhex(item[\"chunk\"])\n",
    "                first_timestamp = datetime.fromisoformat(item[\"timestamp\"].rstrip('Z')).astimezone(timezone.utc) if not first_timestamp else first_timestamp\n",
    "\n",
    "                # Open the file in append mode\n",
    "                with open(path, \"ab\") as file:\n",
    "                    # Write data to the file\n",
    "                    file.write(chunk)\n",
    "\n",
    "                last_timestamp = datetime.fromisoformat(item[\"timestamp\"].rstrip('Z')).astimezone(timezone.utc)\n",
    "\n",
    "                meeting_id = item[\"meeting_id\"]\n",
    "                user_id = item[\"user_id\"]\n",
    "\n",
    "            return meeting_id, first_timestamp, last_timestamp, user_id\n"
   ]
  },
  {
   "cell_type": "code",
   "execution_count": 90,
   "metadata": {},
   "outputs": [],
   "source": [
    "diarizer_step=60\n",
    "transcriber_step=5"
   ]
  },
  {
   "cell_type": "code",
   "execution_count": 91,
   "metadata": {},
   "outputs": [],
   "source": [
    "self = Processor()"
   ]
  },
  {
   "cell_type": "code",
   "execution_count": 74,
   "metadata": {},
   "outputs": [],
   "source": [
    "connections = await self.stream_queue_service_api.get_connections()\n",
    "connection_ids = [c[0] for c in connections]"
   ]
  },
  {
   "cell_type": "code",
   "execution_count": 75,
   "metadata": {},
   "outputs": [
    {
     "data": {
      "text/plain": [
       "['02a0f16b-4a17-4315-b267-3f6b147b3465']"
      ]
     },
     "execution_count": 75,
     "metadata": {},
     "output_type": "execute_result"
    }
   ],
   "source": [
    "connection_ids"
   ]
  },
  {
   "cell_type": "code",
   "execution_count": 76,
   "metadata": {},
   "outputs": [],
   "source": [
    "connection_id = connection_ids[0]"
   ]
  },
  {
   "cell_type": "code",
   "execution_count": 77,
   "metadata": {},
   "outputs": [
    {
     "data": {
      "text/plain": [
       "'02a0f16b-4a17-4315-b267-3f6b147b3465'"
      ]
     },
     "execution_count": 77,
     "metadata": {},
     "output_type": "execute_result"
    }
   ],
   "source": [
    "connection_id"
   ]
  },
  {
   "cell_type": "code",
   "execution_count": 78,
   "metadata": {},
   "outputs": [],
   "source": [
    "meeting_id, segment_start_timestamp, segment_end_timestamp, user_id = await self.writestream2file(connection_id)"
   ]
  },
  {
   "cell_type": "code",
   "execution_count": 79,
   "metadata": {},
   "outputs": [
    {
     "data": {
      "text/plain": [
       "(datetime.datetime(2024, 5, 20, 17, 43, 25, 964953, tzinfo=datetime.timezone.utc),\n",
       " datetime.datetime(2024, 5, 20, 17, 47, 16, 989690, tzinfo=datetime.timezone.utc))"
      ]
     },
     "execution_count": 79,
     "metadata": {},
     "output_type": "execute_result"
    }
   ],
   "source": [
    "segment_start_timestamp,segment_end_timestamp"
   ]
  },
  {
   "cell_type": "code",
   "execution_count": 80,
   "metadata": {},
   "outputs": [
    {
     "data": {
      "text/plain": [
       "'meeting1'"
      ]
     },
     "execution_count": 80,
     "metadata": {},
     "output_type": "execute_result"
    }
   ],
   "source": [
    "meeting_id"
   ]
  },
  {
   "cell_type": "code",
   "execution_count": 81,
   "metadata": {},
   "outputs": [],
   "source": [
    "redis_client = await get_redis_client(settings.redis_host, settings.redis_port, settings.redis_password)"
   ]
  },
  {
   "cell_type": "code",
   "execution_count": 82,
   "metadata": {},
   "outputs": [],
   "source": [
    "#await redis_client.flushdb()"
   ]
  },
  {
   "cell_type": "code",
   "execution_count": 83,
   "metadata": {},
   "outputs": [],
   "source": [
    "current_time = datetime.now(timezone.utc)\n",
    "\n",
    "connection = Connection(redis_client, connection_id, user_id)\n",
    "await connection.update_timestamps(segment_start_timestamp, segment_end_timestamp)"
   ]
  },
  {
   "cell_type": "code",
   "execution_count": 84,
   "metadata": {},
   "outputs": [],
   "source": [
    "#transcriber_step"
   ]
  },
  {
   "cell_type": "code",
   "execution_count": 85,
   "metadata": {},
   "outputs": [
    {
     "data": {
      "text/plain": [
       "datetime.datetime(2024, 5, 20, 17, 47, 22, 70677, tzinfo=datetime.timezone.utc)"
      ]
     },
     "execution_count": 85,
     "metadata": {},
     "output_type": "execute_result"
    }
   ],
   "source": [
    "current_time"
   ]
  },
  {
   "cell_type": "code",
   "execution_count": 86,
   "metadata": {},
   "outputs": [],
   "source": [
    "\n",
    "\n",
    "meeting = Meeting(redis_client, meeting_id)\n",
    "\n",
    "await meeting.update_redis()\n",
    "await meeting.load_from_redis()\n",
    "await meeting.add_connection(connection.id)\n",
    "meeting.diarizer_last_updated_timestamp = meeting.diarizer_last_updated_timestamp or segment_start_timestamp\n",
    "meeting.transcriber_last_updated_timestamp = meeting.transcriber_last_updated_timestamp or segment_start_timestamp"
   ]
  },
  {
   "cell_type": "code",
   "execution_count": 87,
   "metadata": {},
   "outputs": [
    {
     "data": {
      "text/plain": [
       "datetime.datetime(2024, 5, 20, 17, 44, 24, 248253, tzinfo=tzutc())"
      ]
     },
     "execution_count": 87,
     "metadata": {},
     "output_type": "execute_result"
    }
   ],
   "source": [
    "meeting.diarizer_last_updated_timestamp"
   ]
  },
  {
   "cell_type": "code",
   "execution_count": 88,
   "metadata": {},
   "outputs": [
    {
     "name": "stdout",
     "output_type": "stream",
     "text": [
      "diarizer added\n",
      "transcriber added\n"
     ]
    }
   ],
   "source": [
    "\n",
    "if (current_time - meeting.diarizer_last_updated_timestamp).seconds > diarizer_step:\n",
    "    print(\"diarizer added\")\n",
    "    diarizer = Diarizer(redis_client)\n",
    "    await diarizer.add_todo(meeting.meeting_id)\n",
    "    await meeting.update_diarizer_timestamp(\n",
    "        segment_start_timestamp, diarizer_last_updated_timestamp=current_time\n",
    "    )\n",
    "\n",
    "if (current_time - meeting.transcriber_last_updated_timestamp).seconds > transcriber_step:\n",
    "    print(\"transcriber added\")\n",
    "    transcriber = Transcriber(redis_client)\n",
    "    await transcriber.add_todo(meeting.meeting_id)\n",
    "    await meeting.update_transcriber_timestamp(\n",
    "        segment_start_timestamp, transcriber_last_updated_timestamp=current_time\n",
    "            )"
   ]
  },
  {
   "cell_type": "code",
   "execution_count": 92,
   "metadata": {},
   "outputs": [
    {
     "data": {
      "text/plain": [
       "Settings(service_version='0.0.1_example', service_name='Audio API', service_api_host='0.0.0.0', service_api_port=8009, service_token='service_token', check_and_process_connections_interval_sec=5.0, stream_queue_service_list_connections='http://host.docker.internal:8000/api/v1/connections/list', stream_queue_service_flush_cache='http://host.docker.internal:8000/api/v1/tools/flush-cache', stream_queue_service_get_next_chunks='http://host.docker.internal:8000/api/v1/tools/get-next-chunks', stream_queue_service_health='http://host.docker.internal:8000/api/v1/health', stream_queue_service_health_check='http://host.docker.internal:8000/api/v1/hc', stream_queue_service_request_timeout=5, stream_queue_service_auth_token='LKJBn98wefgh', redis_host='redis', redis_port=6379, redis_password='', volume_data_path='/home/dima/ssd/0', redis_image_port='6382')"
      ]
     },
     "execution_count": 92,
     "metadata": {},
     "output_type": "execute_result"
    }
   ],
   "source": [
    "settings"
   ]
  },
  {
   "cell_type": "code",
   "execution_count": 48,
   "metadata": {},
   "outputs": [
    {
     "data": {
      "text/plain": [
       "0"
      ]
     },
     "execution_count": 48,
     "metadata": {},
     "output_type": "execute_result"
    }
   ],
   "source": [
    "(current_time - meeting.transcriber_last_updated_timestamp).seconds"
   ]
  },
  {
   "cell_type": "code",
   "execution_count": 49,
   "metadata": {},
   "outputs": [
    {
     "data": {
      "text/plain": [
       "datetime.datetime(2024, 5, 20, 17, 40, 20, 332570, tzinfo=datetime.timezone.utc)"
      ]
     },
     "execution_count": 49,
     "metadata": {},
     "output_type": "execute_result"
    }
   ],
   "source": [
    "meeting.transcriber_last_updated_timestamp"
   ]
  },
  {
   "cell_type": "code",
   "execution_count": 50,
   "metadata": {},
   "outputs": [
    {
     "data": {
      "text/plain": [
       "datetime.datetime(2024, 5, 20, 17, 40, 20, 332570, tzinfo=datetime.timezone.utc)"
      ]
     },
     "execution_count": 50,
     "metadata": {},
     "output_type": "execute_result"
    }
   ],
   "source": [
    "meeting.transcriber_last_updated_timestamp"
   ]
  },
  {
   "cell_type": "code",
   "execution_count": 51,
   "metadata": {},
   "outputs": [
    {
     "data": {
      "text/plain": [
       "datetime.datetime(2024, 5, 20, 17, 38, 5, 107331, tzinfo=datetime.timezone.utc)"
      ]
     },
     "execution_count": 51,
     "metadata": {},
     "output_type": "execute_result"
    }
   ],
   "source": [
    "segment_start_timestamp"
   ]
  },
  {
   "cell_type": "code",
   "execution_count": 52,
   "metadata": {},
   "outputs": [
    {
     "data": {
      "text/plain": [
       "datetime.datetime(2024, 5, 20, 17, 38, 5, 107331, tzinfo=tzutc())"
      ]
     },
     "execution_count": 52,
     "metadata": {},
     "output_type": "execute_result"
    }
   ],
   "source": [
    "connection.start_timestamp"
   ]
  },
  {
   "cell_type": "code",
   "execution_count": 53,
   "metadata": {},
   "outputs": [
    {
     "data": {
      "text/plain": [
       "datetime.datetime(2024, 5, 20, 17, 40, 20, 332570, tzinfo=datetime.timezone.utc)"
      ]
     },
     "execution_count": 53,
     "metadata": {},
     "output_type": "execute_result"
    }
   ],
   "source": [
    "meeting.transcriber_last_updated_timestamp"
   ]
  },
  {
   "cell_type": "code",
   "execution_count": null,
   "metadata": {},
   "outputs": [],
   "source": []
  }
 ],
 "metadata": {
  "kernelspec": {
   "display_name": "Python 3",
   "language": "python",
   "name": "python3"
  },
  "language_info": {
   "codemirror_mode": {
    "name": "ipython",
    "version": 3
   },
   "file_extension": ".py",
   "mimetype": "text/x-python",
   "name": "python",
   "nbconvert_exporter": "python",
   "pygments_lexer": "ipython3",
   "version": "3.10.12"
  }
 },
 "nbformat": 4,
 "nbformat_minor": 2
}
