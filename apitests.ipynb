{
 "cells": [
  {
   "cell_type": "code",
   "execution_count": 1,
   "metadata": {},
   "outputs": [],
   "source": [
    "\n",
    "%load_ext autoreload\n",
    "%autoreload 2"
   ]
  },
  {
   "cell_type": "code",
   "execution_count": 2,
   "metadata": {},
   "outputs": [
    {
     "name": "stdout",
     "output_type": "stream",
     "text": [
      "check_and_process_connections_interval_sec: 5.0\n"
     ]
    }
   ],
   "source": [
    "import logging\n",
    "from datetime import datetime, timezone\n",
    "\n",
    "from app.database_redis.connection import get_redis_client\n",
    "from app.services.apis.streamqueue_service.client import StreamQueueServiceAPI\n",
    "from app.services.audio.redis import Connection, Diarizer, Meeting, Transcriber\n",
    "from app.settings import settings\n",
    "\n",
    "logger = logging.getLogger(__name__)"
   ]
  },
  {
   "cell_type": "code",
   "execution_count": 3,
   "metadata": {},
   "outputs": [],
   "source": [
    "from app.services.audio.redis import Diarisation,Transcript"
   ]
  },
  {
   "cell_type": "code",
   "execution_count": 4,
   "metadata": {},
   "outputs": [],
   "source": [
    "redis_client = await get_redis_client(settings.redis_host, settings.redis_port, settings.redis_password)"
   ]
  },
  {
   "cell_type": "code",
   "execution_count": 5,
   "metadata": {},
   "outputs": [],
   "source": [
    "#await redis_client.flushdb()"
   ]
  },
  {
   "cell_type": "code",
   "execution_count": 18,
   "metadata": {},
   "outputs": [],
   "source": [
    "meeting_id = 'https://meet.google.com/tdi-fqhq-icr'\n",
    "diarization = Diarisation(meeting_id,redis_client=redis_client)\n",
    "transcript = Transcript(meeting_id,redis_client=redis_client)"
   ]
  },
  {
   "cell_type": "code",
   "execution_count": 19,
   "metadata": {},
   "outputs": [],
   "source": [
    "#await diarization.delete()"
   ]
  },
  {
   "cell_type": "code",
   "execution_count": 20,
   "metadata": {},
   "outputs": [],
   "source": [
    "#await transcript.delete()"
   ]
  },
  {
   "cell_type": "code",
   "execution_count": 21,
   "metadata": {},
   "outputs": [],
   "source": [
    "import json"
   ]
  },
  {
   "cell_type": "code",
   "execution_count": 22,
   "metadata": {},
   "outputs": [],
   "source": [
    "diarizations = []\n",
    "while True:\n",
    "    d = await diarization.rpop()\n",
    "    if not d:\n",
    "        break\n",
    "    diarizations.append(json.loads(d))"
   ]
  },
  {
   "cell_type": "code",
   "execution_count": 23,
   "metadata": {},
   "outputs": [
    {
     "data": {
      "text/plain": [
       "[[[{'start': 7.122241086587437,\n",
       "    'end': 15.169779286926996,\n",
       "    'speaker': '6a3902ac-d4c3-4409-b3f9-d6a6d26439fd',\n",
       "    'score': 0.8141123}],\n",
       "  '2024-05-22T20:21:25.064897+00:00'],\n",
       " [[{'start': 0.008488964346349746,\n",
       "    'end': 1.1120543293718166,\n",
       "    'speaker': '6a3902ac-d4c3-4409-b3f9-d6a6d26439fd',\n",
       "    'score': 0.9200109},\n",
       "   {'start': 1.2648556876061121,\n",
       "    'end': 8.616298811544992,\n",
       "    'speaker': '6a3902ac-d4c3-4409-b3f9-d6a6d26439fd',\n",
       "    'score': 0.9200109},\n",
       "   {'start': 8.803056027164686,\n",
       "    'end': 14.151103565365027,\n",
       "    'speaker': '6a3902ac-d4c3-4409-b3f9-d6a6d26439fd',\n",
       "    'score': 0.9200109},\n",
       "   {'start': 14.660441426146011,\n",
       "    'end': 15.203735144312395,\n",
       "    'speaker': '6a3902ac-d4c3-4409-b3f9-d6a6d26439fd',\n",
       "    'score': 0.9200109},\n",
       "   {'start': 16.29032258064516,\n",
       "    'end': 21.99490662139219,\n",
       "    'speaker': '6a3902ac-d4c3-4409-b3f9-d6a6d26439fd',\n",
       "    'score': 0.9200109},\n",
       "   {'start': 22.011884550084893,\n",
       "    'end': 23.132427843803057,\n",
       "    'speaker': '6a3902ac-d4c3-4409-b3f9-d6a6d26439fd',\n",
       "    'score': 0.9200109}],\n",
       "  '2024-05-22T20:21:32.187138+00:00'],\n",
       " [[{'start': 0.008488964346349746,\n",
       "    'end': 1.1120543293718166,\n",
       "    'speaker': '6a3902ac-d4c3-4409-b3f9-d6a6d26439fd',\n",
       "    'score': 0.9717585},\n",
       "   {'start': 1.2648556876061121,\n",
       "    'end': 8.616298811544992,\n",
       "    'speaker': '6a3902ac-d4c3-4409-b3f9-d6a6d26439fd',\n",
       "    'score': 0.9717585},\n",
       "   {'start': 8.803056027164686,\n",
       "    'end': 14.151103565365027,\n",
       "    'speaker': '6a3902ac-d4c3-4409-b3f9-d6a6d26439fd',\n",
       "    'score': 0.9717585},\n",
       "   {'start': 14.660441426146011,\n",
       "    'end': 15.203735144312395,\n",
       "    'speaker': '6a3902ac-d4c3-4409-b3f9-d6a6d26439fd',\n",
       "    'score': 0.9717585},\n",
       "   {'start': 16.29032258064516,\n",
       "    'end': 25.679117147707984,\n",
       "    'speaker': '6a3902ac-d4c3-4409-b3f9-d6a6d26439fd',\n",
       "    'score': 0.9717585},\n",
       "   {'start': 26.426146010186756,\n",
       "    'end': 29.465195246179967,\n",
       "    'speaker': '6a3902ac-d4c3-4409-b3f9-d6a6d26439fd',\n",
       "    'score': 0.9717585},\n",
       "   {'start': 29.80475382003396,\n",
       "    'end': 30.97623089983022,\n",
       "    'speaker': '6a3902ac-d4c3-4409-b3f9-d6a6d26439fd',\n",
       "    'score': 0.9717585},\n",
       "   {'start': 33.94736842105263,\n",
       "    'end': 36.00169779286927,\n",
       "    'speaker': '6a3902ac-d4c3-4409-b3f9-d6a6d26439fd',\n",
       "    'score': 0.9717585},\n",
       "   {'start': 36.40916808149406,\n",
       "    'end': 37.25806451612903,\n",
       "    'speaker': '6a3902ac-d4c3-4409-b3f9-d6a6d26439fd',\n",
       "    'score': 0.9717585},\n",
       "   {'start': 37.835314091680814,\n",
       "    'end': 38.3446519524618,\n",
       "    'speaker': '6a3902ac-d4c3-4409-b3f9-d6a6d26439fd',\n",
       "    'score': 0.9717585}],\n",
       "  '2024-05-22T20:21:32.187138+00:00'],\n",
       " [[{'start': 0.008488964346349746,\n",
       "    'end': 1.8930390492359932,\n",
       "    'speaker': '6a3902ac-d4c3-4409-b3f9-d6a6d26439fd',\n",
       "    'score': 0.8863556},\n",
       "   {'start': 2.436332767402377,\n",
       "    'end': 13.37011884550085,\n",
       "    'speaker': '6a3902ac-d4c3-4409-b3f9-d6a6d26439fd',\n",
       "    'score': 0.8863556},\n",
       "   {'start': 14.04923599320883,\n",
       "    'end': 16.001697792869273,\n",
       "    'speaker': '6a3902ac-d4c3-4409-b3f9-d6a6d26439fd',\n",
       "    'score': 0.8863556}],\n",
       "  '2024-05-22T20:22:10.022452+00:00'],\n",
       " [[{'start': 0.008488964346349746,\n",
       "    'end': 1.8930390492359932,\n",
       "    'speaker': '6a3902ac-d4c3-4409-b3f9-d6a6d26439fd',\n",
       "    'score': 0.95705473},\n",
       "   {'start': 2.436332767402377,\n",
       "    'end': 13.353140916808151,\n",
       "    'speaker': '6a3902ac-d4c3-4409-b3f9-d6a6d26439fd',\n",
       "    'score': 0.95705473},\n",
       "   {'start': 14.03225806451613,\n",
       "    'end': 17.750424448217316,\n",
       "    'speaker': '6a3902ac-d4c3-4409-b3f9-d6a6d26439fd',\n",
       "    'score': 0.95705473},\n",
       "   {'start': 18.3616298811545,\n",
       "    'end': 20.551782682512737,\n",
       "    'speaker': '6a3902ac-d4c3-4409-b3f9-d6a6d26439fd',\n",
       "    'score': 0.95705473},\n",
       "   {'start': 21.723259762309,\n",
       "    'end': 23.59083191850594,\n",
       "    'speaker': '6a3902ac-d4c3-4409-b3f9-d6a6d26439fd',\n",
       "    'score': 0.95705473},\n",
       "   {'start': 24.388794567062817,\n",
       "    'end': 25.526315789473685,\n",
       "    'speaker': '6a3902ac-d4c3-4409-b3f9-d6a6d26439fd',\n",
       "    'score': 0.95705473},\n",
       "   {'start': 25.764006791171475,\n",
       "    'end': 26.137521222410868,\n",
       "    'speaker': '6a3902ac-d4c3-4409-b3f9-d6a6d26439fd',\n",
       "    'score': 0.95705473},\n",
       "   {'start': 30.97623089983022,\n",
       "    'end': 30.993208828522924,\n",
       "    'speaker': '6b4fe146-5cc1-4ef5-8bc2-82c474de5223',\n",
       "    'score': 0.9879309}],\n",
       "  '2024-05-22T20:22:10.022452+00:00'],\n",
       " [[{'start': 0.008488964346349746,\n",
       "    'end': 0.9932088285229204,\n",
       "    'speaker': 'e7d0ccb1-d969-492c-b9fd-f73093eed4fb',\n",
       "    'score': 0.6784061},\n",
       "   {'start': 13.251273344651953,\n",
       "    'end': 15.237691001697794,\n",
       "    'speaker': 'e7d0ccb1-d969-492c-b9fd-f73093eed4fb',\n",
       "    'score': 0.6784061}],\n",
       "  '2024-05-22T20:22:40.998683+00:00'],\n",
       " [[{'start': 0.008488964346349746,\n",
       "    'end': 5.780984719864177,\n",
       "    'speaker': '6a3902ac-d4c3-4409-b3f9-d6a6d26439fd',\n",
       "    'score': 0.9075428},\n",
       "   {'start': 6.6298811544991505,\n",
       "    'end': 6.986417657045841,\n",
       "    'speaker': '6a3902ac-d4c3-4409-b3f9-d6a6d26439fd',\n",
       "    'score': 0.9075428},\n",
       "   {'start': 7.614601018675723,\n",
       "    'end': 10.110356536502547,\n",
       "    'speaker': '6a3902ac-d4c3-4409-b3f9-d6a6d26439fd',\n",
       "    'score': 0.9075428},\n",
       "   {'start': 11.010186757215621,\n",
       "    'end': 13.590831918505943,\n",
       "    'speaker': '6a3902ac-d4c3-4409-b3f9-d6a6d26439fd',\n",
       "    'score': 0.9075428},\n",
       "   {'start': 14.066213921901529,\n",
       "    'end': 17.122241086587437,\n",
       "    'speaker': '6a3902ac-d4c3-4409-b3f9-d6a6d26439fd',\n",
       "    'score': 0.9075428}],\n",
       "  '2024-05-22T20:22:54.249956+00:00']]"
      ]
     },
     "execution_count": 23,
     "metadata": {},
     "output_type": "execute_result"
    }
   ],
   "source": [
    "diarizations"
   ]
  },
  {
   "cell_type": "code",
   "execution_count": 28,
   "metadata": {},
   "outputs": [
    {
     "name": "stderr",
     "output_type": "stream",
     "text": [
      "/tmp/ipykernel_458/4080736814.py:1: DeprecationWarning: \n",
      "Pyarrow will become a required dependency of pandas in the next major release of pandas (pandas 3.0),\n",
      "(to allow more performant data types, such as the Arrow string type, and better interoperability with other libraries)\n",
      "but was not found to be installed on your system.\n",
      "If this would cause problems for you,\n",
      "please provide us feedback at https://github.com/pandas-dev/pandas/issues/54466\n",
      "        \n",
      "  import pandas as pd\n"
     ]
    }
   ],
   "source": [
    "import pandas as pd"
   ]
  },
  {
   "cell_type": "code",
   "execution_count": 13,
   "metadata": {},
   "outputs": [],
   "source": [
    "import pickle"
   ]
  },
  {
   "cell_type": "code",
   "execution_count": 29,
   "metadata": {},
   "outputs": [],
   "source": [
    "#TODO @Andrew this is to apply to the list of transcriptions for concatination\n",
    "def transcrtiption2df(transcription,seek):\n",
    "    df =pd.DataFrame(transcription[0])\n",
    "    df['seek'] = pd.to_datetime(seek)\n",
    "    df['conv_start'] = pd.to_timedelta(df['start'],unit='s')+df['seek']\n",
    "    df['conv_end'] = pd.to_timedelta(df['end'],unit='s')+df['seek']\n",
    "    return df.reset_index(drop=True)\n",
    "\n",
    "def concatinate_segments(segments):\n",
    "    dfs = [transcrtiption2df(result,seek) for result, seek in segments]\n",
    "    df = pd.concat(dfs).sort_values(by=['conv_start', 'conv_end']).reset_index(drop=True)\n",
    "\n",
    "    # Initialize an empty list to store the final words\n",
    "    final_words = []\n",
    "\n",
    "    # Iterate over the concatenated dataframe and select words with the highest probability\n",
    "    for i in range(len(df)):\n",
    "        if i == 0:\n",
    "            final_words.append(df.loc[i])\n",
    "        else:\n",
    "            if df.loc[i]['conv_start'] >= final_words[-1]['conv_end']:\n",
    "                final_words.append(df.loc[i])\n",
    "            else:\n",
    "                if df.loc[i]['probability'] > final_words[-1]['probability']:\n",
    "                    final_words[-1] = df.loc[i]\n",
    "\n",
    "    # Convert the list of final words back to a dataframe\n",
    "    return pd.DataFrame(final_words)"
   ]
  },
  {
   "cell_type": "code",
   "execution_count": 305,
   "metadata": {},
   "outputs": [],
   "source": [
    "with open('diarizations.pkl', 'wb') as file:\n",
    "    pickle.dump(diarizations, file)"
   ]
  },
  {
   "cell_type": "code",
   "execution_count": 26,
   "metadata": {},
   "outputs": [],
   "source": [
    "with open('transcriptions.pkl', 'wb') as file:\n",
    "    pickle.dump(transcriptions, file)"
   ]
  },
  {
   "cell_type": "code",
   "execution_count": 24,
   "metadata": {},
   "outputs": [],
   "source": [
    "transcriptions = []"
   ]
  },
  {
   "cell_type": "code",
   "execution_count": 144,
   "metadata": {},
   "outputs": [
    {
     "data": {
      "text/plain": [
       "[\" to be able to we can with your code inside of GitHub, I with you the fail when it tries to edit the my now i have a demo to share we're gonna hope the demo goes smoothly task kind of my favorite uh you know hello world task right a bash script that prints You can see as it's going about its work, You can see as it's going about its work, pops up I want to add to this\",\n",
       " ' can do this kind of wrote brand new where, I know, it achieves some task and you can say, okay, now I have some extra requirement that I want to add to this',\n",
       " \" The most exciting thing, can I really to show you all is, with the what I'm going to do actually show you all what I've done here\",\n",
       " \" an empty staging area, an empty workspace, I'll actually show you all what I've done here\",\n",
       " ' Out of this to basically to, to do is tell OpenDevon to work inside of this codebase, basically Open Devon codebase',\n",
       " ' again',\n",
       " \" I should be able to see So you can see now we're inside of the Open Devon codebase\",\n",
       " \" This is the file that I've edited the problem\",\n",
       " \" that So by default, the agent doesn't know anything about this code base\",\n",
       " ' The through it on the command line here SweetBench Lite score, the our core agent the kodak agent which is the a lot of really context window',\n",
       " ' It looks like it is now trying to set up its environment to make sure that it can actually Correct',\n",
       " \" So we're working on getting that goes, just might take a little while\",\n",
       " ' a little more actually just you can see the middle, right? agent You can see right now the agent, вот, все шло была одна сила, которая не как по но только центральному-таки немецкая полиция тоже не дремала про подготовку вас',\n",
       " ' это перебросить всего тысяч дополнительные в общем-то, силы',\n",
       " ' приказывает перебросить в эти земли дополнительные серьезные силы',\n",
       " ' 1 октября соответственно, местных партийных активистов',\n",
       " '']"
      ]
     },
     "execution_count": 144,
     "metadata": {},
     "output_type": "execute_result"
    }
   ],
   "source": [
    "while True:\n",
    "    d = await transcript.rpop()\n",
    "    if not d:\n",
    "        break\n",
    "    transcriptions.append(json.loads(d))\n",
    "concatinate_segments(transcriptions)\n",
    "''.join(concatinate_segments(transcriptions)['word'].tolist()).split('.')"
   ]
  },
  {
   "cell_type": "code",
   "execution_count": null,
   "metadata": {},
   "outputs": [],
   "source": []
  },
  {
   "cell_type": "code",
   "execution_count": null,
   "metadata": {},
   "outputs": [],
   "source": []
  },
  {
   "cell_type": "code",
   "execution_count": 181,
   "metadata": {},
   "outputs": [
    {
     "ename": "TypeError",
     "evalue": "the JSON object must be str, bytes or bytearray, not NoneType",
     "output_type": "error",
     "traceback": [
      "\u001b[0;31m---------------------------------------------------------------------------\u001b[0m",
      "\u001b[0;31mTypeError\u001b[0m                                 Traceback (most recent call last)",
      "Cell \u001b[0;32mIn[181], line 2\u001b[0m\n\u001b[1;32m      1\u001b[0m t \u001b[38;5;241m=\u001b[39m \u001b[38;5;28;01mawait\u001b[39;00m transcript\u001b[38;5;241m.\u001b[39mrpop();t\n\u001b[0;32m----> 2\u001b[0m \u001b[43mjson\u001b[49m\u001b[38;5;241;43m.\u001b[39;49m\u001b[43mloads\u001b[49m\u001b[43m(\u001b[49m\u001b[43mt\u001b[49m\u001b[43m)\u001b[49m\n",
      "File \u001b[0;32m/usr/local/lib/python3.9/json/__init__.py:339\u001b[0m, in \u001b[0;36mloads\u001b[0;34m(s, cls, object_hook, parse_float, parse_int, parse_constant, object_pairs_hook, **kw)\u001b[0m\n\u001b[1;32m    337\u001b[0m \u001b[38;5;28;01melse\u001b[39;00m:\n\u001b[1;32m    338\u001b[0m     \u001b[38;5;28;01mif\u001b[39;00m \u001b[38;5;129;01mnot\u001b[39;00m \u001b[38;5;28misinstance\u001b[39m(s, (\u001b[38;5;28mbytes\u001b[39m, \u001b[38;5;28mbytearray\u001b[39m)):\n\u001b[0;32m--> 339\u001b[0m         \u001b[38;5;28;01mraise\u001b[39;00m \u001b[38;5;167;01mTypeError\u001b[39;00m(\u001b[38;5;124mf\u001b[39m\u001b[38;5;124m'\u001b[39m\u001b[38;5;124mthe JSON object must be str, bytes or bytearray, \u001b[39m\u001b[38;5;124m'\u001b[39m\n\u001b[1;32m    340\u001b[0m                         \u001b[38;5;124mf\u001b[39m\u001b[38;5;124m'\u001b[39m\u001b[38;5;124mnot \u001b[39m\u001b[38;5;132;01m{\u001b[39;00ms\u001b[38;5;241m.\u001b[39m\u001b[38;5;18m__class__\u001b[39m\u001b[38;5;241m.\u001b[39m\u001b[38;5;18m__name__\u001b[39m\u001b[38;5;132;01m}\u001b[39;00m\u001b[38;5;124m'\u001b[39m)\n\u001b[1;32m    341\u001b[0m     s \u001b[38;5;241m=\u001b[39m s\u001b[38;5;241m.\u001b[39mdecode(detect_encoding(s), \u001b[38;5;124m'\u001b[39m\u001b[38;5;124msurrogatepass\u001b[39m\u001b[38;5;124m'\u001b[39m)\n\u001b[1;32m    343\u001b[0m \u001b[38;5;28;01mif\u001b[39;00m (\u001b[38;5;28mcls\u001b[39m \u001b[38;5;129;01mis\u001b[39;00m \u001b[38;5;28;01mNone\u001b[39;00m \u001b[38;5;129;01mand\u001b[39;00m object_hook \u001b[38;5;129;01mis\u001b[39;00m \u001b[38;5;28;01mNone\u001b[39;00m \u001b[38;5;129;01mand\u001b[39;00m\n\u001b[1;32m    344\u001b[0m         parse_int \u001b[38;5;129;01mis\u001b[39;00m \u001b[38;5;28;01mNone\u001b[39;00m \u001b[38;5;129;01mand\u001b[39;00m parse_float \u001b[38;5;129;01mis\u001b[39;00m \u001b[38;5;28;01mNone\u001b[39;00m \u001b[38;5;129;01mand\u001b[39;00m\n\u001b[1;32m    345\u001b[0m         parse_constant \u001b[38;5;129;01mis\u001b[39;00m \u001b[38;5;28;01mNone\u001b[39;00m \u001b[38;5;129;01mand\u001b[39;00m object_pairs_hook \u001b[38;5;129;01mis\u001b[39;00m \u001b[38;5;28;01mNone\u001b[39;00m \u001b[38;5;129;01mand\u001b[39;00m \u001b[38;5;129;01mnot\u001b[39;00m kw):\n",
      "\u001b[0;31mTypeError\u001b[0m: the JSON object must be str, bytes or bytearray, not NoneType"
     ]
    }
   ],
   "source": [
    "t = await transcript.rpop();t\n",
    "json.loads(t)"
   ]
  },
  {
   "cell_type": "code",
   "execution_count": 39,
   "metadata": {},
   "outputs": [
    {
     "data": {
      "text/plain": [
       "5.0"
      ]
     },
     "execution_count": 39,
     "metadata": {},
     "output_type": "execute_result"
    }
   ],
   "source": [
    "settings.check_and_process_connections_interval_sec"
   ]
  },
  {
   "cell_type": "code",
   "execution_count": 4,
   "metadata": {},
   "outputs": [],
   "source": [
    "\n",
    "\n",
    "class Processor:\n",
    "    def __init__(self):\n",
    "        self.__running_tasks = set()\n",
    "        self.stream_queue_service_api = StreamQueueServiceAPI()\n",
    "\n",
    "    async def process_connections(self):\n",
    "        logger.info(\"Process connections...\")\n",
    "        connections = await self.stream_queue_service_api.get_connections()\n",
    "        connection_ids = [c[0] for c in connections]\n",
    "\n",
    "        for connection_id in connection_ids:\n",
    "            await self._process_connection_task(connection_id)\n",
    "\n",
    "    async def _process_connection_task(self, connection_id, diarizer_step=60, transcriber_step=5):\n",
    "        redis_client = await get_redis_client(settings.redis_host, settings.redis_port, settings.redis_password)\n",
    "        meeting_id, segment_start_timestamp, segment_end_timestamp, user_id = await self.writestream2file(connection_id)\n",
    "\n",
    "        current_time = datetime.now(timezone.utc)\n",
    "\n",
    "        connection = Connection(redis_client, connection_id, user_id)\n",
    "        await connection.update_timestamps(segment_start_timestamp, segment_end_timestamp)\n",
    "\n",
    "        meeting = Meeting(redis_client, meeting_id)\n",
    "        await meeting.load_from_redis()\n",
    "        await meeting.add_connection(connection.id)\n",
    "        meeting.diarizer_last_updated_timestamp = meeting.diarizer_last_updated_timestamp or segment_start_timestamp\n",
    "        meeting.transcriber_last_updated_timestamp = meeting.transcriber_last_updated_timestamp or segment_start_timestamp\n",
    "\n",
    "        if (current_time - meeting.diarizer_last_updated_timestamp).seconds > diarizer_step:\n",
    "            diarizer = Diarizer(redis_client)\n",
    "            await diarizer.add_todo(meeting.meeting_id)\n",
    "            await meeting.update_diarizer_timestamp(\n",
    "                segment_start_timestamp, diarizer_last_updated_timestamp=current_time\n",
    "            )\n",
    "\n",
    "        if (current_time - meeting.transcriber_last_updated_timestamp).seconds > transcriber_step:\n",
    "            transcriber = Transcriber(redis_client)\n",
    "            await transcriber.add_todo(meeting.meeting_id)\n",
    "            await meeting.update_transcriber_timestamp(\n",
    "                segment_start_timestamp, transcriber_last_updated_timestamp=current_time\n",
    "            )\n",
    "\n",
    "    async def writestream2file(self, connection_id):\n",
    "        path = f\"/audio/{connection_id}.webm\"\n",
    "        first_timestamp = None\n",
    "        items = await self.stream_queue_service_api.fetch_chunks(connection_id, num_chunks=100)\n",
    "\n",
    "        if items:\n",
    "            # if there is no meeting_id in META-data\n",
    "            meeting_id = connection_id\n",
    "\n",
    "            for item in items[\"chunks\"]:\n",
    "                chunk = bytes.fromhex(item[\"chunk\"])\n",
    "                first_timestamp = datetime.fromisoformat(item[\"timestamp\"].rstrip('Z')).astimezone(timezone.utc) if not first_timestamp else first_timestamp\n",
    "\n",
    "                # Open the file in append mode\n",
    "                with open(path, \"ab\") as file:\n",
    "                    # Write data to the file\n",
    "                    file.write(chunk)\n",
    "\n",
    "                last_timestamp = datetime.fromisoformat(item[\"timestamp\"].rstrip('Z')).astimezone(timezone.utc)\n",
    "\n",
    "                meeting_id = item[\"meeting_id\"]\n",
    "                user_id = item[\"user_id\"]\n",
    "\n",
    "            return meeting_id, first_timestamp, last_timestamp, user_id\n"
   ]
  },
  {
   "cell_type": "code",
   "execution_count": 7,
   "metadata": {},
   "outputs": [],
   "source": [
    "diarizer_step=10\n",
    "transcriber_step=5"
   ]
  },
  {
   "cell_type": "code",
   "execution_count": 8,
   "metadata": {},
   "outputs": [],
   "source": [
    "self = Processor()"
   ]
  },
  {
   "cell_type": "code",
   "execution_count": 9,
   "metadata": {},
   "outputs": [],
   "source": [
    "connections = await self.stream_queue_service_api.get_connections()\n",
    "connection_ids = [c[0] for c in connections]"
   ]
  },
  {
   "cell_type": "code",
   "execution_count": 10,
   "metadata": {},
   "outputs": [],
   "source": [
    "connection_id = connection_ids[0]"
   ]
  },
  {
   "cell_type": "code",
   "execution_count": 11,
   "metadata": {},
   "outputs": [
    {
     "data": {
      "text/plain": [
       "'25b0a1b4-78e7-4bf3-9d1c-c64bf59b845d'"
      ]
     },
     "execution_count": 11,
     "metadata": {},
     "output_type": "execute_result"
    }
   ],
   "source": [
    "connection_id"
   ]
  },
  {
   "cell_type": "code",
   "execution_count": 23,
   "metadata": {},
   "outputs": [],
   "source": [
    "redis_client = await get_redis_client(settings.redis_host, settings.redis_port, settings.redis_password)\n",
    "meeting_id, segment_start_timestamp, segment_end_timestamp, user_id = await self.writestream2file(connection_id)"
   ]
  },
  {
   "cell_type": "code",
   "execution_count": 36,
   "metadata": {},
   "outputs": [],
   "source": [
    "\n",
    "current_time = datetime.now(timezone.utc)\n",
    "\n",
    "connection = Connection(redis_client, connection_id, user_id)\n",
    "await connection.update_timestamps(segment_start_timestamp, segment_end_timestamp)\n",
    "\n",
    "meeting = Meeting(redis_client, meeting_id)\n",
    "await meeting.load_from_redis()"
   ]
  },
  {
   "cell_type": "code",
   "execution_count": 37,
   "metadata": {},
   "outputs": [],
   "source": [
    "await meeting.set_start_timestamp(segment_start_timestamp)"
   ]
  },
  {
   "cell_type": "code",
   "execution_count": 38,
   "metadata": {},
   "outputs": [
    {
     "name": "stdout",
     "output_type": "stream",
     "text": [
      "diarizer added\n",
      "transcriber added\n"
     ]
    }
   ],
   "source": [
    "\n",
    "await meeting.add_connection(connection.id)\n",
    "\n",
    "meeting.diarizer_last_updated_timestamp = meeting.diarizer_last_updated_timestamp or segment_start_timestamp\n",
    "meeting.transcriber_last_updated_timestamp = meeting.transcriber_last_updated_timestamp or segment_start_timestamp\n",
    "\n",
    "if (current_time - meeting.diarizer_last_updated_timestamp).seconds > diarizer_step:\n",
    "    diarizer = Diarizer(redis_client)\n",
    "    await diarizer.add_todo(meeting.meeting_id)\n",
    "    await meeting.update_diarizer_timestamp(\n",
    "        segment_start_timestamp, diarizer_last_updated_timestamp=current_time\n",
    "    )\n",
    "    print(\"diarizer added\")\n",
    "\n",
    "if (current_time - meeting.transcriber_last_updated_timestamp).seconds > transcriber_step:\n",
    "    transcriber = Transcriber(redis_client)\n",
    "    await transcriber.add_todo(meeting.meeting_id)\n",
    "    await meeting.update_transcriber_timestamp(\n",
    "        segment_start_timestamp, transcriber_last_updated_timestamp=current_time\n",
    "    )\n",
    "    print(\"transcriber added\")"
   ]
  },
  {
   "cell_type": "code",
   "execution_count": 29,
   "metadata": {},
   "outputs": [
    {
     "data": {
      "text/plain": [
       "datetime.datetime(2024, 5, 22, 15, 41, 22, 776157, tzinfo=tzutc())"
      ]
     },
     "execution_count": 29,
     "metadata": {},
     "output_type": "execute_result"
    }
   ],
   "source": [
    "meeting.diarizer_last_updated_timestamp"
   ]
  },
  {
   "cell_type": "code",
   "execution_count": 30,
   "metadata": {},
   "outputs": [
    {
     "data": {
      "text/plain": [
       "datetime.datetime(2024, 5, 22, 15, 41, 22, 776157, tzinfo=datetime.timezone.utc)"
      ]
     },
     "execution_count": 30,
     "metadata": {},
     "output_type": "execute_result"
    }
   ],
   "source": [
    "current_time"
   ]
  },
  {
   "cell_type": "code",
   "execution_count": 21,
   "metadata": {},
   "outputs": [],
   "source": [
    "connection_id = connection_ids[0]"
   ]
  },
  {
   "cell_type": "code",
   "execution_count": 35,
   "metadata": {},
   "outputs": [
    {
     "data": {
      "text/plain": [
       "'87a3f4b1-5b50-45be-b2c7-dfd83ebfe022'"
      ]
     },
     "execution_count": 35,
     "metadata": {},
     "output_type": "execute_result"
    }
   ],
   "source": [
    "connection_id"
   ]
  },
  {
   "cell_type": "code",
   "execution_count": 36,
   "metadata": {},
   "outputs": [],
   "source": [
    "meeting_id, segment_start_timestamp, segment_end_timestamp, user_id = await self.writestream2file(connection_id)"
   ]
  },
  {
   "cell_type": "code",
   "execution_count": 37,
   "metadata": {},
   "outputs": [
    {
     "data": {
      "text/plain": [
       "(datetime.datetime(2024, 5, 22, 14, 27, 59, 846448, tzinfo=datetime.timezone.utc),\n",
       " datetime.datetime(2024, 5, 22, 14, 28, 9, 48882, tzinfo=datetime.timezone.utc))"
      ]
     },
     "execution_count": 37,
     "metadata": {},
     "output_type": "execute_result"
    }
   ],
   "source": [
    "segment_start_timestamp,segment_end_timestamp"
   ]
  },
  {
   "cell_type": "code",
   "execution_count": 38,
   "metadata": {},
   "outputs": [
    {
     "data": {
      "text/plain": [
       "'https://meet.google.com/jmt-yfgt-rzp'"
      ]
     },
     "execution_count": 38,
     "metadata": {},
     "output_type": "execute_result"
    }
   ],
   "source": [
    "meeting_id"
   ]
  },
  {
   "cell_type": "code",
   "execution_count": 39,
   "metadata": {},
   "outputs": [],
   "source": [
    "redis_client = await get_redis_client(settings.redis_host, settings.redis_port, settings.redis_password)"
   ]
  },
  {
   "cell_type": "code",
   "execution_count": 40,
   "metadata": {},
   "outputs": [],
   "source": [
    "#await redis_client.flushdb()"
   ]
  },
  {
   "cell_type": "code",
   "execution_count": 41,
   "metadata": {},
   "outputs": [],
   "source": [
    "current_time = datetime.now(timezone.utc)\n",
    "\n",
    "connection = Connection(redis_client, connection_id, user_id)\n",
    "await connection.update_timestamps(segment_start_timestamp, segment_end_timestamp)"
   ]
  },
  {
   "cell_type": "code",
   "execution_count": 42,
   "metadata": {},
   "outputs": [],
   "source": [
    "#transcriber_step"
   ]
  },
  {
   "cell_type": "code",
   "execution_count": 43,
   "metadata": {},
   "outputs": [
    {
     "data": {
      "text/plain": [
       "datetime.datetime(2024, 5, 22, 14, 28, 11, 963135, tzinfo=datetime.timezone.utc)"
      ]
     },
     "execution_count": 43,
     "metadata": {},
     "output_type": "execute_result"
    }
   ],
   "source": [
    "current_time"
   ]
  },
  {
   "cell_type": "code",
   "execution_count": 52,
   "metadata": {},
   "outputs": [],
   "source": [
    "\n",
    "\n",
    "meeting = Meeting(redis_client, meeting_id)\n",
    "\n",
    "await meeting.update_redis()\n",
    "await meeting.load_from_redis()\n",
    "await meeting.add_connection(connection.id)\n",
    "meeting.diarizer_last_updated_timestamp = meeting.diarizer_last_updated_timestamp or segment_start_timestamp\n",
    "meeting.transcriber_last_updated_timestamp = meeting.transcriber_last_updated_timestamp or segment_start_timestamp"
   ]
  },
  {
   "cell_type": "code",
   "execution_count": 53,
   "metadata": {},
   "outputs": [
    {
     "data": {
      "text/plain": [
       "datetime.datetime(2024, 5, 22, 14, 27, 59, 846448, tzinfo=tzutc())"
      ]
     },
     "execution_count": 53,
     "metadata": {},
     "output_type": "execute_result"
    }
   ],
   "source": [
    "meeting.diarizer_last_updated_timestamp"
   ]
  },
  {
   "cell_type": "code",
   "execution_count": 54,
   "metadata": {},
   "outputs": [
    {
     "data": {
      "text/plain": [
       "60"
      ]
     },
     "execution_count": 54,
     "metadata": {},
     "output_type": "execute_result"
    }
   ],
   "source": [
    "diarizer_step"
   ]
  },
  {
   "cell_type": "code",
   "execution_count": 55,
   "metadata": {},
   "outputs": [
    {
     "data": {
      "text/plain": [
       "datetime.datetime(2024, 5, 22, 14, 27, 59, 846448, tzinfo=tzutc())"
      ]
     },
     "execution_count": 55,
     "metadata": {},
     "output_type": "execute_result"
    }
   ],
   "source": [
    "meeting.diarizer_last_updated_timestamp"
   ]
  },
  {
   "cell_type": "code",
   "execution_count": 64,
   "metadata": {},
   "outputs": [],
   "source": [
    "\n",
    "if (current_time - meeting.diarizer_last_updated_timestamp).seconds > diarizer_step:\n",
    "    print(\"diarizer added\")\n",
    "    diarizer = Diarizer(redis_client)\n",
    "    await diarizer.add_todo(meeting.meeting_id)\n",
    "    await meeting.update_diarizer_timestamp(\n",
    "        segment_start_timestamp, diarizer_last_updated_timestamp=current_time\n",
    "    )\n",
    "\n",
    "if (current_time - meeting.transcriber_last_updated_timestamp).seconds > transcriber_step:\n",
    "    print(\"transcriber added\")\n",
    "    transcriber = Transcriber(redis_client)\n",
    "    await transcriber.add_todo(meeting.meeting_id)\n",
    "    await meeting.update_transcriber_timestamp(\n",
    "        segment_start_timestamp, transcriber_last_updated_timestamp=current_time\n",
    "            )"
   ]
  },
  {
   "cell_type": "code",
   "execution_count": 65,
   "metadata": {},
   "outputs": [
    {
     "data": {
      "text/plain": [
       "Settings(service_version='0.0.1_example', service_name='Audio API', service_api_host='0.0.0.0', service_api_port=8009, service_token='service_token', check_and_process_connections_interval_sec=5.0, stream_queue_service_list_connections='http://host.docker.internal:8000/api/v1/connections/list', stream_queue_service_flush_cache='http://host.docker.internal:8000/api/v1/tools/flush-cache', stream_queue_service_get_next_chunks='http://host.docker.internal:8000/api/v1/tools/get-next-chunks', stream_queue_service_health='http://host.docker.internal:8000/api/v1/health', stream_queue_service_health_check='http://host.docker.internal:8000/api/v1/hc', stream_queue_service_request_timeout=5, stream_queue_service_auth_token='LKJBn98wefgh', redis_host='redis', redis_port=6379, redis_password='', volume_data_path='/home/dima/ssd/0', redis_image_port='6382')"
      ]
     },
     "execution_count": 65,
     "metadata": {},
     "output_type": "execute_result"
    }
   ],
   "source": [
    "settings"
   ]
  },
  {
   "cell_type": "code",
   "execution_count": 66,
   "metadata": {},
   "outputs": [
    {
     "data": {
      "text/plain": [
       "0"
      ]
     },
     "execution_count": 66,
     "metadata": {},
     "output_type": "execute_result"
    }
   ],
   "source": [
    "(current_time - meeting.transcriber_last_updated_timestamp).seconds"
   ]
  },
  {
   "cell_type": "code",
   "execution_count": 67,
   "metadata": {},
   "outputs": [
    {
     "data": {
      "text/plain": [
       "datetime.datetime(2024, 5, 22, 14, 28, 11, 963135, tzinfo=tzutc())"
      ]
     },
     "execution_count": 67,
     "metadata": {},
     "output_type": "execute_result"
    }
   ],
   "source": [
    "meeting.transcriber_last_updated_timestamp"
   ]
  },
  {
   "cell_type": "code",
   "execution_count": 68,
   "metadata": {},
   "outputs": [
    {
     "data": {
      "text/plain": [
       "datetime.datetime(2024, 5, 22, 14, 28, 11, 963135, tzinfo=tzutc())"
      ]
     },
     "execution_count": 68,
     "metadata": {},
     "output_type": "execute_result"
    }
   ],
   "source": [
    "meeting.transcriber_last_updated_timestamp"
   ]
  },
  {
   "cell_type": "code",
   "execution_count": 69,
   "metadata": {},
   "outputs": [
    {
     "data": {
      "text/plain": [
       "datetime.datetime(2024, 5, 22, 14, 27, 59, 846448, tzinfo=datetime.timezone.utc)"
      ]
     },
     "execution_count": 69,
     "metadata": {},
     "output_type": "execute_result"
    }
   ],
   "source": [
    "segment_start_timestamp"
   ]
  },
  {
   "cell_type": "code",
   "execution_count": 70,
   "metadata": {},
   "outputs": [
    {
     "data": {
      "text/plain": [
       "datetime.datetime(2024, 5, 22, 14, 27, 59, 846448, tzinfo=datetime.timezone.utc)"
      ]
     },
     "execution_count": 70,
     "metadata": {},
     "output_type": "execute_result"
    }
   ],
   "source": [
    "connection.start_timestamp"
   ]
  },
  {
   "cell_type": "code",
   "execution_count": 71,
   "metadata": {},
   "outputs": [
    {
     "data": {
      "text/plain": [
       "datetime.datetime(2024, 5, 22, 14, 28, 11, 963135, tzinfo=tzutc())"
      ]
     },
     "execution_count": 71,
     "metadata": {},
     "output_type": "execute_result"
    }
   ],
   "source": [
    "meeting.transcriber_last_updated_timestamp"
   ]
  },
  {
   "cell_type": "code",
   "execution_count": null,
   "metadata": {},
   "outputs": [],
   "source": []
  }
 ],
 "metadata": {
  "kernelspec": {
   "display_name": "Python 3",
   "language": "python",
   "name": "python3"
  },
  "language_info": {
   "codemirror_mode": {
    "name": "ipython",
    "version": 3
   },
   "file_extension": ".py",
   "mimetype": "text/x-python",
   "name": "python",
   "nbconvert_exporter": "python",
   "pygments_lexer": "ipython3",
   "version": "3.9.18"
  }
 },
 "nbformat": 4,
 "nbformat_minor": 2
}
