{
 "cells": [
  {
   "cell_type": "code",
   "execution_count": 1,
   "metadata": {},
   "outputs": [],
   "source": [
    "\n",
    "%load_ext autoreload\n",
    "%autoreload 2\n"
   ]
  },
  {
   "cell_type": "code",
   "execution_count": 2,
   "metadata": {},
   "outputs": [
    {
     "name": "stderr",
     "output_type": "stream",
     "text": [
      "/usr/local/lib/python3.10/dist-packages/tqdm/auto.py:21: TqdmWarning: IProgress not found. Please update jupyter and ipywidgets. See https://ipywidgets.readthedocs.io/en/stable/user_install.html\n",
      "  from .autonotebook import tqdm as notebook_tqdm\n"
     ]
    }
   ],
   "source": [
    "import asyncio\n",
    "import io\n",
    "import json\n",
    "import logging\n",
    "from datetime import datetime, timezone\n",
    "from uuid import uuid4\n",
    "\n",
    "import pandas as pd\n",
    "import torch\n",
    "from pyannote.audio import Pipeline\n",
    "from qdrant_client import QdrantClient, models\n",
    "\n",
    "from app.database_redis import keys\n",
    "from app.database_redis.connection import get_redis_client\n",
    "from app.services.audio.audio import AudioSlicer\n",
    "from app.services.audio.redis import Diarisation, Diarizer, Meeting, best_covering_connection\n",
    "from app.settings import settings\n"
   ]
  },
  {
   "cell_type": "code",
   "execution_count": 3,
   "metadata": {},
   "outputs": [],
   "source": [
    "client = QdrantClient(\"qdrant\", timeout=10)"
   ]
  },
  {
   "cell_type": "code",
   "execution_count": 4,
   "metadata": {},
   "outputs": [],
   "source": [
    "\n",
    "def get_stored_knn(emb: list, user_id):\n",
    "    search_result = client.search(\n",
    "        collection_name=\"main\",\n",
    "        query_vector=emb,\n",
    "        limit=1,\n",
    "        query_filter=models.Filter(\n",
    "            must=[models.FieldCondition(key=\"user_id\", match=models.MatchValue(value=user_id))]\n",
    "        ),\n",
    "    )\n",
    "    if len(search_result) > 0:\n",
    "        search_result = search_result[0]\n",
    "        return search_result.payload[\"speaker_id\"], search_result.score\n",
    "    else:\n",
    "        return None, None\n",
    "\n",
    "\n",
    "async def add_new_speaker_emb(emb: list, redis_client, user_id, speaker_id=None):\n",
    "    logger.info(\"Adding new speaker...\")\n",
    "    speaker_id = speaker_id if speaker_id else str(uuid4())\n",
    "    client.upsert(\n",
    "        collection_name=\"main\",\n",
    "        wait=True,\n",
    "        points=[\n",
    "            models.PointStruct(id=str(uuid4()), vector=emb, payload={\"speaker_id\": speaker_id, \"user_id\": user_id})\n",
    "        ],\n",
    "    )\n",
    "    await redis_client.lpush(keys.SPEAKER_EMBEDDINGS, json.dumps((speaker_id, emb.tolist(), user_id)))\n",
    "    logger.info(f\"Added new speaker {speaker_id}\")\n",
    "    return speaker_id\n",
    "\n",
    "\n",
    "async def process_speaker_emb(emb: list, redis_client, user_id):\n",
    "    speaker_id, score = get_stored_knn(emb, user_id)\n",
    "    logger.info(f\"score: {score}\")\n",
    "\n",
    "    if speaker_id:\n",
    "        if score > 0.95:\n",
    "            pass\n",
    "        elif score > 0.75:\n",
    "            await add_new_speaker_emb(emb, redis_client, user_id, speaker_id=speaker_id)\n",
    "        else:\n",
    "            speaker_id = await add_new_speaker_emb(emb, redis_client, user_id)\n",
    "    else:\n",
    "        speaker_id = await add_new_speaker_emb(emb, redis_client, user_id)\n",
    "\n",
    "    return str(speaker_id), score\n",
    "\n",
    "\n",
    "def parse_segment(segment):\n",
    "    return segment[0].start, segment[0].end, int(segment[-1].split(\"_\")[1])\n",
    "\n",
    "\n",
    "async def __get_next_chunk_start(diarization_result, length, shift):\n",
    "\n",
    "    if len(diarization_result) > 0:\n",
    "        last_speech = diarization_result[-1]\n",
    "\n",
    "        ended_silence = length - last_speech[\"end\"]\n",
    "        logger.info(ended_silence)\n",
    "        if ended_silence < 2:\n",
    "            logger.info(\"interrupted\")\n",
    "            return last_speech[\"start\"] + shift\n",
    "\n",
    "        else:\n",
    "            logger.info(\"non-interrupted\")\n",
    "            return last_speech[\"end\"] + shift\n",
    "\n",
    "    else:\n",
    "        return None\n"
   ]
  },
  {
   "cell_type": "code",
   "execution_count": 5,
   "metadata": {},
   "outputs": [],
   "source": [
    "redis_client = await get_redis_client(settings.redis_host, settings.redis_port, settings.redis_password)"
   ]
  },
  {
   "cell_type": "code",
   "execution_count": 6,
   "metadata": {},
   "outputs": [],
   "source": [
    "diarizer = Diarizer(redis_client)\n",
    "meeting_id = await diarizer.pop_inprogress()"
   ]
  },
  {
   "cell_type": "code",
   "execution_count": 7,
   "metadata": {},
   "outputs": [],
   "source": [
    "meeting_id"
   ]
  },
  {
   "cell_type": "code",
   "execution_count": null,
   "metadata": {},
   "outputs": [],
   "source": [
    "\n",
    "if not meeting_id:\n",
    "    return\n",
    "\n",
    "meeting = Meeting(redis_client, meeting_id)\n",
    "await meeting.load_from_redis()\n",
    "seek = meeting.diarize_seek_timestamp - meeting.start_timestamp\n",
    "\n",
    "current_time = datetime.now(timezone.utc)\n",
    "\n",
    "connection = best_covering_connection(seek, current_time, meeting.get_connections())\n",
    "audio_slicer = await AudioSlicer.from_ffmpeg_slice(f\"/audio/{connection.id}.webm\", seek, seek + max_length)\n",
    "slice_duration = audio_slicer.audio.duration_seconds\n",
    "audio_data = await audio_slicer.export_data()\n",
    "\n",
    "output, embeddings = pipeline(io.BytesIO(audio_data), return_embeddings=True)\n",
    "\n",
    "if len(embeddings) == 0:\n",
    "    logger.info(\"No embeddings found, skipping...\")\n",
    "    return\n",
    "\n",
    "speakers = [await process_speaker_emb(e, redis_client, connection.user_id) for e in embeddings]\n",
    "\n",
    "segments = [i for i in output.itertracks(yield_label=True)]\n",
    "df = pd.DataFrame([parse_segment(s) for s in segments], columns=[\"start\", \"end\", \"speaker_id\"])\n",
    "df[\"speaker\"] = df[\"speaker_id\"].replace({i: s[0] for i, s in enumerate(speakers)})\n",
    "df[\"score\"] = df[\"speaker_id\"].replace({i: s[1] for i, s in enumerate(speakers)})\n",
    "result = df.drop(columns=[\"speaker_id\"]).to_dict(\"records\")\n",
    "\n",
    "diarization = Diarisation(meeting_id, redis_client, result)\n",
    "await diarization.lpush()\n",
    "\n",
    "start_ = await __get_next_chunk_start(result, slice_duration, current_time - seek)\n",
    "seek = start_+current_time if start_ else seek + slice_duration\n",
    "\n",
    "meeting.diarize_seek_timestamp = seek\n",
    "await diarizer.remove(meeting.meeting_id)\n",
    "await meeting.update_redis()"
   ]
  }
 ],
 "metadata": {
  "kernelspec": {
   "display_name": "Python 3",
   "language": "python",
   "name": "python3"
  },
  "language_info": {
   "codemirror_mode": {
    "name": "ipython",
    "version": 3
   },
   "file_extension": ".py",
   "mimetype": "text/x-python",
   "name": "python",
   "nbconvert_exporter": "python",
   "pygments_lexer": "ipython3",
   "version": "3.10.12"
  }
 },
 "nbformat": 4,
 "nbformat_minor": 2
}
