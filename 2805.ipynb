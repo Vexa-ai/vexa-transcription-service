{
 "cells": [
  {
   "cell_type": "code",
   "execution_count": 1,
   "metadata": {},
   "outputs": [
    {
     "name": "stdout",
     "output_type": "stream",
     "text": [
      "check_and_process_connections_interval_sec: 5.0\n"
     ]
    }
   ],
   "source": [
    "from app.database_redis import keys\n",
    "from app.database_redis.connection import get_redis_client\n",
    "from app.services.audio.audio import AudioSlicer\n",
    "from app.services.audio.redis import Diarisation, Diarizer, Meeting, best_covering_connection\n",
    "from app.settings import settings\n",
    "from datetime import datetime,timezone"
   ]
  },
  {
   "cell_type": "code",
   "execution_count": 2,
   "metadata": {},
   "outputs": [
    {
     "name": "stderr",
     "output_type": "stream",
     "text": [
      "/tmp/ipykernel_829/910237743.py:17: DeprecationWarning: \n",
      "Pyarrow will become a required dependency of pandas in the next major release of pandas (pandas 3.0),\n",
      "(to allow more performant data types, such as the Arrow string type, and better interoperability with other libraries)\n",
      "but was not found to be installed on your system.\n",
      "If this would cause problems for you,\n",
      "please provide us feedback at https://github.com/pandas-dev/pandas/issues/54466\n",
      "        \n",
      "  import pandas as pd\n"
     ]
    }
   ],
   "source": [
    "from pathlib import Path\n",
    "import random\n",
    "\n",
    "def ls(self):\n",
    "    \"\"\"\n",
    "    List the contents of the directory.\n",
    "    Returns:\n",
    "        List[Path]: A list of Paths in the directory.\n",
    "    \"\"\"\n",
    "    if not self.is_dir():\n",
    "        raise NotADirectoryError(f\"{self} is not a directory\")\n",
    "    \n",
    "    return list(self.iterdir())\n",
    "Path.ls = ls\n",
    "from app.services.audio.audio import AudioSlicer\n",
    "import json\n",
    "import pandas as pd\n",
    "import numpy as np"
   ]
  },
  {
   "cell_type": "code",
   "execution_count": 3,
   "metadata": {},
   "outputs": [],
   "source": [
    "from app.database_redis.connection import get_redis_client"
   ]
  },
  {
   "cell_type": "code",
   "execution_count": 4,
   "metadata": {},
   "outputs": [],
   "source": [
    "from app.services.audio.redis import Diarisation, Diarizer, Meeting, best_covering_connection"
   ]
  },
  {
   "cell_type": "code",
   "execution_count": 5,
   "metadata": {},
   "outputs": [],
   "source": [
    "redis_client = await get_redis_client(settings.redis_host, settings.redis_port, settings.redis_password)"
   ]
  },
  {
   "cell_type": "code",
   "execution_count": 6,
   "metadata": {},
   "outputs": [],
   "source": [
    "diarizer = Diarizer(redis_client)\n",
    "meeting_id = await diarizer.pop_inprogress()"
   ]
  },
  {
   "cell_type": "code",
   "execution_count": null,
   "metadata": {},
   "outputs": [],
   "source": [
    "meeting"
   ]
  },
  {
   "cell_type": "code",
   "execution_count": null,
   "metadata": {},
   "outputs": [],
   "source": []
  },
  {
   "cell_type": "code",
   "execution_count": 7,
   "metadata": {},
   "outputs": [],
   "source": [
    "audiofiles = Path('/audio').ls()"
   ]
  },
  {
   "cell_type": "code",
   "execution_count": null,
   "metadata": {},
   "outputs": [],
   "source": []
  },
  {
   "cell_type": "code",
   "execution_count": 8,
   "metadata": {},
   "outputs": [],
   "source": [
    "import random"
   ]
  },
  {
   "cell_type": "code",
   "execution_count": 20,
   "metadata": {},
   "outputs": [],
   "source": [
    "results =[]\n",
    "for _ in range(10):\n",
    "    path = random.choice(audiofiles)\n",
    "    result = {}\n",
    "    result['path']= path\n",
    "    try:\n",
    "        audio_slicer = await AudioSlicer.from_ffmpeg_slice(path, 0, 30)\n",
    "        passed = True\n",
    "    except:\n",
    "        passed = False\n",
    "\n",
    "    result['passed'] = passed\n",
    "        \n",
    "    with open(path,'rb') as f:\n",
    "        result['bytes'] = f.read()[:500]\n",
    "\n",
    "    results.append(result)"
   ]
  },
  {
   "cell_type": "code",
   "execution_count": 21,
   "metadata": {},
   "outputs": [],
   "source": [
    "results = pd.DataFrame(results)"
   ]
  },
  {
   "cell_type": "code",
   "execution_count": 22,
   "metadata": {},
   "outputs": [
    {
     "data": {
      "text/html": [
       "<div>\n",
       "<style scoped>\n",
       "    .dataframe tbody tr th:only-of-type {\n",
       "        vertical-align: middle;\n",
       "    }\n",
       "\n",
       "    .dataframe tbody tr th {\n",
       "        vertical-align: top;\n",
       "    }\n",
       "\n",
       "    .dataframe thead th {\n",
       "        text-align: right;\n",
       "    }\n",
       "</style>\n",
       "<table border=\"1\" class=\"dataframe\">\n",
       "  <thead>\n",
       "    <tr style=\"text-align: right;\">\n",
       "      <th></th>\n",
       "      <th>path</th>\n",
       "      <th>passed</th>\n",
       "      <th>bytes</th>\n",
       "    </tr>\n",
       "  </thead>\n",
       "  <tbody>\n",
       "    <tr>\n",
       "      <th>0</th>\n",
       "      <td>/audio/58b2fc09-99fc-4242-8246-0298b1c436f4.webm</td>\n",
       "      <td>True</td>\n",
       "      <td>b'\\x1aE\\xdf\\xa3\\x9fB\\x86\\x81\\x01B\\xf7\\x81\\x01B...</td>\n",
       "    </tr>\n",
       "    <tr>\n",
       "      <th>1</th>\n",
       "      <td>/audio/c0c29ee3-bdea-4e8e-a14f-a8df87c517e7.webm</td>\n",
       "      <td>True</td>\n",
       "      <td>b\"\\x1aE\\xdf\\xa3\\x9fB\\x86\\x81\\x01B\\xf7\\x81\\x01B...</td>\n",
       "    </tr>\n",
       "    <tr>\n",
       "      <th>3</th>\n",
       "      <td>/audio/f7734c60-e38b-4217-b559-2318f6be494d.webm</td>\n",
       "      <td>True</td>\n",
       "      <td>b'\\x1aE\\xdf\\xa3\\x9fB\\x86\\x81\\x01B\\xf7\\x81\\x01B...</td>\n",
       "    </tr>\n",
       "    <tr>\n",
       "      <th>4</th>\n",
       "      <td>/audio/22c1dd13-93bd-4881-a10f-25dada2153b2.webm</td>\n",
       "      <td>True</td>\n",
       "      <td>b\"\\x1aE\\xdf\\xa3\\x9fB\\x86\\x81\\x01B\\xf7\\x81\\x01B...</td>\n",
       "    </tr>\n",
       "    <tr>\n",
       "      <th>7</th>\n",
       "      <td>/audio/4daafbbd-e346-4837-974a-bdc036f87266.webm</td>\n",
       "      <td>True</td>\n",
       "      <td>b'\\x1aE\\xdf\\xa3\\x9fB\\x86\\x81\\x01B\\xf7\\x81\\x01B...</td>\n",
       "    </tr>\n",
       "    <tr>\n",
       "      <th>8</th>\n",
       "      <td>/audio/54d378a2-75a1-4614-8aa5-d6ca07146e2c.webm</td>\n",
       "      <td>True</td>\n",
       "      <td>b\"\\x1aE\\xdf\\xa3\\x9fB\\x86\\x81\\x01B\\xf7\\x81\\x01B...</td>\n",
       "    </tr>\n",
       "    <tr>\n",
       "      <th>9</th>\n",
       "      <td>/audio/7497d02a-2910-49e4-a758-ec59f473e6f8.webm</td>\n",
       "      <td>True</td>\n",
       "      <td>b'\\x1aE\\xdf\\xa3\\x9fB\\x86\\x81\\x01B\\xf7\\x81\\x01B...</td>\n",
       "    </tr>\n",
       "  </tbody>\n",
       "</table>\n",
       "</div>"
      ],
      "text/plain": [
       "                                               path  passed  \\\n",
       "0  /audio/58b2fc09-99fc-4242-8246-0298b1c436f4.webm    True   \n",
       "1  /audio/c0c29ee3-bdea-4e8e-a14f-a8df87c517e7.webm    True   \n",
       "3  /audio/f7734c60-e38b-4217-b559-2318f6be494d.webm    True   \n",
       "4  /audio/22c1dd13-93bd-4881-a10f-25dada2153b2.webm    True   \n",
       "7  /audio/4daafbbd-e346-4837-974a-bdc036f87266.webm    True   \n",
       "8  /audio/54d378a2-75a1-4614-8aa5-d6ca07146e2c.webm    True   \n",
       "9  /audio/7497d02a-2910-49e4-a758-ec59f473e6f8.webm    True   \n",
       "\n",
       "                                               bytes  \n",
       "0  b'\\x1aE\\xdf\\xa3\\x9fB\\x86\\x81\\x01B\\xf7\\x81\\x01B...  \n",
       "1  b\"\\x1aE\\xdf\\xa3\\x9fB\\x86\\x81\\x01B\\xf7\\x81\\x01B...  \n",
       "3  b'\\x1aE\\xdf\\xa3\\x9fB\\x86\\x81\\x01B\\xf7\\x81\\x01B...  \n",
       "4  b\"\\x1aE\\xdf\\xa3\\x9fB\\x86\\x81\\x01B\\xf7\\x81\\x01B...  \n",
       "7  b'\\x1aE\\xdf\\xa3\\x9fB\\x86\\x81\\x01B\\xf7\\x81\\x01B...  \n",
       "8  b\"\\x1aE\\xdf\\xa3\\x9fB\\x86\\x81\\x01B\\xf7\\x81\\x01B...  \n",
       "9  b'\\x1aE\\xdf\\xa3\\x9fB\\x86\\x81\\x01B\\xf7\\x81\\x01B...  "
      ]
     },
     "execution_count": 22,
     "metadata": {},
     "output_type": "execute_result"
    }
   ],
   "source": [
    "results[results['passed']]"
   ]
  },
  {
   "cell_type": "code",
   "execution_count": 25,
   "metadata": {},
   "outputs": [
    {
     "data": {
      "text/plain": [
       "path       /audio/491a596a-aecd-497d-888b-a4ba514f76f4.webm\n",
       "passed                                                False\n",
       "bytes     b'\\x1aE\\xdf\\xa3\\xef\\xbf\\xbdB\\xef\\xbf\\xbd\\xef\\x...\n",
       "Name: 2, dtype: object"
      ]
     },
     "execution_count": 25,
     "metadata": {},
     "output_type": "execute_result"
    }
   ],
   "source": [
    "results[~results['passed']].iloc[0]"
   ]
  },
  {
   "cell_type": "code",
   "execution_count": 29,
   "metadata": {},
   "outputs": [],
   "source": [
    "path = results[~results['passed']].iloc[0]['path']"
   ]
  },
  {
   "cell_type": "code",
   "execution_count": 33,
   "metadata": {},
   "outputs": [
    {
     "ename": "CouldntDecodeError",
     "evalue": "Decoding failed. ffmpeg returned error code: 1\n\nOutput from ffmpeg/avlib:\n\nffmpeg version 5.1.4-0+deb12u1 Copyright (c) 2000-2023 the FFmpeg developers\n  built with gcc 12 (Debian 12.2.0-14)\n  configuration: --prefix=/usr --extra-version=0+deb12u1 --toolchain=hardened --libdir=/usr/lib/x86_64-linux-gnu --incdir=/usr/include/x86_64-linux-gnu --arch=amd64 --enable-gpl --disable-stripping --enable-gnutls --enable-ladspa --enable-libaom --enable-libass --enable-libbluray --enable-libbs2b --enable-libcaca --enable-libcdio --enable-libcodec2 --enable-libdav1d --enable-libflite --enable-libfontconfig --enable-libfreetype --enable-libfribidi --enable-libglslang --enable-libgme --enable-libgsm --enable-libjack --enable-libmp3lame --enable-libmysofa --enable-libopenjpeg --enable-libopenmpt --enable-libopus --enable-libpulse --enable-librabbitmq --enable-librist --enable-librubberband --enable-libshine --enable-libsnappy --enable-libsoxr --enable-libspeex --enable-libsrt --enable-libssh --enable-libsvtav1 --enable-libtheora --enable-libtwolame --enable-libvidstab --enable-libvorbis --enable-libvpx --enable-libwebp --enable-libx265 --enable-libxml2 --enable-libxvid --enable-libzimg --enable-libzmq --enable-libzvbi --enable-lv2 --enable-omx --enable-openal --enable-opencl --enable-opengl --enable-sdl2 --disable-sndio --enable-libjxl --enable-pocketsphinx --enable-librsvg --enable-libmfx --enable-libdc1394 --enable-libdrm --enable-libiec61883 --enable-chromaprint --enable-frei0r --enable-libx264 --enable-libplacebo --enable-librav1e --enable-shared\n  libavutil      57. 28.100 / 57. 28.100\n  libavcodec     59. 37.100 / 59. 37.100\n  libavformat    59. 27.100 / 59. 27.100\n  libavdevice    59.  7.100 / 59.  7.100\n  libavfilter     8. 44.100 /  8. 44.100\n  libswscale      6.  7.100 /  6.  7.100\n  libswresample   4.  7.100 /  4.  7.100\n  libpostproc    56.  6.100 / 56.  6.100\n[cache @ 0x55d7549b2680] Inner protocol failed to seekback end : -38\n    Last message repeated 1 times\n[mp3 @ 0x55d7549b1e40] Failed to read frame size: Could not seek to 1026.\n[cache @ 0x55d7549b2680] Statistics, cache hits:0 cache misses:0\ncache:pipe:0: Invalid argument\n",
     "output_type": "error",
     "traceback": [
      "\u001b[0;31m---------------------------------------------------------------------------\u001b[0m",
      "\u001b[0;31mCouldntDecodeError\u001b[0m                        Traceback (most recent call last)",
      "Cell \u001b[0;32mIn[33], line 1\u001b[0m\n\u001b[0;32m----> 1\u001b[0m audio_slicer \u001b[38;5;241m=\u001b[39m \u001b[38;5;28;01mawait\u001b[39;00m AudioSlicer\u001b[38;5;241m.\u001b[39mfrom_ffmpeg_slice(path, \u001b[38;5;241m0\u001b[39m, \u001b[38;5;241m100\u001b[39m)\n",
      "File \u001b[0;32m/usr/src/app/app/services/audio/audio.py:51\u001b[0m, in \u001b[0;36mAudioSlicer.from_ffmpeg_slice\u001b[0;34m(cls, path, start, duration, format)\u001b[0m\n\u001b[1;32m     48\u001b[0m     \u001b[38;5;28;01mreturn\u001b[39;00m result\u001b[38;5;241m.\u001b[39mstdout\n\u001b[1;32m     50\u001b[0m data \u001b[38;5;241m=\u001b[39m \u001b[38;5;28;01mawait\u001b[39;00m asyncio\u001b[38;5;241m.\u001b[39mto_thread(slice_and_get_data, path, start, duration)\n\u001b[0;32m---> 51\u001b[0m \u001b[38;5;28;01mreturn\u001b[39;00m \u001b[38;5;28;43mcls\u001b[39;49m\u001b[43m(\u001b[49m\u001b[43mdata\u001b[49m\u001b[43m,\u001b[49m\u001b[43m \u001b[49m\u001b[38;5;28;43mformat\u001b[39;49m\u001b[43m)\u001b[49m\n",
      "File \u001b[0;32m/usr/src/app/app/services/audio/audio.py:15\u001b[0m, in \u001b[0;36mAudioSlicer.__init__\u001b[0;34m(self, data, format)\u001b[0m\n\u001b[1;32m     13\u001b[0m \u001b[38;5;28;01mdef\u001b[39;00m \u001b[38;5;21m__init__\u001b[39m(\u001b[38;5;28mself\u001b[39m, data\u001b[38;5;241m=\u001b[39m\u001b[38;5;28;01mNone\u001b[39;00m, \u001b[38;5;28mformat\u001b[39m\u001b[38;5;241m=\u001b[39m\u001b[38;5;124m\"\u001b[39m\u001b[38;5;124mmp3\u001b[39m\u001b[38;5;124m\"\u001b[39m):\n\u001b[1;32m     14\u001b[0m     \u001b[38;5;28mself\u001b[39m\u001b[38;5;241m.\u001b[39mformat \u001b[38;5;241m=\u001b[39m \u001b[38;5;28mformat\u001b[39m\n\u001b[0;32m---> 15\u001b[0m     \u001b[38;5;28mself\u001b[39m\u001b[38;5;241m.\u001b[39maudio \u001b[38;5;241m=\u001b[39m \u001b[43mAudioSegment\u001b[49m\u001b[38;5;241;43m.\u001b[39;49m\u001b[43mfrom_file\u001b[49m\u001b[43m(\u001b[49m\u001b[43mio\u001b[49m\u001b[38;5;241;43m.\u001b[39;49m\u001b[43mBytesIO\u001b[49m\u001b[43m(\u001b[49m\u001b[43mdata\u001b[49m\u001b[43m)\u001b[49m\u001b[43m,\u001b[49m\u001b[43m \u001b[49m\u001b[38;5;28;43mformat\u001b[39;49m\u001b[38;5;241;43m=\u001b[39;49m\u001b[38;5;28;43mformat\u001b[39;49m\u001b[43m)\u001b[49m \u001b[38;5;28;01mif\u001b[39;00m data \u001b[38;5;129;01mis\u001b[39;00m \u001b[38;5;129;01mnot\u001b[39;00m \u001b[38;5;28;01mNone\u001b[39;00m \u001b[38;5;28;01melse\u001b[39;00m \u001b[38;5;28;01mNone\u001b[39;00m\n",
      "File \u001b[0;32m/usr/local/lib/python3.9/site-packages/pydub/audio_segment.py:773\u001b[0m, in \u001b[0;36mAudioSegment.from_file\u001b[0;34m(cls, file, format, codec, parameters, start_second, duration, **kwargs)\u001b[0m\n\u001b[1;32m    771\u001b[0m     \u001b[38;5;28;01mif\u001b[39;00m close_file:\n\u001b[1;32m    772\u001b[0m         file\u001b[38;5;241m.\u001b[39mclose()\n\u001b[0;32m--> 773\u001b[0m     \u001b[38;5;28;01mraise\u001b[39;00m CouldntDecodeError(\n\u001b[1;32m    774\u001b[0m         \u001b[38;5;124m\"\u001b[39m\u001b[38;5;124mDecoding failed. ffmpeg returned error code: \u001b[39m\u001b[38;5;132;01m{0}\u001b[39;00m\u001b[38;5;130;01m\\n\u001b[39;00m\u001b[38;5;130;01m\\n\u001b[39;00m\u001b[38;5;124mOutput from ffmpeg/avlib:\u001b[39m\u001b[38;5;130;01m\\n\u001b[39;00m\u001b[38;5;130;01m\\n\u001b[39;00m\u001b[38;5;132;01m{1}\u001b[39;00m\u001b[38;5;124m\"\u001b[39m\u001b[38;5;241m.\u001b[39mformat(\n\u001b[1;32m    775\u001b[0m             p\u001b[38;5;241m.\u001b[39mreturncode, p_err\u001b[38;5;241m.\u001b[39mdecode(errors\u001b[38;5;241m=\u001b[39m\u001b[38;5;124m'\u001b[39m\u001b[38;5;124mignore\u001b[39m\u001b[38;5;124m'\u001b[39m) ))\n\u001b[1;32m    777\u001b[0m p_out \u001b[38;5;241m=\u001b[39m \u001b[38;5;28mbytearray\u001b[39m(p_out)\n\u001b[1;32m    778\u001b[0m fix_wav_headers(p_out)\n",
      "\u001b[0;31mCouldntDecodeError\u001b[0m: Decoding failed. ffmpeg returned error code: 1\n\nOutput from ffmpeg/avlib:\n\nffmpeg version 5.1.4-0+deb12u1 Copyright (c) 2000-2023 the FFmpeg developers\n  built with gcc 12 (Debian 12.2.0-14)\n  configuration: --prefix=/usr --extra-version=0+deb12u1 --toolchain=hardened --libdir=/usr/lib/x86_64-linux-gnu --incdir=/usr/include/x86_64-linux-gnu --arch=amd64 --enable-gpl --disable-stripping --enable-gnutls --enable-ladspa --enable-libaom --enable-libass --enable-libbluray --enable-libbs2b --enable-libcaca --enable-libcdio --enable-libcodec2 --enable-libdav1d --enable-libflite --enable-libfontconfig --enable-libfreetype --enable-libfribidi --enable-libglslang --enable-libgme --enable-libgsm --enable-libjack --enable-libmp3lame --enable-libmysofa --enable-libopenjpeg --enable-libopenmpt --enable-libopus --enable-libpulse --enable-librabbitmq --enable-librist --enable-librubberband --enable-libshine --enable-libsnappy --enable-libsoxr --enable-libspeex --enable-libsrt --enable-libssh --enable-libsvtav1 --enable-libtheora --enable-libtwolame --enable-libvidstab --enable-libvorbis --enable-libvpx --enable-libwebp --enable-libx265 --enable-libxml2 --enable-libxvid --enable-libzimg --enable-libzmq --enable-libzvbi --enable-lv2 --enable-omx --enable-openal --enable-opencl --enable-opengl --enable-sdl2 --disable-sndio --enable-libjxl --enable-pocketsphinx --enable-librsvg --enable-libmfx --enable-libdc1394 --enable-libdrm --enable-libiec61883 --enable-chromaprint --enable-frei0r --enable-libx264 --enable-libplacebo --enable-librav1e --enable-shared\n  libavutil      57. 28.100 / 57. 28.100\n  libavcodec     59. 37.100 / 59. 37.100\n  libavformat    59. 27.100 / 59. 27.100\n  libavdevice    59.  7.100 / 59.  7.100\n  libavfilter     8. 44.100 /  8. 44.100\n  libswscale      6.  7.100 /  6.  7.100\n  libswresample   4.  7.100 /  4.  7.100\n  libpostproc    56.  6.100 / 56.  6.100\n[cache @ 0x55d7549b2680] Inner protocol failed to seekback end : -38\n    Last message repeated 1 times\n[mp3 @ 0x55d7549b1e40] Failed to read frame size: Could not seek to 1026.\n[cache @ 0x55d7549b2680] Statistics, cache hits:0 cache misses:0\ncache:pipe:0: Invalid argument\n"
     ]
    }
   ],
   "source": [
    "audio_slicer = await AudioSlicer.from_ffmpeg_slice(path, 0, 100)"
   ]
  },
  {
   "cell_type": "code",
   "execution_count": null,
   "metadata": {},
   "outputs": [],
   "source": []
  },
  {
   "cell_type": "code",
   "execution_count": null,
   "metadata": {},
   "outputs": [],
   "source": []
  },
  {
   "cell_type": "code",
   "execution_count": 21,
   "metadata": {},
   "outputs": [],
   "source": [
    "with open(path,'rb') as f:\n",
    "    r = f.read()[:500]"
   ]
  },
  {
   "cell_type": "code",
   "execution_count": 22,
   "metadata": {},
   "outputs": [
    {
     "data": {
      "text/plain": [
       "b'\\x1aE\\xdf\\xa3\\x9fB\\x86\\x81\\x01B\\xf7\\x81\\x01B\\xf2\\x81\\x04B\\xf3\\x81\\x08B\\x82\\x84webmB\\x87\\x81\\x04B\\x85\\x81\\x02\\x18S\\x80g\\x01\\xff\\xff\\xff\\xff\\xff\\xff\\xff\\x15I\\xa9f\\x99*\\xd7\\xb1\\x83\\x0fB@M\\x80\\x86ChromeWA\\x86Chrome\\x16T\\xaek\\xbf\\xae\\xbd\\xd7\\x81\\x01s\\xc5\\x87\\x10\\x12\\xd63F\\xdb\\x7f\\x83\\x81\\x02\\x86\\x86A_OPUSc\\xa2\\x93OpusHead\\x01\\x02\\x00\\x00\\x80\\xbb\\x00\\x00\\x00\\x00\\x00\\xe1\\x8d\\xb5\\x84G;\\x80\\x00\\x9f\\x81\\x02bd\\x81 \\x1fC\\xb6u\\x01\\xff\\xff\\xff\\xff\\xff\\xff\\xff\\xe7\\x81\\x00\\xa3A\\xf5\\x81\\x00\\x00\\x80\\xff\\x83\\x02\\x02\\xff\\xfe\\xff\\xfe\\x7f\\xdf\\x00\\xd6\\x06\\xa6\\xf0|O\\xb0?\\xb3?\\xf2,\\xbbFU\\xd8\\x03\\x11~\\x88\\xf4\\\\S\\xb5\\xd4\\x10\\x81\\xfd\\xe2\\n\\xed)\\xdd\\xae\\x88\\xef\\x80x\\xaeRA\\xf0x\\xcd\\xec\\x9b\\xfe{[\\x80\\xf7\\xdc&\\x8a\\xb9\\xbd\\xddm\\xcc\\xfbp\\xeb\\x0fJ\\xf19\\xf2\\xffI\\x0c\\x07G\\x88\\xe6lyre\\x94\\xc2K\\xea|Ir3\\xd0\\x15\\xa8\\x9cc\\x80\\xdbM\\xd0\\xdf\\xc5\\x89w\\':\\x81=]\\x0f\\xa4j\\xbe\\x93\\x13\\xd4\\xf1w6\\xbf\\xb0\\x97\\xd9\\x9c-\\n\\xa9\\xd2\\xaf\\xac\\xdc\\xd0\\xda9A<\\xf8\\xee\\x8e\\x9f\\xdd\\x8a\\x9a\\xf8\\x94*\\xae\\x7f\\x840a\\xb3R9T\\xef\\x83\\x162\\xe5pg))\\xd7i\\x89\\x91\\x1d\\xe6\\xbd~\\xd1T\\xe2&\\xebQ\\x1f\\x12M\\xc5w,\"Q,\\x9a\\xbc\\x1cR\\xad\\xe2\\x18\\xd19e\\xa6M\\xdd\\xe2\\xbc\\x90k\\x7fmdK.Y\\'\\xf3I<\\xe3E\\x9by\\\\\\x89\\xfd#\\xd6\\x81\\x8f\\xa3\\xe4\\xbeC\\xd1\\xf41\\x15B\\x08\\xda\\x13Y\\xaek2@\\x00\\x00\\x00\\x00\\x00\\x00\\x00\\x00\\x1f\\x9f\\xe0\\x07\\xff\\x9ab\\'\\xbedC]\\xa3\\x97\\x99:\\x82\\xe8\\xb0\\xaaB\\x96\\x1d\\x843o#\\x8dg\\x968\\\\\\n\\x0e\\xd9\\x0e\\x93r\\xf0\\x86,\\xdf\\x02\\x8a\\xa03\\x96!\\xf7\\xae\\x80r\\xb5\\xacyV\\x11h\\xde\\x03\\x7f\\xa3c\\x99\\xd5\\xbd\\x9f\\xa3\\x92s\\xf4l\\xf0\\xee\\t\\xd3'"
      ]
     },
     "execution_count": 22,
     "metadata": {},
     "output_type": "execute_result"
    }
   ],
   "source": [
    "r"
   ]
  },
  {
   "cell_type": "code",
   "execution_count": 24,
   "metadata": {},
   "outputs": [
    {
     "data": {
      "text/plain": [
       "b'C\\x8c\\x81\\x0b}\\x80\\xff\\x83\\xfc\\x11\\xfe\\tv\\x92\\xf6\\xa3\\t[\\xfc\\xbc\\xac|\\xc0\\xbdp\\xb2\\xdd\\xff\\xb6\\x1a@?\\\\\\xa2|\\x07\\xf7\\xd3\\xac3\\x9b\\xa0\\xc8\\xf2\\xaft\\xfb\\x1d\\xa7gS&\\xa3}\\xde8<\\xee\\x91;\\x94\\xedv\\x93kv\\x9b\"\\xa1\\x14\\xc0\\r\\xd0\\xd6\\x80\\xfe\\x0b\\xe3\\xd54\\n\\xc9\\tQ\\t=1\\x0c\\t\\xc8\\x8f\\x9d\\x80xu\\xad\\x8a\\xbc\\xe0,|\\x86\\x86X\\x91e\\x1fwW\\x13\\xc5\\xaf,\\xcdN\\x8e\\x91\\xcc\\x7f\\r7!\\xbdR\\x1f\\xaab)q\\x04\\xc8\\xd5.\\xac\\xb5\\x176AF]\\xaa\\x9f9\\xaaR\\xa4\\xe0\\x08\\x13|\\xc6l\\x81\\xc0&\\xd6\\x96\\xc6\\xc6*2\\xb77\\x07R\\xddJ\\xa7\\x05\\n\\x88\\x80}\\xe3%\\xb6f&\\x10\\x1c\\x1cA\\x0c\\x97\\xf1\\xac\\x01\\x9d\\xcc\\x93\\xef\\xf0\\xad\\x9c\\xffdw\\xceL)ep\"\\xdb\\xd7i\\x83o\\x81\\xc9p\\x13NU3S\\x82\\x90\\xb5\\xe4%4\\xbf\\x1c\\xaf\\x1an2\\x83\\x1a\\x07K\\xf9\\xaa\\x02\\x97\\x1cA\\xe5\\x99\\x81\\xd8\\x81\\x93W\\x07\\xf6\\x1e\\xea\\x87$\\x1c\\xf3\\x10\\xab5\\x86}\\x90\\xbb\\x95\\xfe\\xc5\\xe7K3\\xce\\xe8\\xd7\\xf3y\\x98\\xb1\\xb3\\xbe\\xa8\\x19\\x00\\xb6\\x00\\xe4\\x03\\x19_^\\x18\\xbdO\\x03\\x1eV$m\\xd2\\xdf-U\\x02Au+\\x00.\\x94Zk4\\xf6\\x85\\xc3q\\xe5x\\xf54\\x83t\\xcf\\xf6\\xe4nI\\x00\\x0f\\xff\\xbb{\\xea\\x81\\xb1\\x19\\x12\\x87\\x9c\\xd7LM\\xc3\\xbc.\\xec\\xb72\\xa7\\'i\\\\\\x88_Z/\\xfa\\x85W\\xb3\\x1d\\xec=\\x98\\x18\\x17\\n\\x18k\\x16\\x1b!\\xe7v\\x08\\x8f\\xde\\xc5p/~/\\xea\\xb9ki\\xe2QI\\x14{I \\xfd~H\\xc7`\\xd7W\\x7fz\\xd0\\'\\xe3Y|\\x08\\x97yE\\x1d\\x11.\\nM\\xda\\xc1s\\xd0\\xc2\\x8f\\xd5n\\x84\\x1d\\xbc\\x8b\\xed\\xb6\\x8bb\\x0cc\\xa8\\xd4\\xd3\\xea\\x0c\\xeb\\xcb\\x13\\xe5\\\\\\x9d\\x0f\\xc7=\\xd7\\x8cSz\\x9et{\\xb7\\xea\\xc8&\\xa0\\xd7\\xcd\\xe2\\xcd\\xba@\\x12\\x89\\xe7o\\x1a\\xe6\\x1d\\xcf\\x0e\\x8d\\xd2\\xa8&k\\xe1\\xc2m\\xa9\\xf0\\xd5i4.\\xdbm\\x16&\\x97\\xd9\\xb8\\x18a\\xacQ\\xbd\\x98\\xb2E\\x08'"
      ]
     },
     "execution_count": 24,
     "metadata": {},
     "output_type": "execute_result"
    }
   ],
   "source": [
    "r"
   ]
  },
  {
   "cell_type": "markdown",
   "metadata": {},
   "source": []
  },
  {
   "cell_type": "code",
   "execution_count": 13,
   "metadata": {},
   "outputs": [],
   "source": [
    "seek = (meeting.diarizer_seek_timestamp - connection.start_timestamp).total_seconds()"
   ]
  },
  {
   "cell_type": "code",
   "execution_count": 14,
   "metadata": {},
   "outputs": [
    {
     "data": {
      "text/plain": [
       "0.0"
      ]
     },
     "execution_count": 14,
     "metadata": {},
     "output_type": "execute_result"
    }
   ],
   "source": [
    "seek"
   ]
  },
  {
   "cell_type": "code",
   "execution_count": 16,
   "metadata": {},
   "outputs": [
    {
     "data": {
      "text/plain": [
       "datetime.datetime(2024, 5, 28, 15, 11, 31, 469086, tzinfo=tzutc())"
      ]
     },
     "execution_count": 16,
     "metadata": {},
     "output_type": "execute_result"
    }
   ],
   "source": [
    "connection.start_timestamp"
   ]
  },
  {
   "cell_type": "code",
   "execution_count": 17,
   "metadata": {},
   "outputs": [
    {
     "data": {
      "text/plain": [
       "datetime.datetime(2024, 5, 28, 15, 11, 31, 469086, tzinfo=tzutc())"
      ]
     },
     "execution_count": 17,
     "metadata": {},
     "output_type": "execute_result"
    }
   ],
   "source": [
    "meeting.start_timestamp"
   ]
  },
  {
   "cell_type": "code",
   "execution_count": null,
   "metadata": {},
   "outputs": [],
   "source": []
  },
  {
   "cell_type": "code",
   "execution_count": null,
   "metadata": {},
   "outputs": [],
   "source": []
  }
 ],
 "metadata": {
  "kernelspec": {
   "display_name": "Python 3 (ipykernel)",
   "language": "python",
   "name": "python3"
  },
  "language_info": {
   "codemirror_mode": {
    "name": "ipython",
    "version": 3
   },
   "file_extension": ".py",
   "mimetype": "text/x-python",
   "name": "python",
   "nbconvert_exporter": "python",
   "pygments_lexer": "ipython3",
   "version": "3.9.18"
  }
 },
 "nbformat": 4,
 "nbformat_minor": 2
}
