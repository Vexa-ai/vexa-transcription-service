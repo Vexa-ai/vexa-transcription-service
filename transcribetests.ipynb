{
 "cells": [
  {
   "cell_type": "code",
   "execution_count": 1,
   "metadata": {},
   "outputs": [],
   "source": [
    "\n",
    "%load_ext autoreload\n",
    "%autoreload 2"
   ]
  },
  {
   "cell_type": "code",
   "execution_count": 2,
   "metadata": {},
   "outputs": [
    {
     "name": "stderr",
     "output_type": "stream",
     "text": [
      "/usr/local/lib/python3.10/dist-packages/tqdm/auto.py:21: TqdmWarning: IProgress not found. Please update jupyter and ipywidgets. See https://ipywidgets.readthedocs.io/en/stable/user_install.html\n",
      "  from .autonotebook import tqdm as notebook_tqdm\n"
     ]
    },
    {
     "name": "stdout",
     "output_type": "stream",
     "text": [
      "check_and_process_connections_interval_sec: 1.0\n"
     ]
    }
   ],
   "source": [
    "import asyncio\n",
    "import io\n",
    "import logging\n",
    "from datetime import timedelta,datetime,timezone\n",
    "\n",
    "from faster_whisper import WhisperModel\n",
    "from app.services.audio.redis import Transcript\n",
    "\n",
    "from app.database_redis.connection import get_redis_client\n",
    "from app.services.audio.audio import AudioSlicer\n",
    "from app.services.audio.redis import Meeting, Transcriber, best_covering_connection\n",
    "from app.settings import settings\n"
   ]
  },
  {
   "cell_type": "code",
   "execution_count": 3,
   "metadata": {},
   "outputs": [],
   "source": [
    "overlap = 2"
   ]
  },
  {
   "cell_type": "code",
   "execution_count": 4,
   "metadata": {},
   "outputs": [],
   "source": [
    "logger = logging.getLogger(__name__)"
   ]
  },
  {
   "cell_type": "code",
   "execution_count": 5,
   "metadata": {},
   "outputs": [],
   "source": [
    "redis_client = await get_redis_client(settings.redis_host, settings.redis_port, settings.redis_password)"
   ]
  },
  {
   "cell_type": "code",
   "execution_count": 6,
   "metadata": {},
   "outputs": [],
   "source": [
    "transcriber = Transcriber(redis_client)\n",
    "meeting_id = await transcriber.pop_inprogress()"
   ]
  },
  {
   "cell_type": "code",
   "execution_count": 7,
   "metadata": {},
   "outputs": [],
   "source": [
    "meeting_id = 'jrw-mdph-usx'"
   ]
  },
  {
   "cell_type": "code",
   "execution_count": 8,
   "metadata": {},
   "outputs": [],
   "source": [
    "meeting = Meeting(redis_client, meeting_id)\n",
    "await meeting.load_from_redis()"
   ]
  },
  {
   "cell_type": "code",
   "execution_count": 9,
   "metadata": {},
   "outputs": [
    {
     "data": {
      "text/plain": [
       "datetime.datetime(2024, 5, 24, 13, 57, 21, 431494, tzinfo=tzutc())"
      ]
     },
     "execution_count": 9,
     "metadata": {},
     "output_type": "execute_result"
    }
   ],
   "source": [
    "meeting.start_timestamp"
   ]
  },
  {
   "cell_type": "code",
   "execution_count": 10,
   "metadata": {},
   "outputs": [
    {
     "data": {
      "text/plain": [
       "datetime.datetime(2024, 5, 24, 13, 57, 21, 431494, tzinfo=tzutc())"
      ]
     },
     "execution_count": 10,
     "metadata": {},
     "output_type": "execute_result"
    }
   ],
   "source": [
    "meeting.transcriber_seek_timestamp"
   ]
  },
  {
   "cell_type": "code",
   "execution_count": 11,
   "metadata": {},
   "outputs": [],
   "source": [
    "seek = meeting.transcriber_seek_timestamp - meeting.start_timestamp"
   ]
  },
  {
   "cell_type": "code",
   "execution_count": 12,
   "metadata": {},
   "outputs": [
    {
     "data": {
      "text/plain": [
       "datetime.timedelta(0)"
      ]
     },
     "execution_count": 12,
     "metadata": {},
     "output_type": "execute_result"
    }
   ],
   "source": [
    "seek"
   ]
  },
  {
   "cell_type": "code",
   "execution_count": 13,
   "metadata": {},
   "outputs": [],
   "source": [
    "current_time = datetime.now(timezone.utc)"
   ]
  },
  {
   "cell_type": "code",
   "execution_count": 14,
   "metadata": {},
   "outputs": [],
   "source": [
    "connections = await meeting.get_connections()"
   ]
  },
  {
   "cell_type": "code",
   "execution_count": 15,
   "metadata": {},
   "outputs": [],
   "source": [
    "connection = best_covering_connection(meeting.diarizer_seek_timestamp, current_time, connections)"
   ]
  },
  {
   "cell_type": "code",
   "execution_count": 16,
   "metadata": {},
   "outputs": [],
   "source": [
    "max_length = 240"
   ]
  },
  {
   "cell_type": "code",
   "execution_count": 17,
   "metadata": {},
   "outputs": [
    {
     "name": "stdout",
     "output_type": "stream",
     "text": [
      "2024-05-24 14:19:41,207 - INFO - app.services.audio.audio - None\n"
     ]
    }
   ],
   "source": [
    "connection = best_covering_connection(meeting.diarizer_seek_timestamp, current_time, connections)\n",
    "audio_slicer = await AudioSlicer.from_ffmpeg_slice(f\"/audio/{connection.id}.webm\", seek, max_length)\n",
    "slice_duration = audio_slicer.audio.duration_seconds\n",
    "audio_data = await audio_slicer.export_data()"
   ]
  },
  {
   "cell_type": "code",
   "execution_count": 18,
   "metadata": {},
   "outputs": [],
   "source": [
    "model_size = \"large-v3\"\n",
    "model = WhisperModel(model_size, device=\"cuda\", compute_type=\"float16\")"
   ]
  },
  {
   "cell_type": "code",
   "execution_count": 19,
   "metadata": {},
   "outputs": [],
   "source": [
    "segments, _ = model.transcribe(io.BytesIO(audio_data), beam_size=5, vad_filter=True, word_timestamps=True)"
   ]
  },
  {
   "cell_type": "code",
   "execution_count": 20,
   "metadata": {},
   "outputs": [],
   "source": [
    "segments = list(segments)"
   ]
  },
  {
   "cell_type": "code",
   "execution_count": 21,
   "metadata": {},
   "outputs": [
    {
     "name": "stderr",
     "output_type": "stream",
     "text": [
      "/tmp/ipykernel_3798/4080736814.py:1: DeprecationWarning: \n",
      "Pyarrow will become a required dependency of pandas in the next major release of pandas (pandas 3.0),\n",
      "(to allow more performant data types, such as the Arrow string type, and better interoperability with other libraries)\n",
      "but was not found to be installed on your system.\n",
      "If this would cause problems for you,\n",
      "please provide us feedback at https://github.com/pandas-dev/pandas/issues/54466\n",
      "        \n",
      "  import pandas as pd\n"
     ]
    }
   ],
   "source": [
    "import pandas as pd"
   ]
  },
  {
   "cell_type": "code",
   "execution_count": 23,
   "metadata": {},
   "outputs": [],
   "source": [
    "df = pd.DataFrame(segments)"
   ]
  },
  {
   "cell_type": "code",
   "execution_count": 24,
   "metadata": {},
   "outputs": [
    {
     "data": {
      "text/html": [
       "<div>\n",
       "<style scoped>\n",
       "    .dataframe tbody tr th:only-of-type {\n",
       "        vertical-align: middle;\n",
       "    }\n",
       "\n",
       "    .dataframe tbody tr th {\n",
       "        vertical-align: top;\n",
       "    }\n",
       "\n",
       "    .dataframe thead th {\n",
       "        text-align: right;\n",
       "    }\n",
       "</style>\n",
       "<table border=\"1\" class=\"dataframe\">\n",
       "  <thead>\n",
       "    <tr style=\"text-align: right;\">\n",
       "      <th></th>\n",
       "      <th>id</th>\n",
       "      <th>seek</th>\n",
       "      <th>start</th>\n",
       "      <th>end</th>\n",
       "      <th>text</th>\n",
       "      <th>tokens</th>\n",
       "      <th>temperature</th>\n",
       "      <th>avg_logprob</th>\n",
       "      <th>compression_ratio</th>\n",
       "      <th>no_speech_prob</th>\n",
       "      <th>words</th>\n",
       "    </tr>\n",
       "  </thead>\n",
       "  <tbody>\n",
       "    <tr>\n",
       "      <th>0</th>\n",
       "      <td>1</td>\n",
       "      <td>2718</td>\n",
       "      <td>2.29</td>\n",
       "      <td>7.47</td>\n",
       "      <td>мы сейчас быстренько проверим и вернёмся к этому</td>\n",
       "      <td>[50365, 4777, 10241, 37283, 3888, 3752, 30901,...</td>\n",
       "      <td>0.0</td>\n",
       "      <td>-0.424519</td>\n",
       "      <td>2.118056</td>\n",
       "      <td>0.264893</td>\n",
       "      <td>[(2.29, 3.13,  мы, 0.06396484375), (3.13, 4.79...</td>\n",
       "    </tr>\n",
       "    <tr>\n",
       "      <th>1</th>\n",
       "      <td>2</td>\n",
       "      <td>2718</td>\n",
       "      <td>7.47</td>\n",
       "      <td>13.96</td>\n",
       "      <td>и вернёмся к этому, быстренько проверим и вер...</td>\n",
       "      <td>[50615, 1006, 10544, 489, 12868, 1679, 981, 31...</td>\n",
       "      <td>0.0</td>\n",
       "      <td>-0.424519</td>\n",
       "      <td>2.118056</td>\n",
       "      <td>0.264893</td>\n",
       "      <td>[(7.47, 8.67,  и, 0.11700439453125), (9.98, 11...</td>\n",
       "    </tr>\n",
       "    <tr>\n",
       "      <th>2</th>\n",
       "      <td>3</td>\n",
       "      <td>2718</td>\n",
       "      <td>17.19</td>\n",
       "      <td>18.45</td>\n",
       "      <td>так, и чего?</td>\n",
       "      <td>[50865, 2936, 11, 1006, 19275, 30, 51115]</td>\n",
       "      <td>0.0</td>\n",
       "      <td>-0.424519</td>\n",
       "      <td>2.118056</td>\n",
       "      <td>0.264893</td>\n",
       "      <td>[(17.19, 18.07,  так,, 0.62353515625), (18.07,...</td>\n",
       "    </tr>\n",
       "    <tr>\n",
       "      <th>3</th>\n",
       "      <td>4</td>\n",
       "      <td>2718</td>\n",
       "      <td>21.63</td>\n",
       "      <td>22.51</td>\n",
       "      <td>ну?</td>\n",
       "      <td>[51115, 13087, 30, 51365]</td>\n",
       "      <td>0.0</td>\n",
       "      <td>-0.424519</td>\n",
       "      <td>2.118056</td>\n",
       "      <td>0.264893</td>\n",
       "      <td>[(21.63, 22.51,  ну?, 0.31201171875)]</td>\n",
       "    </tr>\n",
       "    <tr>\n",
       "      <th>4</th>\n",
       "      <td>5</td>\n",
       "      <td>2718</td>\n",
       "      <td>30.11</td>\n",
       "      <td>47.13</td>\n",
       "      <td>вот такое происходит, почему мы его не ловим?</td>\n",
       "      <td>[51365, 5505, 18292, 28548, 11, 21513, 4777, 6...</td>\n",
       "      <td>0.0</td>\n",
       "      <td>-0.424519</td>\n",
       "      <td>2.118056</td>\n",
       "      <td>0.264893</td>\n",
       "      <td>[(30.11, 30.99,  вот, 0.3994140625), (36.02, 3...</td>\n",
       "    </tr>\n",
       "    <tr>\n",
       "      <th>5</th>\n",
       "      <td>6</td>\n",
       "      <td>5718</td>\n",
       "      <td>59.24</td>\n",
       "      <td>65.87</td>\n",
       "      <td>странно, почему мы его не ловим?</td>\n",
       "      <td>[50365, 18057, 1234, 11, 21513, 4777, 6448, 17...</td>\n",
       "      <td>0.0</td>\n",
       "      <td>-0.399493</td>\n",
       "      <td>1.854015</td>\n",
       "      <td>0.005058</td>\n",
       "      <td>[(59.24, 59.96,  странно,, 0.173858642578125),...</td>\n",
       "    </tr>\n",
       "    <tr>\n",
       "      <th>6</th>\n",
       "      <td>7</td>\n",
       "      <td>5718</td>\n",
       "      <td>66.05</td>\n",
       "      <td>66.81</td>\n",
       "      <td>это странно</td>\n",
       "      <td>[50565, 2691, 18057, 1234, 50665]</td>\n",
       "      <td>0.0</td>\n",
       "      <td>-0.399493</td>\n",
       "      <td>1.854015</td>\n",
       "      <td>0.005058</td>\n",
       "      <td>[(66.05, 66.11,  это, 0.360595703125), (66.11,...</td>\n",
       "    </tr>\n",
       "    <tr>\n",
       "      <th>7</th>\n",
       "      <td>8</td>\n",
       "      <td>5718</td>\n",
       "      <td>72.92</td>\n",
       "      <td>75.70</td>\n",
       "      <td>так, модель у нас всё равно уже здесь, да?</td>\n",
       "      <td>[50665, 2936, 11, 24104, 3908, 1595, 6519, 964...</td>\n",
       "      <td>0.0</td>\n",
       "      <td>-0.399493</td>\n",
       "      <td>1.854015</td>\n",
       "      <td>0.005058</td>\n",
       "      <td>[(72.92, 73.28,  так,, 0.2705078125), (73.4, 7...</td>\n",
       "    </tr>\n",
       "    <tr>\n",
       "      <th>8</th>\n",
       "      <td>9</td>\n",
       "      <td>5718</td>\n",
       "      <td>86.05</td>\n",
       "      <td>87.49</td>\n",
       "      <td>это нормальный</td>\n",
       "      <td>[50815, 2691, 24068, 23393, 50965]</td>\n",
       "      <td>0.0</td>\n",
       "      <td>-0.399493</td>\n",
       "      <td>1.854015</td>\n",
       "      <td>0.005058</td>\n",
       "      <td>[(86.05, 86.77,  это, 0.347900390625), (86.77,...</td>\n",
       "    </tr>\n",
       "    <tr>\n",
       "      <th>9</th>\n",
       "      <td>10</td>\n",
       "      <td>5718</td>\n",
       "      <td>87.49</td>\n",
       "      <td>96.47</td>\n",
       "      <td>я стану собакой</td>\n",
       "      <td>[50965, 2552, 27214, 585, 10450, 1272, 1700, 5...</td>\n",
       "      <td>0.0</td>\n",
       "      <td>-0.399493</td>\n",
       "      <td>1.854015</td>\n",
       "      <td>0.005058</td>\n",
       "      <td>[(87.49, 88.39,  я, 0.045654296875), (94.95, 9...</td>\n",
       "    </tr>\n",
       "    <tr>\n",
       "      <th>10</th>\n",
       "      <td>11</td>\n",
       "      <td>5718</td>\n",
       "      <td>103.73</td>\n",
       "      <td>105.67</td>\n",
       "      <td>разглядываю все сегменты какие</td>\n",
       "      <td>[51065, 4203, 22232, 4655, 3776, 4640, 776, 49...</td>\n",
       "      <td>0.0</td>\n",
       "      <td>-0.399493</td>\n",
       "      <td>1.854015</td>\n",
       "      <td>0.005058</td>\n",
       "      <td>[(103.73, 104.55,  разглядываю, 0.467895507812...</td>\n",
       "    </tr>\n",
       "    <tr>\n",
       "      <th>11</th>\n",
       "      <td>12</td>\n",
       "      <td>5718</td>\n",
       "      <td>108.90</td>\n",
       "      <td>120.19</td>\n",
       "      <td>вот, а теперь мне интересно, как из этого сде...</td>\n",
       "      <td>[51165, 5505, 11, 2559, 16983, 8531, 33333, 11...</td>\n",
       "      <td>0.0</td>\n",
       "      <td>-0.399493</td>\n",
       "      <td>1.854015</td>\n",
       "      <td>0.005058</td>\n",
       "      <td>[(108.9, 109.56,  вот,, 0.59375), (109.88, 110...</td>\n",
       "    </tr>\n",
       "    <tr>\n",
       "      <th>12</th>\n",
       "      <td>13</td>\n",
       "      <td>5718</td>\n",
       "      <td>120.19</td>\n",
       "      <td>128.84</td>\n",
       "      <td>я там посадила, масло нанесла</td>\n",
       "      <td>[51515, 2552, 8223, 5810, 2601, 10578, 11, 214...</td>\n",
       "      <td>0.0</td>\n",
       "      <td>-0.399493</td>\n",
       "      <td>1.854015</td>\n",
       "      <td>0.005058</td>\n",
       "      <td>[(120.19, 120.79,  я, 0.4228515625), (126.96, ...</td>\n",
       "    </tr>\n",
       "    <tr>\n",
       "      <th>13</th>\n",
       "      <td>14</td>\n",
       "      <td>5718</td>\n",
       "      <td>128.84</td>\n",
       "      <td>130.58</td>\n",
       "      <td>наш кушет готовит, но не выхаживает</td>\n",
       "      <td>[51665, 8253, 981, 8288, 1094, 17137, 1635, 11...</td>\n",
       "      <td>0.0</td>\n",
       "      <td>-0.399493</td>\n",
       "      <td>1.854015</td>\n",
       "      <td>0.005058</td>\n",
       "      <td>[(128.84, 129.2,  наш, 0.024017333984375), (12...</td>\n",
       "    </tr>\n",
       "    <tr>\n",
       "      <th>14</th>\n",
       "      <td>15</td>\n",
       "      <td>5718</td>\n",
       "      <td>131.38</td>\n",
       "      <td>132.10</td>\n",
       "      <td>запрет</td>\n",
       "      <td>[51765, 10333, 31242, 51865]</td>\n",
       "      <td>0.0</td>\n",
       "      <td>-0.399493</td>\n",
       "      <td>1.854015</td>\n",
       "      <td>0.005058</td>\n",
       "      <td>[(131.38, 132.1,  запрет, 0.2362651824951172)]</td>\n",
       "    </tr>\n",
       "    <tr>\n",
       "      <th>15</th>\n",
       "      <td>16</td>\n",
       "      <td>8718</td>\n",
       "      <td>133.00</td>\n",
       "      <td>220.71</td>\n",
       "      <td>ну-у-у-у</td>\n",
       "      <td>[50365, 13087, 12, 585, 12, 585, 12, 585, 50515]</td>\n",
       "      <td>0.0</td>\n",
       "      <td>-0.875000</td>\n",
       "      <td>0.866667</td>\n",
       "      <td>0.119995</td>\n",
       "      <td>[(133.0, 133.88,  ну, 0.0048828125), (191.61, ...</td>\n",
       "    </tr>\n",
       "    <tr>\n",
       "      <th>16</th>\n",
       "      <td>17</td>\n",
       "      <td>8790</td>\n",
       "      <td>220.73</td>\n",
       "      <td>221.21</td>\n",
       "      <td>ну-у-у</td>\n",
       "      <td>[50365, 13087, 12, 585, 12, 585, 50415]</td>\n",
       "      <td>0.0</td>\n",
       "      <td>-0.638672</td>\n",
       "      <td>0.666667</td>\n",
       "      <td>0.184326</td>\n",
       "      <td>[(220.73, 220.79,  ну, 0.00018835067749023438)...</td>\n",
       "    </tr>\n",
       "  </tbody>\n",
       "</table>\n",
       "</div>"
      ],
      "text/plain": [
       "    id  seek   start     end  \\\n",
       "0    1  2718    2.29    7.47   \n",
       "1    2  2718    7.47   13.96   \n",
       "2    3  2718   17.19   18.45   \n",
       "3    4  2718   21.63   22.51   \n",
       "4    5  2718   30.11   47.13   \n",
       "5    6  5718   59.24   65.87   \n",
       "6    7  5718   66.05   66.81   \n",
       "7    8  5718   72.92   75.70   \n",
       "8    9  5718   86.05   87.49   \n",
       "9   10  5718   87.49   96.47   \n",
       "10  11  5718  103.73  105.67   \n",
       "11  12  5718  108.90  120.19   \n",
       "12  13  5718  120.19  128.84   \n",
       "13  14  5718  128.84  130.58   \n",
       "14  15  5718  131.38  132.10   \n",
       "15  16  8718  133.00  220.71   \n",
       "16  17  8790  220.73  221.21   \n",
       "\n",
       "                                                 text  \\\n",
       "0    мы сейчас быстренько проверим и вернёмся к этому   \n",
       "1    и вернёмся к этому, быстренько проверим и вер...   \n",
       "2                                        так, и чего?   \n",
       "3                                                 ну?   \n",
       "4       вот такое происходит, почему мы его не ловим?   \n",
       "5                    странно, почему мы его не ловим?   \n",
       "6                                         это странно   \n",
       "7          так, модель у нас всё равно уже здесь, да?   \n",
       "8                                      это нормальный   \n",
       "9                                     я стану собакой   \n",
       "10                     разглядываю все сегменты какие   \n",
       "11   вот, а теперь мне интересно, как из этого сде...   \n",
       "12                      я там посадила, масло нанесла   \n",
       "13                наш кушет готовит, но не выхаживает   \n",
       "14                                             запрет   \n",
       "15                                           ну-у-у-у   \n",
       "16                                             ну-у-у   \n",
       "\n",
       "                                               tokens  temperature  \\\n",
       "0   [50365, 4777, 10241, 37283, 3888, 3752, 30901,...          0.0   \n",
       "1   [50615, 1006, 10544, 489, 12868, 1679, 981, 31...          0.0   \n",
       "2           [50865, 2936, 11, 1006, 19275, 30, 51115]          0.0   \n",
       "3                           [51115, 13087, 30, 51365]          0.0   \n",
       "4   [51365, 5505, 18292, 28548, 11, 21513, 4777, 6...          0.0   \n",
       "5   [50365, 18057, 1234, 11, 21513, 4777, 6448, 17...          0.0   \n",
       "6                   [50565, 2691, 18057, 1234, 50665]          0.0   \n",
       "7   [50665, 2936, 11, 24104, 3908, 1595, 6519, 964...          0.0   \n",
       "8                  [50815, 2691, 24068, 23393, 50965]          0.0   \n",
       "9   [50965, 2552, 27214, 585, 10450, 1272, 1700, 5...          0.0   \n",
       "10  [51065, 4203, 22232, 4655, 3776, 4640, 776, 49...          0.0   \n",
       "11  [51165, 5505, 11, 2559, 16983, 8531, 33333, 11...          0.0   \n",
       "12  [51515, 2552, 8223, 5810, 2601, 10578, 11, 214...          0.0   \n",
       "13  [51665, 8253, 981, 8288, 1094, 17137, 1635, 11...          0.0   \n",
       "14                       [51765, 10333, 31242, 51865]          0.0   \n",
       "15   [50365, 13087, 12, 585, 12, 585, 12, 585, 50515]          0.0   \n",
       "16            [50365, 13087, 12, 585, 12, 585, 50415]          0.0   \n",
       "\n",
       "    avg_logprob  compression_ratio  no_speech_prob  \\\n",
       "0     -0.424519           2.118056        0.264893   \n",
       "1     -0.424519           2.118056        0.264893   \n",
       "2     -0.424519           2.118056        0.264893   \n",
       "3     -0.424519           2.118056        0.264893   \n",
       "4     -0.424519           2.118056        0.264893   \n",
       "5     -0.399493           1.854015        0.005058   \n",
       "6     -0.399493           1.854015        0.005058   \n",
       "7     -0.399493           1.854015        0.005058   \n",
       "8     -0.399493           1.854015        0.005058   \n",
       "9     -0.399493           1.854015        0.005058   \n",
       "10    -0.399493           1.854015        0.005058   \n",
       "11    -0.399493           1.854015        0.005058   \n",
       "12    -0.399493           1.854015        0.005058   \n",
       "13    -0.399493           1.854015        0.005058   \n",
       "14    -0.399493           1.854015        0.005058   \n",
       "15    -0.875000           0.866667        0.119995   \n",
       "16    -0.638672           0.666667        0.184326   \n",
       "\n",
       "                                                words  \n",
       "0   [(2.29, 3.13,  мы, 0.06396484375), (3.13, 4.79...  \n",
       "1   [(7.47, 8.67,  и, 0.11700439453125), (9.98, 11...  \n",
       "2   [(17.19, 18.07,  так,, 0.62353515625), (18.07,...  \n",
       "3               [(21.63, 22.51,  ну?, 0.31201171875)]  \n",
       "4   [(30.11, 30.99,  вот, 0.3994140625), (36.02, 3...  \n",
       "5   [(59.24, 59.96,  странно,, 0.173858642578125),...  \n",
       "6   [(66.05, 66.11,  это, 0.360595703125), (66.11,...  \n",
       "7   [(72.92, 73.28,  так,, 0.2705078125), (73.4, 7...  \n",
       "8   [(86.05, 86.77,  это, 0.347900390625), (86.77,...  \n",
       "9   [(87.49, 88.39,  я, 0.045654296875), (94.95, 9...  \n",
       "10  [(103.73, 104.55,  разглядываю, 0.467895507812...  \n",
       "11  [(108.9, 109.56,  вот,, 0.59375), (109.88, 110...  \n",
       "12  [(120.19, 120.79,  я, 0.4228515625), (126.96, ...  \n",
       "13  [(128.84, 129.2,  наш, 0.024017333984375), (12...  \n",
       "14     [(131.38, 132.1,  запрет, 0.2362651824951172)]  \n",
       "15  [(133.0, 133.88,  ну, 0.0048828125), (191.61, ...  \n",
       "16  [(220.73, 220.79,  ну, 0.00018835067749023438)...  "
      ]
     },
     "execution_count": 24,
     "metadata": {},
     "output_type": "execute_result"
    }
   ],
   "source": [
    "df"
   ]
  },
  {
   "cell_type": "code",
   "execution_count": null,
   "metadata": {},
   "outputs": [],
   "source": [
    "\n",
    "segments = [s for s in list(segments)]\n",
    "logger.info(\"done\")\n",
    "result = [[w._asdict() for w in s.words] for s in segments]\n",
    "transcription = Transcript(meeting_id, redis_client, result)\n",
    "await transcription.lpush()"
   ]
  },
  {
   "cell_type": "code",
   "execution_count": 57,
   "metadata": {},
   "outputs": [
    {
     "data": {
      "text/plain": [
       "' Не чеши батон, открошит он, и раскрошит он твой, чьи-то дон, дон, дон, дон, дон, дон, дон, дон, дон, дон, дон, дон, дон, потому что пчёл не он, гусь к нему чёрный.'"
      ]
     },
     "execution_count": 57,
     "metadata": {},
     "output_type": "execute_result"
    }
   ],
   "source": [
    "''.join([w['word'] for w in result[-1]])"
   ]
  },
  {
   "cell_type": "code",
   "execution_count": 45,
   "metadata": {},
   "outputs": [
    {
     "data": {
      "text/plain": [
       "[Segment(id=1, seek=2332, start=28.4, end=111.29, text=' Ну, теперь-то я вам что-нибудь скажу, вам что-нибудь скажу, вам, вот теперь-то я тоже вам что-нибудь скажу, а вот прямо сейчас я вам прямо что-нибудь скажу.', tokens=[50365, 7571, 11, 16983, 12, 860, 2552, 10448, 2143, 12, 23561, 21938, 585, 11, 10448, 2143, 12, 23561, 21938, 585, 11, 10448, 11, 5505, 16983, 12, 860, 2552, 12251, 10448, 2143, 12, 23561, 21938, 585, 11, 2559, 5505, 28547, 10241, 2552, 10448, 28547, 2143, 12, 23561, 21938, 585, 13, 50975], temperature=0.0, avg_logprob=-0.39853897032799657, compression_ratio=2.3035714285714284, no_speech_prob=0.11944580078125, words=[Word(start=28.4, end=28.86, word=' Ну,', probability=0.470947265625), Word(start=28.88, end=29.1, word=' теперь', probability=0.93310546875), Word(start=29.1, end=29.28, word='-то', probability=0.810791015625), Word(start=29.28, end=29.48, word=' я', probability=0.955078125), Word(start=29.48, end=29.68, word=' вам', probability=0.79931640625), Word(start=29.68, end=29.84, word=' что', probability=0.8828125), Word(start=29.84, end=30.04, word='-нибудь', probability=0.984130859375), Word(start=30.04, end=30.76, word=' скажу,', probability=0.9921875), Word(start=30.76, end=31.66, word=' вам', probability=0.57373046875), Word(start=31.66, end=31.92, word=' что', probability=0.9697265625), Word(start=31.92, end=32.08, word='-нибудь', probability=0.995361328125), Word(start=32.08, end=32.84, word=' скажу,', probability=0.996337890625), Word(start=32.84, end=33.24, word=' вам,', probability=0.5771484375), Word(start=33.26, end=33.8, word=' вот', probability=0.55419921875), Word(start=51.05, end=51.39, word=' теперь', probability=0.93212890625), Word(start=51.39, end=51.65, word='-то', probability=0.970947265625), Word(start=51.65, end=51.91, word=' я', probability=0.91748046875), Word(start=51.91, end=52.17, word=' тоже', probability=0.8173828125), Word(start=52.17, end=52.45, word=' вам', probability=0.9384765625), Word(start=52.45, end=52.65, word=' что', probability=0.94189453125), Word(start=52.65, end=52.77, word='-нибудь', probability=0.9970703125), Word(start=52.77, end=53.59, word=' скажу,', probability=0.997802734375), Word(start=53.59, end=54.59, word=' а', probability=0.6416015625), Word(start=108.25, end=108.49, word=' вот', probability=0.98291015625), Word(start=108.49, end=108.75, word=' прямо', probability=0.97705078125), Word(start=108.75, end=109.13, word=' сейчас', probability=0.919921875), Word(start=109.13, end=109.49, word=' я', probability=0.7802734375), Word(start=109.49, end=109.63, word=' вам', probability=0.71875), Word(start=109.63, end=109.99, word=' прямо', probability=0.71875), Word(start=109.99, end=110.33, word=' что', probability=0.955078125), Word(start=110.33, end=110.55, word='-нибудь', probability=0.998291015625), Word(start=110.55, end=111.29, word=' скажу.', probability=0.998779296875)]),\n",
       " Segment(id=2, seek=2332, start=147.63, end=161.32, text=' Не чеши батон, будет хорошо, будет скушен он из внешнего тёла.', tokens=[50975, 11512, 1358, 4433, 435, 47697, 1784, 11, 7306, 16977, 11, 7306, 776, 4401, 1198, 1008, 5345, 3943, 50025, 33727, 1069, 2882, 4989, 13, 51550], temperature=0.0, avg_logprob=-0.39853897032799657, compression_ratio=2.3035714285714284, no_speech_prob=0.11944580078125, words=[Word(start=147.63, end=148.35, word=' Не', probability=0.8818359375), Word(start=152.8, end=153.3, word=' чеши', probability=0.94921875), Word(start=153.3, end=154.0, word=' батон,', probability=0.84765625), Word(start=154.22, end=155.42, word=' будет', probability=0.9775390625), Word(start=155.42, end=156.08, word=' хорошо,', probability=0.990234375), Word(start=156.66, end=157.96, word=' будет', probability=0.6435546875), Word(start=157.96, end=158.62, word=' скушен', probability=0.85260009765625), Word(start=158.62, end=159.02, word=' он', probability=0.9931640625), Word(start=159.02, end=159.7, word=' из', probability=0.89404296875), Word(start=159.7, end=160.64, word=' внешнего', probability=0.868896484375), Word(start=160.64, end=161.32, word=' тёла.', probability=0.5364583333333334)]),\n",
       " Segment(id=3, seek=4633, start=161.32, end=190.64, text=' Не чеши батон, открошит он, и раскрошит он твой, чьи-то дон, дон, дон, дон, дон, дон, дон, дон, дон, дон, дон, дон, дон, потому что пчёл не он, гусь к нему чёрный.', tokens=[50365, 11512, 1358, 4433, 435, 47697, 1784, 11, 12799, 481, 6824, 1635, 5345, 11, 1006, 7459, 22274, 6824, 1635, 5345, 1069, 37325, 11, 1358, 678, 435, 12, 860, 1070, 1784, 11, 1070, 1784, 11, 1070, 1784, 11, 1070, 1784, 11, 1070, 1784, 11, 1070, 1784, 11, 1070, 1784, 11, 1070, 1784, 11, 1070, 1784, 11, 1070, 1784, 11, 1070, 1784, 11, 1070, 1784, 11, 1070, 1784, 11, 11919, 2143, 713, 753, 24180, 1725, 5345, 11, 2342, 585, 6131, 981, 757, 8339, 1358, 24134, 4441, 13, 51516], temperature=0.0, avg_logprob=-0.24964079843170342, compression_ratio=2.225806451612903, no_speech_prob=0.004364013671875, words=[Word(start=161.32, end=163.12, word=' Не', probability=0.022430419921875), Word(start=163.12, end=163.5, word=' чеши', probability=0.3553466796875), Word(start=163.5, end=164.44, word=' батон,', probability=0.4237060546875), Word(start=164.54, end=166.56, word=' открошит', probability=0.810302734375), Word(start=166.56, end=166.88, word=' он,', probability=0.99072265625), Word(start=167.02, end=168.12, word=' и', probability=0.259765625), Word(start=168.12, end=168.92, word=' раскрошит', probability=0.9830322265625), Word(start=168.92, end=169.14, word=' он', probability=0.98828125), Word(start=169.14, end=169.86, word=' твой,', probability=0.947998046875), Word(start=169.86, end=170.92, word=' чьи', probability=0.6778157552083334), Word(start=170.92, end=171.12, word='-то', probability=0.92919921875), Word(start=171.12, end=171.96, word=' дон,', probability=0.5364990234375), Word(start=171.96, end=172.82, word=' дон,', probability=0.772705078125), Word(start=172.82, end=173.26, word=' дон,', probability=0.987548828125), Word(start=176.81, end=177.49, word=' дон,', probability=0.98388671875), Word(start=177.49, end=178.05, word=' дон,', probability=0.983642578125), Word(start=178.05, end=178.49, word=' дон,', probability=0.978271484375), Word(start=178.49, end=178.99, word=' дон,', probability=0.96728515625), Word(start=178.99, end=179.41, word=' дон,', probability=0.946533203125), Word(start=179.41, end=179.67, word=' дон,', probability=0.885986328125), Word(start=179.67, end=179.71, word=' дон,', probability=0.7105712890625), Word(start=179.71, end=179.79, word=' дон,', probability=0.6123046875), Word(start=179.79, end=179.83, word=' дон,', probability=0.61053466796875), Word(start=179.83, end=180.13, word=' дон,', probability=0.6507568359375), Word(start=183.36, end=183.9, word=' потому', probability=0.474365234375), Word(start=183.9, end=184.48, word=' что', probability=0.96240234375), Word(start=184.48, end=185.18, word=' пчёл', probability=0.7003173828125), Word(start=185.18, end=185.92, word=' не', probability=0.1900634765625), Word(start=185.92, end=186.8, word=' он,', probability=0.8759765625), Word(start=186.94, end=189.04, word=' гусь', probability=0.7830403645833334), Word(start=189.04, end=189.2, word=' к', probability=0.953125), Word(start=189.2, end=189.6, word=' нему', probability=0.67236328125), Word(start=189.6, end=190.64, word=' чёрный.', probability=0.6738077799479166)])]"
      ]
     },
     "execution_count": 45,
     "metadata": {},
     "output_type": "execute_result"
    }
   ],
   "source": [
    "segments"
   ]
  },
  {
   "cell_type": "code",
   "execution_count": 46,
   "metadata": {},
   "outputs": [
    {
     "data": {
      "text/plain": [
       "datetime.timedelta(seconds=238, microseconds=48000)"
      ]
     },
     "execution_count": 46,
     "metadata": {},
     "output_type": "execute_result"
    }
   ],
   "source": [
    "seek"
   ]
  },
  {
   "cell_type": "code",
   "execution_count": 47,
   "metadata": {},
   "outputs": [],
   "source": [
    "meeting.transcriber_seek_timestamp = meeting.start_timestamp+seek +timedelta(seconds = slice_duration-overlap)\n",
    "await transcriber.remove(meeting.meeting_id)\n",
    "await meeting.update_redis()"
   ]
  },
  {
   "cell_type": "code",
   "execution_count": 48,
   "metadata": {},
   "outputs": [
    {
     "data": {
      "text/plain": [
       "datetime.datetime(2024, 5, 22, 16, 2, 7, 966038, tzinfo=tzutc())"
      ]
     },
     "execution_count": 48,
     "metadata": {},
     "output_type": "execute_result"
    }
   ],
   "source": [
    "meeting.transcriber_seek_timestamp"
   ]
  },
  {
   "cell_type": "code",
   "execution_count": 49,
   "metadata": {},
   "outputs": [],
   "source": [
    "await transcriber.remove(meeting.meeting_id)"
   ]
  },
  {
   "cell_type": "code",
   "execution_count": 50,
   "metadata": {},
   "outputs": [],
   "source": [
    "await meeting.update_redis()"
   ]
  },
  {
   "cell_type": "code",
   "execution_count": 51,
   "metadata": {},
   "outputs": [
    {
     "data": {
      "text/plain": [
       "240.048"
      ]
     },
     "execution_count": 51,
     "metadata": {},
     "output_type": "execute_result"
    }
   ],
   "source": [
    "slice_duration"
   ]
  },
  {
   "cell_type": "code",
   "execution_count": 52,
   "metadata": {},
   "outputs": [
    {
     "data": {
      "text/plain": [
       "[Segment(id=1, seek=2332, start=28.4, end=111.29, text=' Ну, теперь-то я вам что-нибудь скажу, вам что-нибудь скажу, вам, вот теперь-то я тоже вам что-нибудь скажу, а вот прямо сейчас я вам прямо что-нибудь скажу.', tokens=[50365, 7571, 11, 16983, 12, 860, 2552, 10448, 2143, 12, 23561, 21938, 585, 11, 10448, 2143, 12, 23561, 21938, 585, 11, 10448, 11, 5505, 16983, 12, 860, 2552, 12251, 10448, 2143, 12, 23561, 21938, 585, 11, 2559, 5505, 28547, 10241, 2552, 10448, 28547, 2143, 12, 23561, 21938, 585, 13, 50975], temperature=0.0, avg_logprob=-0.39853897032799657, compression_ratio=2.3035714285714284, no_speech_prob=0.11944580078125, words=[Word(start=28.4, end=28.86, word=' Ну,', probability=0.470947265625), Word(start=28.88, end=29.1, word=' теперь', probability=0.93310546875), Word(start=29.1, end=29.28, word='-то', probability=0.810791015625), Word(start=29.28, end=29.48, word=' я', probability=0.955078125), Word(start=29.48, end=29.68, word=' вам', probability=0.79931640625), Word(start=29.68, end=29.84, word=' что', probability=0.8828125), Word(start=29.84, end=30.04, word='-нибудь', probability=0.984130859375), Word(start=30.04, end=30.76, word=' скажу,', probability=0.9921875), Word(start=30.76, end=31.66, word=' вам', probability=0.57373046875), Word(start=31.66, end=31.92, word=' что', probability=0.9697265625), Word(start=31.92, end=32.08, word='-нибудь', probability=0.995361328125), Word(start=32.08, end=32.84, word=' скажу,', probability=0.996337890625), Word(start=32.84, end=33.24, word=' вам,', probability=0.5771484375), Word(start=33.26, end=33.8, word=' вот', probability=0.55419921875), Word(start=51.05, end=51.39, word=' теперь', probability=0.93212890625), Word(start=51.39, end=51.65, word='-то', probability=0.970947265625), Word(start=51.65, end=51.91, word=' я', probability=0.91748046875), Word(start=51.91, end=52.17, word=' тоже', probability=0.8173828125), Word(start=52.17, end=52.45, word=' вам', probability=0.9384765625), Word(start=52.45, end=52.65, word=' что', probability=0.94189453125), Word(start=52.65, end=52.77, word='-нибудь', probability=0.9970703125), Word(start=52.77, end=53.59, word=' скажу,', probability=0.997802734375), Word(start=53.59, end=54.59, word=' а', probability=0.6416015625), Word(start=108.25, end=108.49, word=' вот', probability=0.98291015625), Word(start=108.49, end=108.75, word=' прямо', probability=0.97705078125), Word(start=108.75, end=109.13, word=' сейчас', probability=0.919921875), Word(start=109.13, end=109.49, word=' я', probability=0.7802734375), Word(start=109.49, end=109.63, word=' вам', probability=0.71875), Word(start=109.63, end=109.99, word=' прямо', probability=0.71875), Word(start=109.99, end=110.33, word=' что', probability=0.955078125), Word(start=110.33, end=110.55, word='-нибудь', probability=0.998291015625), Word(start=110.55, end=111.29, word=' скажу.', probability=0.998779296875)]),\n",
       " Segment(id=2, seek=2332, start=147.63, end=161.32, text=' Не чеши батон, будет хорошо, будет скушен он из внешнего тёла.', tokens=[50975, 11512, 1358, 4433, 435, 47697, 1784, 11, 7306, 16977, 11, 7306, 776, 4401, 1198, 1008, 5345, 3943, 50025, 33727, 1069, 2882, 4989, 13, 51550], temperature=0.0, avg_logprob=-0.39853897032799657, compression_ratio=2.3035714285714284, no_speech_prob=0.11944580078125, words=[Word(start=147.63, end=148.35, word=' Не', probability=0.8818359375), Word(start=152.8, end=153.3, word=' чеши', probability=0.94921875), Word(start=153.3, end=154.0, word=' батон,', probability=0.84765625), Word(start=154.22, end=155.42, word=' будет', probability=0.9775390625), Word(start=155.42, end=156.08, word=' хорошо,', probability=0.990234375), Word(start=156.66, end=157.96, word=' будет', probability=0.6435546875), Word(start=157.96, end=158.62, word=' скушен', probability=0.85260009765625), Word(start=158.62, end=159.02, word=' он', probability=0.9931640625), Word(start=159.02, end=159.7, word=' из', probability=0.89404296875), Word(start=159.7, end=160.64, word=' внешнего', probability=0.868896484375), Word(start=160.64, end=161.32, word=' тёла.', probability=0.5364583333333334)]),\n",
       " Segment(id=3, seek=4633, start=161.32, end=190.64, text=' Не чеши батон, открошит он, и раскрошит он твой, чьи-то дон, дон, дон, дон, дон, дон, дон, дон, дон, дон, дон, дон, дон, потому что пчёл не он, гусь к нему чёрный.', tokens=[50365, 11512, 1358, 4433, 435, 47697, 1784, 11, 12799, 481, 6824, 1635, 5345, 11, 1006, 7459, 22274, 6824, 1635, 5345, 1069, 37325, 11, 1358, 678, 435, 12, 860, 1070, 1784, 11, 1070, 1784, 11, 1070, 1784, 11, 1070, 1784, 11, 1070, 1784, 11, 1070, 1784, 11, 1070, 1784, 11, 1070, 1784, 11, 1070, 1784, 11, 1070, 1784, 11, 1070, 1784, 11, 1070, 1784, 11, 1070, 1784, 11, 11919, 2143, 713, 753, 24180, 1725, 5345, 11, 2342, 585, 6131, 981, 757, 8339, 1358, 24134, 4441, 13, 51516], temperature=0.0, avg_logprob=-0.24964079843170342, compression_ratio=2.225806451612903, no_speech_prob=0.004364013671875, words=[Word(start=161.32, end=163.12, word=' Не', probability=0.022430419921875), Word(start=163.12, end=163.5, word=' чеши', probability=0.3553466796875), Word(start=163.5, end=164.44, word=' батон,', probability=0.4237060546875), Word(start=164.54, end=166.56, word=' открошит', probability=0.810302734375), Word(start=166.56, end=166.88, word=' он,', probability=0.99072265625), Word(start=167.02, end=168.12, word=' и', probability=0.259765625), Word(start=168.12, end=168.92, word=' раскрошит', probability=0.9830322265625), Word(start=168.92, end=169.14, word=' он', probability=0.98828125), Word(start=169.14, end=169.86, word=' твой,', probability=0.947998046875), Word(start=169.86, end=170.92, word=' чьи', probability=0.6778157552083334), Word(start=170.92, end=171.12, word='-то', probability=0.92919921875), Word(start=171.12, end=171.96, word=' дон,', probability=0.5364990234375), Word(start=171.96, end=172.82, word=' дон,', probability=0.772705078125), Word(start=172.82, end=173.26, word=' дон,', probability=0.987548828125), Word(start=176.81, end=177.49, word=' дон,', probability=0.98388671875), Word(start=177.49, end=178.05, word=' дон,', probability=0.983642578125), Word(start=178.05, end=178.49, word=' дон,', probability=0.978271484375), Word(start=178.49, end=178.99, word=' дон,', probability=0.96728515625), Word(start=178.99, end=179.41, word=' дон,', probability=0.946533203125), Word(start=179.41, end=179.67, word=' дон,', probability=0.885986328125), Word(start=179.67, end=179.71, word=' дон,', probability=0.7105712890625), Word(start=179.71, end=179.79, word=' дон,', probability=0.6123046875), Word(start=179.79, end=179.83, word=' дон,', probability=0.61053466796875), Word(start=179.83, end=180.13, word=' дон,', probability=0.6507568359375), Word(start=183.36, end=183.9, word=' потому', probability=0.474365234375), Word(start=183.9, end=184.48, word=' что', probability=0.96240234375), Word(start=184.48, end=185.18, word=' пчёл', probability=0.7003173828125), Word(start=185.18, end=185.92, word=' не', probability=0.1900634765625), Word(start=185.92, end=186.8, word=' он,', probability=0.8759765625), Word(start=186.94, end=189.04, word=' гусь', probability=0.7830403645833334), Word(start=189.04, end=189.2, word=' к', probability=0.953125), Word(start=189.2, end=189.6, word=' нему', probability=0.67236328125), Word(start=189.6, end=190.64, word=' чёрный.', probability=0.6738077799479166)])]"
      ]
     },
     "execution_count": 52,
     "metadata": {},
     "output_type": "execute_result"
    }
   ],
   "source": [
    "segments"
   ]
  },
  {
   "cell_type": "code",
   "execution_count": 53,
   "metadata": {},
   "outputs": [
    {
     "ename": "NameError",
     "evalue": "name 'end_of_last_speech' is not defined",
     "output_type": "error",
     "traceback": [
      "\u001b[0;31m---------------------------------------------------------------------------\u001b[0m",
      "\u001b[0;31mNameError\u001b[0m                                 Traceback (most recent call last)",
      "Cell \u001b[0;32mIn[53], line 1\u001b[0m\n\u001b[0;32m----> 1\u001b[0m meeting\u001b[38;5;241m.\u001b[39mtranscribe_seek_timestamp \u001b[38;5;241m=\u001b[39m \u001b[43mend_of_last_speech\u001b[49m \u001b[38;5;241m+\u001b[39m meeting\u001b[38;5;241m.\u001b[39mtranscribe_seek_timestamp\n\u001b[1;32m      2\u001b[0m \u001b[38;5;28;01mawait\u001b[39;00m transcriber\u001b[38;5;241m.\u001b[39mremove(meeting\u001b[38;5;241m.\u001b[39mid)\n\u001b[1;32m      3\u001b[0m \u001b[38;5;28;01mawait\u001b[39;00m meeting\u001b[38;5;241m.\u001b[39mupdate_redis()\n",
      "\u001b[0;31mNameError\u001b[0m: name 'end_of_last_speech' is not defined"
     ]
    }
   ],
   "source": [
    "\n",
    "meeting.transcribe_seek_timestamp = end_of_last_speech + meeting.transcribe_seek_timestamp\n",
    "await transcriber.remove(meeting.id)\n",
    "await meeting.update_redis()"
   ]
  },
  {
   "cell_type": "code",
   "execution_count": 54,
   "metadata": {},
   "outputs": [],
   "source": [
    "logger = logging.getLogger(__name__)\n",
    "\n",
    "# TODO: implement recurrent prompt from last item\n",
    "\n",
    "\n",
    "async def process(redis_client, model, max_length=240) -> None:\n",
    "    transcriber = Transcriber(redis_client)\n",
    "    meeting_id = await transcriber.pop_inprogress()\n",
    "\n",
    "    if not meeting_id:\n",
    "        return\n",
    "\n",
    "    meeting = Meeting(redis_client, meeting_id)\n",
    "    await meeting.load_from_redis()\n",
    "    seek = meeting.transcribe_seek_timestamp - meeting.start_timestamp\n",
    "\n",
    "    connection = best_covering_connection(seek, meeting.start_timestamp, meeting.get_connections())\n",
    "    audio_slicer = await AudioSlicer.from_ffmpeg_slice(f\"/audio/{connection.id}.webm\", seek, seek + max_length)\n",
    "    audio_data = await audio_slicer.export_data()\n",
    "\n",
    "    segments, _ = model.transcribe(io.BytesIO(audio_data), beam_size=5, vad_filter=True, word_timestamps=True)\n",
    "    segments = [s for s in list(segments)]\n",
    "    logger.info(\"done\")\n",
    "    result = [[w._asdict() for w in s.words] for s in segments]\n",
    "    transcription = Transcript(meeting_id, redis_client, result)\n",
    "    await transcription.lpush()\n",
    "    end_of_last_speech = timedelta(seconds=result[-1][-1][\"end\"])\n",
    "\n",
    "    meeting.transcribe_seek_timestamp = end_of_last_speech + meeting.transcribe_seek_timestamp\n",
    "    await transcriber.remove(meeting.id)\n",
    "    await meeting.update_redis()"
   ]
  },
  {
   "cell_type": "code",
   "execution_count": null,
   "metadata": {},
   "outputs": [],
   "source": [
    "\n",
    "\n",
    "async def main():\n",
    "    redis_client = await get_redis_client(settings.redis_host, settings.redis_port, settings.redis_password)\n",
    "\n",
    "    while True:\n",
    "        await asyncio.sleep(0.1)\n",
    "        await process(redis_client, model)\n",
    "\n",
    "\n",
    "if __name__ == \"__main__\":\n",
    "    model_size = \"large-v3\"\n",
    "    model = WhisperModel(model_size, device=\"cuda\", compute_type=\"float16\")\n",
    "    logger.info(\"Model loaded\")\n",
    "    asyncio.run(main())\n"
   ]
  }
 ],
 "metadata": {
  "kernelspec": {
   "display_name": "Python 3",
   "language": "python",
   "name": "python3"
  },
  "language_info": {
   "codemirror_mode": {
    "name": "ipython",
    "version": 3
   },
   "file_extension": ".py",
   "mimetype": "text/x-python",
   "name": "python",
   "nbconvert_exporter": "python",
   "pygments_lexer": "ipython3",
   "version": "3.10.12"
  }
 },
 "nbformat": 4,
 "nbformat_minor": 2
}
