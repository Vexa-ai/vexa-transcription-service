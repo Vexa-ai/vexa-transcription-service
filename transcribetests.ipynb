{
 "cells": [
  {
   "cell_type": "code",
   "execution_count": 5,
   "metadata": {},
   "outputs": [],
   "source": [
    "\n",
    "%load_ext autoreload\n",
    "%autoreload 2"
   ]
  },
  {
   "cell_type": "code",
   "execution_count": 6,
   "metadata": {},
   "outputs": [
    {
     "name": "stderr",
     "output_type": "stream",
     "text": [
      "/usr/local/lib/python3.10/dist-packages/tqdm/auto.py:21: TqdmWarning: IProgress not found. Please update jupyter and ipywidgets. See https://ipywidgets.readthedocs.io/en/stable/user_install.html\n",
      "  from .autonotebook import tqdm as notebook_tqdm\n"
     ]
    },
    {
     "name": "stdout",
     "output_type": "stream",
     "text": [
      "check_and_process_connections_interval_sec: 5.0\n"
     ]
    }
   ],
   "source": [
    "import asyncio\n",
    "import io\n",
    "import logging\n",
    "from datetime import timedelta,datetime,timezone\n",
    "\n",
    "from faster_whisper import WhisperModel\n",
    "from app.services.audio.redis import Transcript\n",
    "\n",
    "from app.database_redis.connection import get_redis_client\n",
    "from app.services.audio.audio import AudioSlicer\n",
    "from app.services.audio.redis import Meeting, Transcriber, best_covering_connection\n",
    "from app.settings import settings\n"
   ]
  },
  {
   "cell_type": "code",
   "execution_count": 7,
   "metadata": {},
   "outputs": [],
   "source": [
    "overlap = 2"
   ]
  },
  {
   "cell_type": "code",
   "execution_count": 8,
   "metadata": {},
   "outputs": [],
   "source": [
    "logger = logging.getLogger(__name__)"
   ]
  },
  {
   "cell_type": "code",
   "execution_count": 9,
   "metadata": {},
   "outputs": [],
   "source": [
    "redis_client = await get_redis_client(settings.redis_host, settings.redis_port, settings.redis_password)"
   ]
  },
  {
   "cell_type": "code",
   "execution_count": 31,
   "metadata": {},
   "outputs": [],
   "source": [
    "transcriber = Transcriber(redis_client)\n",
    "meeting_id = await transcriber.pop_inprogress()"
   ]
  },
  {
   "cell_type": "code",
   "execution_count": 32,
   "metadata": {},
   "outputs": [
    {
     "data": {
      "text/plain": [
       "'https://meet.google.com/zxn-bxis-tdw'"
      ]
     },
     "execution_count": 32,
     "metadata": {},
     "output_type": "execute_result"
    }
   ],
   "source": [
    "meeting_id"
   ]
  },
  {
   "cell_type": "code",
   "execution_count": 33,
   "metadata": {},
   "outputs": [],
   "source": [
    "meeting = Meeting(redis_client, meeting_id)\n",
    "await meeting.load_from_redis()"
   ]
  },
  {
   "cell_type": "code",
   "execution_count": 34,
   "metadata": {},
   "outputs": [
    {
     "data": {
      "text/plain": [
       "datetime.datetime(2024, 5, 22, 15, 54, 11, 870038, tzinfo=tzutc())"
      ]
     },
     "execution_count": 34,
     "metadata": {},
     "output_type": "execute_result"
    }
   ],
   "source": [
    "meeting.start_timestamp"
   ]
  },
  {
   "cell_type": "code",
   "execution_count": 35,
   "metadata": {},
   "outputs": [
    {
     "data": {
      "text/plain": [
       "datetime.datetime(2024, 5, 22, 15, 58, 9, 918038, tzinfo=tzutc())"
      ]
     },
     "execution_count": 35,
     "metadata": {},
     "output_type": "execute_result"
    }
   ],
   "source": [
    "meeting.transcriber_seek_timestamp"
   ]
  },
  {
   "cell_type": "code",
   "execution_count": 36,
   "metadata": {},
   "outputs": [],
   "source": [
    "seek = meeting.transcriber_seek_timestamp - meeting.start_timestamp"
   ]
  },
  {
   "cell_type": "code",
   "execution_count": 37,
   "metadata": {},
   "outputs": [
    {
     "data": {
      "text/plain": [
       "datetime.timedelta(seconds=238, microseconds=48000)"
      ]
     },
     "execution_count": 37,
     "metadata": {},
     "output_type": "execute_result"
    }
   ],
   "source": [
    "seek"
   ]
  },
  {
   "cell_type": "code",
   "execution_count": 38,
   "metadata": {},
   "outputs": [],
   "source": [
    "current_time = datetime.now(timezone.utc)"
   ]
  },
  {
   "cell_type": "code",
   "execution_count": 39,
   "metadata": {},
   "outputs": [],
   "source": [
    "connections = await meeting.get_connections()"
   ]
  },
  {
   "cell_type": "code",
   "execution_count": 40,
   "metadata": {},
   "outputs": [],
   "source": [
    "connection = best_covering_connection(meeting.diarizer_seek_timestamp, current_time, connections)"
   ]
  },
  {
   "cell_type": "code",
   "execution_count": 41,
   "metadata": {},
   "outputs": [],
   "source": [
    "max_length = 240"
   ]
  },
  {
   "cell_type": "code",
   "execution_count": 42,
   "metadata": {},
   "outputs": [
    {
     "name": "stdout",
     "output_type": "stream",
     "text": [
      "2024-05-22 16:23:30,275 - INFO - app.services.audio.audio - None\n"
     ]
    }
   ],
   "source": [
    "connection = best_covering_connection(meeting.diarizer_seek_timestamp, current_time, connections)\n",
    "audio_slicer = await AudioSlicer.from_ffmpeg_slice(f\"/audio/{connection.id}.webm\", seek, max_length)\n",
    "slice_duration = audio_slicer.audio.duration_seconds\n",
    "audio_data = await audio_slicer.export_data()"
   ]
  },
  {
   "cell_type": "code",
   "execution_count": 43,
   "metadata": {},
   "outputs": [],
   "source": [
    "model_size = \"large-v3\"\n",
    "model = WhisperModel(model_size, device=\"cuda\", compute_type=\"float16\")"
   ]
  },
  {
   "cell_type": "code",
   "execution_count": 44,
   "metadata": {},
   "outputs": [],
   "source": [
    "segments, _ = model.transcribe(io.BytesIO(audio_data), beam_size=5, vad_filter=True, word_timestamps=True)\n",
    "segments = [s for s in list(segments)]\n",
    "logger.info(\"done\")\n",
    "result = [[w._asdict() for w in s.words] for s in segments]\n",
    "transcription = Transcript(meeting_id, redis_client, result)\n",
    "await transcription.lpush()"
   ]
  },
  {
   "cell_type": "code",
   "execution_count": 57,
   "metadata": {},
   "outputs": [
    {
     "data": {
      "text/plain": [
       "' Не чеши батон, открошит он, и раскрошит он твой, чьи-то дон, дон, дон, дон, дон, дон, дон, дон, дон, дон, дон, дон, дон, потому что пчёл не он, гусь к нему чёрный.'"
      ]
     },
     "execution_count": 57,
     "metadata": {},
     "output_type": "execute_result"
    }
   ],
   "source": [
    "''.join([w['word'] for w in result[-1]])"
   ]
  },
  {
   "cell_type": "code",
   "execution_count": 45,
   "metadata": {},
   "outputs": [
    {
     "data": {
      "text/plain": [
       "[Segment(id=1, seek=2332, start=28.4, end=111.29, text=' Ну, теперь-то я вам что-нибудь скажу, вам что-нибудь скажу, вам, вот теперь-то я тоже вам что-нибудь скажу, а вот прямо сейчас я вам прямо что-нибудь скажу.', tokens=[50365, 7571, 11, 16983, 12, 860, 2552, 10448, 2143, 12, 23561, 21938, 585, 11, 10448, 2143, 12, 23561, 21938, 585, 11, 10448, 11, 5505, 16983, 12, 860, 2552, 12251, 10448, 2143, 12, 23561, 21938, 585, 11, 2559, 5505, 28547, 10241, 2552, 10448, 28547, 2143, 12, 23561, 21938, 585, 13, 50975], temperature=0.0, avg_logprob=-0.39853897032799657, compression_ratio=2.3035714285714284, no_speech_prob=0.11944580078125, words=[Word(start=28.4, end=28.86, word=' Ну,', probability=0.470947265625), Word(start=28.88, end=29.1, word=' теперь', probability=0.93310546875), Word(start=29.1, end=29.28, word='-то', probability=0.810791015625), Word(start=29.28, end=29.48, word=' я', probability=0.955078125), Word(start=29.48, end=29.68, word=' вам', probability=0.79931640625), Word(start=29.68, end=29.84, word=' что', probability=0.8828125), Word(start=29.84, end=30.04, word='-нибудь', probability=0.984130859375), Word(start=30.04, end=30.76, word=' скажу,', probability=0.9921875), Word(start=30.76, end=31.66, word=' вам', probability=0.57373046875), Word(start=31.66, end=31.92, word=' что', probability=0.9697265625), Word(start=31.92, end=32.08, word='-нибудь', probability=0.995361328125), Word(start=32.08, end=32.84, word=' скажу,', probability=0.996337890625), Word(start=32.84, end=33.24, word=' вам,', probability=0.5771484375), Word(start=33.26, end=33.8, word=' вот', probability=0.55419921875), Word(start=51.05, end=51.39, word=' теперь', probability=0.93212890625), Word(start=51.39, end=51.65, word='-то', probability=0.970947265625), Word(start=51.65, end=51.91, word=' я', probability=0.91748046875), Word(start=51.91, end=52.17, word=' тоже', probability=0.8173828125), Word(start=52.17, end=52.45, word=' вам', probability=0.9384765625), Word(start=52.45, end=52.65, word=' что', probability=0.94189453125), Word(start=52.65, end=52.77, word='-нибудь', probability=0.9970703125), Word(start=52.77, end=53.59, word=' скажу,', probability=0.997802734375), Word(start=53.59, end=54.59, word=' а', probability=0.6416015625), Word(start=108.25, end=108.49, word=' вот', probability=0.98291015625), Word(start=108.49, end=108.75, word=' прямо', probability=0.97705078125), Word(start=108.75, end=109.13, word=' сейчас', probability=0.919921875), Word(start=109.13, end=109.49, word=' я', probability=0.7802734375), Word(start=109.49, end=109.63, word=' вам', probability=0.71875), Word(start=109.63, end=109.99, word=' прямо', probability=0.71875), Word(start=109.99, end=110.33, word=' что', probability=0.955078125), Word(start=110.33, end=110.55, word='-нибудь', probability=0.998291015625), Word(start=110.55, end=111.29, word=' скажу.', probability=0.998779296875)]),\n",
       " Segment(id=2, seek=2332, start=147.63, end=161.32, text=' Не чеши батон, будет хорошо, будет скушен он из внешнего тёла.', tokens=[50975, 11512, 1358, 4433, 435, 47697, 1784, 11, 7306, 16977, 11, 7306, 776, 4401, 1198, 1008, 5345, 3943, 50025, 33727, 1069, 2882, 4989, 13, 51550], temperature=0.0, avg_logprob=-0.39853897032799657, compression_ratio=2.3035714285714284, no_speech_prob=0.11944580078125, words=[Word(start=147.63, end=148.35, word=' Не', probability=0.8818359375), Word(start=152.8, end=153.3, word=' чеши', probability=0.94921875), Word(start=153.3, end=154.0, word=' батон,', probability=0.84765625), Word(start=154.22, end=155.42, word=' будет', probability=0.9775390625), Word(start=155.42, end=156.08, word=' хорошо,', probability=0.990234375), Word(start=156.66, end=157.96, word=' будет', probability=0.6435546875), Word(start=157.96, end=158.62, word=' скушен', probability=0.85260009765625), Word(start=158.62, end=159.02, word=' он', probability=0.9931640625), Word(start=159.02, end=159.7, word=' из', probability=0.89404296875), Word(start=159.7, end=160.64, word=' внешнего', probability=0.868896484375), Word(start=160.64, end=161.32, word=' тёла.', probability=0.5364583333333334)]),\n",
       " Segment(id=3, seek=4633, start=161.32, end=190.64, text=' Не чеши батон, открошит он, и раскрошит он твой, чьи-то дон, дон, дон, дон, дон, дон, дон, дон, дон, дон, дон, дон, дон, потому что пчёл не он, гусь к нему чёрный.', tokens=[50365, 11512, 1358, 4433, 435, 47697, 1784, 11, 12799, 481, 6824, 1635, 5345, 11, 1006, 7459, 22274, 6824, 1635, 5345, 1069, 37325, 11, 1358, 678, 435, 12, 860, 1070, 1784, 11, 1070, 1784, 11, 1070, 1784, 11, 1070, 1784, 11, 1070, 1784, 11, 1070, 1784, 11, 1070, 1784, 11, 1070, 1784, 11, 1070, 1784, 11, 1070, 1784, 11, 1070, 1784, 11, 1070, 1784, 11, 1070, 1784, 11, 11919, 2143, 713, 753, 24180, 1725, 5345, 11, 2342, 585, 6131, 981, 757, 8339, 1358, 24134, 4441, 13, 51516], temperature=0.0, avg_logprob=-0.24964079843170342, compression_ratio=2.225806451612903, no_speech_prob=0.004364013671875, words=[Word(start=161.32, end=163.12, word=' Не', probability=0.022430419921875), Word(start=163.12, end=163.5, word=' чеши', probability=0.3553466796875), Word(start=163.5, end=164.44, word=' батон,', probability=0.4237060546875), Word(start=164.54, end=166.56, word=' открошит', probability=0.810302734375), Word(start=166.56, end=166.88, word=' он,', probability=0.99072265625), Word(start=167.02, end=168.12, word=' и', probability=0.259765625), Word(start=168.12, end=168.92, word=' раскрошит', probability=0.9830322265625), Word(start=168.92, end=169.14, word=' он', probability=0.98828125), Word(start=169.14, end=169.86, word=' твой,', probability=0.947998046875), Word(start=169.86, end=170.92, word=' чьи', probability=0.6778157552083334), Word(start=170.92, end=171.12, word='-то', probability=0.92919921875), Word(start=171.12, end=171.96, word=' дон,', probability=0.5364990234375), Word(start=171.96, end=172.82, word=' дон,', probability=0.772705078125), Word(start=172.82, end=173.26, word=' дон,', probability=0.987548828125), Word(start=176.81, end=177.49, word=' дон,', probability=0.98388671875), Word(start=177.49, end=178.05, word=' дон,', probability=0.983642578125), Word(start=178.05, end=178.49, word=' дон,', probability=0.978271484375), Word(start=178.49, end=178.99, word=' дон,', probability=0.96728515625), Word(start=178.99, end=179.41, word=' дон,', probability=0.946533203125), Word(start=179.41, end=179.67, word=' дон,', probability=0.885986328125), Word(start=179.67, end=179.71, word=' дон,', probability=0.7105712890625), Word(start=179.71, end=179.79, word=' дон,', probability=0.6123046875), Word(start=179.79, end=179.83, word=' дон,', probability=0.61053466796875), Word(start=179.83, end=180.13, word=' дон,', probability=0.6507568359375), Word(start=183.36, end=183.9, word=' потому', probability=0.474365234375), Word(start=183.9, end=184.48, word=' что', probability=0.96240234375), Word(start=184.48, end=185.18, word=' пчёл', probability=0.7003173828125), Word(start=185.18, end=185.92, word=' не', probability=0.1900634765625), Word(start=185.92, end=186.8, word=' он,', probability=0.8759765625), Word(start=186.94, end=189.04, word=' гусь', probability=0.7830403645833334), Word(start=189.04, end=189.2, word=' к', probability=0.953125), Word(start=189.2, end=189.6, word=' нему', probability=0.67236328125), Word(start=189.6, end=190.64, word=' чёрный.', probability=0.6738077799479166)])]"
      ]
     },
     "execution_count": 45,
     "metadata": {},
     "output_type": "execute_result"
    }
   ],
   "source": [
    "segments"
   ]
  },
  {
   "cell_type": "code",
   "execution_count": 46,
   "metadata": {},
   "outputs": [
    {
     "data": {
      "text/plain": [
       "datetime.timedelta(seconds=238, microseconds=48000)"
      ]
     },
     "execution_count": 46,
     "metadata": {},
     "output_type": "execute_result"
    }
   ],
   "source": [
    "seek"
   ]
  },
  {
   "cell_type": "code",
   "execution_count": 47,
   "metadata": {},
   "outputs": [],
   "source": [
    "meeting.transcriber_seek_timestamp = meeting.start_timestamp+seek +timedelta(seconds = slice_duration-overlap)\n",
    "await transcriber.remove(meeting.meeting_id)\n",
    "await meeting.update_redis()"
   ]
  },
  {
   "cell_type": "code",
   "execution_count": 48,
   "metadata": {},
   "outputs": [
    {
     "data": {
      "text/plain": [
       "datetime.datetime(2024, 5, 22, 16, 2, 7, 966038, tzinfo=tzutc())"
      ]
     },
     "execution_count": 48,
     "metadata": {},
     "output_type": "execute_result"
    }
   ],
   "source": [
    "meeting.transcriber_seek_timestamp"
   ]
  },
  {
   "cell_type": "code",
   "execution_count": 49,
   "metadata": {},
   "outputs": [],
   "source": [
    "await transcriber.remove(meeting.meeting_id)"
   ]
  },
  {
   "cell_type": "code",
   "execution_count": 50,
   "metadata": {},
   "outputs": [],
   "source": [
    "await meeting.update_redis()"
   ]
  },
  {
   "cell_type": "code",
   "execution_count": 51,
   "metadata": {},
   "outputs": [
    {
     "data": {
      "text/plain": [
       "240.048"
      ]
     },
     "execution_count": 51,
     "metadata": {},
     "output_type": "execute_result"
    }
   ],
   "source": [
    "slice_duration"
   ]
  },
  {
   "cell_type": "code",
   "execution_count": 52,
   "metadata": {},
   "outputs": [
    {
     "data": {
      "text/plain": [
       "[Segment(id=1, seek=2332, start=28.4, end=111.29, text=' Ну, теперь-то я вам что-нибудь скажу, вам что-нибудь скажу, вам, вот теперь-то я тоже вам что-нибудь скажу, а вот прямо сейчас я вам прямо что-нибудь скажу.', tokens=[50365, 7571, 11, 16983, 12, 860, 2552, 10448, 2143, 12, 23561, 21938, 585, 11, 10448, 2143, 12, 23561, 21938, 585, 11, 10448, 11, 5505, 16983, 12, 860, 2552, 12251, 10448, 2143, 12, 23561, 21938, 585, 11, 2559, 5505, 28547, 10241, 2552, 10448, 28547, 2143, 12, 23561, 21938, 585, 13, 50975], temperature=0.0, avg_logprob=-0.39853897032799657, compression_ratio=2.3035714285714284, no_speech_prob=0.11944580078125, words=[Word(start=28.4, end=28.86, word=' Ну,', probability=0.470947265625), Word(start=28.88, end=29.1, word=' теперь', probability=0.93310546875), Word(start=29.1, end=29.28, word='-то', probability=0.810791015625), Word(start=29.28, end=29.48, word=' я', probability=0.955078125), Word(start=29.48, end=29.68, word=' вам', probability=0.79931640625), Word(start=29.68, end=29.84, word=' что', probability=0.8828125), Word(start=29.84, end=30.04, word='-нибудь', probability=0.984130859375), Word(start=30.04, end=30.76, word=' скажу,', probability=0.9921875), Word(start=30.76, end=31.66, word=' вам', probability=0.57373046875), Word(start=31.66, end=31.92, word=' что', probability=0.9697265625), Word(start=31.92, end=32.08, word='-нибудь', probability=0.995361328125), Word(start=32.08, end=32.84, word=' скажу,', probability=0.996337890625), Word(start=32.84, end=33.24, word=' вам,', probability=0.5771484375), Word(start=33.26, end=33.8, word=' вот', probability=0.55419921875), Word(start=51.05, end=51.39, word=' теперь', probability=0.93212890625), Word(start=51.39, end=51.65, word='-то', probability=0.970947265625), Word(start=51.65, end=51.91, word=' я', probability=0.91748046875), Word(start=51.91, end=52.17, word=' тоже', probability=0.8173828125), Word(start=52.17, end=52.45, word=' вам', probability=0.9384765625), Word(start=52.45, end=52.65, word=' что', probability=0.94189453125), Word(start=52.65, end=52.77, word='-нибудь', probability=0.9970703125), Word(start=52.77, end=53.59, word=' скажу,', probability=0.997802734375), Word(start=53.59, end=54.59, word=' а', probability=0.6416015625), Word(start=108.25, end=108.49, word=' вот', probability=0.98291015625), Word(start=108.49, end=108.75, word=' прямо', probability=0.97705078125), Word(start=108.75, end=109.13, word=' сейчас', probability=0.919921875), Word(start=109.13, end=109.49, word=' я', probability=0.7802734375), Word(start=109.49, end=109.63, word=' вам', probability=0.71875), Word(start=109.63, end=109.99, word=' прямо', probability=0.71875), Word(start=109.99, end=110.33, word=' что', probability=0.955078125), Word(start=110.33, end=110.55, word='-нибудь', probability=0.998291015625), Word(start=110.55, end=111.29, word=' скажу.', probability=0.998779296875)]),\n",
       " Segment(id=2, seek=2332, start=147.63, end=161.32, text=' Не чеши батон, будет хорошо, будет скушен он из внешнего тёла.', tokens=[50975, 11512, 1358, 4433, 435, 47697, 1784, 11, 7306, 16977, 11, 7306, 776, 4401, 1198, 1008, 5345, 3943, 50025, 33727, 1069, 2882, 4989, 13, 51550], temperature=0.0, avg_logprob=-0.39853897032799657, compression_ratio=2.3035714285714284, no_speech_prob=0.11944580078125, words=[Word(start=147.63, end=148.35, word=' Не', probability=0.8818359375), Word(start=152.8, end=153.3, word=' чеши', probability=0.94921875), Word(start=153.3, end=154.0, word=' батон,', probability=0.84765625), Word(start=154.22, end=155.42, word=' будет', probability=0.9775390625), Word(start=155.42, end=156.08, word=' хорошо,', probability=0.990234375), Word(start=156.66, end=157.96, word=' будет', probability=0.6435546875), Word(start=157.96, end=158.62, word=' скушен', probability=0.85260009765625), Word(start=158.62, end=159.02, word=' он', probability=0.9931640625), Word(start=159.02, end=159.7, word=' из', probability=0.89404296875), Word(start=159.7, end=160.64, word=' внешнего', probability=0.868896484375), Word(start=160.64, end=161.32, word=' тёла.', probability=0.5364583333333334)]),\n",
       " Segment(id=3, seek=4633, start=161.32, end=190.64, text=' Не чеши батон, открошит он, и раскрошит он твой, чьи-то дон, дон, дон, дон, дон, дон, дон, дон, дон, дон, дон, дон, дон, потому что пчёл не он, гусь к нему чёрный.', tokens=[50365, 11512, 1358, 4433, 435, 47697, 1784, 11, 12799, 481, 6824, 1635, 5345, 11, 1006, 7459, 22274, 6824, 1635, 5345, 1069, 37325, 11, 1358, 678, 435, 12, 860, 1070, 1784, 11, 1070, 1784, 11, 1070, 1784, 11, 1070, 1784, 11, 1070, 1784, 11, 1070, 1784, 11, 1070, 1784, 11, 1070, 1784, 11, 1070, 1784, 11, 1070, 1784, 11, 1070, 1784, 11, 1070, 1784, 11, 1070, 1784, 11, 11919, 2143, 713, 753, 24180, 1725, 5345, 11, 2342, 585, 6131, 981, 757, 8339, 1358, 24134, 4441, 13, 51516], temperature=0.0, avg_logprob=-0.24964079843170342, compression_ratio=2.225806451612903, no_speech_prob=0.004364013671875, words=[Word(start=161.32, end=163.12, word=' Не', probability=0.022430419921875), Word(start=163.12, end=163.5, word=' чеши', probability=0.3553466796875), Word(start=163.5, end=164.44, word=' батон,', probability=0.4237060546875), Word(start=164.54, end=166.56, word=' открошит', probability=0.810302734375), Word(start=166.56, end=166.88, word=' он,', probability=0.99072265625), Word(start=167.02, end=168.12, word=' и', probability=0.259765625), Word(start=168.12, end=168.92, word=' раскрошит', probability=0.9830322265625), Word(start=168.92, end=169.14, word=' он', probability=0.98828125), Word(start=169.14, end=169.86, word=' твой,', probability=0.947998046875), Word(start=169.86, end=170.92, word=' чьи', probability=0.6778157552083334), Word(start=170.92, end=171.12, word='-то', probability=0.92919921875), Word(start=171.12, end=171.96, word=' дон,', probability=0.5364990234375), Word(start=171.96, end=172.82, word=' дон,', probability=0.772705078125), Word(start=172.82, end=173.26, word=' дон,', probability=0.987548828125), Word(start=176.81, end=177.49, word=' дон,', probability=0.98388671875), Word(start=177.49, end=178.05, word=' дон,', probability=0.983642578125), Word(start=178.05, end=178.49, word=' дон,', probability=0.978271484375), Word(start=178.49, end=178.99, word=' дон,', probability=0.96728515625), Word(start=178.99, end=179.41, word=' дон,', probability=0.946533203125), Word(start=179.41, end=179.67, word=' дон,', probability=0.885986328125), Word(start=179.67, end=179.71, word=' дон,', probability=0.7105712890625), Word(start=179.71, end=179.79, word=' дон,', probability=0.6123046875), Word(start=179.79, end=179.83, word=' дон,', probability=0.61053466796875), Word(start=179.83, end=180.13, word=' дон,', probability=0.6507568359375), Word(start=183.36, end=183.9, word=' потому', probability=0.474365234375), Word(start=183.9, end=184.48, word=' что', probability=0.96240234375), Word(start=184.48, end=185.18, word=' пчёл', probability=0.7003173828125), Word(start=185.18, end=185.92, word=' не', probability=0.1900634765625), Word(start=185.92, end=186.8, word=' он,', probability=0.8759765625), Word(start=186.94, end=189.04, word=' гусь', probability=0.7830403645833334), Word(start=189.04, end=189.2, word=' к', probability=0.953125), Word(start=189.2, end=189.6, word=' нему', probability=0.67236328125), Word(start=189.6, end=190.64, word=' чёрный.', probability=0.6738077799479166)])]"
      ]
     },
     "execution_count": 52,
     "metadata": {},
     "output_type": "execute_result"
    }
   ],
   "source": [
    "segments"
   ]
  },
  {
   "cell_type": "code",
   "execution_count": 53,
   "metadata": {},
   "outputs": [
    {
     "ename": "NameError",
     "evalue": "name 'end_of_last_speech' is not defined",
     "output_type": "error",
     "traceback": [
      "\u001b[0;31m---------------------------------------------------------------------------\u001b[0m",
      "\u001b[0;31mNameError\u001b[0m                                 Traceback (most recent call last)",
      "Cell \u001b[0;32mIn[53], line 1\u001b[0m\n\u001b[0;32m----> 1\u001b[0m meeting\u001b[38;5;241m.\u001b[39mtranscribe_seek_timestamp \u001b[38;5;241m=\u001b[39m \u001b[43mend_of_last_speech\u001b[49m \u001b[38;5;241m+\u001b[39m meeting\u001b[38;5;241m.\u001b[39mtranscribe_seek_timestamp\n\u001b[1;32m      2\u001b[0m \u001b[38;5;28;01mawait\u001b[39;00m transcriber\u001b[38;5;241m.\u001b[39mremove(meeting\u001b[38;5;241m.\u001b[39mid)\n\u001b[1;32m      3\u001b[0m \u001b[38;5;28;01mawait\u001b[39;00m meeting\u001b[38;5;241m.\u001b[39mupdate_redis()\n",
      "\u001b[0;31mNameError\u001b[0m: name 'end_of_last_speech' is not defined"
     ]
    }
   ],
   "source": [
    "\n",
    "meeting.transcribe_seek_timestamp = end_of_last_speech + meeting.transcribe_seek_timestamp\n",
    "await transcriber.remove(meeting.id)\n",
    "await meeting.update_redis()"
   ]
  },
  {
   "cell_type": "code",
   "execution_count": 54,
   "metadata": {},
   "outputs": [],
   "source": [
    "logger = logging.getLogger(__name__)\n",
    "\n",
    "# TODO: implement recurrent prompt from last item\n",
    "\n",
    "\n",
    "async def process(redis_client, model, max_length=240) -> None:\n",
    "    transcriber = Transcriber(redis_client)\n",
    "    meeting_id = await transcriber.pop_inprogress()\n",
    "\n",
    "    if not meeting_id:\n",
    "        return\n",
    "\n",
    "    meeting = Meeting(redis_client, meeting_id)\n",
    "    await meeting.load_from_redis()\n",
    "    seek = meeting.transcribe_seek_timestamp - meeting.start_timestamp\n",
    "\n",
    "    connection = best_covering_connection(seek, meeting.start_timestamp, meeting.get_connections())\n",
    "    audio_slicer = await AudioSlicer.from_ffmpeg_slice(f\"/audio/{connection.id}.webm\", seek, seek + max_length)\n",
    "    audio_data = await audio_slicer.export_data()\n",
    "\n",
    "    segments, _ = model.transcribe(io.BytesIO(audio_data), beam_size=5, vad_filter=True, word_timestamps=True)\n",
    "    segments = [s for s in list(segments)]\n",
    "    logger.info(\"done\")\n",
    "    result = [[w._asdict() for w in s.words] for s in segments]\n",
    "    transcription = Transcript(meeting_id, redis_client, result)\n",
    "    await transcription.lpush()\n",
    "    end_of_last_speech = timedelta(seconds=result[-1][-1][\"end\"])\n",
    "\n",
    "    meeting.transcribe_seek_timestamp = end_of_last_speech + meeting.transcribe_seek_timestamp\n",
    "    await transcriber.remove(meeting.id)\n",
    "    await meeting.update_redis()"
   ]
  },
  {
   "cell_type": "code",
   "execution_count": null,
   "metadata": {},
   "outputs": [],
   "source": [
    "\n",
    "\n",
    "async def main():\n",
    "    redis_client = await get_redis_client(settings.redis_host, settings.redis_port, settings.redis_password)\n",
    "\n",
    "    while True:\n",
    "        await asyncio.sleep(0.1)\n",
    "        await process(redis_client, model)\n",
    "\n",
    "\n",
    "if __name__ == \"__main__\":\n",
    "    model_size = \"large-v3\"\n",
    "    model = WhisperModel(model_size, device=\"cuda\", compute_type=\"float16\")\n",
    "    logger.info(\"Model loaded\")\n",
    "    asyncio.run(main())\n"
   ]
  }
 ],
 "metadata": {
  "kernelspec": {
   "display_name": "Python 3",
   "language": "python",
   "name": "python3"
  },
  "language_info": {
   "codemirror_mode": {
    "name": "ipython",
    "version": 3
   },
   "file_extension": ".py",
   "mimetype": "text/x-python",
   "name": "python",
   "nbconvert_exporter": "python",
   "pygments_lexer": "ipython3",
   "version": "3.10.12"
  }
 },
 "nbformat": 4,
 "nbformat_minor": 2
}
