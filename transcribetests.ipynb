{
 "cells": [
  {
   "cell_type": "code",
   "execution_count": 1,
   "metadata": {},
   "outputs": [],
   "source": [
    "\n",
    "%load_ext autoreload\n",
    "%autoreload 2"
   ]
  },
  {
   "cell_type": "code",
   "execution_count": 2,
   "metadata": {},
   "outputs": [
    {
     "name": "stderr",
     "output_type": "stream",
     "text": [
      "/usr/local/lib/python3.10/dist-packages/tqdm/auto.py:21: TqdmWarning: IProgress not found. Please update jupyter and ipywidgets. See https://ipywidgets.readthedocs.io/en/stable/user_install.html\n",
      "  from .autonotebook import tqdm as notebook_tqdm\n"
     ]
    },
    {
     "name": "stdout",
     "output_type": "stream",
     "text": [
      "check_and_process_connections_interval_sec: 5.0\n"
     ]
    }
   ],
   "source": [
    "import asyncio\n",
    "import io\n",
    "import logging\n",
    "from datetime import timedelta,datetime,timezone\n",
    "\n",
    "from faster_whisper import WhisperModel\n",
    "from app.services.audio.redis import Transcript\n",
    "\n",
    "from app.database_redis.connection import get_redis_client\n",
    "from app.services.audio.audio import AudioSlicer\n",
    "from app.services.audio.redis import Meeting, Transcriber, best_covering_connection\n",
    "from app.settings import settings\n"
   ]
  },
  {
   "cell_type": "code",
   "execution_count": 3,
   "metadata": {},
   "outputs": [],
   "source": [
    "overlap = 2"
   ]
  },
  {
   "cell_type": "code",
   "execution_count": 4,
   "metadata": {},
   "outputs": [],
   "source": [
    "logger = logging.getLogger(__name__)"
   ]
  },
  {
   "cell_type": "code",
   "execution_count": 5,
   "metadata": {},
   "outputs": [],
   "source": [
    "redis_client = await get_redis_client(settings.redis_host, settings.redis_port, settings.redis_password)"
   ]
  },
  {
   "cell_type": "code",
   "execution_count": 6,
   "metadata": {},
   "outputs": [
    {
     "data": {
      "text/plain": [
       "app.services.audio.redis.Transcriber"
      ]
     },
     "execution_count": 6,
     "metadata": {},
     "output_type": "execute_result"
    }
   ],
   "source": [
    "Transcriber(meeting"
   ]
  },
  {
   "cell_type": "code",
   "execution_count": 4,
   "metadata": {},
   "outputs": [],
   "source": [
    "transcriber = Transcriber(redis_client)\n",
    "meeting_id = await transcriber.pop_inprogress()"
   ]
  },
  {
   "cell_type": "code",
   "execution_count": 5,
   "metadata": {},
   "outputs": [],
   "source": [
    "meeting = Meeting(redis_client, meeting_id)\n",
    "await meeting.load_from_redis()"
   ]
  },
  {
   "cell_type": "code",
   "execution_count": 6,
   "metadata": {},
   "outputs": [
    {
     "data": {
      "text/plain": [
       "datetime.datetime(2024, 5, 20, 17, 38, 5, 107331, tzinfo=tzutc())"
      ]
     },
     "execution_count": 6,
     "metadata": {},
     "output_type": "execute_result"
    }
   ],
   "source": [
    "meeting.start_timestamp"
   ]
  },
  {
   "cell_type": "code",
   "execution_count": 8,
   "metadata": {},
   "outputs": [
    {
     "data": {
      "text/plain": [
       "datetime.datetime(2024, 5, 20, 17, 38, 5, 107331, tzinfo=tzutc())"
      ]
     },
     "execution_count": 8,
     "metadata": {},
     "output_type": "execute_result"
    }
   ],
   "source": [
    "meeting.transcriber_seek_timestamp"
   ]
  },
  {
   "cell_type": "code",
   "execution_count": 10,
   "metadata": {},
   "outputs": [],
   "source": [
    "seek = meeting.transcriber_seek_timestamp - meeting.start_timestamp"
   ]
  },
  {
   "cell_type": "code",
   "execution_count": 11,
   "metadata": {},
   "outputs": [
    {
     "data": {
      "text/plain": [
       "datetime.timedelta(0)"
      ]
     },
     "execution_count": 11,
     "metadata": {},
     "output_type": "execute_result"
    }
   ],
   "source": [
    "seek"
   ]
  },
  {
   "cell_type": "code",
   "execution_count": 18,
   "metadata": {},
   "outputs": [],
   "source": [
    "current_time = datetime.now(timezone.utc)"
   ]
  },
  {
   "cell_type": "code",
   "execution_count": 19,
   "metadata": {},
   "outputs": [],
   "source": [
    "connections = await meeting.get_connections()"
   ]
  },
  {
   "cell_type": "code",
   "execution_count": 20,
   "metadata": {},
   "outputs": [],
   "source": [
    "connection = best_covering_connection(meeting.diarizer_seek_timestamp, current_time, connections)"
   ]
  },
  {
   "cell_type": "code",
   "execution_count": 22,
   "metadata": {},
   "outputs": [],
   "source": [
    "max_length = 240"
   ]
  },
  {
   "cell_type": "code",
   "execution_count": 23,
   "metadata": {},
   "outputs": [
    {
     "name": "stdout",
     "output_type": "stream",
     "text": [
      "2024-05-20 19:04:23,252 - INFO - app.services.audio.audio - None\n"
     ]
    }
   ],
   "source": [
    "connection = best_covering_connection(meeting.diarizer_seek_timestamp, current_time, connections)\n",
    "audio_slicer = await AudioSlicer.from_ffmpeg_slice(f\"/audio/{connection.id}.webm\", seek, max_length)\n",
    "slice_duration = audio_slicer.audio.duration_seconds\n",
    "audio_data = await audio_slicer.export_data()"
   ]
  },
  {
   "cell_type": "code",
   "execution_count": 25,
   "metadata": {},
   "outputs": [],
   "source": [
    "model_size = \"large-v3\"\n",
    "model = WhisperModel(model_size, device=\"cuda\", compute_type=\"float16\")"
   ]
  },
  {
   "cell_type": "code",
   "execution_count": 29,
   "metadata": {},
   "outputs": [],
   "source": [
    "segments, _ = model.transcribe(io.BytesIO(audio_data), beam_size=5, vad_filter=True, word_timestamps=True)\n",
    "segments = [s for s in list(segments)]\n",
    "logger.info(\"done\")\n",
    "result = [[w._asdict() for w in s.words] for s in segments]\n",
    "transcription = Transcript(meeting_id, redis_client, result)\n",
    "await transcription.lpush()"
   ]
  },
  {
   "cell_type": "code",
   "execution_count": 37,
   "metadata": {},
   "outputs": [],
   "source": [
    "meeting.transcribe_seek_timestamp = meeting.start_timestamp+seek +timedelta(seconds = slice_duration-overlap)"
   ]
  },
  {
   "cell_type": "code",
   "execution_count": 39,
   "metadata": {},
   "outputs": [],
   "source": [
    "await transcriber.remove(meeting.meeting_id)"
   ]
  },
  {
   "cell_type": "code",
   "execution_count": 40,
   "metadata": {},
   "outputs": [],
   "source": [
    "await meeting.update_redis()"
   ]
  },
  {
   "cell_type": "code",
   "execution_count": 38,
   "metadata": {},
   "outputs": [
    {
     "data": {
      "text/plain": [
       "240.048"
      ]
     },
     "execution_count": 38,
     "metadata": {},
     "output_type": "execute_result"
    }
   ],
   "source": [
    "slice_duration"
   ]
  },
  {
   "cell_type": "code",
   "execution_count": 30,
   "metadata": {},
   "outputs": [
    {
     "data": {
      "text/plain": [
       "[Segment(id=1, seek=470, start=195.17, end=196.37, text=' Fuck yeah.', tokens=[50365, 10965, 1338, 13, 50486], temperature=0.0, avg_logprob=-0.625, compression_ratio=0.5555555555555556, no_speech_prob=0.164794921875, words=[Word(start=195.17, end=195.97, word=' Fuck', probability=0.70556640625), Word(start=195.97, end=196.37, word=' yeah.', probability=0.70263671875)])]"
      ]
     },
     "execution_count": 30,
     "metadata": {},
     "output_type": "execute_result"
    }
   ],
   "source": [
    "segments"
   ]
  },
  {
   "cell_type": "code",
   "execution_count": null,
   "metadata": {},
   "outputs": [],
   "source": [
    "\n",
    "meeting.transcribe_seek_timestamp = end_of_last_speech + meeting.transcribe_seek_timestamp\n",
    "await transcriber.remove(meeting.id)\n",
    "await meeting.update_redis()"
   ]
  },
  {
   "cell_type": "code",
   "execution_count": null,
   "metadata": {},
   "outputs": [],
   "source": [
    "logger = logging.getLogger(__name__)\n",
    "\n",
    "# TODO: implement recurrent prompt from last item\n",
    "\n",
    "\n",
    "async def process(redis_client, model, max_length=240) -> None:\n",
    "    transcriber = Transcriber(redis_client)\n",
    "    meeting_id = await transcriber.pop_inprogress()\n",
    "\n",
    "    if not meeting_id:\n",
    "        return\n",
    "\n",
    "    meeting = Meeting(redis_client, meeting_id)\n",
    "    await meeting.load_from_redis()\n",
    "    seek = meeting.transcribe_seek_timestamp - meeting.start_timestamp\n",
    "\n",
    "    connection = best_covering_connection(seek, meeting.start_timestamp, meeting.get_connections())\n",
    "    audio_slicer = await AudioSlicer.from_ffmpeg_slice(f\"/audio/{connection.id}.webm\", seek, seek + max_length)\n",
    "    audio_data = await audio_slicer.export_data()\n",
    "\n",
    "    segments, _ = model.transcribe(io.BytesIO(audio_data), beam_size=5, vad_filter=True, word_timestamps=True)\n",
    "    segments = [s for s in list(segments)]\n",
    "    logger.info(\"done\")\n",
    "    result = [[w._asdict() for w in s.words] for s in segments]\n",
    "    transcription = Transcript(meeting_id, redis_client, result)\n",
    "    await transcription.lpush()\n",
    "    end_of_last_speech = timedelta(seconds=result[-1][-1][\"end\"])\n",
    "\n",
    "    meeting.transcribe_seek_timestamp = end_of_last_speech + meeting.transcribe_seek_timestamp\n",
    "    await transcriber.remove(meeting.id)\n",
    "    await meeting.update_redis()"
   ]
  },
  {
   "cell_type": "code",
   "execution_count": null,
   "metadata": {},
   "outputs": [],
   "source": [
    "\n",
    "\n",
    "async def main():\n",
    "    redis_client = await get_redis_client(settings.redis_host, settings.redis_port, settings.redis_password)\n",
    "\n",
    "    while True:\n",
    "        await asyncio.sleep(0.1)\n",
    "        await process(redis_client, model)\n",
    "\n",
    "\n",
    "if __name__ == \"__main__\":\n",
    "    model_size = \"large-v3\"\n",
    "    model = WhisperModel(model_size, device=\"cuda\", compute_type=\"float16\")\n",
    "    logger.info(\"Model loaded\")\n",
    "    asyncio.run(main())\n"
   ]
  }
 ],
 "metadata": {
  "kernelspec": {
   "display_name": "Python 3",
   "language": "python",
   "name": "python3"
  },
  "language_info": {
   "name": "python",
   "version": "3.10.12"
  }
 },
 "nbformat": 4,
 "nbformat_minor": 2
}
